{
 "cells": [
  {
   "cell_type": "markdown",
   "metadata": {},
   "source": [
    "# RNN\n",
    "\n",
    "-----------------------------------------\n",
    "\n",
    "## Q 4.1 Counting Bits \n",
    "\n",
    "---------------------------------------"
   ]
  },
  {
   "cell_type": "code",
   "execution_count": null,
   "metadata": {},
   "outputs": [
    {
     "name": "stdout",
     "output_type": "stream",
     "text": [
      "Using device: cpu\n",
      "\n",
      " Sample batch from DataLoader:\n",
      "Sequence 1 (padded): [1.0, 0.0, 1.0, 0.0, 1.0, 1.0], Label: 4.0\n",
      "Sequence 2 (padded): [1.0, 1.0, 0.0, 1.0, 1.0, 0.0, 1.0, 1.0, 0.0], Label: 6.0\n",
      "Sequence 3 (padded): [1.0, 1.0, 0.0, 1.0, 0.0, 0.0, 0.0, 0.0, 0.0, 1.0, 1.0, 1.0], Label: 6.0\n",
      "Sequence 4 (padded): [0.0, 1.0, 1.0], Label: 2.0\n",
      "Sequence 5 (padded): [0.0, 0.0, 1.0, 1.0], Label: 2.0\n"
     ]
    }
   ],
   "source": [
    "import torch\n",
    "import torch.nn as nn\n",
    "from torch.utils.data import Dataset, DataLoader, random_split\n",
    "\n",
    "device = torch.device(\"cuda\" if torch.cuda.is_available() else \"cpu\")\n",
    "print(f\"Using device: {device}\")\n",
    "\n",
    "class BinarySequenceDataset(Dataset):\n",
    "    def __init__(self, num_samples=100_000, max_len=16):\n",
    "        self.sequences = []\n",
    "        self.labels = []\n",
    "        for _ in range(num_samples):\n",
    "            seq_len = torch.randint(1, max_len + 1, (1,)).item()\n",
    "            sequence = torch.randint(0, 2, (seq_len,)).tolist()\n",
    "            label = sum(sequence)\n",
    "            self.sequences.append(sequence)\n",
    "            self.labels.append(label)\n",
    "\n",
    "    def __len__(self):\n",
    "        return len(self.sequences)\n",
    "\n",
    "    def __getitem__(self, idx):\n",
    "        return self.sequences[idx], self.labels[idx]\n",
    "\n",
    "def collate_fn(batch):\n",
    "    sequences, labels = zip(*batch)\n",
    "    lengths = torch.tensor([len(seq) for seq in sequences], dtype=torch.int64).to(device)\n",
    "    sequences = [torch.tensor(seq, dtype=torch.float32).unsqueeze(1).to(device) for seq in sequences]\n",
    "    padded_sequences = nn.utils.rnn.pad_sequence(sequences, batch_first=True)\n",
    "    labels = torch.tensor(labels, dtype=torch.float32).to(device)\n",
    "    return padded_sequences, labels, lengths\n",
    "\n",
    "\n",
    "dataset = BinarySequenceDataset(num_samples=100_000, max_len=16)\n",
    "train_size = int(0.8 * len(dataset))\n",
    "val_size = int(0.1 * len(dataset))\n",
    "test_size = len(dataset) - train_size - val_size\n",
    "train_set, val_set, test_set = random_split(dataset, [train_size, val_size, test_size])\n",
    "\n",
    "train_loader = DataLoader(train_set, batch_size=64, shuffle=True, collate_fn=collate_fn)\n",
    "val_loader = DataLoader(val_set, batch_size=64, shuffle=False, collate_fn=collate_fn)\n",
    "test_loader = DataLoader(test_set, batch_size=64, shuffle=False, collate_fn=collate_fn)\n",
    "\n",
    "# Print sequences from the first batch in the DataLoader\n",
    "for batch in train_loader:\n",
    "    padded_sequences, labels, lengths = batch\n",
    "    print(\"\\n Sample batch from DataLoader:\")\n",
    "    for i in range(min(5, len(labels))):  # Print up to 5 sequences\n",
    "        print(f\"Sequence {i+1} (padded): {padded_sequences[i][:lengths[i]].squeeze().tolist()}, \"\n",
    "              f\"Label: {labels[i].item()}\")\n",
    "    break\n"
   ]
  },
  {
   "cell_type": "code",
   "execution_count": null,
   "metadata": {},
   "outputs": [],
   "source": [
    "class RNNBitCounter(nn.Module):\n",
    "    \n",
    "    def __init__(self, input_size=1, hidden_size=128, output_size=1, rnn_type=\"RNN\"):\n",
    "        super(RNNBitCounter, self).__init__()\n",
    "        rnn_layer = {\"RNN\": nn.RNN, \"LSTM\": nn.LSTM, \"GRU\": nn.GRU}[rnn_type]\n",
    "        self.rnn = rnn_layer(input_size, hidden_size, batch_first=True)\n",
    "        self.fc = nn.Linear(hidden_size, output_size)\n",
    "\n",
    "    def forward(self, x, lengths):\n",
    "        lengths = lengths.cpu()\n",
    "        packed_input = nn.utils.rnn.pack_padded_sequence(x, lengths, batch_first=True, enforce_sorted=False)\n",
    "        packed_output, _ = self.rnn(packed_input)\n",
    "        output, _ = nn.utils.rnn.pad_packed_sequence(packed_output, batch_first=True)\n",
    "        final_states = output[range(len(lengths)), lengths - 1]\n",
    "        return self.fc(final_states).squeeze(1)\n",
    "\n",
    "rnn_model = RNNBitCounter(input_size=1, hidden_size=128, output_size=1, rnn_type=\"RNN\").to(device)"
   ]
  },
  {
   "cell_type": "code",
   "execution_count": null,
   "metadata": {
    "id": "7L_NInIx0AfA"
   },
   "outputs": [],
   "source": [
    "import random\n",
    "\n",
    "def evaluate(model, data_loader, criterion):\n",
    "    model.eval()\n",
    "    total_loss = 0.0\n",
    "    total_baseline_loss = 0.0\n",
    "\n",
    "    with torch.no_grad():\n",
    "        for sequences, labels, lengths in data_loader:\n",
    "            outputs = model(sequences, lengths)\n",
    "            loss = criterion(outputs, labels)\n",
    "            total_loss += loss.item()\n",
    "\n",
    "            random_predictions = [random.randint(0, length.item()) for length in lengths]\n",
    "            random_predictions = torch.tensor(random_predictions, dtype=torch.float32).to(labels.device)\n",
    "            baseline_loss = criterion(random_predictions, labels)\n",
    "            total_baseline_loss += baseline_loss.item()\n",
    "\n",
    "    return total_loss / len(data_loader), total_baseline_loss / len(data_loader)\n",
    "\n",
    "\n",
    "def train_rnn(model, train_loader, val_loader, num_epochs=10, lr=0.001):\n",
    "    criterion = nn.L1Loss() \n",
    "    optimizer = torch.optim.Adam(model.parameters(), lr=lr)\n",
    "\n",
    "    for epoch in range(num_epochs):\n",
    "    \n",
    "        model.train()\n",
    "        train_loss = 0.0\n",
    "        for sequences, labels, lengths in train_loader:\n",
    "        \n",
    "            outputs = model(sequences, lengths)\n",
    "            loss = criterion(outputs, labels)\n",
    "\n",
    "            optimizer.zero_grad()\n",
    "            loss.backward()\n",
    "            optimizer.step()\n",
    "\n",
    "            train_loss += loss.item()\n",
    "\n",
    "        val_loss, baseline_loss = evaluate(model, val_loader, criterion)\n",
    "        print(f\"Epoch [{epoch+1}/{num_epochs}], Train Loss: {train_loss/len(train_loader):.4f}, \"\n",
    "              f\"Val Loss: {val_loss:.4f}, Random Baseline Loss: {baseline_loss:.4f}\")\n",
    "\n"
   ]
  },
  {
   "cell_type": "code",
   "execution_count": null,
   "metadata": {
    "id": "rM34cTsr0Dtw"
   },
   "outputs": [],
   "source": [
    "import matplotlib.pyplot as plt\n",
    "\n",
    "def test_generalization(model, max_length=32):\n",
    "    model.eval()\n",
    "    lengths = range(1, max_length + 1)\n",
    "    maes = []\n",
    "\n",
    "    with torch.no_grad():\n",
    "        for length in lengths:\n",
    "            sequences = [torch.randint(0, 2, (length,)).tolist() for _ in range(1000)]\n",
    "            labels = [sum(seq) for seq in sequences]\n",
    "\n",
    "            lengths_tensor = torch.tensor([len(seq) for seq in sequences], dtype=torch.int64).to(device)\n",
    "            sequences = [torch.tensor(seq, dtype=torch.float32).unsqueeze(1).to(device) for seq in sequences]\n",
    "            padded_sequences = nn.utils.rnn.pad_sequence(sequences, batch_first=True).to(device)\n",
    "            labels = torch.tensor(labels, dtype=torch.float32).to(device)\n",
    "\n",
    "            outputs = model(padded_sequences, lengths_tensor.cpu())\n",
    "            maes.append(torch.mean(torch.abs(outputs - labels)).item())\n",
    "\n",
    "    plt.plot(lengths, maes, label=\"MAE\")\n",
    "    plt.xlabel(\"Sequence Length\")\n",
    "    plt.ylabel(\"MAE\")\n",
    "    plt.title(\"Generalization Performance\")\n",
    "    plt.legend()\n",
    "    plt.show()\n"
   ]
  },
  {
   "cell_type": "code",
   "execution_count": 13,
   "metadata": {
    "colab": {
     "base_uri": "https://localhost:8080/"
    },
    "id": "r7bHr6eN0jxe",
    "outputId": "ad0683a3-6888-4b82-acc6-c629b2124c01"
   },
   "outputs": [
    {
     "name": "stdout",
     "output_type": "stream",
     "text": [
      "Epoch [1/10], Train Loss: 0.0805, Val Loss: 0.0391, Random Baseline Loss: 2.5521\n",
      "Epoch [2/10], Train Loss: 0.0725, Val Loss: 0.0526, Random Baseline Loss: 2.5601\n",
      "Epoch [3/10], Train Loss: 0.0685, Val Loss: 0.0634, Random Baseline Loss: 2.5649\n",
      "Epoch [4/10], Train Loss: 0.0671, Val Loss: 0.0268, Random Baseline Loss: 2.5989\n",
      "Epoch [5/10], Train Loss: 0.0628, Val Loss: 0.0816, Random Baseline Loss: 2.5600\n",
      "Epoch [6/10], Train Loss: 0.0580, Val Loss: 0.0746, Random Baseline Loss: 2.5725\n",
      "Epoch [7/10], Train Loss: 0.0573, Val Loss: 0.0454, Random Baseline Loss: 2.5602\n",
      "Epoch [8/10], Train Loss: 0.0626, Val Loss: 0.0249, Random Baseline Loss: 2.5829\n",
      "Epoch [9/10], Train Loss: 0.0557, Val Loss: 0.0531, Random Baseline Loss: 2.5242\n",
      "Epoch [10/10], Train Loss: 0.0575, Val Loss: 0.0475, Random Baseline Loss: 2.5525\n"
     ]
    }
   ],
   "source": [
    "# Training the model\n",
    "train_rnn(rnn_model, train_loader, val_loader, num_epochs=10, lr=0.001)\n"
   ]
  },
  {
   "cell_type": "code",
   "execution_count": 15,
   "metadata": {
    "colab": {
     "base_uri": "https://localhost:8080/",
     "height": 489
    },
    "id": "P6UI7tYn5yTt",
    "outputId": "934617a7-e48f-4423-fa84-39124ca2414e"
   },
   "outputs": [
    {
     "data": {
      "image/png": "[encoded data removed]",
      "text/plain": [
       "<Figure size 640x480 with 1 Axes>"
      ]
     },
     "metadata": {},
     "output_type": "display_data"
    },
    {
     "name": "stdout",
     "output_type": "stream",
     "text": [
      "Test MAE: 0.0479\n"
     ]
    }
   ],
   "source": [
    "\n",
    "# Testing generalization performance\n",
    "test_generalization(rnn_model, max_length=32)\n",
    "\n",
    "# Final evaluation on test set\n",
    "test_loss , _= evaluate(rnn_model, test_loader, nn.L1Loss())\n",
    "print(f\"Test MAE: {test_loss:.4f}\")\n"
   ]
  },
  {
   "cell_type": "markdown",
   "metadata": {},
   "source": [
    "So, from the plot, we could initially obviously infer that as for sequence grater than 16 isn't trained, thus MAE increases rapidly to an inefficient model score. Also we could see some increase for MAE from 1 to 16, which is due to more no. of bits. Similar logic applies for 17 to 32."
   ]
  },
  {
   "cell_type": "markdown",
   "metadata": {},
   "source": [
    "Random baseline would always have a considerable error/loss as it doesnt have any basis of showing output, but just random, which shows uniform probability of getting correct output."
   ]
  }
 ],
 "metadata": {
  "colab": {
   "provenance": []
  },
  "kernelspec": {
   "display_name": "Python 3",
   "name": "python3"
  },
  "language_info": {
   "codemirror_mode": {
    "name": "ipython",
    "version": 3
   },
   "file_extension": ".py",
   "mimetype": "text/x-python",
   "name": "python",
   "nbconvert_exporter": "python",
   "pygments_lexer": "ipython3",
   "version": "3.12.4"
  }
 },
 "nbformat": 4,
 "nbformat_minor": 0
}
