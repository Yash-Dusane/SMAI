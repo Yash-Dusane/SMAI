{
 "cells": [
  {
   "cell_type": "code",
   "execution_count": 21,
   "metadata": {},
   "outputs": [
    {
     "name": "stdout",
     "output_type": "stream",
     "text": [
      "       fixed acidity  volatile acidity  citric acid  residual sugar  \\\n",
      "count    1143.000000       1143.000000  1143.000000     1143.000000   \n",
      "mean        8.311111          0.531339     0.268364        2.532152   \n",
      "std         1.747595          0.179633     0.196686        1.355917   \n",
      "min         4.600000          0.120000     0.000000        0.900000   \n",
      "25%         7.100000          0.392500     0.090000        1.900000   \n",
      "50%         7.900000          0.520000     0.250000        2.200000   \n",
      "75%         9.100000          0.640000     0.420000        2.600000   \n",
      "max        15.900000          1.580000     1.000000       15.500000   \n",
      "\n",
      "         chlorides  free sulfur dioxide  total sulfur dioxide      density  \\\n",
      "count  1143.000000          1143.000000           1143.000000  1143.000000   \n",
      "mean      0.086933            15.615486             45.914698     0.996730   \n",
      "std       0.047267            10.250486             32.782130     0.001925   \n",
      "min       0.012000             1.000000              6.000000     0.990070   \n",
      "25%       0.070000             7.000000             21.000000     0.995570   \n",
      "50%       0.079000            13.000000             37.000000     0.996680   \n",
      "75%       0.090000            21.000000             61.000000     0.997845   \n",
      "max       0.611000            68.000000            289.000000     1.003690   \n",
      "\n",
      "                pH    sulphates      alcohol      quality           Id  \n",
      "count  1143.000000  1143.000000  1143.000000  1143.000000  1143.000000  \n",
      "mean      3.311015     0.657708    10.442111     5.657043   804.969379  \n",
      "std       0.156664     0.170399     1.082196     0.805824   463.997116  \n",
      "min       2.740000     0.330000     8.400000     3.000000     0.000000  \n",
      "25%       3.205000     0.550000     9.500000     5.000000   411.000000  \n",
      "50%       3.310000     0.620000    10.200000     6.000000   794.000000  \n",
      "75%       3.400000     0.730000    11.100000     6.000000  1209.500000  \n",
      "max       4.010000     2.000000    14.900000     8.000000  1597.000000  \n"
     ]
    }
   ],
   "source": [
    "import pandas as pd\n",
    "\n",
    "# Load the dataset\n",
    "data = pd.read_csv('../../data/external/WineQT.csv')\n",
    "\n",
    "# Describe the dataset\n",
    "description = data.describe()\n",
    "print(description)"
   ]
  },
  {
   "cell_type": "code",
   "execution_count": 22,
   "metadata": {},
   "outputs": [
    {
     "data": {
      "image/png": "[encoded data removed]",
      "text/plain": [
       "<Figure size 1000x600 with 1 Axes>"
      ]
     },
     "metadata": {},
     "output_type": "display_data"
    }
   ],
   "source": [
    "import matplotlib.pyplot as plt\n",
    "\n",
    "# Plotting the distribution of wine quality\n",
    "plt.figure(figsize=(10, 6))\n",
    "data['quality'].value_counts().sort_index().plot(kind='bar')\n",
    "plt.title('Distribution of Wine Quality')\n",
    "plt.xlabel('Quality')\n",
    "plt.ylabel('Frequency')\n",
    "plt.xticks(rotation=0)\n",
    "plt.show()"
   ]
  },
  {
   "cell_type": "code",
   "execution_count": 23,
   "metadata": {},
   "outputs": [
    {
     "name": "stdout",
     "output_type": "stream",
     "text": [
      "[[-0.52157961  0.93933222 -1.36502663 ... -0.57365783 -0.96338181\n",
      "  -1.73561799]\n",
      " [-0.29259344  1.94181282 -1.36502663 ...  0.1308811  -0.59360107\n",
      "  -1.73346186]\n",
      " [-0.29259344  1.27349242 -1.16156762 ... -0.04525363 -0.59360107\n",
      "  -1.73130573]\n",
      " ...\n",
      " [-1.20853813  0.38239855 -0.9581086  ... -0.45623467  0.05351522\n",
      "   1.70125196]\n",
      " [-1.38027776  0.10393172 -0.8563791  ...  0.60057372  0.70063152\n",
      "   1.70340809]\n",
      " [-1.38027776  0.6330187  -0.75464959 ...  0.30701583 -0.22382033\n",
      "   1.70772035]]\n"
     ]
    }
   ],
   "source": [
    "from sklearn.model_selection import train_test_split\n",
    "from sklearn.preprocessing import StandardScaler\n",
    "\n",
    "\n",
    "# Separate features and target variable\n",
    "X = data.drop('quality', axis=1).values\n",
    "y = data['quality'].values\n",
    "\n",
    "# Normalize and standardize the data\n",
    "scaler = StandardScaler()\n",
    "X_scaled = scaler.fit_transform(X)\n",
    "\n",
    "print(X_scaled)\n",
    "# Split the dataset into training and testing sets\n",
    "X_train, X_val_test, y_train, y_val_test = train_test_split(X_scaled, y, test_size=0.2, random_state=42)\n",
    "\n",
    "X_val, X_test, y_val, y_test = train_test_split(X_val_test, y_val_test, test_size=0.5, random_state=42)"
   ]
  },
  {
   "cell_type": "code",
   "execution_count": 28,
   "metadata": {},
   "outputs": [
    {
     "name": "stdout",
     "output_type": "stream",
     "text": [
      "Early stopping at epoch 524\n",
      "Accuracy: 64.04%\n",
      "Average relative error: 2.9110100995612392e-08\n",
      "Gradient check passed: True\n"
     ]
    }
   ],
   "source": [
    "import numpy as np\n",
    "\n",
    "class MLP:\n",
    "    def __init__(self, \n",
    "                 hidden_layers, \n",
    "                 learning_rate=0.01,\n",
    "                 activation='sigmoid',\n",
    "                 optimizer='sgd',\n",
    "                 batch_size=32,\n",
    "                 epochs=100,\n",
    "                 early_stopping_patience=10):\n",
    "        self.hidden_layers = hidden_layers\n",
    "        self.learning_rate = learning_rate\n",
    "        self.activation = activation\n",
    "        self.optimizer = optimizer\n",
    "        self.batch_size = batch_size\n",
    "        self.epochs = epochs\n",
    "        self.early_stopping_patience = early_stopping_patience\n",
    "        self.weights = []\n",
    "        self.biases = []\n",
    "        self.losses = [] \n",
    "\n",
    "    def _initialize_parameters(self, input_size, output_size):\n",
    "        layer_sizes = [input_size] + self.hidden_layers + [output_size]\n",
    "        for i in range(1, len(layer_sizes)):\n",
    "            self.weights.append(np.random.randn(layer_sizes[i-1], layer_sizes[i]) * 0.01)\n",
    "            self.biases.append(np.zeros((1, layer_sizes[i])))\n",
    "\n",
    "    def _activation_function(self, x):\n",
    "        if self.activation == 'sigmoid':\n",
    "            return 1 / (1 + np.exp(-np.clip(x, -709, 709)))\n",
    "        elif self.activation == 'tanh':\n",
    "            return np.tanh(x)\n",
    "        elif self.activation == 'relu':\n",
    "            return np.maximum(0, x)\n",
    "        else:\n",
    "            raise ValueError(\"Invalid activation function\")\n",
    "\n",
    "    def _activation_derivative(self, x):\n",
    "        if self.activation == 'sigmoid':\n",
    "            return x * (1 - x)\n",
    "        elif self.activation == 'tanh':\n",
    "            return 1 - np.power(x, 2)\n",
    "        elif self.activation == 'relu':\n",
    "            return np.where(x > 0, 1, 0)\n",
    "        else:\n",
    "            raise ValueError(\"Invalid activation function\")\n",
    "\n",
    "    def _forward_propagation(self, X):\n",
    "        activations = [X]\n",
    "        for i in range(len(self.weights)):\n",
    "            z = np.dot(activations[-1], self.weights[i]) + self.biases[i]\n",
    "            a = self._activation_function(z)\n",
    "            activations.append(a)\n",
    "        return activations\n",
    "\n",
    "    def _backpropagation(self, X, y):\n",
    "        m = X.shape[0]\n",
    "        activations = self._forward_propagation(X)\n",
    "        \n",
    "        dW = [np.zeros_like(w) for w in self.weights]\n",
    "        db = [np.zeros_like(b) for b in self.biases]\n",
    "        \n",
    "        delta = activations[-1] - y\n",
    "        for l in range(len(self.weights) - 1, -1, -1):\n",
    "            dW[l] = np.dot(activations[l].T, delta) / m\n",
    "            db[l] = np.sum(delta, axis=0, keepdims=True) / m\n",
    "            if l > 0:\n",
    "                delta = np.dot(delta, self.weights[l].T) * self._activation_derivative(activations[l])\n",
    "        \n",
    "        return dW, db\n",
    "\n",
    "    def _update_parameters(self, dW, db):\n",
    "        for i in range(len(self.weights)):\n",
    "            self.weights[i] -= self.learning_rate * dW[i]\n",
    "            self.biases[i] -= self.learning_rate * db[i]\n",
    "\n",
    "    def fit(self, X, y):\n",
    "        n_samples, n_features = X.shape\n",
    "        \n",
    "        # Adjust output values to be between 0 and 5 (for one-hot encoding)\n",
    "        y_adjusted = y - 3\n",
    "        \n",
    "        # Initialize parameters\n",
    "        n_classes = 6\n",
    "        self._initialize_parameters(n_features, n_classes)\n",
    "        \n",
    "        best_loss = float('inf')\n",
    "        patience_counter = 0\n",
    "        \n",
    "        for epoch in range(self.epochs):\n",
    "            if self.optimizer == 'sgd':\n",
    "                indices = np.random.permutation(n_samples)\n",
    "                X_shuffled = X[indices]\n",
    "                y_shuffled = y_adjusted[indices]\n",
    "                for i in range(n_samples):\n",
    "                    dW, db = self._backpropagation(X_shuffled[i:i+1], np.eye(n_classes)[y_shuffled[i:i+1]])\n",
    "                    self._update_parameters(dW, db)\n",
    "\n",
    "            elif self.optimizer == 'batch':\n",
    "                dW, db = self._backpropagation(X, np.eye(n_classes)[y_adjusted])\n",
    "                self._update_parameters(dW, db)\n",
    "\n",
    "            elif self.optimizer == 'mini_batch':\n",
    "                for i in range(0, n_samples, self.batch_size):\n",
    "                    batch_X = X[i:i+self.batch_size]\n",
    "                    batch_y = y_adjusted[i:i+self.batch_size]\n",
    "                    dW, db = self._backpropagation(batch_X, np.eye(n_classes)[batch_y])\n",
    "                    self._update_parameters(dW, db)\n",
    "\n",
    "            # Compute and store the loss for this epoch\n",
    "            loss = self._compute_cost(X, np.eye(n_classes)[y_adjusted])\n",
    "            self.losses.append(loss)  # Store the loss\n",
    "            \n",
    "            if loss < best_loss:\n",
    "                best_loss = loss\n",
    "                patience_counter = 0\n",
    "            else:\n",
    "                patience_counter += 1\n",
    "                if patience_counter >= self.early_stopping_patience:\n",
    "                    print(f\"Early stopping at epoch {epoch}\")\n",
    "                    break\n",
    "\n",
    "    def predict(self, X):\n",
    "        activations = self._forward_propagation(X)\n",
    "        predicted_indices = np.argmax(activations[-1], axis=1)\n",
    "        \n",
    "        # Adjust back to original quality scores (3-8)\n",
    "        return predicted_indices + 3\n",
    "\n",
    "    def accuracy(self, y_true, y_pred):\n",
    "        return np.mean(y_true == y_pred)\n",
    "\n",
    "    def _compute_cost(self, X, y):\n",
    "        activations = self._forward_propagation(X)\n",
    "        m = X.shape[0]\n",
    "        epsilon = 1e-15\n",
    "        cost = -np.sum(y * np.log(activations[-1] + epsilon) + (1 - y) * np.log(1 - activations[-1] + epsilon)) / m\n",
    "        return cost\n",
    "\n",
    "    def gradient_check(self, X, y, epsilon=1e-7):\n",
    "        y_adjusted = y - 3\n",
    "        y_encoded = np.eye(6)[y_adjusted]\n",
    "        \n",
    "        dW, db = self._backpropagation(X, y_encoded)\n",
    "        \n",
    "        params = self.weights + self.biases\n",
    "        grads = dW + db\n",
    "        \n",
    "        num_grads = []\n",
    "        for param in params:\n",
    "            num_grad = np.zeros_like(param)\n",
    "            it = np.nditer(param, flags=['multi_index'], op_flags=['readwrite'])\n",
    "            while not it.finished:\n",
    "                idx = it.multi_index\n",
    "                old_value = param[idx]\n",
    "                \n",
    "                param[idx] = old_value + epsilon\n",
    "                cost_plus = self._compute_cost(X, y_encoded)\n",
    "                \n",
    "                param[idx] = old_value - epsilon\n",
    "                cost_minus = self._compute_cost(X, y_encoded)\n",
    "                \n",
    "                num_grad[idx] = (cost_plus - cost_minus) / (2 * epsilon)\n",
    "                \n",
    "                param[idx] = old_value\n",
    "                it.iternext()\n",
    "            \n",
    "            num_grads.append(num_grad)\n",
    "        \n",
    "        total_error = 0\n",
    "        for grad, num_grad in zip(grads, num_grads):\n",
    "            numerator = np.linalg.norm(grad - num_grad)\n",
    "            denominator = np.linalg.norm(grad) + np.linalg.norm(num_grad)\n",
    "            total_error += numerator / (denominator + 1e-7)\n",
    "        \n",
    "        average_error = total_error / len(params)\n",
    "        print(f\"Average relative error: {average_error}\")\n",
    "        \n",
    "        return average_error < 1e-7\n",
    "\n",
    "\n",
    "if __name__ == \"__main__\":\n",
    "    \n",
    "    # Create an instance of the MLP class with specified parameters.\n",
    "    mlp=MLP(hidden_layers=[9],\n",
    "            learning_rate=0.01,\n",
    "            activation='sigmoid',\n",
    "            optimizer='sgd',batch_size=32,\n",
    "            epochs=1000)\n",
    "\n",
    "    # Fit the model on training data.\n",
    "    mlp.fit(X_train,y_train)\n",
    "\n",
    "    # Make predictions on the test set.\n",
    "    predictions=mlp.predict(X_val)\n",
    "\n",
    "   # Calculate accuracy.\n",
    "    accuracy_score=mlp.accuracy(y_val,predictions)\n",
    "    print(f\"Accuracy: {accuracy_score * 100:.2f}%\")\n",
    "\n",
    "    # Perform gradient checking on a sample of test data.\n",
    "    is_gradient_correct=mlp.gradient_check(X_val,y_val)\n",
    "    print(f\"Gradient check passed: {is_gradient_correct}\")"
   ]
  },
  {
   "cell_type": "code",
   "execution_count": 20,
   "metadata": {},
   "outputs": [
    {
     "name": "stdout",
     "output_type": "stream",
     "text": [
      "Create sweep with ID: dty5miyw\n",
      "Sweep URL: https://wandb.ai/dusaneyash09-iiit-hyderabad/MLP_Hyperparameter_Tuning/sweeps/dty5miyw\n"
     ]
    },
    {
     "name": "stderr",
     "output_type": "stream",
     "text": [
      "\u001b[34m\u001b[1mwandb\u001b[0m: Agent Starting Run: htj2ilda with config:\n",
      "\u001b[34m\u001b[1mwandb\u001b[0m: \tactivation: tanh\n",
      "\u001b[34m\u001b[1mwandb\u001b[0m: \tbatch_size: 64\n",
      "\u001b[34m\u001b[1mwandb\u001b[0m: \tearly_stopping_patience: 5\n",
      "\u001b[34m\u001b[1mwandb\u001b[0m: \tepochs: 150\n",
      "\u001b[34m\u001b[1mwandb\u001b[0m: \thidden_layers: [10, 8]\n",
      "\u001b[34m\u001b[1mwandb\u001b[0m: \tlearning_rate: 0.08087946999079179\n",
      "\u001b[34m\u001b[1mwandb\u001b[0m: \toptimizer: sgd\n"
     ]
    },
    {
     "data": {
      "text/html": [
       "Tracking run with wandb version 0.18.3"
      ],
      "text/plain": [
       "<IPython.core.display.HTML object>"
      ]
     },
     "metadata": {},
     "output_type": "display_data"
    },
    {
     "data": {
      "text/html": [
       "Run data is saved locally in <code>c:\\Users\\yashd\\OneDrive\\Desktop\\IIIT_Hyd\\Sem_5\\SMAI\\github\\assignments\\3\\wandb\\run-20241011_005513-htj2ilda</code>"
      ],
      "text/plain": [
       "<IPython.core.display.HTML object>"
      ]
     },
     "metadata": {},
     "output_type": "display_data"
    },
    {
     "data": {
      "text/html": [
       "Syncing run <strong><a href='https://wandb.ai/dusaneyash09-iiit-hyderabad/MLP_Hyperparameter_Tuning/runs/htj2ilda' target=\"_blank\">wild-sweep-1</a></strong> to <a href='https://wandb.ai/dusaneyash09-iiit-hyderabad/MLP_Hyperparameter_Tuning' target=\"_blank\">Weights & Biases</a> (<a href='https://wandb.me/run' target=\"_blank\">docs</a>)<br/>Sweep page: <a href='https://wandb.ai/dusaneyash09-iiit-hyderabad/MLP_Hyperparameter_Tuning/sweeps/dty5miyw' target=\"_blank\">https://wandb.ai/dusaneyash09-iiit-hyderabad/MLP_Hyperparameter_Tuning/sweeps/dty5miyw</a>"
      ],
      "text/plain": [
       "<IPython.core.display.HTML object>"
      ]
     },
     "metadata": {},
     "output_type": "display_data"
    },
    {
     "data": {
      "text/html": [
       " View project at <a href='https://wandb.ai/dusaneyash09-iiit-hyderabad/MLP_Hyperparameter_Tuning' target=\"_blank\">https://wandb.ai/dusaneyash09-iiit-hyderabad/MLP_Hyperparameter_Tuning</a>"
      ],
      "text/plain": [
       "<IPython.core.display.HTML object>"
      ]
     },
     "metadata": {},
     "output_type": "display_data"
    },
    {
     "data": {
      "text/html": [
       " View sweep at <a href='https://wandb.ai/dusaneyash09-iiit-hyderabad/MLP_Hyperparameter_Tuning/sweeps/dty5miyw' target=\"_blank\">https://wandb.ai/dusaneyash09-iiit-hyderabad/MLP_Hyperparameter_Tuning/sweeps/dty5miyw</a>"
      ],
      "text/plain": [
       "<IPython.core.display.HTML object>"
      ]
     },
     "metadata": {},
     "output_type": "display_data"
    },
    {
     "data": {
      "text/html": [
       " View run at <a href='https://wandb.ai/dusaneyash09-iiit-hyderabad/MLP_Hyperparameter_Tuning/runs/htj2ilda' target=\"_blank\">https://wandb.ai/dusaneyash09-iiit-hyderabad/MLP_Hyperparameter_Tuning/runs/htj2ilda</a>"
      ],
      "text/plain": [
       "<IPython.core.display.HTML object>"
      ]
     },
     "metadata": {},
     "output_type": "display_data"
    },
    {
     "name": "stderr",
     "output_type": "stream",
     "text": [
      "C:\\Users\\yashd\\AppData\\Local\\Temp\\ipykernel_4724\\1362981141.py:155: RuntimeWarning: invalid value encountered in log\n",
      "  cost = -np.sum(y * np.log(activations[-1] + epsilon) + (1 - y) * np.log(1 - activations[-1] + epsilon)) / m\n"
     ]
    },
    {
     "name": "stdout",
     "output_type": "stream",
     "text": [
      "Early stopping at epoch 4\n"
     ]
    },
    {
     "name": "stderr",
     "output_type": "stream",
     "text": [
      "c:\\Users\\yashd\\AppData\\Local\\Programs\\Python\\Python312\\Lib\\site-packages\\sklearn\\metrics\\_classification.py:1531: UndefinedMetricWarning: Precision is ill-defined and being set to 0.0 in labels with no predicted samples. Use `zero_division` parameter to control this behavior.\n",
      "  _warn_prf(average, modifier, f\"{metric.capitalize()} is\", len(result))\n"
     ]
    },
    {
     "data": {
      "text/html": [
       "<style>\n",
       "    table.wandb td:nth-child(1) { padding: 0 10px; text-align: left ; width: auto;} td:nth-child(2) {text-align: left ; width: 100%}\n",
       "    .wandb-row { display: flex; flex-direction: row; flex-wrap: wrap; justify-content: flex-start; width: 100% }\n",
       "    .wandb-col { display: flex; flex-direction: column; flex-basis: 100%; flex: 1; padding: 10px; }\n",
       "    </style>\n",
       "<div class=\"wandb-row\"><div class=\"wandb-col\"><h3>Run history:</h3><br/><table class=\"wandb\"><tr><td>epoch</td><td>▁▃▅▆█</td></tr><tr><td>train_accuracy</td><td>▁▇█▄█</td></tr><tr><td>val_accuracy</td><td>▁▅█▆▇▇</td></tr><tr><td>val_f1</td><td>▁</td></tr><tr><td>val_precision</td><td>▁</td></tr><tr><td>val_recall</td><td>▁</td></tr></table><br/></div><div class=\"wandb-col\"><h3>Run summary:</h3><br/><table class=\"wandb\"><tr><td>epoch</td><td>4</td></tr><tr><td>train_accuracy</td><td>0.5919</td></tr><tr><td>train_loss</td><td>nan</td></tr><tr><td>val_accuracy</td><td>0.61404</td></tr><tr><td>val_f1</td><td>0.57494</td></tr><tr><td>val_loss</td><td>nan</td></tr><tr><td>val_precision</td><td>0.54445</td></tr><tr><td>val_recall</td><td>0.61404</td></tr></table><br/></div></div>"
      ],
      "text/plain": [
       "<IPython.core.display.HTML object>"
      ]
     },
     "metadata": {},
     "output_type": "display_data"
    },
    {
     "data": {
      "text/html": [
       " View run <strong style=\"color:#cdcd00\">wild-sweep-1</strong> at: <a href='https://wandb.ai/dusaneyash09-iiit-hyderabad/MLP_Hyperparameter_Tuning/runs/htj2ilda' target=\"_blank\">https://wandb.ai/dusaneyash09-iiit-hyderabad/MLP_Hyperparameter_Tuning/runs/htj2ilda</a><br/> View project at: <a href='https://wandb.ai/dusaneyash09-iiit-hyderabad/MLP_Hyperparameter_Tuning' target=\"_blank\">https://wandb.ai/dusaneyash09-iiit-hyderabad/MLP_Hyperparameter_Tuning</a><br/>Synced 5 W&B file(s), 0 media file(s), 0 artifact file(s) and 0 other file(s)"
      ],
      "text/plain": [
       "<IPython.core.display.HTML object>"
      ]
     },
     "metadata": {},
     "output_type": "display_data"
    },
    {
     "data": {
      "text/html": [
       "Find logs at: <code>.\\wandb\\run-20241011_005513-htj2ilda\\logs</code>"
      ],
      "text/plain": [
       "<IPython.core.display.HTML object>"
      ]
     },
     "metadata": {},
     "output_type": "display_data"
    },
    {
     "name": "stderr",
     "output_type": "stream",
     "text": [
      "\u001b[34m\u001b[1mwandb\u001b[0m: Ctrl + C detected. Stopping sweep.\n"
     ]
    },
    {
     "ename": "CommError",
     "evalue": "Could not find sweep <Sweep your_username/MLP_Hyperparameter_Tuning/dty5miyw (Unknown State)>",
     "output_type": "error",
     "traceback": [
      "\u001b[1;31m---------------------------------------------------------------------------\u001b[0m",
      "\u001b[1;31mValueError\u001b[0m                                Traceback (most recent call last)",
      "File \u001b[1;32mc:\\Users\\yashd\\AppData\\Local\\Programs\\Python\\Python312\\Lib\\site-packages\\wandb\\apis\\normalize.py:41\u001b[0m, in \u001b[0;36mnormalize_exceptions.<locals>.wrapper\u001b[1;34m(*args, **kwargs)\u001b[0m\n\u001b[0;32m     40\u001b[0m \u001b[38;5;28;01mtry\u001b[39;00m:\n\u001b[1;32m---> 41\u001b[0m     \u001b[38;5;28;01mreturn\u001b[39;00m \u001b[43mfunc\u001b[49m\u001b[43m(\u001b[49m\u001b[38;5;241;43m*\u001b[39;49m\u001b[43margs\u001b[49m\u001b[43m,\u001b[49m\u001b[43m \u001b[49m\u001b[38;5;241;43m*\u001b[39;49m\u001b[38;5;241;43m*\u001b[39;49m\u001b[43mkwargs\u001b[49m\u001b[43m)\u001b[49m\n\u001b[0;32m     42\u001b[0m \u001b[38;5;28;01mexcept\u001b[39;00m requests\u001b[38;5;241m.\u001b[39mHTTPError \u001b[38;5;28;01mas\u001b[39;00m error:\n",
      "File \u001b[1;32mc:\\Users\\yashd\\AppData\\Local\\Programs\\Python\\Python312\\Lib\\site-packages\\wandb\\apis\\public\\api.py:1030\u001b[0m, in \u001b[0;36mApi.sweep\u001b[1;34m(self, path)\u001b[0m\n\u001b[0;32m   1029\u001b[0m \u001b[38;5;28;01mif\u001b[39;00m \u001b[38;5;129;01mnot\u001b[39;00m \u001b[38;5;28mself\u001b[39m\u001b[38;5;241m.\u001b[39m_sweeps\u001b[38;5;241m.\u001b[39mget(path):\n\u001b[1;32m-> 1030\u001b[0m     \u001b[38;5;28mself\u001b[39m\u001b[38;5;241m.\u001b[39m_sweeps[path] \u001b[38;5;241m=\u001b[39m \u001b[43mpublic\u001b[49m\u001b[38;5;241;43m.\u001b[39;49m\u001b[43mSweep\u001b[49m\u001b[43m(\u001b[49m\u001b[38;5;28;43mself\u001b[39;49m\u001b[38;5;241;43m.\u001b[39;49m\u001b[43mclient\u001b[49m\u001b[43m,\u001b[49m\u001b[43m \u001b[49m\u001b[43mentity\u001b[49m\u001b[43m,\u001b[49m\u001b[43m \u001b[49m\u001b[43mproject\u001b[49m\u001b[43m,\u001b[49m\u001b[43m \u001b[49m\u001b[43msweep_id\u001b[49m\u001b[43m)\u001b[49m\n\u001b[0;32m   1031\u001b[0m \u001b[38;5;28;01mreturn\u001b[39;00m \u001b[38;5;28mself\u001b[39m\u001b[38;5;241m.\u001b[39m_sweeps[path]\n",
      "File \u001b[1;32mc:\\Users\\yashd\\AppData\\Local\\Programs\\Python\\Python312\\Lib\\site-packages\\wandb\\apis\\public\\sweeps.py:91\u001b[0m, in \u001b[0;36mSweep.__init__\u001b[1;34m(self, client, entity, project, sweep_id, attrs)\u001b[0m\n\u001b[0;32m     89\u001b[0m \u001b[38;5;28mself\u001b[39m\u001b[38;5;241m.\u001b[39mruns \u001b[38;5;241m=\u001b[39m []\n\u001b[1;32m---> 91\u001b[0m \u001b[38;5;28;43mself\u001b[39;49m\u001b[38;5;241;43m.\u001b[39;49m\u001b[43mload\u001b[49m\u001b[43m(\u001b[49m\u001b[43mforce\u001b[49m\u001b[38;5;241;43m=\u001b[39;49m\u001b[38;5;129;43;01mnot\u001b[39;49;00m\u001b[43m \u001b[49m\u001b[43mattrs\u001b[49m\u001b[43m)\u001b[49m\n",
      "File \u001b[1;32mc:\\Users\\yashd\\AppData\\Local\\Programs\\Python\\Python312\\Lib\\site-packages\\wandb\\apis\\public\\sweeps.py:110\u001b[0m, in \u001b[0;36mSweep.load\u001b[1;34m(self, force)\u001b[0m\n\u001b[0;32m    109\u001b[0m \u001b[38;5;28;01mif\u001b[39;00m sweep \u001b[38;5;129;01mis\u001b[39;00m \u001b[38;5;28;01mNone\u001b[39;00m:\n\u001b[1;32m--> 110\u001b[0m     \u001b[38;5;28;01mraise\u001b[39;00m \u001b[38;5;167;01mValueError\u001b[39;00m(\u001b[38;5;124m\"\u001b[39m\u001b[38;5;124mCould not find sweep \u001b[39m\u001b[38;5;132;01m{}\u001b[39;00m\u001b[38;5;124m\"\u001b[39m\u001b[38;5;241m.\u001b[39mformat(\u001b[38;5;28mself\u001b[39m))\n\u001b[0;32m    111\u001b[0m \u001b[38;5;28mself\u001b[39m\u001b[38;5;241m.\u001b[39m_attrs \u001b[38;5;241m=\u001b[39m sweep\u001b[38;5;241m.\u001b[39m_attrs\n",
      "\u001b[1;31mValueError\u001b[0m: Could not find sweep <Sweep your_username/MLP_Hyperparameter_Tuning/dty5miyw (Unknown State)>",
      "\nDuring handling of the above exception, another exception occurred:\n",
      "\u001b[1;31mCommError\u001b[0m                                 Traceback (most recent call last)",
      "Cell \u001b[1;32mIn[20], line 244\u001b[0m\n\u001b[0;32m    242\u001b[0m \u001b[38;5;66;03m# After the sweep is complete, you can get the best run:\u001b[39;00m\n\u001b[0;32m    243\u001b[0m api \u001b[38;5;241m=\u001b[39m wandb\u001b[38;5;241m.\u001b[39mApi()\n\u001b[1;32m--> 244\u001b[0m sweep \u001b[38;5;241m=\u001b[39m \u001b[43mapi\u001b[49m\u001b[38;5;241;43m.\u001b[39;49m\u001b[43msweep\u001b[49m\u001b[43m(\u001b[49m\u001b[38;5;124;43mf\u001b[39;49m\u001b[38;5;124;43m\"\u001b[39;49m\u001b[38;5;124;43myour_username/MLP_Hyperparameter_Tuning/\u001b[39;49m\u001b[38;5;132;43;01m{\u001b[39;49;00m\u001b[43msweep_id\u001b[49m\u001b[38;5;132;43;01m}\u001b[39;49;00m\u001b[38;5;124;43m\"\u001b[39;49m\u001b[43m)\u001b[49m\n\u001b[0;32m    245\u001b[0m best_run \u001b[38;5;241m=\u001b[39m sweep\u001b[38;5;241m.\u001b[39mbest_run()\n\u001b[0;32m    246\u001b[0m \u001b[38;5;28mprint\u001b[39m(\u001b[38;5;124mf\u001b[39m\u001b[38;5;124m\"\u001b[39m\u001b[38;5;124mBest run id: \u001b[39m\u001b[38;5;132;01m{\u001b[39;00mbest_run\u001b[38;5;241m.\u001b[39mid\u001b[38;5;132;01m}\u001b[39;00m\u001b[38;5;124m\"\u001b[39m)\n",
      "File \u001b[1;32mc:\\Users\\yashd\\AppData\\Local\\Programs\\Python\\Python312\\Lib\\site-packages\\wandb\\apis\\normalize.py:87\u001b[0m, in \u001b[0;36mnormalize_exceptions.<locals>.wrapper\u001b[1;34m(*args, **kwargs)\u001b[0m\n\u001b[0;32m     85\u001b[0m     \u001b[38;5;28;01mraise\u001b[39;00m\n\u001b[0;32m     86\u001b[0m \u001b[38;5;28;01melse\u001b[39;00m:\n\u001b[1;32m---> 87\u001b[0m     \u001b[38;5;28;01mraise\u001b[39;00m CommError(message, err)\u001b[38;5;241m.\u001b[39mwith_traceback(sys\u001b[38;5;241m.\u001b[39mexc_info()[\u001b[38;5;241m2\u001b[39m])\n",
      "File \u001b[1;32mc:\\Users\\yashd\\AppData\\Local\\Programs\\Python\\Python312\\Lib\\site-packages\\wandb\\apis\\normalize.py:41\u001b[0m, in \u001b[0;36mnormalize_exceptions.<locals>.wrapper\u001b[1;34m(*args, **kwargs)\u001b[0m\n\u001b[0;32m     39\u001b[0m message \u001b[38;5;241m=\u001b[39m \u001b[38;5;124m\"\u001b[39m\u001b[38;5;124mWhoa, you found a bug.\u001b[39m\u001b[38;5;124m\"\u001b[39m\n\u001b[0;32m     40\u001b[0m \u001b[38;5;28;01mtry\u001b[39;00m:\n\u001b[1;32m---> 41\u001b[0m     \u001b[38;5;28;01mreturn\u001b[39;00m \u001b[43mfunc\u001b[49m\u001b[43m(\u001b[49m\u001b[38;5;241;43m*\u001b[39;49m\u001b[43margs\u001b[49m\u001b[43m,\u001b[49m\u001b[43m \u001b[49m\u001b[38;5;241;43m*\u001b[39;49m\u001b[38;5;241;43m*\u001b[39;49m\u001b[43mkwargs\u001b[49m\u001b[43m)\u001b[49m\n\u001b[0;32m     42\u001b[0m \u001b[38;5;28;01mexcept\u001b[39;00m requests\u001b[38;5;241m.\u001b[39mHTTPError \u001b[38;5;28;01mas\u001b[39;00m error:\n\u001b[0;32m     43\u001b[0m     errors \u001b[38;5;241m=\u001b[39m parse_backend_error_messages(error\u001b[38;5;241m.\u001b[39mresponse)\n",
      "File \u001b[1;32mc:\\Users\\yashd\\AppData\\Local\\Programs\\Python\\Python312\\Lib\\site-packages\\wandb\\apis\\public\\api.py:1030\u001b[0m, in \u001b[0;36mApi.sweep\u001b[1;34m(self, path)\u001b[0m\n\u001b[0;32m   1028\u001b[0m entity, project, sweep_id \u001b[38;5;241m=\u001b[39m \u001b[38;5;28mself\u001b[39m\u001b[38;5;241m.\u001b[39m_parse_path(path)\n\u001b[0;32m   1029\u001b[0m \u001b[38;5;28;01mif\u001b[39;00m \u001b[38;5;129;01mnot\u001b[39;00m \u001b[38;5;28mself\u001b[39m\u001b[38;5;241m.\u001b[39m_sweeps\u001b[38;5;241m.\u001b[39mget(path):\n\u001b[1;32m-> 1030\u001b[0m     \u001b[38;5;28mself\u001b[39m\u001b[38;5;241m.\u001b[39m_sweeps[path] \u001b[38;5;241m=\u001b[39m \u001b[43mpublic\u001b[49m\u001b[38;5;241;43m.\u001b[39;49m\u001b[43mSweep\u001b[49m\u001b[43m(\u001b[49m\u001b[38;5;28;43mself\u001b[39;49m\u001b[38;5;241;43m.\u001b[39;49m\u001b[43mclient\u001b[49m\u001b[43m,\u001b[49m\u001b[43m \u001b[49m\u001b[43mentity\u001b[49m\u001b[43m,\u001b[49m\u001b[43m \u001b[49m\u001b[43mproject\u001b[49m\u001b[43m,\u001b[49m\u001b[43m \u001b[49m\u001b[43msweep_id\u001b[49m\u001b[43m)\u001b[49m\n\u001b[0;32m   1031\u001b[0m \u001b[38;5;28;01mreturn\u001b[39;00m \u001b[38;5;28mself\u001b[39m\u001b[38;5;241m.\u001b[39m_sweeps[path]\n",
      "File \u001b[1;32mc:\\Users\\yashd\\AppData\\Local\\Programs\\Python\\Python312\\Lib\\site-packages\\wandb\\apis\\public\\sweeps.py:91\u001b[0m, in \u001b[0;36mSweep.__init__\u001b[1;34m(self, client, entity, project, sweep_id, attrs)\u001b[0m\n\u001b[0;32m     88\u001b[0m \u001b[38;5;28mself\u001b[39m\u001b[38;5;241m.\u001b[39mid \u001b[38;5;241m=\u001b[39m sweep_id\n\u001b[0;32m     89\u001b[0m \u001b[38;5;28mself\u001b[39m\u001b[38;5;241m.\u001b[39mruns \u001b[38;5;241m=\u001b[39m []\n\u001b[1;32m---> 91\u001b[0m \u001b[38;5;28;43mself\u001b[39;49m\u001b[38;5;241;43m.\u001b[39;49m\u001b[43mload\u001b[49m\u001b[43m(\u001b[49m\u001b[43mforce\u001b[49m\u001b[38;5;241;43m=\u001b[39;49m\u001b[38;5;129;43;01mnot\u001b[39;49;00m\u001b[43m \u001b[49m\u001b[43mattrs\u001b[49m\u001b[43m)\u001b[49m\n",
      "File \u001b[1;32mc:\\Users\\yashd\\AppData\\Local\\Programs\\Python\\Python312\\Lib\\site-packages\\wandb\\apis\\public\\sweeps.py:110\u001b[0m, in \u001b[0;36mSweep.load\u001b[1;34m(self, force)\u001b[0m\n\u001b[0;32m    108\u001b[0m sweep \u001b[38;5;241m=\u001b[39m \u001b[38;5;28mself\u001b[39m\u001b[38;5;241m.\u001b[39mget(\u001b[38;5;28mself\u001b[39m\u001b[38;5;241m.\u001b[39mclient, \u001b[38;5;28mself\u001b[39m\u001b[38;5;241m.\u001b[39mentity, \u001b[38;5;28mself\u001b[39m\u001b[38;5;241m.\u001b[39mproject, \u001b[38;5;28mself\u001b[39m\u001b[38;5;241m.\u001b[39mid)\n\u001b[0;32m    109\u001b[0m \u001b[38;5;28;01mif\u001b[39;00m sweep \u001b[38;5;129;01mis\u001b[39;00m \u001b[38;5;28;01mNone\u001b[39;00m:\n\u001b[1;32m--> 110\u001b[0m     \u001b[38;5;28;01mraise\u001b[39;00m \u001b[38;5;167;01mValueError\u001b[39;00m(\u001b[38;5;124m\"\u001b[39m\u001b[38;5;124mCould not find sweep \u001b[39m\u001b[38;5;132;01m{}\u001b[39;00m\u001b[38;5;124m\"\u001b[39m\u001b[38;5;241m.\u001b[39mformat(\u001b[38;5;28mself\u001b[39m))\n\u001b[0;32m    111\u001b[0m \u001b[38;5;28mself\u001b[39m\u001b[38;5;241m.\u001b[39m_attrs \u001b[38;5;241m=\u001b[39m sweep\u001b[38;5;241m.\u001b[39m_attrs\n\u001b[0;32m    112\u001b[0m \u001b[38;5;28mself\u001b[39m\u001b[38;5;241m.\u001b[39mruns \u001b[38;5;241m=\u001b[39m sweep\u001b[38;5;241m.\u001b[39mruns\n",
      "\u001b[1;31mCommError\u001b[0m: Could not find sweep <Sweep your_username/MLP_Hyperparameter_Tuning/dty5miyw (Unknown State)>"
     ]
    }
   ],
   "source": [
    "import numpy as np\n",
    "import wandb\n",
    "from sklearn.model_selection import train_test_split\n",
    "from sklearn.metrics import accuracy_score, f1_score, precision_score, recall_score\n",
    "\n",
    "class MLP_hyperparam:\n",
    "    def __init__(self, config):\n",
    "        self.hidden_layers = config.hidden_layers\n",
    "        self.learning_rate = config.learning_rate\n",
    "        self.activation = config.activation\n",
    "        self.optimizer = config.optimizer\n",
    "        self.batch_size = config.batch_size\n",
    "        self.epochs = config.epochs\n",
    "        self.early_stopping_patience = config.early_stopping_patience\n",
    "        self.weights = []\n",
    "        self.biases = []\n",
    "\n",
    "    def _initialize_parameters(self, input_size, output_size):\n",
    "        layer_sizes = [input_size] + self.hidden_layers + [output_size]\n",
    "        for i in range(1, len(layer_sizes)):\n",
    "            self.weights.append(np.random.randn(layer_sizes[i-1], layer_sizes[i]) * 0.01)\n",
    "            self.biases.append(np.zeros((1, layer_sizes[i])))\n",
    "\n",
    "    def _activation_function(self, x):\n",
    "        if self.activation == 'sigmoid':\n",
    "            return 1 / (1 + np.exp(-x))\n",
    "        elif self.activation == 'tanh':\n",
    "            return np.tanh(x)\n",
    "        elif self.activation == 'relu':\n",
    "            return np.maximum(0, x)\n",
    "        else:\n",
    "            raise ValueError(\"Invalid activation function\")\n",
    "\n",
    "    def _activation_derivative(self, x):\n",
    "        if self.activation == 'sigmoid':\n",
    "            return x * (1 - x)\n",
    "        elif self.activation == 'tanh':\n",
    "            return 1 - np.power(x, 2)\n",
    "        elif self.activation == 'relu':\n",
    "            return np.where(x > 0, 1, 0)\n",
    "        else:\n",
    "            raise ValueError(\"Invalid activation function\")\n",
    "\n",
    "    def _forward_propagation(self, X):\n",
    "        activations = [X]\n",
    "        for i in range(len(self.weights)):\n",
    "            z = np.dot(activations[-1], self.weights[i]) + self.biases[i]\n",
    "            a = self._activation_function(z)\n",
    "            activations.append(a)\n",
    "        return activations\n",
    "\n",
    "    def _backpropagation(self, X, y):\n",
    "        m = X.shape[0]\n",
    "        activations = self._forward_propagation(X)\n",
    "        \n",
    "        dW = [np.zeros_like(w) for w in self.weights]\n",
    "        db = [np.zeros_like(b) for b in self.biases]\n",
    "        \n",
    "        delta = activations[-1] - y\n",
    "        for l in range(len(self.weights) - 1, -1, -1):\n",
    "            dW[l] = np.dot(activations[l].T, delta) / m\n",
    "            db[l] = np.sum(delta, axis=0, keepdims=True) / m\n",
    "            if l > 0:\n",
    "                delta = np.dot(delta, self.weights[l].T) * self._activation_derivative(activations[l])\n",
    "        \n",
    "        return dW, db\n",
    "\n",
    "    def _update_parameters(self, dW, db):\n",
    "        for i in range(len(self.weights)):\n",
    "            self.weights[i] -= self.learning_rate * dW[i]\n",
    "            self.biases[i] -= self.learning_rate * db[i]\n",
    "\n",
    "    def fit(self, X_train, y_train, X_val, y_val):\n",
    "        \n",
    "        n_samples, n_features = X_train.shape\n",
    "        \n",
    "        # Adjust output values to be between 0 and 5 (for one-hot encoding)\n",
    "        y_train_adjusted = y_train - 3  # Shift labels from [3-8] to [0-5]\n",
    "        y_val_adjusted = y_val - 3\n",
    "        \n",
    "        # Initialize parameters\n",
    "        n_classes = 6  # Since we have classes from 0 to 5 after adjustment\n",
    "        self._initialize_parameters(n_features, n_classes)\n",
    "        \n",
    "        best_loss = float('inf')\n",
    "        patience_counter = 0\n",
    "        \n",
    "        for epoch in range(self.epochs):\n",
    "            if self.optimizer == 'sgd':\n",
    "                indices = np.random.permutation(n_samples)\n",
    "                X_shuffled = X_train[indices]\n",
    "                y_shuffled = y_train_adjusted[indices]\n",
    "                for i in range(n_samples):\n",
    "                    dW, db = self._backpropagation(X_shuffled[i:i+1], np.eye(n_classes)[y_shuffled[i:i+1]])\n",
    "                    self._update_parameters(dW, db)\n",
    "            elif self.optimizer == 'batch':\n",
    "                dW, db = self._backpropagation(X_train, np.eye(n_classes)[y_train_adjusted])\n",
    "                self._update_parameters(dW, db)\n",
    "            elif self.optimizer == 'mini_batch':\n",
    "                for i in range(0, n_samples, self.batch_size):\n",
    "                    batch_X = X_train[i:i+self.batch_size]\n",
    "                    batch_y = y_train_adjusted[i:i+self.batch_size]\n",
    "                    dW, db = self._backpropagation(batch_X, np.eye(n_classes)[batch_y])\n",
    "                    self._update_parameters(dW, db)\n",
    "\n",
    "            train_loss = self._compute_cost(X_train, np.eye(n_classes)[y_train_adjusted])\n",
    "            val_loss = self._compute_cost(X_val, np.eye(n_classes)[y_val_adjusted])\n",
    "            \n",
    "            train_pred = self.predict(X_train)\n",
    "            val_pred = self.predict(X_val)\n",
    "            train_accuracy = self.accuracy(y_train, train_pred)\n",
    "            val_accuracy = self.accuracy(y_val, val_pred)\n",
    "            \n",
    "            wandb.log({\n",
    "                \"epoch\": epoch,\n",
    "                \"train_loss\": train_loss,\n",
    "                \"val_loss\": val_loss,\n",
    "                \"train_accuracy\": train_accuracy,\n",
    "                \"val_accuracy\": val_accuracy\n",
    "            })\n",
    "            \n",
    "            if val_loss < best_loss:\n",
    "                best_loss = val_loss\n",
    "                patience_counter = 0\n",
    "            else:\n",
    "                patience_counter += 1\n",
    "                if patience_counter >= self.early_stopping_patience:\n",
    "                    print(f\"Early stopping at epoch {epoch}\")\n",
    "                    break\n",
    "\n",
    "        # Compute final metrics\n",
    "        final_pred = self.predict(X_val)\n",
    "        final_metrics = {\n",
    "            \"val_accuracy\": accuracy_score(y_val, final_pred),\n",
    "            \"val_f1\": f1_score(y_val, final_pred, average='weighted'),\n",
    "            \"val_precision\": precision_score(y_val, final_pred, average='weighted'),\n",
    "            \"val_recall\": recall_score(y_val, final_pred, average='weighted')\n",
    "        }\n",
    "        wandb.log(final_metrics)\n",
    "\n",
    "    def predict(self, X):\n",
    "        activations = self._forward_propagation(X)\n",
    "        predicted_indices = np.argmax(activations[-1], axis=1)\n",
    "        \n",
    "        # Adjust back to original quality scores (3-8)\n",
    "        return predicted_indices + 3\n",
    "\n",
    "    def accuracy(self, y_true, y_pred):\n",
    "        return np.mean(y_true == y_pred)\n",
    "\n",
    "    def _compute_cost(self, X, y):\n",
    "        activations = self._forward_propagation(X)\n",
    "        m = X.shape[0]\n",
    "        epsilon = 1e-15\n",
    "        cost = -np.sum(y * np.log(activations[-1] + epsilon) + (1 - y) * np.log(1 - activations[-1] + epsilon)) / m\n",
    "        return cost\n",
    "\n",
    "    def gradient_check(self, X, y, epsilon=1e-7):\n",
    "        y_adjusted = y - 3\n",
    "        y_encoded = np.eye(6)[y_adjusted]\n",
    "        \n",
    "        dW, db = self._backpropagation(X, y_encoded)\n",
    "        \n",
    "        params = self.weights + self.biases\n",
    "        grads = dW + db\n",
    "        \n",
    "        num_grads = []\n",
    "        for param in params:\n",
    "            num_grad = np.zeros_like(param)\n",
    "            it = np.nditer(param, flags=['multi_index'], op_flags=['readwrite'])\n",
    "            while not it.finished:\n",
    "                idx = it.multi_index\n",
    "                old_value = param[idx]\n",
    "                \n",
    "                param[idx] = old_value + epsilon\n",
    "                cost_plus = self._compute_cost(X, y_encoded)\n",
    "                \n",
    "                param[idx] = old_value - epsilon\n",
    "                cost_minus = self._compute_cost(X, y_encoded)\n",
    "                \n",
    "                num_grad[idx] = (cost_plus - cost_minus) / (2 * epsilon)\n",
    "                \n",
    "                param[idx] = old_value\n",
    "                it.iternext()\n",
    "            \n",
    "            num_grads.append(num_grad)\n",
    "        \n",
    "        total_error = 0\n",
    "        for grad, num_grad in zip(grads, num_grads):\n",
    "            numerator = np.linalg.norm(grad - num_grad)\n",
    "            denominator = np.linalg.norm(grad) + np.linalg.norm(num_grad)\n",
    "            total_error += numerator / (denominator + 1e-7)\n",
    "        \n",
    "        average_error = total_error / len(params)\n",
    "        print(f\"Average relative error: {average_error}\")\n",
    "        \n",
    "        return average_error < 1e-7\n",
    "    \n",
    "def train():\n",
    "    # Load your data here\n",
    "    # X, y = load_data()  # Implement this function to load your dataset\n",
    "    \n",
    "    # For demonstration, let's create some dummy data\n",
    "    # X = np.random.randn(1000, 10)\n",
    "    # y = np.random.randint(3, 9, size=1000)\n",
    "\n",
    "    config_defaults = {\n",
    "        'hidden_layers': [64],\n",
    "        'learning_rate': 0.01,\n",
    "        'activation': 'sigmoid',\n",
    "        'optimizer': 'sgd',\n",
    "        'batch_size': 32,\n",
    "        'epochs': 100,\n",
    "        'early_stopping_patience': 10\n",
    "    }\n",
    "\n",
    "    wandb.init(config=config_defaults)\n",
    "    config = wandb.config\n",
    "\n",
    "    model = MLP_hyperparam(config)\n",
    "    model.fit(X_train, y_train, X_val, y_val)\n",
    "\n",
    "sweep_configuration = {\n",
    "    'method': 'random',\n",
    "    'name': 'sweep',\n",
    "    'metric': {'goal': 'maximize', 'name': 'val_accuracy'},\n",
    "    'parameters': \n",
    "    {\n",
    "        'hidden_layers': {'values': [[9], [10, 8], [64, 32]]},\n",
    "        'learning_rate': {'min': 0.0001, 'max': 0.1},\n",
    "        'activation': {'values': ['sigmoid', 'relu', 'tanh']},\n",
    "        'optimizer': {'values': ['sgd', 'batch', 'mini_batch']},\n",
    "        'batch_size': {'values': [16, 32, 64]},\n",
    "        'epochs': {'values': [50, 100, 150]},\n",
    "        'early_stopping_patience': {'values': [5, 10, 15]}\n",
    "    }\n",
    "}\n",
    "\n",
    "sweep_id = wandb.sweep(sweep_configuration, project=\"MLP_Hyperparameter_Tuning\")\n",
    "wandb.agent(sweep_id, train, count=20)  # Run 20 experiments\n",
    "\n",
    "# After the sweep is complete, you can get the best run:\n",
    "api = wandb.Api()\n",
    "sweep = api.sweep(f\"your_username/MLP_Hyperparameter_Tuning/{sweep_id}\")\n",
    "best_run = sweep.best_run()\n",
    "print(f\"Best run id: {best_run.id}\")\n",
    "print(f\"Best run config: {best_run.config}\")\n",
    "print(f\"Best run metrics: {best_run.summary}\")"
   ]
  },
  {
   "cell_type": "code",
   "execution_count": 6,
   "metadata": {},
   "outputs": [
    {
     "name": "stderr",
     "output_type": "stream",
     "text": [
      "\u001b[34m\u001b[1mwandb\u001b[0m: Using wandb-core as the SDK backend. Please refer to https://wandb.me/wandb-core for more information.\n",
      "\u001b[34m\u001b[1mwandb\u001b[0m: Currently logged in as: \u001b[33mdusaneyash09\u001b[0m (\u001b[33mdusaneyash09-iiit-hyderabad\u001b[0m). Use \u001b[1m`wandb login --relogin`\u001b[0m to force relogin\n"
     ]
    },
    {
     "data": {
      "text/html": [
       "Tracking run with wandb version 0.18.3"
      ],
      "text/plain": [
       "<IPython.core.display.HTML object>"
      ]
     },
     "metadata": {},
     "output_type": "display_data"
    },
    {
     "data": {
      "text/html": [
       "Run data is saved locally in <code>c:\\Users\\yashd\\OneDrive\\Desktop\\IIIT_Hyd\\Sem_5\\SMAI\\github\\assignments\\3\\wandb\\run-20241010_183611-2r3odja0</code>"
      ],
      "text/plain": [
       "<IPython.core.display.HTML object>"
      ]
     },
     "metadata": {},
     "output_type": "display_data"
    },
    {
     "data": {
      "text/html": [
       "Syncing run <strong><a href='https://wandb.ai/dusaneyash09-iiit-hyderabad/mlp-hyperparameter-tuning/runs/2r3odja0' target=\"_blank\">grateful-tree-5</a></strong> to <a href='https://wandb.ai/dusaneyash09-iiit-hyderabad/mlp-hyperparameter-tuning' target=\"_blank\">Weights & Biases</a> (<a href='https://wandb.me/run' target=\"_blank\">docs</a>)<br/>"
      ],
      "text/plain": [
       "<IPython.core.display.HTML object>"
      ]
     },
     "metadata": {},
     "output_type": "display_data"
    },
    {
     "data": {
      "text/html": [
       " View project at <a href='https://wandb.ai/dusaneyash09-iiit-hyderabad/mlp-hyperparameter-tuning' target=\"_blank\">https://wandb.ai/dusaneyash09-iiit-hyderabad/mlp-hyperparameter-tuning</a>"
      ],
      "text/plain": [
       "<IPython.core.display.HTML object>"
      ]
     },
     "metadata": {},
     "output_type": "display_data"
    },
    {
     "data": {
      "text/html": [
       " View run at <a href='https://wandb.ai/dusaneyash09-iiit-hyderabad/mlp-hyperparameter-tuning/runs/2r3odja0' target=\"_blank\">https://wandb.ai/dusaneyash09-iiit-hyderabad/mlp-hyperparameter-tuning/runs/2r3odja0</a>"
      ],
      "text/plain": [
       "<IPython.core.display.HTML object>"
      ]
     },
     "metadata": {},
     "output_type": "display_data"
    },
    {
     "name": "stdout",
     "output_type": "stream",
     "text": [
      "Early stopping at epoch 32\n",
      "Accuracy: 63.76%\n",
      "Precision: 0.61, Recall: 0.64, F1 Score: 0.62\n"
     ]
    },
    {
     "name": "stderr",
     "output_type": "stream",
     "text": [
      "c:\\Users\\yashd\\AppData\\Local\\Programs\\Python\\Python312\\Lib\\site-packages\\sklearn\\metrics\\_classification.py:1531: UndefinedMetricWarning: Precision is ill-defined and being set to 0.0 in labels with no predicted samples. Use `zero_division` parameter to control this behavior.\n",
      "  _warn_prf(average, modifier, f\"{metric.capitalize()} is\", len(result))\n"
     ]
    }
   ],
   "source": [
    "# import numpy as np\n",
    "# import wandb\n",
    "# from sklearn.metrics import precision_score, recall_score, f1_score\n",
    "\n",
    "# class MLP:\n",
    "#     def __init__(self, \n",
    "#                  hidden_layers, \n",
    "#                  learning_rate=0.01,\n",
    "#                  activation='sigmoid',\n",
    "#                  optimizer='sgd',\n",
    "#                  batch_size=32,\n",
    "#                  epochs=100,\n",
    "#                  early_stopping_patience=10):\n",
    "#         self.hidden_layers = hidden_layers\n",
    "#         self.learning_rate = learning_rate\n",
    "#         self.activation = activation\n",
    "#         self.optimizer = optimizer\n",
    "#         self.batch_size = batch_size\n",
    "#         self.epochs = epochs\n",
    "#         self.early_stopping_patience = early_stopping_patience\n",
    "#         self.weights = []\n",
    "#         self.biases = []\n",
    "\n",
    "#     def _initialize_parameters(self, input_size, output_size):\n",
    "#         layer_sizes = [input_size] + self.hidden_layers + [output_size]\n",
    "#         for i in range(1, len(layer_sizes)):\n",
    "#             self.weights.append(np.random.randn(layer_sizes[i-1], layer_sizes[i]) / np.sqrt(layer_sizes[i-1]))\n",
    "#             self.biases.append(np.zeros((1, layer_sizes[i])))\n",
    "\n",
    "#     def _activation_function(self, x):\n",
    "#         if self.activation == 'sigmoid':\n",
    "#             return 1 / (1 + np.exp(-np.clip(x, -709, 709)))  # Clip to avoid overflow\n",
    "#         elif self.activation == 'tanh':\n",
    "#             return np.tanh(x)\n",
    "#         elif self.activation == 'relu':\n",
    "#             return np.maximum(0, x)\n",
    "#         elif self.activation == 'linear':\n",
    "#             return x\n",
    "#         else:\n",
    "#             raise ValueError(\"Invalid activation function\")\n",
    "\n",
    "#     def _activation_derivative(self, x):\n",
    "#         if self.activation == 'sigmoid':\n",
    "#             return x * (1 - x)\n",
    "#         elif self.activation == 'tanh':\n",
    "#             return 1 - np.power(x, 2)\n",
    "#         elif self.activation == 'relu':\n",
    "#             return np.where(x > 0, 1, 0)\n",
    "#         elif self.activation == 'linear':\n",
    "#             return np.ones_like(x)\n",
    "#         else:\n",
    "#             raise ValueError(\"Invalid activation function\")\n",
    "\n",
    "#     def _forward_propagation(self, X):\n",
    "#         activations = [X]\n",
    "#         for i in range(len(self.weights)):\n",
    "#             z = np.dot(activations[-1], self.weights[i]) + self.biases[i]\n",
    "#             a = self._activation_function(z)\n",
    "#             activations.append(a)\n",
    "#         return activations\n",
    "\n",
    "#     def _backpropagation(self, X, y):\n",
    "#         m = X.shape[0]\n",
    "#         activations = self._forward_propagation(X)\n",
    "        \n",
    "#         dW = [np.zeros_like(w) for w in self.weights]\n",
    "#         db = [np.zeros_like(b) for b in self.biases]\n",
    "        \n",
    "#         delta = activations[-1] - y\n",
    "#         for l in range(len(self.weights) - 1, -1, -1):\n",
    "#             dW[l] = np.dot(activations[l].T, delta) / m\n",
    "#             db[l] = np.sum(delta, axis=0, keepdims=True) / m\n",
    "#             if l > 0:\n",
    "#                 delta = np.dot(delta, self.weights[l].T) * self._activation_derivative(activations[l])\n",
    "        \n",
    "#         return dW, db\n",
    "\n",
    "#     def _update_parameters(self, dW, db):\n",
    "#         for i in range(len(self.weights)):\n",
    "#             self.weights[i] -= self.learning_rate * dW[i]\n",
    "#             self.biases[i] -= self.learning_rate * db[i]\n",
    "\n",
    "#     def fit(self, X_train, y_train, X_val=None, y_val=None):\n",
    "        \n",
    "#         n_samples, n_features = X_train.shape\n",
    "        \n",
    "#         # Adjust output values to be between 0 and 5 (for one-hot encoding)\n",
    "#         y_adjusted_train = y_train - 3\n",
    "        \n",
    "#         # Initialize parameters\n",
    "#         n_classes = 6  \n",
    "#         self._initialize_parameters(n_features, n_classes)\n",
    "        \n",
    "#         best_loss = float('inf')\n",
    "#         patience_counter = 0\n",
    "        \n",
    "#         # Initialize W&B logging\n",
    "#         wandb.init(project=\"mlp-hyperparameter-tuning\", config={\n",
    "#             \"learning_rate\": self.learning_rate,\n",
    "#             \"epochs\": self.epochs,\n",
    "#             \"batch_size\": self.batch_size,\n",
    "#             \"hidden_layers\": str(self.hidden_layers),\n",
    "#             \"activation\": self.activation,\n",
    "#             \"optimizer\": self.optimizer\n",
    "#         })\n",
    "        \n",
    "#         for epoch in range(self.epochs):\n",
    "#             # Training phase\n",
    "#             if self.optimizer == 'sgd':\n",
    "#                 indices = np.random.permutation(n_samples)\n",
    "#                 X_shuffled = X_train[indices]\n",
    "#                 y_encoded_shuffled = y_adjusted_train[indices]\n",
    "#                 for i in range(n_samples):\n",
    "#                     dW, db = self._backpropagation(X_shuffled[i:i+1], np.eye(n_classes)[y_encoded_shuffled[i:i+1]])\n",
    "#                     self._update_parameters(dW, db)\n",
    "\n",
    "#             elif self.optimizer == 'batch':\n",
    "#                 dW, db = self._backpropagation(X_train, np.eye(n_classes)[y_adjusted_train])\n",
    "#                 self._update_parameters(dW, db)\n",
    "\n",
    "#             elif self.optimizer == 'mini_batch':\n",
    "#                 for i in range(0, n_samples, self.batch_size):\n",
    "#                     batch_X = X_train[i:i+self.batch_size]\n",
    "#                     batch_y = y_adjusted_train[i:i+self.batch_size]\n",
    "#                     dW, db = self._backpropagation(batch_X, np.eye(n_classes)[batch_y])\n",
    "#                     self._update_parameters(dW, db)\n",
    "\n",
    "#             train_loss = self._compute_cost(X_train, np.eye(n_classes)[y_adjusted_train])\n",
    "            \n",
    "#             # Log metrics to W&B\n",
    "#             wandb.log({\"epoch\": epoch + 1,\n",
    "#                         \"train_loss\": train_loss})\n",
    "\n",
    "#             if X_val is not None and y_val is not None:\n",
    "#                 val_loss = self._compute_cost(X_val, np.eye(n_classes)[y_val - 3])\n",
    "#                 val_accuracy = self.accuracy(y_val, self.predict(X_val))\n",
    "                \n",
    "#                 # Log validation metrics to W&B\n",
    "#                 wandb.log({\"val_loss\": val_loss,\n",
    "#                             \"val_accuracy\": val_accuracy})\n",
    "\n",
    "#                 if val_loss < best_loss:\n",
    "#                     best_loss = val_loss\n",
    "#                     patience_counter = 0\n",
    "#                 else:\n",
    "#                     patience_counter += 1\n",
    "#                     if patience_counter >= self.early_stopping_patience:\n",
    "#                         print(f\"Early stopping at epoch {epoch}\")\n",
    "#                         break\n",
    "\n",
    "#     def predict(self, X):\n",
    "#         activations = self._forward_propagation(X)\n",
    "#         predicted_indices = np.argmax(activations[-1], axis=1)\n",
    "        \n",
    "#         # Adjust back to original quality scores (3-8)\n",
    "#         return predicted_indices + 3\n",
    "\n",
    "#     def accuracy(self, y_true, y_pred):\n",
    "#         return np.mean(y_true == y_pred)\n",
    "\n",
    "#     def _compute_cost(self, X, y):\n",
    "#        activations=self._forward_propagation(X)\n",
    "#        m=X.shape[0]\n",
    "#        epsilon=1e-15 # To avoid log(0).\n",
    "#        cost=-np.sum(y*np.log(activations[-1]+epsilon))/m\n",
    "      \n",
    "#        return cost\n",
    "\n",
    "# # Example usage:\n",
    "# if __name__ == \"__main__\":\n",
    "   \n",
    "#        # Create an instance of the MLP class with specified parameters.\n",
    "#     mlp=MLP(hidden_layers=[10],learning_rate=0.01,batch_size=32,\n",
    "#                 epochs=1000)\n",
    "\n",
    "#     # Fit the model on training data and validate on test data.\n",
    "#     mlp.fit(X_train,y_train,X_test,y_test)\n",
    "\n",
    "#     # Make predictions on the test set.\n",
    "#     predictions=mlp.predict(X_test)\n",
    "\n",
    "#     # Calculate accuracy.\n",
    "#     accuracy_score=mlp.accuracy(y_test,predictions)\n",
    "#     print(f\"Accuracy: {accuracy_score * 100:.2f}%\")\n",
    "\n",
    "#     # Calculate additional metrics.\n",
    "#     precision = precision_score(y_test, predictions, average='weighted')\n",
    "#     recall = recall_score(y_test, predictions, average='weighted')\n",
    "#     f1 = f1_score(y_test, predictions, average='weighted')\n",
    "\n",
    "#     print(f\"Precision: {precision:.2f}, Recall: {recall:.2f}, F1 Score: {f1:.2f}\")"
   ]
  },
  {
   "cell_type": "code",
   "execution_count": 10,
   "metadata": {},
   "outputs": [
    {
     "data": {
      "text/html": [
       "Finishing last run (ID:2r3odja0) before initializing another..."
      ],
      "text/plain": [
       "<IPython.core.display.HTML object>"
      ]
     },
     "metadata": {},
     "output_type": "display_data"
    },
    {
     "data": {
      "text/html": [
       "<style>\n",
       "    table.wandb td:nth-child(1) { padding: 0 10px; text-align: left ; width: auto;} td:nth-child(2) {text-align: left ; width: 100%}\n",
       "    .wandb-row { display: flex; flex-direction: row; flex-wrap: wrap; justify-content: flex-start; width: 100% }\n",
       "    .wandb-col { display: flex; flex-direction: column; flex-basis: 100%; flex: 1; padding: 10px; }\n",
       "    </style>\n",
       "<div class=\"wandb-row\"><div class=\"wandb-col\"><h3>Run history:</h3><br/><table class=\"wandb\"><tr><td>epoch</td><td>▁▁▁▂▂▂▂▃▃▃▃▃▄▄▄▄▅▅▅▅▅▆▆▆▆▆▇▇▇▇███</td></tr><tr><td>train_loss</td><td>█▇▅▅▃▄▃▃▃▃▃▃▃▃▃▂▂▂▂▂▂▃▁▂▂▁▁▂▁▂▂▂▂</td></tr><tr><td>val_accuracy</td><td>▁▃▄▃▄▃▆▆▅▆▄▆▇▆▆▆▆▇▅▆▆█▆▆▇▆▆▇▅▆▆█▆</td></tr><tr><td>val_loss</td><td>█▇▅▄▃▃▂▂▂▃▂▃▃▂▃▂▂▂▁▂▂▃▁▂▂▂▂▂▁▃▂▂▂</td></tr></table><br/></div><div class=\"wandb-col\"><h3>Run summary:</h3><br/><table class=\"wandb\"><tr><td>epoch</td><td>33</td></tr><tr><td>train_loss</td><td>0.91586</td></tr><tr><td>val_accuracy</td><td>0.63755</td></tr><tr><td>val_loss</td><td>0.87694</td></tr></table><br/></div></div>"
      ],
      "text/plain": [
       "<IPython.core.display.HTML object>"
      ]
     },
     "metadata": {},
     "output_type": "display_data"
    },
    {
     "data": {
      "text/html": [
       " View run <strong style=\"color:#cdcd00\">grateful-tree-5</strong> at: <a href='https://wandb.ai/dusaneyash09-iiit-hyderabad/mlp-hyperparameter-tuning/runs/2r3odja0' target=\"_blank\">https://wandb.ai/dusaneyash09-iiit-hyderabad/mlp-hyperparameter-tuning/runs/2r3odja0</a><br/> View project at: <a href='https://wandb.ai/dusaneyash09-iiit-hyderabad/mlp-hyperparameter-tuning' target=\"_blank\">https://wandb.ai/dusaneyash09-iiit-hyderabad/mlp-hyperparameter-tuning</a><br/>Synced 5 W&B file(s), 0 media file(s), 0 artifact file(s) and 0 other file(s)"
      ],
      "text/plain": [
       "<IPython.core.display.HTML object>"
      ]
     },
     "metadata": {},
     "output_type": "display_data"
    },
    {
     "data": {
      "text/html": [
       "Find logs at: <code>.\\wandb\\run-20241010_183611-2r3odja0\\logs</code>"
      ],
      "text/plain": [
       "<IPython.core.display.HTML object>"
      ]
     },
     "metadata": {},
     "output_type": "display_data"
    },
    {
     "data": {
      "text/html": [
       "Successfully finished last run (ID:2r3odja0). Initializing new run:<br/>"
      ],
      "text/plain": [
       "<IPython.core.display.HTML object>"
      ]
     },
     "metadata": {},
     "output_type": "display_data"
    },
    {
     "data": {
      "text/html": [
       "Tracking run with wandb version 0.18.3"
      ],
      "text/plain": [
       "<IPython.core.display.HTML object>"
      ]
     },
     "metadata": {},
     "output_type": "display_data"
    },
    {
     "data": {
      "text/html": [
       "Run data is saved locally in <code>c:\\Users\\yashd\\OneDrive\\Desktop\\IIIT_Hyd\\Sem_5\\SMAI\\github\\assignments\\3\\wandb\\run-20241010_184347-2vlew3sf</code>"
      ],
      "text/plain": [
       "<IPython.core.display.HTML object>"
      ]
     },
     "metadata": {},
     "output_type": "display_data"
    },
    {
     "data": {
      "text/html": [
       "Syncing run <strong><a href='https://wandb.ai/dusaneyash09-iiit-hyderabad/mlp-wine-quality/runs/2vlew3sf' target=\"_blank\">flowing-flower-1</a></strong> to <a href='https://wandb.ai/dusaneyash09-iiit-hyderabad/mlp-wine-quality' target=\"_blank\">Weights & Biases</a> (<a href='https://wandb.me/run' target=\"_blank\">docs</a>)<br/>"
      ],
      "text/plain": [
       "<IPython.core.display.HTML object>"
      ]
     },
     "metadata": {},
     "output_type": "display_data"
    },
    {
     "data": {
      "text/html": [
       " View project at <a href='https://wandb.ai/dusaneyash09-iiit-hyderabad/mlp-wine-quality' target=\"_blank\">https://wandb.ai/dusaneyash09-iiit-hyderabad/mlp-wine-quality</a>"
      ],
      "text/plain": [
       "<IPython.core.display.HTML object>"
      ]
     },
     "metadata": {},
     "output_type": "display_data"
    },
    {
     "data": {
      "text/html": [
       " View run at <a href='https://wandb.ai/dusaneyash09-iiit-hyderabad/mlp-wine-quality/runs/2vlew3sf' target=\"_blank\">https://wandb.ai/dusaneyash09-iiit-hyderabad/mlp-wine-quality/runs/2vlew3sf</a>"
      ],
      "text/plain": [
       "<IPython.core.display.HTML object>"
      ]
     },
     "metadata": {},
     "output_type": "display_data"
    },
    {
     "data": {
      "text/html": [
       "Finishing last run (ID:2vlew3sf) before initializing another..."
      ],
      "text/plain": [
       "<IPython.core.display.HTML object>"
      ]
     },
     "metadata": {},
     "output_type": "display_data"
    },
    {
     "data": {
      "text/html": [
       " View run <strong style=\"color:#cdcd00\">flowing-flower-1</strong> at: <a href='https://wandb.ai/dusaneyash09-iiit-hyderabad/mlp-wine-quality/runs/2vlew3sf' target=\"_blank\">https://wandb.ai/dusaneyash09-iiit-hyderabad/mlp-wine-quality/runs/2vlew3sf</a><br/> View project at: <a href='https://wandb.ai/dusaneyash09-iiit-hyderabad/mlp-wine-quality' target=\"_blank\">https://wandb.ai/dusaneyash09-iiit-hyderabad/mlp-wine-quality</a><br/>Synced 5 W&B file(s), 0 media file(s), 0 artifact file(s) and 0 other file(s)"
      ],
      "text/plain": [
       "<IPython.core.display.HTML object>"
      ]
     },
     "metadata": {},
     "output_type": "display_data"
    },
    {
     "data": {
      "text/html": [
       "Find logs at: <code>.\\wandb\\run-20241010_184347-2vlew3sf\\logs</code>"
      ],
      "text/plain": [
       "<IPython.core.display.HTML object>"
      ]
     },
     "metadata": {},
     "output_type": "display_data"
    },
    {
     "data": {
      "text/html": [
       "Successfully finished last run (ID:2vlew3sf). Initializing new run:<br/>"
      ],
      "text/plain": [
       "<IPython.core.display.HTML object>"
      ]
     },
     "metadata": {},
     "output_type": "display_data"
    },
    {
     "data": {
      "text/html": [
       "Tracking run with wandb version 0.18.3"
      ],
      "text/plain": [
       "<IPython.core.display.HTML object>"
      ]
     },
     "metadata": {},
     "output_type": "display_data"
    },
    {
     "data": {
      "text/html": [
       "Run data is saved locally in <code>c:\\Users\\yashd\\OneDrive\\Desktop\\IIIT_Hyd\\Sem_5\\SMAI\\github\\assignments\\3\\wandb\\run-20241010_184352-cbv4v2u7</code>"
      ],
      "text/plain": [
       "<IPython.core.display.HTML object>"
      ]
     },
     "metadata": {},
     "output_type": "display_data"
    },
    {
     "data": {
      "text/html": [
       "Syncing run <strong><a href='https://wandb.ai/dusaneyash09-iiit-hyderabad/mlp-wine-quality/runs/cbv4v2u7' target=\"_blank\">cosmic-wood-2</a></strong> to <a href='https://wandb.ai/dusaneyash09-iiit-hyderabad/mlp-wine-quality' target=\"_blank\">Weights & Biases</a> (<a href='https://wandb.me/run' target=\"_blank\">docs</a>)<br/>"
      ],
      "text/plain": [
       "<IPython.core.display.HTML object>"
      ]
     },
     "metadata": {},
     "output_type": "display_data"
    },
    {
     "data": {
      "text/html": [
       " View project at <a href='https://wandb.ai/dusaneyash09-iiit-hyderabad/mlp-wine-quality' target=\"_blank\">https://wandb.ai/dusaneyash09-iiit-hyderabad/mlp-wine-quality</a>"
      ],
      "text/plain": [
       "<IPython.core.display.HTML object>"
      ]
     },
     "metadata": {},
     "output_type": "display_data"
    },
    {
     "data": {
      "text/html": [
       " View run at <a href='https://wandb.ai/dusaneyash09-iiit-hyderabad/mlp-wine-quality/runs/cbv4v2u7' target=\"_blank\">https://wandb.ai/dusaneyash09-iiit-hyderabad/mlp-wine-quality/runs/cbv4v2u7</a>"
      ],
      "text/plain": [
       "<IPython.core.display.HTML object>"
      ]
     },
     "metadata": {},
     "output_type": "display_data"
    },
    {
     "ename": "AttributeError",
     "evalue": "<class 'wandb.sdk.wandb_config.Config'> object has no attribute 'hidden_layers'",
     "output_type": "error",
     "traceback": [
      "\u001b[1;31m---------------------------------------------------------------------------\u001b[0m",
      "\u001b[1;31mKeyError\u001b[0m                                  Traceback (most recent call last)",
      "File \u001b[1;32mc:\\Users\\yashd\\AppData\\Local\\Programs\\Python\\Python312\\Lib\\site-packages\\wandb\\sdk\\wandb_config.py:165\u001b[0m, in \u001b[0;36mConfig.__getattr__\u001b[1;34m(self, key)\u001b[0m\n\u001b[0;32m    164\u001b[0m \u001b[38;5;28;01mtry\u001b[39;00m:\n\u001b[1;32m--> 165\u001b[0m     \u001b[38;5;28;01mreturn\u001b[39;00m \u001b[38;5;28;43mself\u001b[39;49m\u001b[38;5;241;43m.\u001b[39;49m\u001b[38;5;21;43m__getitem__\u001b[39;49m\u001b[43m(\u001b[49m\u001b[43mkey\u001b[49m\u001b[43m)\u001b[49m\n\u001b[0;32m    166\u001b[0m \u001b[38;5;28;01mexcept\u001b[39;00m \u001b[38;5;167;01mKeyError\u001b[39;00m \u001b[38;5;28;01mas\u001b[39;00m ke:\n",
      "File \u001b[1;32mc:\\Users\\yashd\\AppData\\Local\\Programs\\Python\\Python312\\Lib\\site-packages\\wandb\\sdk\\wandb_config.py:130\u001b[0m, in \u001b[0;36mConfig.__getitem__\u001b[1;34m(self, key)\u001b[0m\n\u001b[0;32m    129\u001b[0m \u001b[38;5;28;01mdef\u001b[39;00m \u001b[38;5;21m__getitem__\u001b[39m(\u001b[38;5;28mself\u001b[39m, key):\n\u001b[1;32m--> 130\u001b[0m     \u001b[38;5;28;01mreturn\u001b[39;00m \u001b[38;5;28;43mself\u001b[39;49m\u001b[38;5;241;43m.\u001b[39;49m\u001b[43m_items\u001b[49m\u001b[43m[\u001b[49m\u001b[43mkey\u001b[49m\u001b[43m]\u001b[49m\n",
      "\u001b[1;31mKeyError\u001b[0m: 'hidden_layers'",
      "\nThe above exception was the direct cause of the following exception:\n",
      "\u001b[1;31mAttributeError\u001b[0m                            Traceback (most recent call last)",
      "Cell \u001b[1;32mIn[10], line 259\u001b[0m\n\u001b[0;32m    253\u001b[0m \u001b[38;5;66;03m# Main execution\u001b[39;00m\n\u001b[0;32m    254\u001b[0m \u001b[38;5;28;01mif\u001b[39;00m \u001b[38;5;18m__name__\u001b[39m \u001b[38;5;241m==\u001b[39m \u001b[38;5;124m\"\u001b[39m\u001b[38;5;124m__main__\u001b[39m\u001b[38;5;124m\"\u001b[39m:\n\u001b[0;32m    255\u001b[0m     \u001b[38;5;66;03m# Load your data here\u001b[39;00m\n\u001b[0;32m    256\u001b[0m     \u001b[38;5;66;03m# X, y = load_wine_quality_data()\u001b[39;00m\n\u001b[0;32m    257\u001b[0m     \n\u001b[0;32m    258\u001b[0m     \u001b[38;5;66;03m# Run hyperparameter search\u001b[39;00m\n\u001b[1;32m--> 259\u001b[0m     best_model, results \u001b[38;5;241m=\u001b[39m \u001b[43mhyperparameter_search\u001b[49m\u001b[43m(\u001b[49m\u001b[43mX\u001b[49m\u001b[43m,\u001b[49m\u001b[43m \u001b[49m\u001b[43my\u001b[49m\u001b[43m)\u001b[49m\n\u001b[0;32m    261\u001b[0m     \u001b[38;5;66;03m# Print results table\u001b[39;00m\n\u001b[0;32m    262\u001b[0m     \u001b[38;5;28mprint\u001b[39m(\u001b[38;5;124m\"\u001b[39m\u001b[38;5;130;01m\\n\u001b[39;00m\u001b[38;5;124mHyperparameter Search Results:\u001b[39m\u001b[38;5;124m\"\u001b[39m)\n",
      "Cell \u001b[1;32mIn[10], line 234\u001b[0m, in \u001b[0;36mhyperparameter_search\u001b[1;34m(X, y)\u001b[0m\n\u001b[0;32m    232\u001b[0m \u001b[38;5;66;03m# Initialize W&B\u001b[39;00m\n\u001b[0;32m    233\u001b[0m run \u001b[38;5;241m=\u001b[39m wandb\u001b[38;5;241m.\u001b[39minit(project\u001b[38;5;241m=\u001b[39m\u001b[38;5;124m\"\u001b[39m\u001b[38;5;124mmlp-wine-quality\u001b[39m\u001b[38;5;124m\"\u001b[39m, config\u001b[38;5;241m=\u001b[39mconfig)\n\u001b[1;32m--> 234\u001b[0m model, accuracy \u001b[38;5;241m=\u001b[39m \u001b[43mrun_experiment\u001b[49m\u001b[43m(\u001b[49m\u001b[43mrun\u001b[49m\u001b[38;5;241;43m.\u001b[39;49m\u001b[43mconfig\u001b[49m\u001b[43m,\u001b[49m\u001b[43m \u001b[49m\u001b[43mX\u001b[49m\u001b[43m,\u001b[49m\u001b[43m \u001b[49m\u001b[43my\u001b[49m\u001b[43m)\u001b[49m\n\u001b[0;32m    235\u001b[0m run\u001b[38;5;241m.\u001b[39mfinish()\n\u001b[0;32m    237\u001b[0m results\u001b[38;5;241m.\u001b[39mappend({\n\u001b[0;32m    238\u001b[0m     \u001b[38;5;124m\"\u001b[39m\u001b[38;5;124mhidden_layers\u001b[39m\u001b[38;5;124m\"\u001b[39m: hidden_layers,\n\u001b[0;32m    239\u001b[0m     \u001b[38;5;124m\"\u001b[39m\u001b[38;5;124mlearning_rate\u001b[39m\u001b[38;5;124m\"\u001b[39m: learning_rate,\n\u001b[1;32m   (...)\u001b[0m\n\u001b[0;32m    244\u001b[0m     \u001b[38;5;124m\"\u001b[39m\u001b[38;5;124maccuracy\u001b[39m\u001b[38;5;124m\"\u001b[39m: accuracy\n\u001b[0;32m    245\u001b[0m })\n",
      "Cell \u001b[1;32mIn[10], line 172\u001b[0m, in \u001b[0;36mrun_experiment\u001b[1;34m(config, X, y)\u001b[0m\n\u001b[0;32m    168\u001b[0m config \u001b[38;5;241m=\u001b[39m wandb\u001b[38;5;241m.\u001b[39mconfig  \u001b[38;5;66;03m# This will be a namespace object\u001b[39;00m\n\u001b[0;32m    170\u001b[0m \u001b[38;5;66;03m# Create and train the model\u001b[39;00m\n\u001b[0;32m    171\u001b[0m mlp \u001b[38;5;241m=\u001b[39m MLPClassifier(\n\u001b[1;32m--> 172\u001b[0m     hidden_layers\u001b[38;5;241m=\u001b[39m\u001b[43mconfig\u001b[49m\u001b[38;5;241;43m.\u001b[39;49m\u001b[43mhidden_layers\u001b[49m,\n\u001b[0;32m    173\u001b[0m     learning_rate\u001b[38;5;241m=\u001b[39mconfig\u001b[38;5;241m.\u001b[39mlearning_rate,\n\u001b[0;32m    174\u001b[0m     activation\u001b[38;5;241m=\u001b[39mconfig\u001b[38;5;241m.\u001b[39mactivation,\n\u001b[0;32m    175\u001b[0m     optimizer\u001b[38;5;241m=\u001b[39mconfig\u001b[38;5;241m.\u001b[39moptimizer,\n\u001b[0;32m    176\u001b[0m     batch_size\u001b[38;5;241m=\u001b[39mconfig\u001b[38;5;241m.\u001b[39mbatch_size,\n\u001b[0;32m    177\u001b[0m     epochs\u001b[38;5;241m=\u001b[39mconfig\u001b[38;5;241m.\u001b[39mepochs\n\u001b[0;32m    178\u001b[0m )\n\u001b[0;32m    180\u001b[0m mlp\u001b[38;5;241m.\u001b[39mfit(X_train, y_train, X_val, y_val)\n\u001b[0;32m    182\u001b[0m \u001b[38;5;66;03m# Evaluate the model\u001b[39;00m\n",
      "File \u001b[1;32mc:\\Users\\yashd\\AppData\\Local\\Programs\\Python\\Python312\\Lib\\site-packages\\wandb\\sdk\\wandb_config.py:167\u001b[0m, in \u001b[0;36mConfig.__getattr__\u001b[1;34m(self, key)\u001b[0m\n\u001b[0;32m    165\u001b[0m     \u001b[38;5;28;01mreturn\u001b[39;00m \u001b[38;5;28mself\u001b[39m\u001b[38;5;241m.\u001b[39m\u001b[38;5;21m__getitem__\u001b[39m(key)\n\u001b[0;32m    166\u001b[0m \u001b[38;5;28;01mexcept\u001b[39;00m \u001b[38;5;167;01mKeyError\u001b[39;00m \u001b[38;5;28;01mas\u001b[39;00m ke:\n\u001b[1;32m--> 167\u001b[0m     \u001b[38;5;28;01mraise\u001b[39;00m \u001b[38;5;167;01mAttributeError\u001b[39;00m(\n\u001b[0;32m    168\u001b[0m         \u001b[38;5;124mf\u001b[39m\u001b[38;5;124m\"\u001b[39m\u001b[38;5;132;01m{\u001b[39;00m\u001b[38;5;28mself\u001b[39m\u001b[38;5;241m.\u001b[39m\u001b[38;5;18m__class__\u001b[39m\u001b[38;5;132;01m!r}\u001b[39;00m\u001b[38;5;124m object has no attribute \u001b[39m\u001b[38;5;132;01m{\u001b[39;00mkey\u001b[38;5;132;01m!r}\u001b[39;00m\u001b[38;5;124m\"\u001b[39m\n\u001b[0;32m    169\u001b[0m     ) \u001b[38;5;28;01mfrom\u001b[39;00m \u001b[38;5;21;01mke\u001b[39;00m\n",
      "\u001b[1;31mAttributeError\u001b[0m: <class 'wandb.sdk.wandb_config.Config'> object has no attribute 'hidden_layers'"
     ]
    }
   ],
   "source": [
    "# import numpy as np\n",
    "# import wandb\n",
    "# from sklearn.model_selection import train_test_split\n",
    "# from sklearn.metrics import accuracy_score, f1_score, precision_score, recall_score\n",
    "\n",
    "# class MLPClassifier:\n",
    "#     def __init__(self, \n",
    "#                  hidden_layers, \n",
    "#                  learning_rate=0.01,\n",
    "#                  activation='sigmoid',\n",
    "#                  optimizer='sgd',\n",
    "#                  batch_size=32,\n",
    "#                  epochs=100,\n",
    "#                  early_stopping_patience=10):\n",
    "#         self.hidden_layers = hidden_layers\n",
    "#         self.learning_rate = learning_rate\n",
    "#         self.activation = activation\n",
    "#         self.optimizer = optimizer\n",
    "#         self.batch_size = batch_size\n",
    "#         self.epochs = epochs\n",
    "#         self.early_stopping_patience = early_stopping_patience\n",
    "#         self.weights = []\n",
    "#         self.biases = []\n",
    "#         self.class_mapping = {}\n",
    "#         self.inverse_class_mapping = {}\n",
    "\n",
    "#     def _initialize_parameters(self, input_size, output_size):\n",
    "#         layer_sizes = [input_size] + self.hidden_layers + [output_size]\n",
    "#         for i in range(1, len(layer_sizes)):\n",
    "#             self.weights.append(np.random.randn(layer_sizes[i-1], layer_sizes[i]) / np.sqrt(layer_sizes[i-1]))\n",
    "#             self.biases.append(np.zeros((1, layer_sizes[i])))\n",
    "\n",
    "#     def _activation_function(self, x):\n",
    "#         activations = {\n",
    "#             'sigmoid': lambda x: 1 / (1 + np.exp(-x)),\n",
    "#             'tanh': np.tanh,\n",
    "#             'relu': lambda x: np.maximum(0, x),\n",
    "#             'linear': lambda x: x\n",
    "#         }\n",
    "#         return activations[self.activation](x)\n",
    "\n",
    "#     def _activation_derivative(self, x):\n",
    "#         derivatives = {\n",
    "#             'sigmoid': lambda x: x * (1 - x),\n",
    "#             'tanh': lambda x: 1 - np.power(x, 2),\n",
    "#             'relu': lambda x: np.where(x > 0, 1, 0),\n",
    "#             'linear': lambda x: np.ones_like(x)\n",
    "#         }\n",
    "#         return derivatives[self.activation](x)\n",
    "\n",
    "#     def _forward_propagation(self, X):\n",
    "#         activations = [X]\n",
    "#         for i in range(len(self.weights)):\n",
    "#             z = np.dot(activations[-1], self.weights[i]) + self.biases[i]\n",
    "#             a = self._activation_function(z)\n",
    "#             activations.append(a)\n",
    "#         return activations\n",
    "\n",
    "#     def _backpropagation(self, X, y):\n",
    "#         m = X.shape[0]\n",
    "#         activations = self._forward_propagation(X)\n",
    "        \n",
    "#         dW = [np.zeros_like(w) for w in self.weights]\n",
    "#         db = [np.zeros_like(b) for b in self.biases]\n",
    "        \n",
    "#         delta = activations[-1] - y\n",
    "#         for l in range(len(self.weights) - 1, -1, -1):\n",
    "#             dW[l] = np.dot(activations[l].T, delta) / m\n",
    "#             db[l] = np.sum(delta, axis=0, keepdims=True) / m\n",
    "#             if l > 0:\n",
    "#                 delta = np.dot(delta, self.weights[l].T) * self._activation_derivative(activations[l])\n",
    "        \n",
    "#         return dW, db\n",
    "\n",
    "#     def _update_parameters(self, dW, db):\n",
    "#         for i in range(len(self.weights)):\n",
    "#             self.weights[i] -= self.learning_rate * dW[i]\n",
    "#             self.biases[i] -= self.learning_rate * db[i]\n",
    "\n",
    "#     def fit(self, X, y, X_val, y_val):\n",
    "#         n_samples, n_features = X.shape\n",
    "        \n",
    "#         y_encoded = self._one_hot_encode(y)\n",
    "#         y_val_encoded = self._one_hot_encode(y_val)\n",
    "#         n_classes = y_encoded.shape[1]\n",
    "        \n",
    "#         self._initialize_parameters(n_features, n_classes)\n",
    "        \n",
    "#         best_loss = float('inf')\n",
    "#         patience_counter = 0\n",
    "        \n",
    "#         for epoch in range(self.epochs):\n",
    "#             if self.optimizer == 'sgd':\n",
    "#                 indices = np.random.permutation(n_samples)\n",
    "#                 X = X[indices]\n",
    "#                 y_encoded = y_encoded[indices]\n",
    "#                 for i in range(n_samples):\n",
    "#                     dW, db = self._backpropagation(X[i:i+1], y_encoded[i:i+1])\n",
    "#                     self._update_parameters(dW, db)\n",
    "#             elif self.optimizer == 'batch':\n",
    "#                 dW, db = self._backpropagation(X, y_encoded)\n",
    "#                 self._update_parameters(dW, db)\n",
    "#             elif self.optimizer == 'mini_batch':\n",
    "#                 for i in range(0, n_samples, self.batch_size):\n",
    "#                     batch_X = X[i:i+self.batch_size]\n",
    "#                     batch_y = y_encoded[i:i+self.batch_size]\n",
    "#                     dW, db = self._backpropagation(batch_X, batch_y)\n",
    "#                     self._update_parameters(dW, db)\n",
    "            \n",
    "#             train_loss = self._compute_cost(X, y_encoded)\n",
    "#             val_loss = self._compute_cost(X_val, y_val_encoded)\n",
    "            \n",
    "#             train_acc = self.accuracy(y, self.predict(X))\n",
    "#             val_acc = self.accuracy(y_val, self.predict(X_val))\n",
    "            \n",
    "#             wandb.log({\n",
    "#                 \"epoch\": epoch,\n",
    "#                 \"train_loss\": train_loss,\n",
    "#                 \"val_loss\": val_loss,\n",
    "#                 \"train_accuracy\": train_acc,\n",
    "#                 \"val_accuracy\": val_acc\n",
    "#             })\n",
    "            \n",
    "#             if val_loss < best_loss:\n",
    "#                 best_loss = val_loss\n",
    "#                 patience_counter = 0\n",
    "#             else:\n",
    "#                 patience_counter += 1\n",
    "#                 if patience_counter >= self.early_stopping_patience:\n",
    "#                     print(f\"Early stopping at epoch {epoch}\")\n",
    "#                     break\n",
    "\n",
    "#     def predict(self, X):\n",
    "#         activations = self._forward_propagation(X)\n",
    "#         predicted_indices = np.argmax(activations[-1], axis=1)\n",
    "#         return predicted_indices + 3  # Adjust to original quality scores\n",
    "\n",
    "#     def accuracy(self, y_true, y_pred):\n",
    "#         return np.mean(y_true == y_pred)\n",
    "\n",
    "#     def _compute_cost(self, X, y):\n",
    "#         activations = self._forward_propagation(X)\n",
    "#         m = X.shape[0]\n",
    "#         epsilon = 1e-15  # To avoid log(0)\n",
    "#         cost = -np.sum(y * np.log(activations[-1] + epsilon)) / m\n",
    "#         return cost\n",
    "\n",
    "#     def evaluate(self, X, y):\n",
    "#         y_pred = self.predict(X)\n",
    "#         acc = accuracy_score(y, y_pred)\n",
    "#         f1 = f1_score(y, y_pred, average='weighted')\n",
    "#         precision = precision_score(y, y_pred, average='weighted')\n",
    "#         recall = recall_score(y, y_pred, average='weighted')\n",
    "#         return acc, f1, precision, recall\n",
    "\n",
    "#     def _one_hot_encode(self, y):\n",
    "#         n_classes = np.max(y) + 1\n",
    "#         return np.eye(n_classes)[y]\n",
    "\n",
    "# def run_experiment(config, X, y):\n",
    "#     # Split the data\n",
    "#     X_train, X_val, y_train, y_val = train_test_split(X, y, test_size=0.2, random_state=42)\n",
    "    \n",
    "#     # Initialize W&B with a configuration dictionary\n",
    "#     run = wandb.init(project=\"mlp-wine-quality\", config=config)\n",
    "    \n",
    "#     # Retrieve config from run\n",
    "#     config = wandb.config  # This will be a namespace object\n",
    "    \n",
    "#     # Create and train the model\n",
    "#     mlp = MLPClassifier(\n",
    "#         hidden_layers=config.hidden_layers,\n",
    "#         learning_rate=config.learning_rate,\n",
    "#         activation=config.activation,\n",
    "#         optimizer=config.optimizer,\n",
    "#         batch_size=config.batch_size,\n",
    "#         epochs=config.epochs\n",
    "#     )\n",
    "    \n",
    "#     mlp.fit(X_train, y_train, X_val, y_val)\n",
    "    \n",
    "#     # Evaluate the model\n",
    "#     train_acc, train_f1, train_precision, train_recall = mlp.evaluate(X_train, y_train)\n",
    "#     val_acc, val_f1, val_precision, val_recall = mlp.evaluate(X_val, y_val)\n",
    "    \n",
    "#     # Log final metrics\n",
    "#     wandb.log({\n",
    "#         \"final_train_accuracy\": train_acc,\n",
    "#         \"final_train_f1\": train_f1,\n",
    "#         \"final_train_precision\": train_precision,\n",
    "#         \"final_train_recall\": train_recall,\n",
    "#         \"final_val_accuracy\": val_acc,\n",
    "#         \"final_val_f1\": val_f1,\n",
    "#         \"final_val_precision\": val_precision,\n",
    "#         \"final_val_recall\": val_recall\n",
    "#     })\n",
    "    \n",
    "#     run.finish()\n",
    "    \n",
    "#     return mlp, val_acc\n",
    "\n",
    "# # Hyperparameter search\n",
    "# def hyperparameter_search(X, y):\n",
    "#     best_model = None\n",
    "#     best_accuracy = 0\n",
    "#     results = []\n",
    "\n",
    "#     hyperparameters = {\n",
    "#         \"hidden_layers\": [[9], [18], [9, 9]],\n",
    "#         \"learning_rate\": [0.001, 0.01, 0.1],\n",
    "#         \"activation\": [\"sigmoid\", \"relu\", \"tanh\"],\n",
    "#         \"optimizer\": [\"sgd\", \"mini_batch\", \"batch\"],\n",
    "#         \"batch_size\": [32, 64, 128],\n",
    "#         \"epochs\": [100, 200]\n",
    "#     }\n",
    "\n",
    "#     for hidden_layers in hyperparameters[\"hidden_layers\"]:\n",
    "#         for learning_rate in hyperparameters[\"learning_rate\"]:\n",
    "#             for activation in hyperparameters[\"activation\"]:\n",
    "#                 for optimizer in hyperparameters[\"optimizer\"]:\n",
    "#                     for batch_size in hyperparameters[\"batch_size\"]:\n",
    "#                         for epochs in hyperparameters[\"epochs\"]:\n",
    "#                             config = {\n",
    "#                                 \"hidden_layers\": hidden_layers,\n",
    "#                                 \"learning_rate\": learning_rate,\n",
    "#                                 \"activation\": activation,\n",
    "#                                 \"optimizer\": optimizer,\n",
    "#                                 \"batch_size\": batch_size,\n",
    "#                                 \"epochs\": epochs\n",
    "#                             }\n",
    "                            \n",
    "#                             # Initialize W&B\n",
    "#                             run = wandb.init(project=\"mlp-wine-quality\", config=config)\n",
    "#                             model, accuracy = run_experiment(run.config, X, y)\n",
    "#                             run.finish()\n",
    "                            \n",
    "#                             results.append({\n",
    "#                                 \"hidden_layers\": hidden_layers,\n",
    "#                                 \"learning_rate\": learning_rate,\n",
    "#                                 \"activation\": activation,\n",
    "#                                 \"optimizer\": optimizer,\n",
    "#                                 \"batch_size\": batch_size,\n",
    "#                                 \"epochs\": epochs,\n",
    "#                                 \"accuracy\": accuracy\n",
    "#                             })\n",
    "                            \n",
    "#                             if accuracy > best_accuracy:\n",
    "#                                 best_accuracy = accuracy\n",
    "#                                 best_model = model\n",
    "\n",
    "#     return best_model, results\n",
    "\n",
    "# # Main execution\n",
    "# if __name__ == \"__main__\":\n",
    "#     # Load your data here\n",
    "#     # X, y = load_wine_quality_data()\n",
    "    \n",
    "#     # Run hyperparameter search\n",
    "#     best_model, results = hyperparameter_search(X, y)\n",
    "    \n",
    "#     # Print results table\n",
    "#     print(\"\\nHyperparameter Search Results:\")\n",
    "#     print(\"-----------------------------\")\n",
    "#     for result in results:\n",
    "#         print(f\"Hidden Layers: {result['hidden_layers']}\")\n",
    "#         print(f\"Learning Rate: {result['learning_rate']}\")\n",
    "#         print(f\"Activation: {result['activation']}\")\n",
    "#         print(f\"Optimizer: {result['optimizer']}\")\n",
    "#         print(f\"Batch Size: {result['batch_size']}\")\n",
    "#         print(f\"Epochs: {result['epochs']}\")\n",
    "#         print(f\"Accuracy: {result['accuracy']:.4f}\")\n",
    "#         print(\"-----------------------------\")\n",
    "    \n",
    "#     # Print best model parameters\n",
    "#     print(\"\\nBest Model Parameters:\")\n",
    "#     print(f\"Hidden Layers: {best_model.hidden_layers}\")\n",
    "#     print(f\"Learning Rate: {best_model.learning_rate}\")\n",
    "#     print(f\"Activation: {best_model.activation}\")\n",
    "#     print(f\"Optimizer: {best_model.optimizer}\")\n",
    "#     print(f\"Batch Size: {best_model.batch_size}\")\n",
    "#     print(f\"Epochs: {best_model.epochs}\")\n",
    "    \n",
    "\n"
   ]
  },
  {
   "cell_type": "code",
   "execution_count": 32,
   "metadata": {},
   "outputs": [
    {
     "name": "stderr",
     "output_type": "stream",
     "text": [
      "C:\\Users\\yashd\\AppData\\Local\\Temp\\ipykernel_3396\\1350800459.py:138: RuntimeWarning: invalid value encountered in log\n",
      "  cost = -np.sum(y * np.log(activations[-1] + epsilon) + (1 - y) * np.log(1 - activations[-1] + epsilon)) / m\n"
     ]
    },
    {
     "name": "stdout",
     "output_type": "stream",
     "text": [
      "Early stopping at epoch 27\n",
      "Accuracy: 57.89%\n",
      "Average relative error: nan\n",
      "Gradient check passed: False\n"
     ]
    }
   ],
   "source": [
    "# hidden_layer = 64 32\n",
    "# activation relu\n",
    "# batch size 64\n",
    "# early patience 10\n",
    "# epochs 50\n",
    "# learn rate .03026\n",
    "# optimizer sgd\n",
    "# valacc 0.6579\n",
    "\n",
    "mlp=MLP(hidden_layers=[64, 32],\n",
    "            learning_rate=0.03026,\n",
    "            activation='relu',\n",
    "            optimizer='sgd',batch_size=64,\n",
    "            epochs=50)\n",
    "\n",
    "# Fit the model on training data.\n",
    "mlp.fit(X_train,y_train)\n",
    "\n",
    "# Make predictions on the test set.\n",
    "predictions=mlp.predict(X_val)\n",
    "\n",
    "# Calculate accuracy.\n",
    "accuracy_score=mlp.accuracy(y_val,predictions)\n",
    "print(f\"Accuracy: {accuracy_score * 100:.2f}%\")\n",
    "\n",
    "# Perform gradient checking on a sample of test data.\n",
    "is_gradient_correct=mlp.gradient_check(X_val,y_val)\n",
    "print(f\"Gradient check passed: {is_gradient_correct}\")"
   ]
  },
  {
   "cell_type": "code",
   "execution_count": 33,
   "metadata": {},
   "outputs": [
    {
     "name": "stderr",
     "output_type": "stream",
     "text": [
      "C:\\Users\\yashd\\AppData\\Local\\Temp\\ipykernel_3396\\1350800459.py:138: RuntimeWarning: invalid value encountered in log\n",
      "  cost = -np.sum(y * np.log(activations[-1] + epsilon) + (1 - y) * np.log(1 - activations[-1] + epsilon)) / m\n"
     ]
    },
    {
     "name": "stdout",
     "output_type": "stream",
     "text": [
      "Early stopping at epoch 9\n",
      "Early stopping at epoch 13\n"
     ]
    },
    {
     "data": {
      "image/png": "[encoded data removed]",
      "text/plain": [
       "<Figure size 1000x600 with 1 Axes>"
      ]
     },
     "metadata": {},
     "output_type": "display_data"
    },
    {
     "ename": "ValueError",
     "evalue": "operands could not be broadcast together with shapes (4,) (12,64) ",
     "output_type": "error",
     "traceback": [
      "\u001b[1;31m---------------------------------------------------------------------------\u001b[0m",
      "\u001b[1;31mValueError\u001b[0m                                Traceback (most recent call last)",
      "Cell \u001b[1;32mIn[33], line 79\u001b[0m\n\u001b[0;32m     76\u001b[0m \u001b[38;5;28;01mif\u001b[39;00m \u001b[38;5;18m__name__\u001b[39m \u001b[38;5;241m==\u001b[39m \u001b[38;5;124m\"\u001b[39m\u001b[38;5;124m__main__\u001b[39m\u001b[38;5;124m\"\u001b[39m:\n\u001b[0;32m     77\u001b[0m     \u001b[38;5;66;03m# Assuming X_train, y_train, X_val, and y_val are already defined\u001b[39;00m\n\u001b[0;32m     78\u001b[0m     experiment_activation_functions(X_train, y_train, X_val, y_val)\n\u001b[1;32m---> 79\u001b[0m     \u001b[43mexperiment_learning_rates\u001b[49m\u001b[43m(\u001b[49m\u001b[43mX_train\u001b[49m\u001b[43m,\u001b[49m\u001b[43m \u001b[49m\u001b[43my_train\u001b[49m\u001b[43m,\u001b[49m\u001b[43m \u001b[49m\u001b[43mX_val\u001b[49m\u001b[43m,\u001b[49m\u001b[43m \u001b[49m\u001b[43my_val\u001b[49m\u001b[43m)\u001b[49m\n\u001b[0;32m     80\u001b[0m     experiment_batch_sizes(X_train, y_train, X_val, y_val)\n",
      "Cell \u001b[1;32mIn[33], line 36\u001b[0m, in \u001b[0;36mexperiment_learning_rates\u001b[1;34m(X_train, y_train, X_val, y_val)\u001b[0m\n\u001b[0;32m     30\u001b[0m \u001b[38;5;28;01mfor\u001b[39;00m lr \u001b[38;5;129;01min\u001b[39;00m learning_rates:\n\u001b[0;32m     31\u001b[0m     mlp\u001b[38;5;241m=\u001b[39mMLP(hidden_layers\u001b[38;5;241m=\u001b[39m[\u001b[38;5;241m64\u001b[39m, \u001b[38;5;241m32\u001b[39m],\n\u001b[0;32m     32\u001b[0m         learning_rate\u001b[38;5;241m=\u001b[39mlearning_rates,\n\u001b[0;32m     33\u001b[0m         activation\u001b[38;5;241m=\u001b[39m\u001b[38;5;124m'\u001b[39m\u001b[38;5;124mrelu\u001b[39m\u001b[38;5;124m'\u001b[39m,\n\u001b[0;32m     34\u001b[0m         optimizer\u001b[38;5;241m=\u001b[39m\u001b[38;5;124m'\u001b[39m\u001b[38;5;124msgd\u001b[39m\u001b[38;5;124m'\u001b[39m,batch_size\u001b[38;5;241m=\u001b[39m\u001b[38;5;241m64\u001b[39m,\n\u001b[0;32m     35\u001b[0m         epochs\u001b[38;5;241m=\u001b[39m\u001b[38;5;241m50\u001b[39m)\n\u001b[1;32m---> 36\u001b[0m     \u001b[43mmlp\u001b[49m\u001b[38;5;241;43m.\u001b[39;49m\u001b[43mfit\u001b[49m\u001b[43m(\u001b[49m\u001b[43mX_train\u001b[49m\u001b[43m,\u001b[49m\u001b[43m \u001b[49m\u001b[43my_train\u001b[49m\u001b[43m)\u001b[49m\n\u001b[0;32m     37\u001b[0m     losses\u001b[38;5;241m.\u001b[39mappend(mlp\u001b[38;5;241m.\u001b[39mlosses)\n\u001b[0;32m     39\u001b[0m \u001b[38;5;66;03m# Plotting\u001b[39;00m\n",
      "Cell \u001b[1;32mIn[28], line 98\u001b[0m, in \u001b[0;36mMLP.fit\u001b[1;34m(self, X, y)\u001b[0m\n\u001b[0;32m     96\u001b[0m     \u001b[38;5;28;01mfor\u001b[39;00m i \u001b[38;5;129;01min\u001b[39;00m \u001b[38;5;28mrange\u001b[39m(n_samples):\n\u001b[0;32m     97\u001b[0m         dW, db \u001b[38;5;241m=\u001b[39m \u001b[38;5;28mself\u001b[39m\u001b[38;5;241m.\u001b[39m_backpropagation(X_shuffled[i:i\u001b[38;5;241m+\u001b[39m\u001b[38;5;241m1\u001b[39m], np\u001b[38;5;241m.\u001b[39meye(n_classes)[y_shuffled[i:i\u001b[38;5;241m+\u001b[39m\u001b[38;5;241m1\u001b[39m]])\n\u001b[1;32m---> 98\u001b[0m         \u001b[38;5;28;43mself\u001b[39;49m\u001b[38;5;241;43m.\u001b[39;49m\u001b[43m_update_parameters\u001b[49m\u001b[43m(\u001b[49m\u001b[43mdW\u001b[49m\u001b[43m,\u001b[49m\u001b[43m \u001b[49m\u001b[43mdb\u001b[49m\u001b[43m)\u001b[49m\n\u001b[0;32m    100\u001b[0m \u001b[38;5;28;01melif\u001b[39;00m \u001b[38;5;28mself\u001b[39m\u001b[38;5;241m.\u001b[39moptimizer \u001b[38;5;241m==\u001b[39m \u001b[38;5;124m'\u001b[39m\u001b[38;5;124mbatch\u001b[39m\u001b[38;5;124m'\u001b[39m:\n\u001b[0;32m    101\u001b[0m     dW, db \u001b[38;5;241m=\u001b[39m \u001b[38;5;28mself\u001b[39m\u001b[38;5;241m.\u001b[39m_backpropagation(X, np\u001b[38;5;241m.\u001b[39meye(n_classes)[y_adjusted])\n",
      "Cell \u001b[1;32mIn[28], line 75\u001b[0m, in \u001b[0;36mMLP._update_parameters\u001b[1;34m(self, dW, db)\u001b[0m\n\u001b[0;32m     73\u001b[0m \u001b[38;5;28;01mdef\u001b[39;00m \u001b[38;5;21m_update_parameters\u001b[39m(\u001b[38;5;28mself\u001b[39m, dW, db):\n\u001b[0;32m     74\u001b[0m     \u001b[38;5;28;01mfor\u001b[39;00m i \u001b[38;5;129;01min\u001b[39;00m \u001b[38;5;28mrange\u001b[39m(\u001b[38;5;28mlen\u001b[39m(\u001b[38;5;28mself\u001b[39m\u001b[38;5;241m.\u001b[39mweights)):\n\u001b[1;32m---> 75\u001b[0m         \u001b[38;5;28mself\u001b[39m\u001b[38;5;241m.\u001b[39mweights[i] \u001b[38;5;241m-\u001b[39m\u001b[38;5;241m=\u001b[39m \u001b[38;5;28;43mself\u001b[39;49m\u001b[38;5;241;43m.\u001b[39;49m\u001b[43mlearning_rate\u001b[49m\u001b[43m \u001b[49m\u001b[38;5;241;43m*\u001b[39;49m\u001b[43m \u001b[49m\u001b[43mdW\u001b[49m\u001b[43m[\u001b[49m\u001b[43mi\u001b[49m\u001b[43m]\u001b[49m\n\u001b[0;32m     76\u001b[0m         \u001b[38;5;28mself\u001b[39m\u001b[38;5;241m.\u001b[39mbiases[i] \u001b[38;5;241m-\u001b[39m\u001b[38;5;241m=\u001b[39m \u001b[38;5;28mself\u001b[39m\u001b[38;5;241m.\u001b[39mlearning_rate \u001b[38;5;241m*\u001b[39m db[i]\n",
      "\u001b[1;31mValueError\u001b[0m: operands could not be broadcast together with shapes (4,) (12,64) "
     ]
    }
   ],
   "source": [
    "def experiment_activation_functions(X_train, y_train, X_val, y_val):\n",
    "    activation_functions = ['sigmoid', 'tanh', 'relu']\n",
    "    losses = []\n",
    "\n",
    "    for activation in activation_functions:\n",
    "        mlp=MLP(hidden_layers=[64, 32],\n",
    "            learning_rate=0.03026,\n",
    "            activation=activation,\n",
    "            optimizer='sgd',batch_size=64,\n",
    "            epochs=50)\n",
    "        mlp.fit(X_train, y_train)\n",
    "        losses.append(mlp.losses)  # Assuming you store losses in the fit method\n",
    "\n",
    "    # Plotting\n",
    "    plt.figure(figsize=(10, 6))\n",
    "    for i, loss in enumerate(losses):\n",
    "        plt.plot(loss, label=activation_functions[i])\n",
    "    \n",
    "    plt.title('Effect of Non-linearity on Loss')\n",
    "    plt.xlabel('Epochs')\n",
    "    plt.ylabel('Loss')\n",
    "    plt.legend()\n",
    "    plt.show()\n",
    "\n",
    "\n",
    "def experiment_learning_rates(X_train, y_train, X_val, y_val):\n",
    "    learning_rates = [0.001, 0.01, 0.1, 1]\n",
    "    losses = []\n",
    "\n",
    "    for lr in learning_rates:\n",
    "        mlp=MLP(hidden_layers=[64, 32],\n",
    "            learning_rate=learning_rates,\n",
    "            activation='relu',\n",
    "            optimizer='sgd',batch_size=64,\n",
    "            epochs=50)\n",
    "        mlp.fit(X_train, y_train)\n",
    "        losses.append(mlp.losses)\n",
    "\n",
    "    # Plotting\n",
    "    plt.figure(figsize=(10, 6))\n",
    "    for i, loss in enumerate(losses):\n",
    "        plt.plot(loss, label=f'LR: {learning_rates[i]}')\n",
    "    \n",
    "    plt.title('Effect of Learning Rate on Loss')\n",
    "    plt.xlabel('Epochs')\n",
    "    plt.ylabel('Loss')\n",
    "    plt.legend()\n",
    "    plt.show()\n",
    "\n",
    "\n",
    "def experiment_batch_sizes(X_train, y_train, X_val, y_val):\n",
    "    batch_sizes = [16, 32, 64, 128]\n",
    "    losses = []\n",
    "\n",
    "    for batch_size in batch_sizes:\n",
    "        mlp=MLP(hidden_layers=[64, 32],\n",
    "            learning_rate=0.03026,\n",
    "            activation='relu',\n",
    "            optimizer='sgd',batch_size=batch_size,\n",
    "            epochs=50)\n",
    "        mlp.fit(X_train, y_train)\n",
    "        losses.append(mlp.losses)\n",
    "\n",
    "    # Plotting\n",
    "    plt.figure(figsize=(10, 6))\n",
    "    for i, loss in enumerate(losses):\n",
    "        plt.plot(loss, label=f'Batch Size: {batch_sizes[i]}')\n",
    "    \n",
    "    plt.title('Effect of Batch Size on Loss')\n",
    "    plt.xlabel('Epochs')\n",
    "    plt.ylabel('Loss')\n",
    "    plt.legend()\n",
    "    plt.show()\n",
    "\n",
    "\n",
    "if __name__ == \"__main__\":\n",
    "    # Assuming X_train, y_train, X_val, and y_val are already defined\n",
    "    experiment_activation_functions(X_train, y_train, X_val, y_val)\n",
    "    experiment_learning_rates(X_train, y_train, X_val, y_val)\n",
    "    experiment_batch_sizes(X_train, y_train, X_val, y_val)\n",
    "\n"
   ]
  },
  {
   "cell_type": "code",
   "execution_count": 1,
   "metadata": {},
   "outputs": [
    {
     "data": {
      "image/png": "[encoded data removed]",
      "text/plain": [
       "<Figure size 1200x600 with 1 Axes>"
      ]
     },
     "metadata": {},
     "output_type": "display_data"
    }
   ],
   "source": [
    "import pandas as pd\n",
    "import matplotlib.pyplot as plt\n",
    "import numpy as np\n",
    "from sklearn.model_selection import train_test_split\n",
    "from sklearn.preprocessing import StandardScaler, LabelEncoder\n",
    "\n",
    "# Step 1: Load the data\n",
    "file_path = '../../data/external/advertisement.csv'  # Replace with your CSV file path\n",
    "data = pd.read_csv(file_path)\n",
    "\n",
    "# Step 2: Process the labels\n",
    "# Assuming the last column contains labels in a string format like \"label1 label2 label3\"\n",
    "labels = data.iloc[:, -1].str.get_dummies(sep=' ')  # Convert to one-hot encoding\n",
    "\n",
    "# Step 3: Count label frequencies\n",
    "label_counts = labels.sum().sort_values(ascending=False)\n",
    "\n",
    "# Step 4: Plot the distribution\n",
    "plt.figure(figsize=(12, 6))\n",
    "plt.bar(label_counts.index, label_counts.values, color='blue')  # Use a single color like 'blue'\n",
    "plt.xticks(rotation=45)\n",
    "plt.title('Label Distribution in Multilabel Classification')\n",
    "plt.xlabel('Labels')\n",
    "plt.ylabel('Frequency')\n",
    "plt.tight_layout()  # Adjust layout to fit labels\n",
    "plt.show()\n",
    "\n",
    "\n",
    "X = data.iloc[:, :-1].values  # Features\n",
    "y = labels.values  # One-hot encoding for labels\n",
    "\n",
    "X = data.iloc[:, :-1]\n",
    "y = data.iloc[:, -1].str.split()\n",
    "\n",
    "le = LabelEncoder()\n",
    "for column in X.columns:\n",
    "    if X[column].dtype == 'object':\n",
    "        X[column] = le.fit_transform(X[column])\n",
    "\n",
    "scaler = StandardScaler()\n",
    "X = scaler.fit_transform(X)\n",
    "\n",
    "unique_labels = set([label for labels in y for label in labels])\n",
    "label_to_index = {label: i for i, label in enumerate(unique_labels)}\n",
    "y_encoded = np.zeros((len(y), len(unique_labels)))\n",
    "for i, labels in enumerate(y):\n",
    "    for label in labels:\n",
    "        y_encoded[i, label_to_index[label]] = 1\n",
    "\n",
    "\n",
    "X_train, X_temp, y_train, y_temp = train_test_split(X, y_encoded, test_size=0.2, random_state=42)\n",
    "X_val, X_test, y_val, y_test = train_test_split(X_temp, y_temp, test_size=0.5, random_state=42)"
   ]
  },
  {
   "cell_type": "code",
   "execution_count": 52,
   "metadata": {},
   "outputs": [
    {
     "name": "stdout",
     "output_type": "stream",
     "text": [
      "Epoch 10/100, Loss: 0.6437\n",
      "Epoch 20/100, Loss: 0.6370\n",
      "Epoch 30/100, Loss: 0.6334\n",
      "Epoch 40/100, Loss: 0.6315\n",
      "Early stopping at epoch 46\n",
      "Accuracy: 0.0300\n",
      "Precision: 0.5862\n",
      "Recall: 0.0661\n",
      "F1-score: 0.1189\n",
      "Hamming Loss: 0.3150\n",
      "\n",
      "Soft Accuracy: 0.6850\n",
      "Performing gradient check...\n",
      "Average relative error: 0.8958998443174107\n"
     ]
    }
   ],
   "source": [
    "import numpy as np\n",
    "import pandas as pd\n",
    "from sklearn.model_selection import train_test_split\n",
    "from sklearn.preprocessing import StandardScaler, LabelEncoder\n",
    "from sklearn.metrics import accuracy_score, precision_score, recall_score, f1_score, hamming_loss\n",
    "\n",
    "class ActivationFunction:\n",
    "    @staticmethod\n",
    "    def sigmoid(x, derivative=False):\n",
    "        sig = 1 / (1 + np.exp(-np.clip(x, -500, 500)))  # Clip to avoid overflow\n",
    "        return sig * (1 - sig) if derivative else sig\n",
    "\n",
    "    @staticmethod\n",
    "    def tanh(x, derivative=False):\n",
    "        t = np.tanh(x)\n",
    "        return 1 - t**2 if derivative else t\n",
    "\n",
    "    @staticmethod\n",
    "    def relu(x, derivative=False):\n",
    "        return np.where(x > 0, 1, 0) if derivative else np.maximum(0, x)\n",
    "\n",
    "    @staticmethod\n",
    "    def linear(x, derivative=False):\n",
    "        return np.ones_like(x) if derivative else x\n",
    "\n",
    "class Layer:\n",
    "    def __init__(self, input_size, output_size, activation='relu'):\n",
    "        self.weights = np.random.randn(input_size, output_size) * np.sqrt(2. / input_size)  # He initialization\n",
    "        self.bias = np.zeros((1, output_size))\n",
    "        self.activation = getattr(ActivationFunction, activation)\n",
    "        self.dW = np.zeros_like(self.weights)  # Gradient of weights\n",
    "        self.db = np.zeros_like(self.bias)  # Gradient of bias\n",
    "\n",
    "    def forward(self, inputs):\n",
    "        self.inputs = inputs\n",
    "        self.z = np.dot(inputs, self.weights) + self.bias\n",
    "        return self.activation(self.z)\n",
    "\n",
    "    def backward(self, delta, learning_rate, optimizer):\n",
    "        delta = delta * self.activation(self.z, derivative=True)\n",
    "        self.dW = np.dot(self.inputs.T, delta)\n",
    "        self.db = np.sum(delta, axis=0, keepdims=True)\n",
    "        \n",
    "        if optimizer == 'sgd':\n",
    "            self.weights -= learning_rate * self.dW\n",
    "            self.bias -= learning_rate * self.db\n",
    "        elif optimizer == 'batch':\n",
    "            return self.dW, self.db\n",
    "        \n",
    "        return np.dot(delta, self.weights.T)\n",
    "\n",
    "class AdvancedMultiLabelMLP:\n",
    "    def __init__(self, input_size, hidden_sizes, output_size, learning_rate=0.001, \n",
    "                 activation='relu', optimizer='sgd', batch_size=32, epochs=100, early_stopping_pat=5):\n",
    "        self.layers = []\n",
    "        self.learning_rate = learning_rate\n",
    "        self.optimizer = optimizer\n",
    "        self.batch_size = batch_size\n",
    "        self.epochs = epochs\n",
    "        self.early_stopping_patience= early_stopping_pat\n",
    "        \n",
    "        # Input layer\n",
    "        self.layers.append(Layer(input_size, hidden_sizes[0], activation))\n",
    "        \n",
    "        # Hidden layers\n",
    "        for i in range(1, len(hidden_sizes)):\n",
    "            self.layers.append(Layer(hidden_sizes[i-1], hidden_sizes[i], activation))\n",
    "        \n",
    "        # Output layer\n",
    "        self.layers.append(Layer(hidden_sizes[-1], output_size, 'sigmoid'))\n",
    "\n",
    "    def forward(self, X):\n",
    "        for layer in self.layers:\n",
    "            X = layer.forward(X)\n",
    "        return X\n",
    "\n",
    "    def backward(self, X, y, output):\n",
    "        delta = output - y\n",
    "        for layer in reversed(self.layers):\n",
    "            delta = layer.backward(delta, self.learning_rate, self.optimizer)\n",
    "\n",
    "    def fit(self, X, y, validation_data=None):\n",
    "        best_val_loss = float('inf')\n",
    "        patience_counter = 0\n",
    "\n",
    "        for epoch in range(self.epochs):\n",
    "            if self.optimizer == 'sgd':\n",
    "                indices = np.random.permutation(len(X))\n",
    "                X = X[indices]\n",
    "                y = y[indices]\n",
    "            \n",
    "            for i in range(0, len(X), self.batch_size):\n",
    "                batch_X = X[i:i+self.batch_size]\n",
    "                batch_y = y[i:i+self.batch_size]\n",
    "                \n",
    "                output = self.forward(batch_X)\n",
    "                self.backward(batch_X, batch_y, output)\n",
    "            \n",
    "            # Early stopping\n",
    "            if validation_data is not None:\n",
    "                val_X, val_y = validation_data\n",
    "                val_output = self.predict(val_X)\n",
    "                val_loss = self.compute_loss(val_y, val_output)\n",
    "                \n",
    "                if val_loss < best_val_loss:\n",
    "                    best_val_loss = val_loss\n",
    "                    patience_counter = 0\n",
    "                else:\n",
    "                    patience_counter += 1\n",
    "                \n",
    "                if patience_counter >= self.early_stopping_patience:\n",
    "                    print(f\"Early stopping at epoch {epoch+1}\")\n",
    "                    break\n",
    "            \n",
    "            if (epoch + 1) % 10 == 0:\n",
    "                loss = self.compute_loss(y, self.predict(X))\n",
    "                print(f\"Epoch {epoch+1}/{self.epochs}, Loss: {loss:.4f}\")\n",
    "\n",
    "    def predict(self, X):\n",
    "        return self.forward(X)\n",
    "\n",
    "    def predict_binary(self, X, threshold=0.5):\n",
    "        probabilities = self.predict(X)\n",
    "        return (probabilities >= threshold).astype(int)\n",
    "\n",
    "    def compute_loss(self, y_true, y_pred):\n",
    "        return -np.mean(y_true * np.log(y_pred + 1e-8) + (1 - y_true) * np.log(1 - y_pred + 1e-8))\n",
    "\n",
    "    def gradient_check(self, X, y, epsilon=1e-7):\n",
    "    # Compute gradients using backpropagation\n",
    "        output = self.forward(X)\n",
    "        self.backward(X, y, output)\n",
    "        \n",
    "        # Flatten weights and biases separately for easier gradient comparison\n",
    "        params = []\n",
    "        grads = []\n",
    "        for layer in self.layers:\n",
    "            params.append(layer.weights)\n",
    "            params.append(layer.bias)\n",
    "            grads.append(layer.dW)\n",
    "            grads.append(layer.db)\n",
    "        \n",
    "        num_grads = []\n",
    "        \n",
    "        for param in params:\n",
    "            num_grad = np.zeros_like(param)\n",
    "            it = np.nditer(param, flags=['multi_index'], op_flags=['readwrite'])\n",
    "            while not it.finished:\n",
    "                idx = it.multi_index\n",
    "                old_value = param[idx]\n",
    "                \n",
    "                # Compute the cost with the parameter slightly increased\n",
    "                param[idx] = old_value + epsilon\n",
    "                cost_plus = self.compute_loss(y, self.forward(X))\n",
    "                \n",
    "                # Compute the cost with the parameter slightly decreased\n",
    "                param[idx] = old_value - epsilon\n",
    "                cost_minus = self.compute_loss(y, self.forward(X))\n",
    "                \n",
    "                # Calculate numerical gradient\n",
    "                num_grad[idx] = (cost_plus - cost_minus) / (2 * epsilon)\n",
    "                \n",
    "                # Reset the parameter value\n",
    "                param[idx] = old_value\n",
    "                it.iternext()\n",
    "            \n",
    "            num_grads.append(num_grad)\n",
    "        \n",
    "        # Compare backprop gradients with numerical gradients\n",
    "        total_error = 0\n",
    "        for grad, num_grad in zip(grads, num_grads):\n",
    "            numerator = np.linalg.norm(grad - num_grad)\n",
    "            denominator = np.linalg.norm(grad) + np.linalg.norm(num_grad)\n",
    "            total_error += numerator / (denominator + 1e-7)\n",
    "        \n",
    "        average_error = total_error / len(params)\n",
    "        print(f\"Average relative error: {average_error}\")\n",
    "        \n",
    "        return average_error < 1e-7\n",
    "\n",
    "    \n",
    "def preprocess_data(file_path):\n",
    "    df = pd.read_csv(file_path)\n",
    "    X = df.iloc[:, :-1]\n",
    "    y = df.iloc[:, -1].str.split()\n",
    "    \n",
    "    le = LabelEncoder()\n",
    "    for column in X.columns:\n",
    "        if X[column].dtype == 'object':\n",
    "            X[column] = le.fit_transform(X[column])\n",
    "    \n",
    "    scaler = StandardScaler()\n",
    "    X = scaler.fit_transform(X)\n",
    "    \n",
    "    unique_labels = set([label for labels in y for label in labels])\n",
    "    label_to_index = {label: i for i, label in enumerate(unique_labels)}\n",
    "    y_encoded = np.zeros((len(y), len(unique_labels)))\n",
    "    for i, labels in enumerate(y):\n",
    "        for label in labels:\n",
    "            y_encoded[i, label_to_index[label]] = 1\n",
    "    \n",
    "    return X, y_encoded, label_to_index\n",
    "\n",
    "def evaluate_model(y_true, y_pred):\n",
    "    accuracy = accuracy_score(y_true, y_pred)\n",
    "    precision = precision_score(y_true, y_pred, average='micro')\n",
    "    recall = recall_score(y_true, y_pred, average='micro')\n",
    "    f1 = f1_score(y_true, y_pred, average='micro')\n",
    "    h_loss = hamming_loss(y_true, y_pred)\n",
    "    \n",
    "    print(f'Accuracy: {accuracy:.4f}')\n",
    "    print(f'Precision: {precision:.4f}')\n",
    "    print(f'Recall: {recall:.4f}')\n",
    "    print(f'F1-score: {f1:.4f}')\n",
    "    print(f'Hamming Loss: {h_loss:.4f}')\n",
    "\n",
    "def calculate_soft_accuracy(y_true, y_pred):\n",
    "    # Count true positives and true negatives\n",
    "    true_positives = np.sum((y_true == 1) & (y_pred == 1))\n",
    "    true_negatives = np.sum((y_true == 0) & (y_pred == 0))\n",
    "    \n",
    "    total = y_true.shape[0] * y_true.shape[1]  # Total number of predictions\n",
    "    \n",
    "    # Calculate soft accuracy\n",
    "    soft_accuracy = (true_positives + true_negatives) / total\n",
    "    return soft_accuracy\n",
    "\n",
    "if __name__ == \"__main__\":\n",
    "    # Preprocess data\n",
    "    # X, y, label_to_index = preprocess_data(\"advertisement.csv\")\n",
    "    \n",
    "    # # Split the data\n",
    "    # X_train, X_test, y_train, y_test = train_test_split(X, y, test_size=0.2, random_state=42)\n",
    "    \n",
    "    # Create and train the model\n",
    "    input_size = X_train.shape[1]\n",
    "    hidden_sizes = [9]  # You can modify this to change the number of hidden layers and neurons\n",
    "    output_size = y_train.shape[1]\n",
    "    \n",
    "    model = AdvancedMultiLabelMLP(\n",
    "        input_size=input_size,\n",
    "        hidden_sizes=hidden_sizes,\n",
    "        output_size=output_size,\n",
    "        learning_rate=0.01,\n",
    "        activation='sigmoid',  # You can change this to 'sigmoid', 'tanh', or 'linear'\n",
    "        optimizer='sgd',    # You can change this to 'batch' or 'mini-batch'\n",
    "        batch_size=32,\n",
    "        epochs=100,\n",
    "        early_stopping_pat=5\n",
    "    )\n",
    "    \n",
    "    # Train the model with early stopping\n",
    "    model.fit(X_train, y_train, validation_data=(X_test, y_test))\n",
    "    \n",
    "    # Evaluate the model\n",
    "    y_pred_binary = model.predict_binary(X_test)\n",
    "    evaluate_model(y_test, y_pred_binary)\n",
    "\n",
    "    soft_accuracy = calculate_soft_accuracy(y_test, y_pred_binary)\n",
    "    print(f\"\\nSoft Accuracy: {soft_accuracy:.4f}\")\n",
    "\n",
    "    print(\"Performing gradient check...\")\n",
    "    model.gradient_check(X_train[:10], y_train[:10])"
   ]
  },
  {
   "cell_type": "code",
   "execution_count": 41,
   "metadata": {},
   "outputs": [
    {
     "name": "stderr",
     "output_type": "stream",
     "text": [
      "\u001b[34m\u001b[1mwandb\u001b[0m: Using wandb-core as the SDK backend. Please refer to https://wandb.me/wandb-core for more information.\n"
     ]
    },
    {
     "name": "stdout",
     "output_type": "stream",
     "text": [
      "Create sweep with ID: s3ry7u83\n",
      "Sweep URL: https://wandb.ai/dusaneyash09-iiit-hyderabad/multi_label_mlp/sweeps/s3ry7u83\n"
     ]
    },
    {
     "name": "stderr",
     "output_type": "stream",
     "text": [
      "\u001b[34m\u001b[1mwandb\u001b[0m: Agent Starting Run: cat5g7f7 with config:\n",
      "\u001b[34m\u001b[1mwandb\u001b[0m: \tactivation: relu\n",
      "\u001b[34m\u001b[1mwandb\u001b[0m: \tbatch_size: 32\n",
      "\u001b[34m\u001b[1mwandb\u001b[0m: \tearly_stopping_patience: 15\n",
      "\u001b[34m\u001b[1mwandb\u001b[0m: \tepochs: 150\n",
      "\u001b[34m\u001b[1mwandb\u001b[0m: \thidden_layers: [9]\n",
      "\u001b[34m\u001b[1mwandb\u001b[0m: \tlearning_rate: 0.08163558451502814\n",
      "\u001b[34m\u001b[1mwandb\u001b[0m: \toptimizer: sgd\n",
      "\u001b[34m\u001b[1mwandb\u001b[0m: Currently logged in as: \u001b[33mdusaneyash09\u001b[0m (\u001b[33mdusaneyash09-iiit-hyderabad\u001b[0m). Use \u001b[1m`wandb login --relogin`\u001b[0m to force relogin\n"
     ]
    },
    {
     "data": {
      "text/html": [
       "Tracking run with wandb version 0.18.3"
      ],
      "text/plain": [
       "<IPython.core.display.HTML object>"
      ]
     },
     "metadata": {},
     "output_type": "display_data"
    },
    {
     "data": {
      "text/html": [
       "Run data is saved locally in <code>c:\\Users\\yashd\\OneDrive\\Desktop\\IIIT_Hyd\\Sem_5\\SMAI\\github\\assignments\\3\\wandb\\run-20241011_114035-cat5g7f7</code>"
      ],
      "text/plain": [
       "<IPython.core.display.HTML object>"
      ]
     },
     "metadata": {},
     "output_type": "display_data"
    },
    {
     "data": {
      "text/html": [
       "Syncing run <strong><a href='https://wandb.ai/dusaneyash09-iiit-hyderabad/multi_label_mlp/runs/cat5g7f7' target=\"_blank\">sunny-sweep-1</a></strong> to <a href='https://wandb.ai/dusaneyash09-iiit-hyderabad/multi_label_mlp' target=\"_blank\">Weights & Biases</a> (<a href='https://wandb.me/run' target=\"_blank\">docs</a>)<br/>Sweep page: <a href='https://wandb.ai/dusaneyash09-iiit-hyderabad/multi_label_mlp/sweeps/s3ry7u83' target=\"_blank\">https://wandb.ai/dusaneyash09-iiit-hyderabad/multi_label_mlp/sweeps/s3ry7u83</a>"
      ],
      "text/plain": [
       "<IPython.core.display.HTML object>"
      ]
     },
     "metadata": {},
     "output_type": "display_data"
    },
    {
     "data": {
      "text/html": [
       " View project at <a href='https://wandb.ai/dusaneyash09-iiit-hyderabad/multi_label_mlp' target=\"_blank\">https://wandb.ai/dusaneyash09-iiit-hyderabad/multi_label_mlp</a>"
      ],
      "text/plain": [
       "<IPython.core.display.HTML object>"
      ]
     },
     "metadata": {},
     "output_type": "display_data"
    },
    {
     "data": {
      "text/html": [
       " View sweep at <a href='https://wandb.ai/dusaneyash09-iiit-hyderabad/multi_label_mlp/sweeps/s3ry7u83' target=\"_blank\">https://wandb.ai/dusaneyash09-iiit-hyderabad/multi_label_mlp/sweeps/s3ry7u83</a>"
      ],
      "text/plain": [
       "<IPython.core.display.HTML object>"
      ]
     },
     "metadata": {},
     "output_type": "display_data"
    },
    {
     "data": {
      "text/html": [
       " View run at <a href='https://wandb.ai/dusaneyash09-iiit-hyderabad/multi_label_mlp/runs/cat5g7f7' target=\"_blank\">https://wandb.ai/dusaneyash09-iiit-hyderabad/multi_label_mlp/runs/cat5g7f7</a>"
      ],
      "text/plain": [
       "<IPython.core.display.HTML object>"
      ]
     },
     "metadata": {},
     "output_type": "display_data"
    },
    {
     "name": "stdout",
     "output_type": "stream",
     "text": [
      "Epoch 10/150, Loss: 2.5259\n",
      "Early stopping at epoch 17\n",
      "Accuracy: 0.0100, Soft Accuracy: 0.6687\n"
     ]
    },
    {
     "data": {
      "text/html": [
       "<style>\n",
       "    table.wandb td:nth-child(1) { padding: 0 10px; text-align: left ; width: auto;} td:nth-child(2) {text-align: left ; width: 100%}\n",
       "    .wandb-row { display: flex; flex-direction: row; flex-wrap: wrap; justify-content: flex-start; width: 100% }\n",
       "    .wandb-col { display: flex; flex-direction: column; flex-basis: 100%; flex: 1; padding: 10px; }\n",
       "    </style>\n",
       "<div class=\"wandb-row\"><div class=\"wandb-col\"><h3>Run history:</h3><br/><table class=\"wandb\"><tr><td>soft_accuracy</td><td>▁</td></tr><tr><td>val_accuracy</td><td>▁</td></tr></table><br/></div><div class=\"wandb-col\"><h3>Run summary:</h3><br/><table class=\"wandb\"><tr><td>soft_accuracy</td><td>0.66875</td></tr><tr><td>val_accuracy</td><td>0.01</td></tr></table><br/></div></div>"
      ],
      "text/plain": [
       "<IPython.core.display.HTML object>"
      ]
     },
     "metadata": {},
     "output_type": "display_data"
    },
    {
     "data": {
      "text/html": [
       " View run <strong style=\"color:#cdcd00\">sunny-sweep-1</strong> at: <a href='https://wandb.ai/dusaneyash09-iiit-hyderabad/multi_label_mlp/runs/cat5g7f7' target=\"_blank\">https://wandb.ai/dusaneyash09-iiit-hyderabad/multi_label_mlp/runs/cat5g7f7</a><br/> View project at: <a href='https://wandb.ai/dusaneyash09-iiit-hyderabad/multi_label_mlp' target=\"_blank\">https://wandb.ai/dusaneyash09-iiit-hyderabad/multi_label_mlp</a><br/>Synced 5 W&B file(s), 0 media file(s), 0 artifact file(s) and 0 other file(s)"
      ],
      "text/plain": [
       "<IPython.core.display.HTML object>"
      ]
     },
     "metadata": {},
     "output_type": "display_data"
    },
    {
     "data": {
      "text/html": [
       "Find logs at: <code>.\\wandb\\run-20241011_114035-cat5g7f7\\logs</code>"
      ],
      "text/plain": [
       "<IPython.core.display.HTML object>"
      ]
     },
     "metadata": {},
     "output_type": "display_data"
    },
    {
     "name": "stderr",
     "output_type": "stream",
     "text": [
      "\u001b[34m\u001b[1mwandb\u001b[0m: Agent Starting Run: 1jefbm0c with config:\n",
      "\u001b[34m\u001b[1mwandb\u001b[0m: \tactivation: sigmoid\n",
      "\u001b[34m\u001b[1mwandb\u001b[0m: \tbatch_size: 64\n",
      "\u001b[34m\u001b[1mwandb\u001b[0m: \tearly_stopping_patience: 15\n",
      "\u001b[34m\u001b[1mwandb\u001b[0m: \tepochs: 100\n",
      "\u001b[34m\u001b[1mwandb\u001b[0m: \thidden_layers: [64, 32]\n",
      "\u001b[34m\u001b[1mwandb\u001b[0m: \tlearning_rate: 0.02752306460231159\n",
      "\u001b[34m\u001b[1mwandb\u001b[0m: \toptimizer: mini_batch\n"
     ]
    },
    {
     "data": {
      "text/html": [
       "Tracking run with wandb version 0.18.3"
      ],
      "text/plain": [
       "<IPython.core.display.HTML object>"
      ]
     },
     "metadata": {},
     "output_type": "display_data"
    },
    {
     "data": {
      "text/html": [
       "Run data is saved locally in <code>c:\\Users\\yashd\\OneDrive\\Desktop\\IIIT_Hyd\\Sem_5\\SMAI\\github\\assignments\\3\\wandb\\run-20241011_114045-1jefbm0c</code>"
      ],
      "text/plain": [
       "<IPython.core.display.HTML object>"
      ]
     },
     "metadata": {},
     "output_type": "display_data"
    },
    {
     "data": {
      "text/html": [
       "Syncing run <strong><a href='https://wandb.ai/dusaneyash09-iiit-hyderabad/multi_label_mlp/runs/1jefbm0c' target=\"_blank\">iconic-sweep-2</a></strong> to <a href='https://wandb.ai/dusaneyash09-iiit-hyderabad/multi_label_mlp' target=\"_blank\">Weights & Biases</a> (<a href='https://wandb.me/run' target=\"_blank\">docs</a>)<br/>Sweep page: <a href='https://wandb.ai/dusaneyash09-iiit-hyderabad/multi_label_mlp/sweeps/s3ry7u83' target=\"_blank\">https://wandb.ai/dusaneyash09-iiit-hyderabad/multi_label_mlp/sweeps/s3ry7u83</a>"
      ],
      "text/plain": [
       "<IPython.core.display.HTML object>"
      ]
     },
     "metadata": {},
     "output_type": "display_data"
    },
    {
     "data": {
      "text/html": [
       " View project at <a href='https://wandb.ai/dusaneyash09-iiit-hyderabad/multi_label_mlp' target=\"_blank\">https://wandb.ai/dusaneyash09-iiit-hyderabad/multi_label_mlp</a>"
      ],
      "text/plain": [
       "<IPython.core.display.HTML object>"
      ]
     },
     "metadata": {},
     "output_type": "display_data"
    },
    {
     "data": {
      "text/html": [
       " View sweep at <a href='https://wandb.ai/dusaneyash09-iiit-hyderabad/multi_label_mlp/sweeps/s3ry7u83' target=\"_blank\">https://wandb.ai/dusaneyash09-iiit-hyderabad/multi_label_mlp/sweeps/s3ry7u83</a>"
      ],
      "text/plain": [
       "<IPython.core.display.HTML object>"
      ]
     },
     "metadata": {},
     "output_type": "display_data"
    },
    {
     "data": {
      "text/html": [
       " View run at <a href='https://wandb.ai/dusaneyash09-iiit-hyderabad/multi_label_mlp/runs/1jefbm0c' target=\"_blank\">https://wandb.ai/dusaneyash09-iiit-hyderabad/multi_label_mlp/runs/1jefbm0c</a>"
      ],
      "text/plain": [
       "<IPython.core.display.HTML object>"
      ]
     },
     "metadata": {},
     "output_type": "display_data"
    },
    {
     "name": "stdout",
     "output_type": "stream",
     "text": [
      "Epoch 10/100, Loss: 0.8858\n",
      "Early stopping at epoch 16\n",
      "Accuracy: 0.0000, Soft Accuracy: 0.4650\n"
     ]
    },
    {
     "data": {
      "text/html": [
       "<style>\n",
       "    table.wandb td:nth-child(1) { padding: 0 10px; text-align: left ; width: auto;} td:nth-child(2) {text-align: left ; width: 100%}\n",
       "    .wandb-row { display: flex; flex-direction: row; flex-wrap: wrap; justify-content: flex-start; width: 100% }\n",
       "    .wandb-col { display: flex; flex-direction: column; flex-basis: 100%; flex: 1; padding: 10px; }\n",
       "    </style>\n",
       "<div class=\"wandb-row\"><div class=\"wandb-col\"><h3>Run history:</h3><br/><table class=\"wandb\"><tr><td>soft_accuracy</td><td>▁</td></tr><tr><td>val_accuracy</td><td>▁</td></tr></table><br/></div><div class=\"wandb-col\"><h3>Run summary:</h3><br/><table class=\"wandb\"><tr><td>soft_accuracy</td><td>0.465</td></tr><tr><td>val_accuracy</td><td>0</td></tr></table><br/></div></div>"
      ],
      "text/plain": [
       "<IPython.core.display.HTML object>"
      ]
     },
     "metadata": {},
     "output_type": "display_data"
    },
    {
     "data": {
      "text/html": [
       " View run <strong style=\"color:#cdcd00\">iconic-sweep-2</strong> at: <a href='https://wandb.ai/dusaneyash09-iiit-hyderabad/multi_label_mlp/runs/1jefbm0c' target=\"_blank\">https://wandb.ai/dusaneyash09-iiit-hyderabad/multi_label_mlp/runs/1jefbm0c</a><br/> View project at: <a href='https://wandb.ai/dusaneyash09-iiit-hyderabad/multi_label_mlp' target=\"_blank\">https://wandb.ai/dusaneyash09-iiit-hyderabad/multi_label_mlp</a><br/>Synced 5 W&B file(s), 0 media file(s), 0 artifact file(s) and 0 other file(s)"
      ],
      "text/plain": [
       "<IPython.core.display.HTML object>"
      ]
     },
     "metadata": {},
     "output_type": "display_data"
    },
    {
     "data": {
      "text/html": [
       "Find logs at: <code>.\\wandb\\run-20241011_114045-1jefbm0c\\logs</code>"
      ],
      "text/plain": [
       "<IPython.core.display.HTML object>"
      ]
     },
     "metadata": {},
     "output_type": "display_data"
    },
    {
     "name": "stderr",
     "output_type": "stream",
     "text": [
      "\u001b[34m\u001b[1mwandb\u001b[0m: Agent Starting Run: ke1fnc7b with config:\n",
      "\u001b[34m\u001b[1mwandb\u001b[0m: \tactivation: sigmoid\n",
      "\u001b[34m\u001b[1mwandb\u001b[0m: \tbatch_size: 16\n",
      "\u001b[34m\u001b[1mwandb\u001b[0m: \tearly_stopping_patience: 5\n",
      "\u001b[34m\u001b[1mwandb\u001b[0m: \tepochs: 50\n",
      "\u001b[34m\u001b[1mwandb\u001b[0m: \thidden_layers: [9]\n",
      "\u001b[34m\u001b[1mwandb\u001b[0m: \tlearning_rate: 0.0039115625804875855\n",
      "\u001b[34m\u001b[1mwandb\u001b[0m: \toptimizer: batch\n"
     ]
    },
    {
     "data": {
      "text/html": [
       "Tracking run with wandb version 0.18.3"
      ],
      "text/plain": [
       "<IPython.core.display.HTML object>"
      ]
     },
     "metadata": {},
     "output_type": "display_data"
    },
    {
     "data": {
      "text/html": [
       "Run data is saved locally in <code>c:\\Users\\yashd\\OneDrive\\Desktop\\IIIT_Hyd\\Sem_5\\SMAI\\github\\assignments\\3\\wandb\\run-20241011_114051-ke1fnc7b</code>"
      ],
      "text/plain": [
       "<IPython.core.display.HTML object>"
      ]
     },
     "metadata": {},
     "output_type": "display_data"
    },
    {
     "data": {
      "text/html": [
       "Syncing run <strong><a href='https://wandb.ai/dusaneyash09-iiit-hyderabad/multi_label_mlp/runs/ke1fnc7b' target=\"_blank\">zesty-sweep-3</a></strong> to <a href='https://wandb.ai/dusaneyash09-iiit-hyderabad/multi_label_mlp' target=\"_blank\">Weights & Biases</a> (<a href='https://wandb.me/run' target=\"_blank\">docs</a>)<br/>Sweep page: <a href='https://wandb.ai/dusaneyash09-iiit-hyderabad/multi_label_mlp/sweeps/s3ry7u83' target=\"_blank\">https://wandb.ai/dusaneyash09-iiit-hyderabad/multi_label_mlp/sweeps/s3ry7u83</a>"
      ],
      "text/plain": [
       "<IPython.core.display.HTML object>"
      ]
     },
     "metadata": {},
     "output_type": "display_data"
    },
    {
     "data": {
      "text/html": [
       " View project at <a href='https://wandb.ai/dusaneyash09-iiit-hyderabad/multi_label_mlp' target=\"_blank\">https://wandb.ai/dusaneyash09-iiit-hyderabad/multi_label_mlp</a>"
      ],
      "text/plain": [
       "<IPython.core.display.HTML object>"
      ]
     },
     "metadata": {},
     "output_type": "display_data"
    },
    {
     "data": {
      "text/html": [
       " View sweep at <a href='https://wandb.ai/dusaneyash09-iiit-hyderabad/multi_label_mlp/sweeps/s3ry7u83' target=\"_blank\">https://wandb.ai/dusaneyash09-iiit-hyderabad/multi_label_mlp/sweeps/s3ry7u83</a>"
      ],
      "text/plain": [
       "<IPython.core.display.HTML object>"
      ]
     },
     "metadata": {},
     "output_type": "display_data"
    },
    {
     "data": {
      "text/html": [
       " View run at <a href='https://wandb.ai/dusaneyash09-iiit-hyderabad/multi_label_mlp/runs/ke1fnc7b' target=\"_blank\">https://wandb.ai/dusaneyash09-iiit-hyderabad/multi_label_mlp/runs/ke1fnc7b</a>"
      ],
      "text/plain": [
       "<IPython.core.display.HTML object>"
      ]
     },
     "metadata": {},
     "output_type": "display_data"
    },
    {
     "name": "stderr",
     "output_type": "stream",
     "text": [
      "Traceback (most recent call last):\n",
      "  File \"C:\\Users\\yashd\\AppData\\Local\\Temp\\ipykernel_3288\\1641884746.py\", line 30, in run_experiment\n",
      "    model.fit(X_train, y_train, validation_data=(X_test, y_test), early_stopping_patience=config.early_stopping_patience)\n",
      "  File \"C:\\Users\\yashd\\AppData\\Local\\Temp\\ipykernel_3288\\2170164406.py\", line 96, in fit\n",
      "    self.backward(batch_X, batch_y, output)\n",
      "  File \"C:\\Users\\yashd\\AppData\\Local\\Temp\\ipykernel_3288\\2170164406.py\", line 79, in backward\n",
      "    delta = layer.backward(delta, self.learning_rate, self.optimizer)\n",
      "            ^^^^^^^^^^^^^^^^^^^^^^^^^^^^^^^^^^^^^^^^^^^^^^^^^^^^^^^^^\n",
      "  File \"C:\\Users\\yashd\\AppData\\Local\\Temp\\ipykernel_3288\\2170164406.py\", line 40, in backward\n",
      "    delta = delta * self.activation(self.z, derivative=True)\n",
      "            ~~~~~~^~~~~~~~~~~~~~~~~~~~~~~~~~~~~~~~~~~~~~~~~~\n",
      "ValueError: setting an array element with a sequence. The requested array has an inhomogeneous shape after 1 dimensions. The detected shape was (2,) + inhomogeneous part.\n"
     ]
    },
    {
     "data": {
      "text/html": [
       " View run <strong style=\"color:#cdcd00\">zesty-sweep-3</strong> at: <a href='https://wandb.ai/dusaneyash09-iiit-hyderabad/multi_label_mlp/runs/ke1fnc7b' target=\"_blank\">https://wandb.ai/dusaneyash09-iiit-hyderabad/multi_label_mlp/runs/ke1fnc7b</a><br/> View project at: <a href='https://wandb.ai/dusaneyash09-iiit-hyderabad/multi_label_mlp' target=\"_blank\">https://wandb.ai/dusaneyash09-iiit-hyderabad/multi_label_mlp</a><br/>Synced 5 W&B file(s), 0 media file(s), 0 artifact file(s) and 0 other file(s)"
      ],
      "text/plain": [
       "<IPython.core.display.HTML object>"
      ]
     },
     "metadata": {},
     "output_type": "display_data"
    },
    {
     "data": {
      "text/html": [
       "Find logs at: <code>.\\wandb\\run-20241011_114051-ke1fnc7b\\logs</code>"
      ],
      "text/plain": [
       "<IPython.core.display.HTML object>"
      ]
     },
     "metadata": {},
     "output_type": "display_data"
    },
    {
     "name": "stderr",
     "output_type": "stream",
     "text": [
      "Run ke1fnc7b errored:\n",
      "Traceback (most recent call last):\n",
      "  File \"c:\\Users\\yashd\\AppData\\Local\\Programs\\Python\\Python312\\Lib\\site-packages\\wandb\\agents\\pyagent.py\", line 306, in _run_job\n",
      "    self._function()\n",
      "  File \"C:\\Users\\yashd\\AppData\\Local\\Temp\\ipykernel_3288\\1641884746.py\", line 30, in run_experiment\n",
      "    model.fit(X_train, y_train, validation_data=(X_test, y_test), early_stopping_patience=config.early_stopping_patience)\n",
      "  File \"C:\\Users\\yashd\\AppData\\Local\\Temp\\ipykernel_3288\\2170164406.py\", line 96, in fit\n",
      "    self.backward(batch_X, batch_y, output)\n",
      "  File \"C:\\Users\\yashd\\AppData\\Local\\Temp\\ipykernel_3288\\2170164406.py\", line 79, in backward\n",
      "    delta = layer.backward(delta, self.learning_rate, self.optimizer)\n",
      "            ^^^^^^^^^^^^^^^^^^^^^^^^^^^^^^^^^^^^^^^^^^^^^^^^^^^^^^^^^\n",
      "  File \"C:\\Users\\yashd\\AppData\\Local\\Temp\\ipykernel_3288\\2170164406.py\", line 40, in backward\n",
      "    delta = delta * self.activation(self.z, derivative=True)\n",
      "            ~~~~~~^~~~~~~~~~~~~~~~~~~~~~~~~~~~~~~~~~~~~~~~~~\n",
      "ValueError: setting an array element with a sequence. The requested array has an inhomogeneous shape after 1 dimensions. The detected shape was (2,) + inhomogeneous part.\n",
      "\n",
      "\u001b[34m\u001b[1mwandb\u001b[0m: \u001b[32m\u001b[41mERROR\u001b[0m Run ke1fnc7b errored:\n",
      "\u001b[34m\u001b[1mwandb\u001b[0m: \u001b[32m\u001b[41mERROR\u001b[0m Traceback (most recent call last):\n",
      "\u001b[34m\u001b[1mwandb\u001b[0m: \u001b[32m\u001b[41mERROR\u001b[0m   File \"c:\\Users\\yashd\\AppData\\Local\\Programs\\Python\\Python312\\Lib\\site-packages\\wandb\\agents\\pyagent.py\", line 306, in _run_job\n",
      "\u001b[34m\u001b[1mwandb\u001b[0m: \u001b[32m\u001b[41mERROR\u001b[0m     self._function()\n",
      "\u001b[34m\u001b[1mwandb\u001b[0m: \u001b[32m\u001b[41mERROR\u001b[0m   File \"C:\\Users\\yashd\\AppData\\Local\\Temp\\ipykernel_3288\\1641884746.py\", line 30, in run_experiment\n",
      "\u001b[34m\u001b[1mwandb\u001b[0m: \u001b[32m\u001b[41mERROR\u001b[0m     model.fit(X_train, y_train, validation_data=(X_test, y_test), early_stopping_patience=config.early_stopping_patience)\n",
      "\u001b[34m\u001b[1mwandb\u001b[0m: \u001b[32m\u001b[41mERROR\u001b[0m   File \"C:\\Users\\yashd\\AppData\\Local\\Temp\\ipykernel_3288\\2170164406.py\", line 96, in fit\n",
      "\u001b[34m\u001b[1mwandb\u001b[0m: \u001b[32m\u001b[41mERROR\u001b[0m     self.backward(batch_X, batch_y, output)\n",
      "\u001b[34m\u001b[1mwandb\u001b[0m: \u001b[32m\u001b[41mERROR\u001b[0m   File \"C:\\Users\\yashd\\AppData\\Local\\Temp\\ipykernel_3288\\2170164406.py\", line 79, in backward\n",
      "\u001b[34m\u001b[1mwandb\u001b[0m: \u001b[32m\u001b[41mERROR\u001b[0m     delta = layer.backward(delta, self.learning_rate, self.optimizer)\n",
      "\u001b[34m\u001b[1mwandb\u001b[0m: \u001b[32m\u001b[41mERROR\u001b[0m             ^^^^^^^^^^^^^^^^^^^^^^^^^^^^^^^^^^^^^^^^^^^^^^^^^^^^^^^^^\n",
      "\u001b[34m\u001b[1mwandb\u001b[0m: \u001b[32m\u001b[41mERROR\u001b[0m   File \"C:\\Users\\yashd\\AppData\\Local\\Temp\\ipykernel_3288\\2170164406.py\", line 40, in backward\n",
      "\u001b[34m\u001b[1mwandb\u001b[0m: \u001b[32m\u001b[41mERROR\u001b[0m     delta = delta * self.activation(self.z, derivative=True)\n",
      "\u001b[34m\u001b[1mwandb\u001b[0m: \u001b[32m\u001b[41mERROR\u001b[0m             ~~~~~~^~~~~~~~~~~~~~~~~~~~~~~~~~~~~~~~~~~~~~~~~~\n",
      "\u001b[34m\u001b[1mwandb\u001b[0m: \u001b[32m\u001b[41mERROR\u001b[0m ValueError: setting an array element with a sequence. The requested array has an inhomogeneous shape after 1 dimensions. The detected shape was (2,) + inhomogeneous part.\n",
      "\u001b[34m\u001b[1mwandb\u001b[0m: \u001b[32m\u001b[41mERROR\u001b[0m \n",
      "\u001b[34m\u001b[1mwandb\u001b[0m: Agent Starting Run: ehgut3bc with config:\n",
      "\u001b[34m\u001b[1mwandb\u001b[0m: \tactivation: sigmoid\n",
      "\u001b[34m\u001b[1mwandb\u001b[0m: \tbatch_size: 64\n",
      "\u001b[34m\u001b[1mwandb\u001b[0m: \tearly_stopping_patience: 10\n",
      "\u001b[34m\u001b[1mwandb\u001b[0m: \tepochs: 150\n",
      "\u001b[34m\u001b[1mwandb\u001b[0m: \thidden_layers: [64, 32]\n",
      "\u001b[34m\u001b[1mwandb\u001b[0m: \tlearning_rate: 0.014306209864736153\n",
      "\u001b[34m\u001b[1mwandb\u001b[0m: \toptimizer: batch\n"
     ]
    },
    {
     "data": {
      "text/html": [
       "Tracking run with wandb version 0.18.3"
      ],
      "text/plain": [
       "<IPython.core.display.HTML object>"
      ]
     },
     "metadata": {},
     "output_type": "display_data"
    },
    {
     "data": {
      "text/html": [
       "Run data is saved locally in <code>c:\\Users\\yashd\\OneDrive\\Desktop\\IIIT_Hyd\\Sem_5\\SMAI\\github\\assignments\\3\\wandb\\run-20241011_114056-ehgut3bc</code>"
      ],
      "text/plain": [
       "<IPython.core.display.HTML object>"
      ]
     },
     "metadata": {},
     "output_type": "display_data"
    },
    {
     "data": {
      "text/html": [
       "Syncing run <strong><a href='https://wandb.ai/dusaneyash09-iiit-hyderabad/multi_label_mlp/runs/ehgut3bc' target=\"_blank\">dazzling-sweep-4</a></strong> to <a href='https://wandb.ai/dusaneyash09-iiit-hyderabad/multi_label_mlp' target=\"_blank\">Weights & Biases</a> (<a href='https://wandb.me/run' target=\"_blank\">docs</a>)<br/>Sweep page: <a href='https://wandb.ai/dusaneyash09-iiit-hyderabad/multi_label_mlp/sweeps/s3ry7u83' target=\"_blank\">https://wandb.ai/dusaneyash09-iiit-hyderabad/multi_label_mlp/sweeps/s3ry7u83</a>"
      ],
      "text/plain": [
       "<IPython.core.display.HTML object>"
      ]
     },
     "metadata": {},
     "output_type": "display_data"
    },
    {
     "data": {
      "text/html": [
       " View project at <a href='https://wandb.ai/dusaneyash09-iiit-hyderabad/multi_label_mlp' target=\"_blank\">https://wandb.ai/dusaneyash09-iiit-hyderabad/multi_label_mlp</a>"
      ],
      "text/plain": [
       "<IPython.core.display.HTML object>"
      ]
     },
     "metadata": {},
     "output_type": "display_data"
    },
    {
     "data": {
      "text/html": [
       " View sweep at <a href='https://wandb.ai/dusaneyash09-iiit-hyderabad/multi_label_mlp/sweeps/s3ry7u83' target=\"_blank\">https://wandb.ai/dusaneyash09-iiit-hyderabad/multi_label_mlp/sweeps/s3ry7u83</a>"
      ],
      "text/plain": [
       "<IPython.core.display.HTML object>"
      ]
     },
     "metadata": {},
     "output_type": "display_data"
    },
    {
     "data": {
      "text/html": [
       " View run at <a href='https://wandb.ai/dusaneyash09-iiit-hyderabad/multi_label_mlp/runs/ehgut3bc' target=\"_blank\">https://wandb.ai/dusaneyash09-iiit-hyderabad/multi_label_mlp/runs/ehgut3bc</a>"
      ],
      "text/plain": [
       "<IPython.core.display.HTML object>"
      ]
     },
     "metadata": {},
     "output_type": "display_data"
    },
    {
     "name": "stderr",
     "output_type": "stream",
     "text": [
      "Traceback (most recent call last):\n",
      "  File \"C:\\Users\\yashd\\AppData\\Local\\Temp\\ipykernel_3288\\1641884746.py\", line 30, in run_experiment\n",
      "    model.fit(X_train, y_train, validation_data=(X_test, y_test), early_stopping_patience=config.early_stopping_patience)\n",
      "  File \"C:\\Users\\yashd\\AppData\\Local\\Temp\\ipykernel_3288\\2170164406.py\", line 96, in fit\n",
      "    self.backward(batch_X, batch_y, output)\n",
      "  File \"C:\\Users\\yashd\\AppData\\Local\\Temp\\ipykernel_3288\\2170164406.py\", line 79, in backward\n",
      "    delta = layer.backward(delta, self.learning_rate, self.optimizer)\n",
      "            ^^^^^^^^^^^^^^^^^^^^^^^^^^^^^^^^^^^^^^^^^^^^^^^^^^^^^^^^^\n",
      "  File \"C:\\Users\\yashd\\AppData\\Local\\Temp\\ipykernel_3288\\2170164406.py\", line 40, in backward\n",
      "    delta = delta * self.activation(self.z, derivative=True)\n",
      "            ~~~~~~^~~~~~~~~~~~~~~~~~~~~~~~~~~~~~~~~~~~~~~~~~\n",
      "ValueError: setting an array element with a sequence. The requested array has an inhomogeneous shape after 1 dimensions. The detected shape was (2,) + inhomogeneous part.\n"
     ]
    },
    {
     "data": {
      "text/html": [
       " View run <strong style=\"color:#cdcd00\">dazzling-sweep-4</strong> at: <a href='https://wandb.ai/dusaneyash09-iiit-hyderabad/multi_label_mlp/runs/ehgut3bc' target=\"_blank\">https://wandb.ai/dusaneyash09-iiit-hyderabad/multi_label_mlp/runs/ehgut3bc</a><br/> View project at: <a href='https://wandb.ai/dusaneyash09-iiit-hyderabad/multi_label_mlp' target=\"_blank\">https://wandb.ai/dusaneyash09-iiit-hyderabad/multi_label_mlp</a><br/>Synced 5 W&B file(s), 0 media file(s), 0 artifact file(s) and 0 other file(s)"
      ],
      "text/plain": [
       "<IPython.core.display.HTML object>"
      ]
     },
     "metadata": {},
     "output_type": "display_data"
    },
    {
     "data": {
      "text/html": [
       "Find logs at: <code>.\\wandb\\run-20241011_114056-ehgut3bc\\logs</code>"
      ],
      "text/plain": [
       "<IPython.core.display.HTML object>"
      ]
     },
     "metadata": {},
     "output_type": "display_data"
    },
    {
     "name": "stderr",
     "output_type": "stream",
     "text": [
      "Run ehgut3bc errored:\n",
      "Traceback (most recent call last):\n",
      "  File \"c:\\Users\\yashd\\AppData\\Local\\Programs\\Python\\Python312\\Lib\\site-packages\\wandb\\agents\\pyagent.py\", line 306, in _run_job\n",
      "    self._function()\n",
      "  File \"C:\\Users\\yashd\\AppData\\Local\\Temp\\ipykernel_3288\\1641884746.py\", line 30, in run_experiment\n",
      "    model.fit(X_train, y_train, validation_data=(X_test, y_test), early_stopping_patience=config.early_stopping_patience)\n",
      "  File \"C:\\Users\\yashd\\AppData\\Local\\Temp\\ipykernel_3288\\2170164406.py\", line 96, in fit\n",
      "    self.backward(batch_X, batch_y, output)\n",
      "  File \"C:\\Users\\yashd\\AppData\\Local\\Temp\\ipykernel_3288\\2170164406.py\", line 79, in backward\n",
      "    delta = layer.backward(delta, self.learning_rate, self.optimizer)\n",
      "            ^^^^^^^^^^^^^^^^^^^^^^^^^^^^^^^^^^^^^^^^^^^^^^^^^^^^^^^^^\n",
      "  File \"C:\\Users\\yashd\\AppData\\Local\\Temp\\ipykernel_3288\\2170164406.py\", line 40, in backward\n",
      "    delta = delta * self.activation(self.z, derivative=True)\n",
      "            ~~~~~~^~~~~~~~~~~~~~~~~~~~~~~~~~~~~~~~~~~~~~~~~~\n",
      "ValueError: setting an array element with a sequence. The requested array has an inhomogeneous shape after 1 dimensions. The detected shape was (2,) + inhomogeneous part.\n",
      "\n",
      "\u001b[34m\u001b[1mwandb\u001b[0m: \u001b[32m\u001b[41mERROR\u001b[0m Run ehgut3bc errored:\n",
      "\u001b[34m\u001b[1mwandb\u001b[0m: \u001b[32m\u001b[41mERROR\u001b[0m Traceback (most recent call last):\n",
      "\u001b[34m\u001b[1mwandb\u001b[0m: \u001b[32m\u001b[41mERROR\u001b[0m   File \"c:\\Users\\yashd\\AppData\\Local\\Programs\\Python\\Python312\\Lib\\site-packages\\wandb\\agents\\pyagent.py\", line 306, in _run_job\n",
      "\u001b[34m\u001b[1mwandb\u001b[0m: \u001b[32m\u001b[41mERROR\u001b[0m     self._function()\n",
      "\u001b[34m\u001b[1mwandb\u001b[0m: \u001b[32m\u001b[41mERROR\u001b[0m   File \"C:\\Users\\yashd\\AppData\\Local\\Temp\\ipykernel_3288\\1641884746.py\", line 30, in run_experiment\n",
      "\u001b[34m\u001b[1mwandb\u001b[0m: \u001b[32m\u001b[41mERROR\u001b[0m     model.fit(X_train, y_train, validation_data=(X_test, y_test), early_stopping_patience=config.early_stopping_patience)\n",
      "\u001b[34m\u001b[1mwandb\u001b[0m: \u001b[32m\u001b[41mERROR\u001b[0m   File \"C:\\Users\\yashd\\AppData\\Local\\Temp\\ipykernel_3288\\2170164406.py\", line 96, in fit\n",
      "\u001b[34m\u001b[1mwandb\u001b[0m: \u001b[32m\u001b[41mERROR\u001b[0m     self.backward(batch_X, batch_y, output)\n",
      "\u001b[34m\u001b[1mwandb\u001b[0m: \u001b[32m\u001b[41mERROR\u001b[0m   File \"C:\\Users\\yashd\\AppData\\Local\\Temp\\ipykernel_3288\\2170164406.py\", line 79, in backward\n",
      "\u001b[34m\u001b[1mwandb\u001b[0m: \u001b[32m\u001b[41mERROR\u001b[0m     delta = layer.backward(delta, self.learning_rate, self.optimizer)\n",
      "\u001b[34m\u001b[1mwandb\u001b[0m: \u001b[32m\u001b[41mERROR\u001b[0m             ^^^^^^^^^^^^^^^^^^^^^^^^^^^^^^^^^^^^^^^^^^^^^^^^^^^^^^^^^\n",
      "\u001b[34m\u001b[1mwandb\u001b[0m: \u001b[32m\u001b[41mERROR\u001b[0m   File \"C:\\Users\\yashd\\AppData\\Local\\Temp\\ipykernel_3288\\2170164406.py\", line 40, in backward\n",
      "\u001b[34m\u001b[1mwandb\u001b[0m: \u001b[32m\u001b[41mERROR\u001b[0m     delta = delta * self.activation(self.z, derivative=True)\n",
      "\u001b[34m\u001b[1mwandb\u001b[0m: \u001b[32m\u001b[41mERROR\u001b[0m             ~~~~~~^~~~~~~~~~~~~~~~~~~~~~~~~~~~~~~~~~~~~~~~~~\n",
      "\u001b[34m\u001b[1mwandb\u001b[0m: \u001b[32m\u001b[41mERROR\u001b[0m ValueError: setting an array element with a sequence. The requested array has an inhomogeneous shape after 1 dimensions. The detected shape was (2,) + inhomogeneous part.\n",
      "\u001b[34m\u001b[1mwandb\u001b[0m: \u001b[32m\u001b[41mERROR\u001b[0m \n",
      "\u001b[34m\u001b[1mwandb\u001b[0m: Agent Starting Run: 93k2622v with config:\n",
      "\u001b[34m\u001b[1mwandb\u001b[0m: \tactivation: relu\n",
      "\u001b[34m\u001b[1mwandb\u001b[0m: \tbatch_size: 32\n",
      "\u001b[34m\u001b[1mwandb\u001b[0m: \tearly_stopping_patience: 15\n",
      "\u001b[34m\u001b[1mwandb\u001b[0m: \tepochs: 50\n",
      "\u001b[34m\u001b[1mwandb\u001b[0m: \thidden_layers: [64, 32]\n",
      "\u001b[34m\u001b[1mwandb\u001b[0m: \tlearning_rate: 0.03765940589735126\n",
      "\u001b[34m\u001b[1mwandb\u001b[0m: \toptimizer: mini_batch\n"
     ]
    },
    {
     "data": {
      "text/html": [
       "Tracking run with wandb version 0.18.3"
      ],
      "text/plain": [
       "<IPython.core.display.HTML object>"
      ]
     },
     "metadata": {},
     "output_type": "display_data"
    },
    {
     "data": {
      "text/html": [
       "Run data is saved locally in <code>c:\\Users\\yashd\\OneDrive\\Desktop\\IIIT_Hyd\\Sem_5\\SMAI\\github\\assignments\\3\\wandb\\run-20241011_114102-93k2622v</code>"
      ],
      "text/plain": [
       "<IPython.core.display.HTML object>"
      ]
     },
     "metadata": {},
     "output_type": "display_data"
    },
    {
     "data": {
      "text/html": [
       "Syncing run <strong><a href='https://wandb.ai/dusaneyash09-iiit-hyderabad/multi_label_mlp/runs/93k2622v' target=\"_blank\">polished-sweep-5</a></strong> to <a href='https://wandb.ai/dusaneyash09-iiit-hyderabad/multi_label_mlp' target=\"_blank\">Weights & Biases</a> (<a href='https://wandb.me/run' target=\"_blank\">docs</a>)<br/>Sweep page: <a href='https://wandb.ai/dusaneyash09-iiit-hyderabad/multi_label_mlp/sweeps/s3ry7u83' target=\"_blank\">https://wandb.ai/dusaneyash09-iiit-hyderabad/multi_label_mlp/sweeps/s3ry7u83</a>"
      ],
      "text/plain": [
       "<IPython.core.display.HTML object>"
      ]
     },
     "metadata": {},
     "output_type": "display_data"
    },
    {
     "data": {
      "text/html": [
       " View project at <a href='https://wandb.ai/dusaneyash09-iiit-hyderabad/multi_label_mlp' target=\"_blank\">https://wandb.ai/dusaneyash09-iiit-hyderabad/multi_label_mlp</a>"
      ],
      "text/plain": [
       "<IPython.core.display.HTML object>"
      ]
     },
     "metadata": {},
     "output_type": "display_data"
    },
    {
     "data": {
      "text/html": [
       " View sweep at <a href='https://wandb.ai/dusaneyash09-iiit-hyderabad/multi_label_mlp/sweeps/s3ry7u83' target=\"_blank\">https://wandb.ai/dusaneyash09-iiit-hyderabad/multi_label_mlp/sweeps/s3ry7u83</a>"
      ],
      "text/plain": [
       "<IPython.core.display.HTML object>"
      ]
     },
     "metadata": {},
     "output_type": "display_data"
    },
    {
     "data": {
      "text/html": [
       " View run at <a href='https://wandb.ai/dusaneyash09-iiit-hyderabad/multi_label_mlp/runs/93k2622v' target=\"_blank\">https://wandb.ai/dusaneyash09-iiit-hyderabad/multi_label_mlp/runs/93k2622v</a>"
      ],
      "text/plain": [
       "<IPython.core.display.HTML object>"
      ]
     },
     "metadata": {},
     "output_type": "display_data"
    },
    {
     "name": "stdout",
     "output_type": "stream",
     "text": [
      "Epoch 10/50, Loss: 0.8726\n",
      "Early stopping at epoch 16\n",
      "Accuracy: 0.0000, Soft Accuracy: 0.4913\n"
     ]
    },
    {
     "data": {
      "text/html": [
       "<style>\n",
       "    table.wandb td:nth-child(1) { padding: 0 10px; text-align: left ; width: auto;} td:nth-child(2) {text-align: left ; width: 100%}\n",
       "    .wandb-row { display: flex; flex-direction: row; flex-wrap: wrap; justify-content: flex-start; width: 100% }\n",
       "    .wandb-col { display: flex; flex-direction: column; flex-basis: 100%; flex: 1; padding: 10px; }\n",
       "    </style>\n",
       "<div class=\"wandb-row\"><div class=\"wandb-col\"><h3>Run history:</h3><br/><table class=\"wandb\"><tr><td>soft_accuracy</td><td>▁</td></tr><tr><td>val_accuracy</td><td>▁</td></tr></table><br/></div><div class=\"wandb-col\"><h3>Run summary:</h3><br/><table class=\"wandb\"><tr><td>soft_accuracy</td><td>0.49125</td></tr><tr><td>val_accuracy</td><td>0</td></tr></table><br/></div></div>"
      ],
      "text/plain": [
       "<IPython.core.display.HTML object>"
      ]
     },
     "metadata": {},
     "output_type": "display_data"
    },
    {
     "data": {
      "text/html": [
       " View run <strong style=\"color:#cdcd00\">polished-sweep-5</strong> at: <a href='https://wandb.ai/dusaneyash09-iiit-hyderabad/multi_label_mlp/runs/93k2622v' target=\"_blank\">https://wandb.ai/dusaneyash09-iiit-hyderabad/multi_label_mlp/runs/93k2622v</a><br/> View project at: <a href='https://wandb.ai/dusaneyash09-iiit-hyderabad/multi_label_mlp' target=\"_blank\">https://wandb.ai/dusaneyash09-iiit-hyderabad/multi_label_mlp</a><br/>Synced 5 W&B file(s), 0 media file(s), 0 artifact file(s) and 0 other file(s)"
      ],
      "text/plain": [
       "<IPython.core.display.HTML object>"
      ]
     },
     "metadata": {},
     "output_type": "display_data"
    },
    {
     "data": {
      "text/html": [
       "Find logs at: <code>.\\wandb\\run-20241011_114102-93k2622v\\logs</code>"
      ],
      "text/plain": [
       "<IPython.core.display.HTML object>"
      ]
     },
     "metadata": {},
     "output_type": "display_data"
    },
    {
     "name": "stderr",
     "output_type": "stream",
     "text": [
      "\u001b[34m\u001b[1mwandb\u001b[0m: Agent Starting Run: 7smsgize with config:\n",
      "\u001b[34m\u001b[1mwandb\u001b[0m: \tactivation: relu\n",
      "\u001b[34m\u001b[1mwandb\u001b[0m: \tbatch_size: 16\n",
      "\u001b[34m\u001b[1mwandb\u001b[0m: \tearly_stopping_patience: 10\n",
      "\u001b[34m\u001b[1mwandb\u001b[0m: \tepochs: 50\n",
      "\u001b[34m\u001b[1mwandb\u001b[0m: \thidden_layers: [64, 32]\n",
      "\u001b[34m\u001b[1mwandb\u001b[0m: \tlearning_rate: 0.030853775563808535\n",
      "\u001b[34m\u001b[1mwandb\u001b[0m: \toptimizer: mini_batch\n"
     ]
    },
    {
     "data": {
      "text/html": [
       "Tracking run with wandb version 0.18.3"
      ],
      "text/plain": [
       "<IPython.core.display.HTML object>"
      ]
     },
     "metadata": {},
     "output_type": "display_data"
    },
    {
     "data": {
      "text/html": [
       "Run data is saved locally in <code>c:\\Users\\yashd\\OneDrive\\Desktop\\IIIT_Hyd\\Sem_5\\SMAI\\github\\assignments\\3\\wandb\\run-20241011_114107-7smsgize</code>"
      ],
      "text/plain": [
       "<IPython.core.display.HTML object>"
      ]
     },
     "metadata": {},
     "output_type": "display_data"
    },
    {
     "data": {
      "text/html": [
       "Syncing run <strong><a href='https://wandb.ai/dusaneyash09-iiit-hyderabad/multi_label_mlp/runs/7smsgize' target=\"_blank\">dutiful-sweep-6</a></strong> to <a href='https://wandb.ai/dusaneyash09-iiit-hyderabad/multi_label_mlp' target=\"_blank\">Weights & Biases</a> (<a href='https://wandb.me/run' target=\"_blank\">docs</a>)<br/>Sweep page: <a href='https://wandb.ai/dusaneyash09-iiit-hyderabad/multi_label_mlp/sweeps/s3ry7u83' target=\"_blank\">https://wandb.ai/dusaneyash09-iiit-hyderabad/multi_label_mlp/sweeps/s3ry7u83</a>"
      ],
      "text/plain": [
       "<IPython.core.display.HTML object>"
      ]
     },
     "metadata": {},
     "output_type": "display_data"
    },
    {
     "data": {
      "text/html": [
       " View project at <a href='https://wandb.ai/dusaneyash09-iiit-hyderabad/multi_label_mlp' target=\"_blank\">https://wandb.ai/dusaneyash09-iiit-hyderabad/multi_label_mlp</a>"
      ],
      "text/plain": [
       "<IPython.core.display.HTML object>"
      ]
     },
     "metadata": {},
     "output_type": "display_data"
    },
    {
     "data": {
      "text/html": [
       " View sweep at <a href='https://wandb.ai/dusaneyash09-iiit-hyderabad/multi_label_mlp/sweeps/s3ry7u83' target=\"_blank\">https://wandb.ai/dusaneyash09-iiit-hyderabad/multi_label_mlp/sweeps/s3ry7u83</a>"
      ],
      "text/plain": [
       "<IPython.core.display.HTML object>"
      ]
     },
     "metadata": {},
     "output_type": "display_data"
    },
    {
     "data": {
      "text/html": [
       " View run at <a href='https://wandb.ai/dusaneyash09-iiit-hyderabad/multi_label_mlp/runs/7smsgize' target=\"_blank\">https://wandb.ai/dusaneyash09-iiit-hyderabad/multi_label_mlp/runs/7smsgize</a>"
      ],
      "text/plain": [
       "<IPython.core.display.HTML object>"
      ]
     },
     "metadata": {},
     "output_type": "display_data"
    },
    {
     "name": "stdout",
     "output_type": "stream",
     "text": [
      "Epoch 10/50, Loss: 0.8115\n",
      "Early stopping at epoch 11\n",
      "Accuracy: 0.0100, Soft Accuracy: 0.5225\n"
     ]
    },
    {
     "data": {
      "text/html": [
       "<style>\n",
       "    table.wandb td:nth-child(1) { padding: 0 10px; text-align: left ; width: auto;} td:nth-child(2) {text-align: left ; width: 100%}\n",
       "    .wandb-row { display: flex; flex-direction: row; flex-wrap: wrap; justify-content: flex-start; width: 100% }\n",
       "    .wandb-col { display: flex; flex-direction: column; flex-basis: 100%; flex: 1; padding: 10px; }\n",
       "    </style>\n",
       "<div class=\"wandb-row\"><div class=\"wandb-col\"><h3>Run history:</h3><br/><table class=\"wandb\"><tr><td>soft_accuracy</td><td>▁</td></tr><tr><td>val_accuracy</td><td>▁</td></tr></table><br/></div><div class=\"wandb-col\"><h3>Run summary:</h3><br/><table class=\"wandb\"><tr><td>soft_accuracy</td><td>0.5225</td></tr><tr><td>val_accuracy</td><td>0.01</td></tr></table><br/></div></div>"
      ],
      "text/plain": [
       "<IPython.core.display.HTML object>"
      ]
     },
     "metadata": {},
     "output_type": "display_data"
    },
    {
     "data": {
      "text/html": [
       " View run <strong style=\"color:#cdcd00\">dutiful-sweep-6</strong> at: <a href='https://wandb.ai/dusaneyash09-iiit-hyderabad/multi_label_mlp/runs/7smsgize' target=\"_blank\">https://wandb.ai/dusaneyash09-iiit-hyderabad/multi_label_mlp/runs/7smsgize</a><br/> View project at: <a href='https://wandb.ai/dusaneyash09-iiit-hyderabad/multi_label_mlp' target=\"_blank\">https://wandb.ai/dusaneyash09-iiit-hyderabad/multi_label_mlp</a><br/>Synced 5 W&B file(s), 0 media file(s), 0 artifact file(s) and 0 other file(s)"
      ],
      "text/plain": [
       "<IPython.core.display.HTML object>"
      ]
     },
     "metadata": {},
     "output_type": "display_data"
    },
    {
     "data": {
      "text/html": [
       "Find logs at: <code>.\\wandb\\run-20241011_114107-7smsgize\\logs</code>"
      ],
      "text/plain": [
       "<IPython.core.display.HTML object>"
      ]
     },
     "metadata": {},
     "output_type": "display_data"
    },
    {
     "name": "stderr",
     "output_type": "stream",
     "text": [
      "\u001b[34m\u001b[1mwandb\u001b[0m: Agent Starting Run: 9jjp5rzn with config:\n",
      "\u001b[34m\u001b[1mwandb\u001b[0m: \tactivation: tanh\n",
      "\u001b[34m\u001b[1mwandb\u001b[0m: \tbatch_size: 32\n",
      "\u001b[34m\u001b[1mwandb\u001b[0m: \tearly_stopping_patience: 10\n",
      "\u001b[34m\u001b[1mwandb\u001b[0m: \tepochs: 150\n",
      "\u001b[34m\u001b[1mwandb\u001b[0m: \thidden_layers: [9]\n",
      "\u001b[34m\u001b[1mwandb\u001b[0m: \tlearning_rate: 0.03210959839945258\n",
      "\u001b[34m\u001b[1mwandb\u001b[0m: \toptimizer: sgd\n"
     ]
    },
    {
     "data": {
      "text/html": [
       "Tracking run with wandb version 0.18.3"
      ],
      "text/plain": [
       "<IPython.core.display.HTML object>"
      ]
     },
     "metadata": {},
     "output_type": "display_data"
    },
    {
     "data": {
      "text/html": [
       "Run data is saved locally in <code>c:\\Users\\yashd\\OneDrive\\Desktop\\IIIT_Hyd\\Sem_5\\SMAI\\github\\assignments\\3\\wandb\\run-20241011_114113-9jjp5rzn</code>"
      ],
      "text/plain": [
       "<IPython.core.display.HTML object>"
      ]
     },
     "metadata": {},
     "output_type": "display_data"
    },
    {
     "data": {
      "text/html": [
       "Syncing run <strong><a href='https://wandb.ai/dusaneyash09-iiit-hyderabad/multi_label_mlp/runs/9jjp5rzn' target=\"_blank\">lemon-sweep-7</a></strong> to <a href='https://wandb.ai/dusaneyash09-iiit-hyderabad/multi_label_mlp' target=\"_blank\">Weights & Biases</a> (<a href='https://wandb.me/run' target=\"_blank\">docs</a>)<br/>Sweep page: <a href='https://wandb.ai/dusaneyash09-iiit-hyderabad/multi_label_mlp/sweeps/s3ry7u83' target=\"_blank\">https://wandb.ai/dusaneyash09-iiit-hyderabad/multi_label_mlp/sweeps/s3ry7u83</a>"
      ],
      "text/plain": [
       "<IPython.core.display.HTML object>"
      ]
     },
     "metadata": {},
     "output_type": "display_data"
    },
    {
     "data": {
      "text/html": [
       " View project at <a href='https://wandb.ai/dusaneyash09-iiit-hyderabad/multi_label_mlp' target=\"_blank\">https://wandb.ai/dusaneyash09-iiit-hyderabad/multi_label_mlp</a>"
      ],
      "text/plain": [
       "<IPython.core.display.HTML object>"
      ]
     },
     "metadata": {},
     "output_type": "display_data"
    },
    {
     "data": {
      "text/html": [
       " View sweep at <a href='https://wandb.ai/dusaneyash09-iiit-hyderabad/multi_label_mlp/sweeps/s3ry7u83' target=\"_blank\">https://wandb.ai/dusaneyash09-iiit-hyderabad/multi_label_mlp/sweeps/s3ry7u83</a>"
      ],
      "text/plain": [
       "<IPython.core.display.HTML object>"
      ]
     },
     "metadata": {},
     "output_type": "display_data"
    },
    {
     "data": {
      "text/html": [
       " View run at <a href='https://wandb.ai/dusaneyash09-iiit-hyderabad/multi_label_mlp/runs/9jjp5rzn' target=\"_blank\">https://wandb.ai/dusaneyash09-iiit-hyderabad/multi_label_mlp/runs/9jjp5rzn</a>"
      ],
      "text/plain": [
       "<IPython.core.display.HTML object>"
      ]
     },
     "metadata": {},
     "output_type": "display_data"
    },
    {
     "name": "stdout",
     "output_type": "stream",
     "text": [
      "Epoch 10/150, Loss: 0.6269\n",
      "Early stopping at epoch 18\n",
      "Accuracy: 0.0200, Soft Accuracy: 0.6663\n"
     ]
    },
    {
     "data": {
      "text/html": [
       "<style>\n",
       "    table.wandb td:nth-child(1) { padding: 0 10px; text-align: left ; width: auto;} td:nth-child(2) {text-align: left ; width: 100%}\n",
       "    .wandb-row { display: flex; flex-direction: row; flex-wrap: wrap; justify-content: flex-start; width: 100% }\n",
       "    .wandb-col { display: flex; flex-direction: column; flex-basis: 100%; flex: 1; padding: 10px; }\n",
       "    </style>\n",
       "<div class=\"wandb-row\"><div class=\"wandb-col\"><h3>Run history:</h3><br/><table class=\"wandb\"><tr><td>soft_accuracy</td><td>▁</td></tr><tr><td>val_accuracy</td><td>▁</td></tr></table><br/></div><div class=\"wandb-col\"><h3>Run summary:</h3><br/><table class=\"wandb\"><tr><td>soft_accuracy</td><td>0.66625</td></tr><tr><td>val_accuracy</td><td>0.02</td></tr></table><br/></div></div>"
      ],
      "text/plain": [
       "<IPython.core.display.HTML object>"
      ]
     },
     "metadata": {},
     "output_type": "display_data"
    },
    {
     "data": {
      "text/html": [
       " View run <strong style=\"color:#cdcd00\">lemon-sweep-7</strong> at: <a href='https://wandb.ai/dusaneyash09-iiit-hyderabad/multi_label_mlp/runs/9jjp5rzn' target=\"_blank\">https://wandb.ai/dusaneyash09-iiit-hyderabad/multi_label_mlp/runs/9jjp5rzn</a><br/> View project at: <a href='https://wandb.ai/dusaneyash09-iiit-hyderabad/multi_label_mlp' target=\"_blank\">https://wandb.ai/dusaneyash09-iiit-hyderabad/multi_label_mlp</a><br/>Synced 5 W&B file(s), 0 media file(s), 0 artifact file(s) and 0 other file(s)"
      ],
      "text/plain": [
       "<IPython.core.display.HTML object>"
      ]
     },
     "metadata": {},
     "output_type": "display_data"
    },
    {
     "data": {
      "text/html": [
       "Find logs at: <code>.\\wandb\\run-20241011_114113-9jjp5rzn\\logs</code>"
      ],
      "text/plain": [
       "<IPython.core.display.HTML object>"
      ]
     },
     "metadata": {},
     "output_type": "display_data"
    },
    {
     "name": "stderr",
     "output_type": "stream",
     "text": [
      "\u001b[34m\u001b[1mwandb\u001b[0m: Agent Starting Run: 5wqjz7px with config:\n",
      "\u001b[34m\u001b[1mwandb\u001b[0m: \tactivation: relu\n",
      "\u001b[34m\u001b[1mwandb\u001b[0m: \tbatch_size: 16\n",
      "\u001b[34m\u001b[1mwandb\u001b[0m: \tearly_stopping_patience: 15\n",
      "\u001b[34m\u001b[1mwandb\u001b[0m: \tepochs: 100\n",
      "\u001b[34m\u001b[1mwandb\u001b[0m: \thidden_layers: [10, 8]\n",
      "\u001b[34m\u001b[1mwandb\u001b[0m: \tlearning_rate: 0.07806959556823369\n",
      "\u001b[34m\u001b[1mwandb\u001b[0m: \toptimizer: mini_batch\n"
     ]
    },
    {
     "data": {
      "text/html": [
       "Tracking run with wandb version 0.18.3"
      ],
      "text/plain": [
       "<IPython.core.display.HTML object>"
      ]
     },
     "metadata": {},
     "output_type": "display_data"
    },
    {
     "data": {
      "text/html": [
       "Run data is saved locally in <code>c:\\Users\\yashd\\OneDrive\\Desktop\\IIIT_Hyd\\Sem_5\\SMAI\\github\\assignments\\3\\wandb\\run-20241011_114118-5wqjz7px</code>"
      ],
      "text/plain": [
       "<IPython.core.display.HTML object>"
      ]
     },
     "metadata": {},
     "output_type": "display_data"
    },
    {
     "data": {
      "text/html": [
       "Syncing run <strong><a href='https://wandb.ai/dusaneyash09-iiit-hyderabad/multi_label_mlp/runs/5wqjz7px' target=\"_blank\">glad-sweep-8</a></strong> to <a href='https://wandb.ai/dusaneyash09-iiit-hyderabad/multi_label_mlp' target=\"_blank\">Weights & Biases</a> (<a href='https://wandb.me/run' target=\"_blank\">docs</a>)<br/>Sweep page: <a href='https://wandb.ai/dusaneyash09-iiit-hyderabad/multi_label_mlp/sweeps/s3ry7u83' target=\"_blank\">https://wandb.ai/dusaneyash09-iiit-hyderabad/multi_label_mlp/sweeps/s3ry7u83</a>"
      ],
      "text/plain": [
       "<IPython.core.display.HTML object>"
      ]
     },
     "metadata": {},
     "output_type": "display_data"
    },
    {
     "data": {
      "text/html": [
       " View project at <a href='https://wandb.ai/dusaneyash09-iiit-hyderabad/multi_label_mlp' target=\"_blank\">https://wandb.ai/dusaneyash09-iiit-hyderabad/multi_label_mlp</a>"
      ],
      "text/plain": [
       "<IPython.core.display.HTML object>"
      ]
     },
     "metadata": {},
     "output_type": "display_data"
    },
    {
     "data": {
      "text/html": [
       " View sweep at <a href='https://wandb.ai/dusaneyash09-iiit-hyderabad/multi_label_mlp/sweeps/s3ry7u83' target=\"_blank\">https://wandb.ai/dusaneyash09-iiit-hyderabad/multi_label_mlp/sweeps/s3ry7u83</a>"
      ],
      "text/plain": [
       "<IPython.core.display.HTML object>"
      ]
     },
     "metadata": {},
     "output_type": "display_data"
    },
    {
     "data": {
      "text/html": [
       " View run at <a href='https://wandb.ai/dusaneyash09-iiit-hyderabad/multi_label_mlp/runs/5wqjz7px' target=\"_blank\">https://wandb.ai/dusaneyash09-iiit-hyderabad/multi_label_mlp/runs/5wqjz7px</a>"
      ],
      "text/plain": [
       "<IPython.core.display.HTML object>"
      ]
     },
     "metadata": {},
     "output_type": "display_data"
    },
    {
     "name": "stdout",
     "output_type": "stream",
     "text": [
      "Epoch 10/100, Loss: 0.9593\n",
      "Early stopping at epoch 16\n",
      "Accuracy: 0.0100, Soft Accuracy: 0.5225\n"
     ]
    },
    {
     "data": {
      "text/html": [
       "<style>\n",
       "    table.wandb td:nth-child(1) { padding: 0 10px; text-align: left ; width: auto;} td:nth-child(2) {text-align: left ; width: 100%}\n",
       "    .wandb-row { display: flex; flex-direction: row; flex-wrap: wrap; justify-content: flex-start; width: 100% }\n",
       "    .wandb-col { display: flex; flex-direction: column; flex-basis: 100%; flex: 1; padding: 10px; }\n",
       "    </style>\n",
       "<div class=\"wandb-row\"><div class=\"wandb-col\"><h3>Run history:</h3><br/><table class=\"wandb\"><tr><td>soft_accuracy</td><td>▁</td></tr><tr><td>val_accuracy</td><td>▁</td></tr></table><br/></div><div class=\"wandb-col\"><h3>Run summary:</h3><br/><table class=\"wandb\"><tr><td>soft_accuracy</td><td>0.5225</td></tr><tr><td>val_accuracy</td><td>0.01</td></tr></table><br/></div></div>"
      ],
      "text/plain": [
       "<IPython.core.display.HTML object>"
      ]
     },
     "metadata": {},
     "output_type": "display_data"
    },
    {
     "data": {
      "text/html": [
       " View run <strong style=\"color:#cdcd00\">glad-sweep-8</strong> at: <a href='https://wandb.ai/dusaneyash09-iiit-hyderabad/multi_label_mlp/runs/5wqjz7px' target=\"_blank\">https://wandb.ai/dusaneyash09-iiit-hyderabad/multi_label_mlp/runs/5wqjz7px</a><br/> View project at: <a href='https://wandb.ai/dusaneyash09-iiit-hyderabad/multi_label_mlp' target=\"_blank\">https://wandb.ai/dusaneyash09-iiit-hyderabad/multi_label_mlp</a><br/>Synced 5 W&B file(s), 0 media file(s), 0 artifact file(s) and 0 other file(s)"
      ],
      "text/plain": [
       "<IPython.core.display.HTML object>"
      ]
     },
     "metadata": {},
     "output_type": "display_data"
    },
    {
     "data": {
      "text/html": [
       "Find logs at: <code>.\\wandb\\run-20241011_114118-5wqjz7px\\logs</code>"
      ],
      "text/plain": [
       "<IPython.core.display.HTML object>"
      ]
     },
     "metadata": {},
     "output_type": "display_data"
    },
    {
     "name": "stderr",
     "output_type": "stream",
     "text": [
      "\u001b[34m\u001b[1mwandb\u001b[0m: Agent Starting Run: m2rfhiw2 with config:\n",
      "\u001b[34m\u001b[1mwandb\u001b[0m: \tactivation: relu\n",
      "\u001b[34m\u001b[1mwandb\u001b[0m: \tbatch_size: 16\n",
      "\u001b[34m\u001b[1mwandb\u001b[0m: \tearly_stopping_patience: 5\n",
      "\u001b[34m\u001b[1mwandb\u001b[0m: \tepochs: 50\n",
      "\u001b[34m\u001b[1mwandb\u001b[0m: \thidden_layers: [9]\n",
      "\u001b[34m\u001b[1mwandb\u001b[0m: \tlearning_rate: 0.012338327813370603\n",
      "\u001b[34m\u001b[1mwandb\u001b[0m: \toptimizer: sgd\n"
     ]
    },
    {
     "data": {
      "text/html": [
       "Tracking run with wandb version 0.18.3"
      ],
      "text/plain": [
       "<IPython.core.display.HTML object>"
      ]
     },
     "metadata": {},
     "output_type": "display_data"
    },
    {
     "data": {
      "text/html": [
       "Run data is saved locally in <code>c:\\Users\\yashd\\OneDrive\\Desktop\\IIIT_Hyd\\Sem_5\\SMAI\\github\\assignments\\3\\wandb\\run-20241011_114124-m2rfhiw2</code>"
      ],
      "text/plain": [
       "<IPython.core.display.HTML object>"
      ]
     },
     "metadata": {},
     "output_type": "display_data"
    },
    {
     "data": {
      "text/html": [
       "Syncing run <strong><a href='https://wandb.ai/dusaneyash09-iiit-hyderabad/multi_label_mlp/runs/m2rfhiw2' target=\"_blank\">dandy-sweep-9</a></strong> to <a href='https://wandb.ai/dusaneyash09-iiit-hyderabad/multi_label_mlp' target=\"_blank\">Weights & Biases</a> (<a href='https://wandb.me/run' target=\"_blank\">docs</a>)<br/>Sweep page: <a href='https://wandb.ai/dusaneyash09-iiit-hyderabad/multi_label_mlp/sweeps/s3ry7u83' target=\"_blank\">https://wandb.ai/dusaneyash09-iiit-hyderabad/multi_label_mlp/sweeps/s3ry7u83</a>"
      ],
      "text/plain": [
       "<IPython.core.display.HTML object>"
      ]
     },
     "metadata": {},
     "output_type": "display_data"
    },
    {
     "data": {
      "text/html": [
       " View project at <a href='https://wandb.ai/dusaneyash09-iiit-hyderabad/multi_label_mlp' target=\"_blank\">https://wandb.ai/dusaneyash09-iiit-hyderabad/multi_label_mlp</a>"
      ],
      "text/plain": [
       "<IPython.core.display.HTML object>"
      ]
     },
     "metadata": {},
     "output_type": "display_data"
    },
    {
     "data": {
      "text/html": [
       " View sweep at <a href='https://wandb.ai/dusaneyash09-iiit-hyderabad/multi_label_mlp/sweeps/s3ry7u83' target=\"_blank\">https://wandb.ai/dusaneyash09-iiit-hyderabad/multi_label_mlp/sweeps/s3ry7u83</a>"
      ],
      "text/plain": [
       "<IPython.core.display.HTML object>"
      ]
     },
     "metadata": {},
     "output_type": "display_data"
    },
    {
     "data": {
      "text/html": [
       " View run at <a href='https://wandb.ai/dusaneyash09-iiit-hyderabad/multi_label_mlp/runs/m2rfhiw2' target=\"_blank\">https://wandb.ai/dusaneyash09-iiit-hyderabad/multi_label_mlp/runs/m2rfhiw2</a>"
      ],
      "text/plain": [
       "<IPython.core.display.HTML object>"
      ]
     },
     "metadata": {},
     "output_type": "display_data"
    },
    {
     "name": "stdout",
     "output_type": "stream",
     "text": [
      "Epoch 10/50, Loss: 0.6330\n",
      "Epoch 20/50, Loss: 0.6270\n",
      "Early stopping at epoch 26\n",
      "Accuracy: 0.0600, Soft Accuracy: 0.6887\n"
     ]
    },
    {
     "data": {
      "text/html": [
       "<style>\n",
       "    table.wandb td:nth-child(1) { padding: 0 10px; text-align: left ; width: auto;} td:nth-child(2) {text-align: left ; width: 100%}\n",
       "    .wandb-row { display: flex; flex-direction: row; flex-wrap: wrap; justify-content: flex-start; width: 100% }\n",
       "    .wandb-col { display: flex; flex-direction: column; flex-basis: 100%; flex: 1; padding: 10px; }\n",
       "    </style>\n",
       "<div class=\"wandb-row\"><div class=\"wandb-col\"><h3>Run history:</h3><br/><table class=\"wandb\"><tr><td>soft_accuracy</td><td>▁</td></tr><tr><td>val_accuracy</td><td>▁</td></tr></table><br/></div><div class=\"wandb-col\"><h3>Run summary:</h3><br/><table class=\"wandb\"><tr><td>soft_accuracy</td><td>0.68875</td></tr><tr><td>val_accuracy</td><td>0.06</td></tr></table><br/></div></div>"
      ],
      "text/plain": [
       "<IPython.core.display.HTML object>"
      ]
     },
     "metadata": {},
     "output_type": "display_data"
    },
    {
     "data": {
      "text/html": [
       " View run <strong style=\"color:#cdcd00\">dandy-sweep-9</strong> at: <a href='https://wandb.ai/dusaneyash09-iiit-hyderabad/multi_label_mlp/runs/m2rfhiw2' target=\"_blank\">https://wandb.ai/dusaneyash09-iiit-hyderabad/multi_label_mlp/runs/m2rfhiw2</a><br/> View project at: <a href='https://wandb.ai/dusaneyash09-iiit-hyderabad/multi_label_mlp' target=\"_blank\">https://wandb.ai/dusaneyash09-iiit-hyderabad/multi_label_mlp</a><br/>Synced 5 W&B file(s), 0 media file(s), 0 artifact file(s) and 0 other file(s)"
      ],
      "text/plain": [
       "<IPython.core.display.HTML object>"
      ]
     },
     "metadata": {},
     "output_type": "display_data"
    },
    {
     "data": {
      "text/html": [
       "Find logs at: <code>.\\wandb\\run-20241011_114124-m2rfhiw2\\logs</code>"
      ],
      "text/plain": [
       "<IPython.core.display.HTML object>"
      ]
     },
     "metadata": {},
     "output_type": "display_data"
    },
    {
     "name": "stderr",
     "output_type": "stream",
     "text": [
      "\u001b[34m\u001b[1mwandb\u001b[0m: Agent Starting Run: y1grrngq with config:\n",
      "\u001b[34m\u001b[1mwandb\u001b[0m: \tactivation: tanh\n",
      "\u001b[34m\u001b[1mwandb\u001b[0m: \tbatch_size: 32\n",
      "\u001b[34m\u001b[1mwandb\u001b[0m: \tearly_stopping_patience: 15\n",
      "\u001b[34m\u001b[1mwandb\u001b[0m: \tepochs: 50\n",
      "\u001b[34m\u001b[1mwandb\u001b[0m: \thidden_layers: [10, 8]\n",
      "\u001b[34m\u001b[1mwandb\u001b[0m: \tlearning_rate: 0.06652211040123382\n",
      "\u001b[34m\u001b[1mwandb\u001b[0m: \toptimizer: batch\n"
     ]
    },
    {
     "data": {
      "text/html": [
       "Tracking run with wandb version 0.18.3"
      ],
      "text/plain": [
       "<IPython.core.display.HTML object>"
      ]
     },
     "metadata": {},
     "output_type": "display_data"
    },
    {
     "data": {
      "text/html": [
       "Run data is saved locally in <code>c:\\Users\\yashd\\OneDrive\\Desktop\\IIIT_Hyd\\Sem_5\\SMAI\\github\\assignments\\3\\wandb\\run-20241011_114129-y1grrngq</code>"
      ],
      "text/plain": [
       "<IPython.core.display.HTML object>"
      ]
     },
     "metadata": {},
     "output_type": "display_data"
    },
    {
     "data": {
      "text/html": [
       "Syncing run <strong><a href='https://wandb.ai/dusaneyash09-iiit-hyderabad/multi_label_mlp/runs/y1grrngq' target=\"_blank\">dazzling-sweep-10</a></strong> to <a href='https://wandb.ai/dusaneyash09-iiit-hyderabad/multi_label_mlp' target=\"_blank\">Weights & Biases</a> (<a href='https://wandb.me/run' target=\"_blank\">docs</a>)<br/>Sweep page: <a href='https://wandb.ai/dusaneyash09-iiit-hyderabad/multi_label_mlp/sweeps/s3ry7u83' target=\"_blank\">https://wandb.ai/dusaneyash09-iiit-hyderabad/multi_label_mlp/sweeps/s3ry7u83</a>"
      ],
      "text/plain": [
       "<IPython.core.display.HTML object>"
      ]
     },
     "metadata": {},
     "output_type": "display_data"
    },
    {
     "data": {
      "text/html": [
       " View project at <a href='https://wandb.ai/dusaneyash09-iiit-hyderabad/multi_label_mlp' target=\"_blank\">https://wandb.ai/dusaneyash09-iiit-hyderabad/multi_label_mlp</a>"
      ],
      "text/plain": [
       "<IPython.core.display.HTML object>"
      ]
     },
     "metadata": {},
     "output_type": "display_data"
    },
    {
     "data": {
      "text/html": [
       " View sweep at <a href='https://wandb.ai/dusaneyash09-iiit-hyderabad/multi_label_mlp/sweeps/s3ry7u83' target=\"_blank\">https://wandb.ai/dusaneyash09-iiit-hyderabad/multi_label_mlp/sweeps/s3ry7u83</a>"
      ],
      "text/plain": [
       "<IPython.core.display.HTML object>"
      ]
     },
     "metadata": {},
     "output_type": "display_data"
    },
    {
     "data": {
      "text/html": [
       " View run at <a href='https://wandb.ai/dusaneyash09-iiit-hyderabad/multi_label_mlp/runs/y1grrngq' target=\"_blank\">https://wandb.ai/dusaneyash09-iiit-hyderabad/multi_label_mlp/runs/y1grrngq</a>"
      ],
      "text/plain": [
       "<IPython.core.display.HTML object>"
      ]
     },
     "metadata": {},
     "output_type": "display_data"
    },
    {
     "name": "stderr",
     "output_type": "stream",
     "text": [
      "Traceback (most recent call last):\n",
      "  File \"C:\\Users\\yashd\\AppData\\Local\\Temp\\ipykernel_3288\\1641884746.py\", line 30, in run_experiment\n",
      "    model.fit(X_train, y_train, validation_data=(X_test, y_test), early_stopping_patience=config.early_stopping_patience)\n",
      "  File \"C:\\Users\\yashd\\AppData\\Local\\Temp\\ipykernel_3288\\2170164406.py\", line 96, in fit\n",
      "    self.backward(batch_X, batch_y, output)\n",
      "  File \"C:\\Users\\yashd\\AppData\\Local\\Temp\\ipykernel_3288\\2170164406.py\", line 79, in backward\n",
      "    delta = layer.backward(delta, self.learning_rate, self.optimizer)\n",
      "            ^^^^^^^^^^^^^^^^^^^^^^^^^^^^^^^^^^^^^^^^^^^^^^^^^^^^^^^^^\n",
      "  File \"C:\\Users\\yashd\\AppData\\Local\\Temp\\ipykernel_3288\\2170164406.py\", line 40, in backward\n",
      "    delta = delta * self.activation(self.z, derivative=True)\n",
      "            ~~~~~~^~~~~~~~~~~~~~~~~~~~~~~~~~~~~~~~~~~~~~~~~~\n",
      "ValueError: setting an array element with a sequence. The requested array has an inhomogeneous shape after 1 dimensions. The detected shape was (2,) + inhomogeneous part.\n"
     ]
    },
    {
     "data": {
      "text/html": [
       " View run <strong style=\"color:#cdcd00\">dazzling-sweep-10</strong> at: <a href='https://wandb.ai/dusaneyash09-iiit-hyderabad/multi_label_mlp/runs/y1grrngq' target=\"_blank\">https://wandb.ai/dusaneyash09-iiit-hyderabad/multi_label_mlp/runs/y1grrngq</a><br/> View project at: <a href='https://wandb.ai/dusaneyash09-iiit-hyderabad/multi_label_mlp' target=\"_blank\">https://wandb.ai/dusaneyash09-iiit-hyderabad/multi_label_mlp</a><br/>Synced 5 W&B file(s), 0 media file(s), 0 artifact file(s) and 0 other file(s)"
      ],
      "text/plain": [
       "<IPython.core.display.HTML object>"
      ]
     },
     "metadata": {},
     "output_type": "display_data"
    },
    {
     "data": {
      "text/html": [
       "Find logs at: <code>.\\wandb\\run-20241011_114129-y1grrngq\\logs</code>"
      ],
      "text/plain": [
       "<IPython.core.display.HTML object>"
      ]
     },
     "metadata": {},
     "output_type": "display_data"
    },
    {
     "name": "stderr",
     "output_type": "stream",
     "text": [
      "Run y1grrngq errored:\n",
      "Traceback (most recent call last):\n",
      "  File \"c:\\Users\\yashd\\AppData\\Local\\Programs\\Python\\Python312\\Lib\\site-packages\\wandb\\agents\\pyagent.py\", line 306, in _run_job\n",
      "    self._function()\n",
      "  File \"C:\\Users\\yashd\\AppData\\Local\\Temp\\ipykernel_3288\\1641884746.py\", line 30, in run_experiment\n",
      "    model.fit(X_train, y_train, validation_data=(X_test, y_test), early_stopping_patience=config.early_stopping_patience)\n",
      "  File \"C:\\Users\\yashd\\AppData\\Local\\Temp\\ipykernel_3288\\2170164406.py\", line 96, in fit\n",
      "    self.backward(batch_X, batch_y, output)\n",
      "  File \"C:\\Users\\yashd\\AppData\\Local\\Temp\\ipykernel_3288\\2170164406.py\", line 79, in backward\n",
      "    delta = layer.backward(delta, self.learning_rate, self.optimizer)\n",
      "            ^^^^^^^^^^^^^^^^^^^^^^^^^^^^^^^^^^^^^^^^^^^^^^^^^^^^^^^^^\n",
      "  File \"C:\\Users\\yashd\\AppData\\Local\\Temp\\ipykernel_3288\\2170164406.py\", line 40, in backward\n",
      "    delta = delta * self.activation(self.z, derivative=True)\n",
      "            ~~~~~~^~~~~~~~~~~~~~~~~~~~~~~~~~~~~~~~~~~~~~~~~~\n",
      "ValueError: setting an array element with a sequence. The requested array has an inhomogeneous shape after 1 dimensions. The detected shape was (2,) + inhomogeneous part.\n",
      "\n",
      "\u001b[34m\u001b[1mwandb\u001b[0m: \u001b[32m\u001b[41mERROR\u001b[0m Run y1grrngq errored:\n",
      "\u001b[34m\u001b[1mwandb\u001b[0m: \u001b[32m\u001b[41mERROR\u001b[0m Traceback (most recent call last):\n",
      "\u001b[34m\u001b[1mwandb\u001b[0m: \u001b[32m\u001b[41mERROR\u001b[0m   File \"c:\\Users\\yashd\\AppData\\Local\\Programs\\Python\\Python312\\Lib\\site-packages\\wandb\\agents\\pyagent.py\", line 306, in _run_job\n",
      "\u001b[34m\u001b[1mwandb\u001b[0m: \u001b[32m\u001b[41mERROR\u001b[0m     self._function()\n",
      "\u001b[34m\u001b[1mwandb\u001b[0m: \u001b[32m\u001b[41mERROR\u001b[0m   File \"C:\\Users\\yashd\\AppData\\Local\\Temp\\ipykernel_3288\\1641884746.py\", line 30, in run_experiment\n",
      "\u001b[34m\u001b[1mwandb\u001b[0m: \u001b[32m\u001b[41mERROR\u001b[0m     model.fit(X_train, y_train, validation_data=(X_test, y_test), early_stopping_patience=config.early_stopping_patience)\n",
      "\u001b[34m\u001b[1mwandb\u001b[0m: \u001b[32m\u001b[41mERROR\u001b[0m   File \"C:\\Users\\yashd\\AppData\\Local\\Temp\\ipykernel_3288\\2170164406.py\", line 96, in fit\n",
      "\u001b[34m\u001b[1mwandb\u001b[0m: \u001b[32m\u001b[41mERROR\u001b[0m     self.backward(batch_X, batch_y, output)\n",
      "\u001b[34m\u001b[1mwandb\u001b[0m: \u001b[32m\u001b[41mERROR\u001b[0m   File \"C:\\Users\\yashd\\AppData\\Local\\Temp\\ipykernel_3288\\2170164406.py\", line 79, in backward\n",
      "\u001b[34m\u001b[1mwandb\u001b[0m: \u001b[32m\u001b[41mERROR\u001b[0m     delta = layer.backward(delta, self.learning_rate, self.optimizer)\n",
      "\u001b[34m\u001b[1mwandb\u001b[0m: \u001b[32m\u001b[41mERROR\u001b[0m             ^^^^^^^^^^^^^^^^^^^^^^^^^^^^^^^^^^^^^^^^^^^^^^^^^^^^^^^^^\n",
      "\u001b[34m\u001b[1mwandb\u001b[0m: \u001b[32m\u001b[41mERROR\u001b[0m   File \"C:\\Users\\yashd\\AppData\\Local\\Temp\\ipykernel_3288\\2170164406.py\", line 40, in backward\n",
      "\u001b[34m\u001b[1mwandb\u001b[0m: \u001b[32m\u001b[41mERROR\u001b[0m     delta = delta * self.activation(self.z, derivative=True)\n",
      "\u001b[34m\u001b[1mwandb\u001b[0m: \u001b[32m\u001b[41mERROR\u001b[0m             ~~~~~~^~~~~~~~~~~~~~~~~~~~~~~~~~~~~~~~~~~~~~~~~~\n",
      "\u001b[34m\u001b[1mwandb\u001b[0m: \u001b[32m\u001b[41mERROR\u001b[0m ValueError: setting an array element with a sequence. The requested array has an inhomogeneous shape after 1 dimensions. The detected shape was (2,) + inhomogeneous part.\n",
      "\u001b[34m\u001b[1mwandb\u001b[0m: \u001b[32m\u001b[41mERROR\u001b[0m \n",
      "Detected 3 failed runs in the first 60 seconds, killing sweep.\n",
      "\u001b[34m\u001b[1mwandb\u001b[0m: \u001b[32m\u001b[41mERROR\u001b[0m Detected 3 failed runs in the first 60 seconds, killing sweep.\n",
      "\u001b[34m\u001b[1mwandb\u001b[0m: To disable this check set WANDB_AGENT_DISABLE_FLAPPING=true\n"
     ]
    }
   ],
   "source": [
    "import wandb\n",
    "\n",
    "# Initialize a new run at the start of training\n",
    "def run_experiment(config=None):\n",
    "    with wandb.init(config=config):\n",
    "        config = wandb.config\n",
    "        \n",
    "        # Preprocess data\n",
    "        # X, y, label_to_index = preprocess_data(\"advertisement.csv\")\n",
    "        \n",
    "        # Split the data\n",
    "        # X_train, X_test, y_train, y_test = train_test_split(X, y, test_size=0.2, random_state=42)\n",
    "        \n",
    "        input_size = X_train.shape[1]\n",
    "        output_size = y_train.shape[1]\n",
    "        \n",
    "        # Initialize model with hyperparameters from config\n",
    "        model = AdvancedMultiLabelMLP(\n",
    "            input_size=input_size,\n",
    "            hidden_sizes=config.hidden_layers,\n",
    "            output_size=output_size,\n",
    "            learning_rate=config.learning_rate,\n",
    "            activation=config.activation,\n",
    "            optimizer=config.optimizer,\n",
    "            batch_size=config.batch_size,\n",
    "            epochs=config.epochs\n",
    "        )\n",
    "        \n",
    "        # Train the model with early stopping\n",
    "        model.fit(X_train, y_train, validation_data=(X_test, y_test), early_stopping_patience=config.early_stopping_patience)\n",
    "        \n",
    "        # Evaluate the model\n",
    "        y_pred_binary = model.predict_binary(X_test)\n",
    "        accuracy = accuracy_score(y_test, y_pred_binary)\n",
    "        soft_accuracy = calculate_soft_accuracy(y_test, y_pred_binary)\n",
    "        \n",
    "        # Log metrics to WandB\n",
    "        wandb.log({\n",
    "            \"val_accuracy\": accuracy,\n",
    "            \"soft_accuracy\": soft_accuracy\n",
    "        })\n",
    "\n",
    "        print(f\"Accuracy: {accuracy:.4f}, Soft Accuracy: {soft_accuracy:.4f}\")\n",
    "\n",
    "# Define the sweep configuration\n",
    "sweep_configuration = {\n",
    "    'method': 'random',\n",
    "    'name': 'sweep',\n",
    "    'metric': {'goal': 'maximize', 'name': 'soft_accuracy'},\n",
    "    'parameters': \n",
    "    {\n",
    "        'hidden_layers': {'values': [[9], [10, 8], [64, 32]]},\n",
    "        'learning_rate': {'min': 0.0001, 'max': 0.1},\n",
    "        'activation': {'values': ['sigmoid', 'relu', 'tanh']},\n",
    "        'optimizer': {'values': ['sgd', 'batch', 'mini_batch']},\n",
    "        'batch_size': {'values': [16, 32, 64]},\n",
    "        'epochs': {'values': [50, 100, 150]},\n",
    "        'early_stopping_patience': {'values': [5, 10, 15]}\n",
    "    }\n",
    "}\n",
    "\n",
    "# Initialize the sweep\n",
    "sweep_id = wandb.sweep(sweep_configuration, project=\"multi_label_mlp\")\n",
    "\n",
    "# Run the sweep\n",
    "wandb.agent(sweep_id, function=run_experiment)\n"
   ]
  },
  {
   "cell_type": "code",
   "execution_count": 56,
   "metadata": {},
   "outputs": [
    {
     "name": "stdout",
     "output_type": "stream",
     "text": [
      "Epoch 10/50, Loss: 0.6333\n",
      "Epoch 20/50, Loss: 0.6284\n",
      "Epoch 30/50, Loss: 0.6252\n",
      "Epoch 40/50, Loss: 0.6221\n",
      "Early stopping at epoch 42\n",
      "Accuracy: 0.0500\n",
      "Precision: 0.5085\n",
      "Recall: 0.1167\n",
      "F1-score: 0.1899\n",
      "Hamming Loss: 0.3200\n",
      "\n",
      "Soft Accuracy: 0.6800\n"
     ]
    }
   ],
   "source": [
    "model = AdvancedMultiLabelMLP(\n",
    "        input_size=input_size,\n",
    "        hidden_sizes=[9],\n",
    "        output_size=output_size,\n",
    "        learning_rate=0.01234,\n",
    "        activation='relu',  # You can change this to 'sigmoid', 'tanh', or 'linear'\n",
    "        optimizer='sgd',    # You can change this to 'batch' or 'mini-batch'\n",
    "        batch_size=16,\n",
    "        epochs=50,\n",
    "        early_stopping_pat=5\n",
    "    )\n",
    "    \n",
    "# Train the model with early stopping\n",
    "model.fit(X_train, y_train, validation_data=(X_test, y_test))\n",
    "\n",
    "# Evaluate the model\n",
    "y_pred_binary = model.predict_binary(X_test)\n",
    "evaluate_model(y_test, y_pred_binary)\n",
    "\n",
    "soft_accuracy = calculate_soft_accuracy(y_test, y_pred_binary)\n",
    "print(f\"\\nSoft Accuracy: {soft_accuracy:.4f}\")\n",
    "\n",
    "# print(\"Performing gradient check...\")\n",
    "# model.gradient_check(X_train[:10], y_train[:10])"
   ]
  },
  {
   "cell_type": "markdown",
   "metadata": {},
   "source": [
    "---------------\n",
    "\n",
    "### Question 3 MLP Regression\n",
    "\n",
    "-------------"
   ]
  },
  {
   "cell_type": "code",
   "execution_count": 34,
   "metadata": {},
   "outputs": [
    {
     "name": "stdout",
     "output_type": "stream",
     "text": [
      "          NOX          RM        DIS             RAD         TAX     PTRATIO   \\\n",
      "count  506.000000  506.000000  506.000000  506.000000  506.000000  506.000000   \n",
      "mean     0.554695    6.284634    3.795043    9.549407  408.237154   18.455534   \n",
      "std      0.115878    0.702617    2.105710    8.707259  168.537116    2.164946   \n",
      "min      0.385000    3.561000    1.129600    1.000000  187.000000   12.600000   \n",
      "25%      0.449000    5.885500    2.100175    4.000000  279.000000   17.400000   \n",
      "50%      0.538000    6.208500    3.207450    5.000000  330.000000   19.050000   \n",
      "75%      0.624000    6.623500    5.188425   24.000000  666.000000   20.200000   \n",
      "max      0.871000    8.780000   12.126500   24.000000  711.000000   22.000000   \n",
      "\n",
      "          B              MEDV  \n",
      "count  506.000000  506.000000  \n",
      "mean   356.674032   22.532806  \n",
      "std     91.294864    9.197104  \n",
      "min      0.320000    5.000000  \n",
      "25%    375.377500   17.025000  \n",
      "50%    391.440000   21.200000  \n",
      "75%    396.225000   25.000000  \n",
      "max    396.900000   50.000000  \n",
      "Missing values in each column:\n",
      " CRIM        20\n",
      "ZN          20\n",
      "INDUS       20\n",
      "CHAS        20\n",
      "NOX          0\n",
      "RM           0\n",
      "AGE         20\n",
      "DIS          0\n",
      "RAD          0\n",
      "TAX          0\n",
      "PTRATIO      0\n",
      "B            0\n",
      "LSTAT       20\n",
      "MEDV         0\n",
      "dtype: int64\n",
      "Missing values after handling:\n",
      " CRIM        0\n",
      "ZN          0\n",
      "INDUS       0\n",
      "CHAS        0\n",
      "NOX         0\n",
      "RM          0\n",
      "AGE         0\n",
      "DIS         0\n",
      "RAD         0\n",
      "TAX         0\n",
      "PTRATIO     0\n",
      "B           0\n",
      "LSTAT       0\n",
      "MEDV        0\n",
      "dtype: int64\n"
     ]
    },
    {
     "data": {
      "image/png": "[encoded data removed]",
      "text/plain": [
       "<Figure size 1000x600 with 1 Axes>"
      ]
     },
     "metadata": {},
     "output_type": "display_data"
    },
    {
     "name": "stdout",
     "output_type": "stream",
     "text": [
      "Train set: (236, 14)\n",
      "Validation set: (79, 14)\n",
      "Test set: (79, 14)\n",
      "Scaled training data mean: [-1.12904036e-17 -2.25808073e-17  7.52693576e-17  6.02154861e-17\n",
      "  1.50538715e-16 -1.23441746e-15  1.65592587e-16  5.26885503e-17\n",
      " -6.02154861e-17 -1.12904036e-16  1.27957908e-15 -1.58065651e-16\n",
      " -1.65592587e-16]\n",
      "Scaled training data std: [1. 1. 1. 1. 1. 1. 1. 1. 1. 1. 1. 1. 1.]\n"
     ]
    }
   ],
   "source": [
    "import pandas as pd\n",
    "\n",
    "# Load the dataset from CSV\n",
    "df = pd.read_csv('../../data/external/HousingData.csv')\n",
    "\n",
    "# Describe the dataset\n",
    "description = df.describe()\n",
    "print(description)\n",
    "\n",
    "# Replace 'NA' with NaN\n",
    "df.replace('NA', pd.NA, inplace=True)\n",
    "\n",
    "# Convert relevant columns to numeric (if they aren't already)\n",
    "df = df.apply(pd.to_numeric, errors='coerce')\n",
    "\n",
    "# Check for missing values\n",
    "missing_values = df.isnull().sum()\n",
    "print(\"Missing values in each column:\\n\", missing_values)\n",
    "\n",
    "# Drop rows with missing values\n",
    "df = df.dropna()\n",
    "\n",
    "# Check again for missing values\n",
    "missing_values_after = df.isnull().sum()\n",
    "print(\"Missing values after handling:\\n\", missing_values_after)\n",
    "\n",
    "\n",
    "import matplotlib.pyplot as plt\n",
    "\n",
    "# Plot the distribution of MEDV\n",
    "plt.figure(figsize=(10, 6))\n",
    "plt.hist(df['MEDV'], bins=30, edgecolor='black', alpha=0.7)\n",
    "plt.title('Distribution of Housing Prices (MEDV)')\n",
    "plt.xlabel('MEDV (in $1000s)')\n",
    "plt.ylabel('Frequency')\n",
    "plt.grid(axis='y', alpha=0.75)\n",
    "plt.show()\n",
    "\n",
    "from sklearn.model_selection import train_test_split\n",
    "\n",
    "# Split the dataset into training, validation, and test sets\n",
    "train_val, test = train_test_split(df, test_size=0.2, random_state=42)\n",
    "train, val = train_test_split(train_val, test_size=0.25, random_state=42)  # 0.25 x 0.8 = 0.2\n",
    "\n",
    "# Check the shapes of the splits\n",
    "print(f'Train set: {train.shape}')\n",
    "print(f'Validation set: {val.shape}')\n",
    "print(f'Test set: {test.shape}')\n",
    "\n",
    "from sklearn.preprocessing import StandardScaler\n",
    "\n",
    "# Separating features and target\n",
    "X_train = train.drop('MEDV', axis=1)\n",
    "y_train = train['MEDV']\n",
    "X_val = val.drop('MEDV', axis=1)\n",
    "y_val = val['MEDV']\n",
    "X_test = test.drop('MEDV', axis=1)\n",
    "y_test = test['MEDV']\n",
    "\n",
    "# Initialize the scaler\n",
    "scaler = StandardScaler()\n",
    "\n",
    "# Fit the scaler on the training data and transform all sets\n",
    "X_train = scaler.fit_transform(X_train)\n",
    "X_val = scaler.transform(X_val)\n",
    "X_test = scaler.transform(X_test)\n",
    "\n",
    "# Check the scaled values\n",
    "print(f'Scaled training data mean: {X_train.mean(axis=0)}')\n",
    "print(f'Scaled training data std: {X_train.std(axis=0)}')\n"
   ]
  },
  {
   "cell_type": "code",
   "execution_count": 8,
   "metadata": {},
   "outputs": [
    {
     "name": "stdout",
     "output_type": "stream",
     "text": [
      "Validation MSE: 3.1579, RMSE: 1.7770, R²: -5.8537\n"
     ]
    }
   ],
   "source": [
    "import numpy as np\n",
    "\n",
    "class MLPRegression:\n",
    "    def __init__(self, layers, learning_rate=0.01, activation='relu', optimizer='sgd', batch_size=32, epochs=100):\n",
    "        self.layers = layers\n",
    "        self.learning_rate = learning_rate\n",
    "        self.activation_func = self.get_activation_func(activation)\n",
    "        self.optimizer = optimizer\n",
    "        self.batch_size = batch_size\n",
    "        self.epochs = epochs\n",
    "        self.weights, self.biases = self.initialize_weights()\n",
    "    \n",
    "    def initialize_weights(self):\n",
    "        np.random.seed(42)\n",
    "        weights = []\n",
    "        biases = []\n",
    "        for i in range(1, len(self.layers)):\n",
    "            weights.append(np.random.randn(self.layers[i], self.layers[i - 1]) * 0.01)\n",
    "            biases.append(np.zeros((self.layers[i], 1)))\n",
    "        return weights, biases\n",
    "\n",
    "    def get_activation_func(self, name):\n",
    "        if name == 'sigmoid':\n",
    "            return lambda x: 1 / (1 + np.exp(-np.clip(x, -500, 500))), lambda x: x * (1 - x)  # Clipping the input to avoid overflow\n",
    "        elif name == 'tanh':\n",
    "            return lambda x: np.tanh(x), lambda x: 1 - x ** 2  # Tanh & derivative\n",
    "        elif name == 'relu':\n",
    "            return lambda x: np.maximum(0, x), lambda x: np.where(x > 0, 1, 0)  # ReLU & derivative\n",
    "        elif name == 'linear':\n",
    "            return lambda x: x, lambda x: 1  # Linear (for regression)\n",
    "    x: 1  # Linear (for regression)\n",
    "\n",
    "    def forward(self, X):\n",
    "        a = X.T\n",
    "        activations = [a]\n",
    "        z_values = []\n",
    "        for w, b in zip(self.weights, self.biases):\n",
    "            z = np.dot(w, a) + b\n",
    "            a = self.activation_func[0](z)\n",
    "            z_values.append(z)\n",
    "            activations.append(a)\n",
    "        return activations, z_values\n",
    "\n",
    "    def backprop(self, activations, z_values, y):\n",
    "        m = y.shape[0]\n",
    "        dz = activations[-1] - y.T\n",
    "        dws = []\n",
    "        dbs = []\n",
    "        for i in reversed(range(len(self.weights))):\n",
    "            dw = (1/m) * np.dot(dz, activations[i].T)\n",
    "            db = (1/m) * np.sum(dz, axis=1, keepdims=True)\n",
    "\n",
    "            # Gradient Clipping: Limit the values of dw and db to a certain threshold\n",
    "            np.clip(dw, -1e5, 1e5, out=dw)\n",
    "            np.clip(db, -1e5, 1e5, out=db)\n",
    "\n",
    "            dws.insert(0, dw)\n",
    "            dbs.insert(0, db)\n",
    "            if i > 0:\n",
    "                dz = np.dot(self.weights[i].T, dz) * self.activation_func[1](z_values[i-1])  # Backpropagate\n",
    "        return dws, dbs\n",
    "\n",
    "\n",
    "    def update_weights(self, dws, dbs):\n",
    "        for i in range(len(self.weights)):\n",
    "            self.weights[i] -= self.learning_rate * dws[i]\n",
    "            self.biases[i] -= self.learning_rate * dbs[i]\n",
    "\n",
    "    def update_weights_batch(self, X_train, y_train):\n",
    " \n",
    "        y_train = np.array(y_train).reshape(-1, 1)\n",
    "\n",
    "        for epoch in range(self.epochs):\n",
    "            activations, z_values = self.forward(X_train)\n",
    "            dws, dbs = self.backprop(activations, z_values, y_train)\n",
    "            self.update_weights(dws, dbs)\n",
    "\n",
    "\n",
    "    def update_weights_mini_batch(self, X_train, y_train):\n",
    "        for epoch in range(self.epochs):\n",
    "            for start_idx in range(0, len(X_train), self.batch_size):\n",
    "                end_idx = start_idx + self.batch_size\n",
    "                X_batch = X_train[start_idx:end_idx]\n",
    "                y_batch = np.array(y_train[start_idx:end_idx]).reshape(-1, 1)  # Ensure proper shape\n",
    "\n",
    "                activations, z_values = self.forward(X_batch)\n",
    "                dws, dbs = self.backprop(activations, z_values, y_batch)\n",
    "                self.update_weights(dws, dbs)\n",
    "\n",
    "\n",
    "    def fit(self, X_train, y_train):\n",
    "        if self.optimizer == 'sgd':\n",
    "            self.update_weights_batch(X_train, y_train)\n",
    "        elif self.optimizer == 'batch':\n",
    "            self.update_weights_batch(X_train, y_train)\n",
    "        elif self.optimizer == 'mini_batch':\n",
    "            self.update_weights_mini_batch(X_train, y_train)\n",
    "\n",
    "    def predict(self, X):\n",
    "        activations, _ = self.forward(X)\n",
    "        return activations[-1].T\n",
    "\n",
    "    def evaluate(self, X, y):\n",
    "        y = np.array(y).reshape(-1, 1)\n",
    "        y_pred = self.predict(X)\n",
    "\n",
    "        # Ensure no divide by zero in loss calculation\n",
    "        mae = np.mean((y - y_pred))\n",
    "        mse = np.mean((y - y_pred) ** 2)\n",
    "        if np.isnan(mse) or np.isinf(mse):\n",
    "            print(\"MSE computation resulted in NaN or Inf.\")\n",
    "            mse = np.nan_to_num(mse, nan=1e6, posinf=1e6, neginf=-1e6)  # Avoid NaN or Inf by substituting large values\n",
    "        rmse = np.sqrt(mse)\n",
    "        r2 = 1 - (np.sum((y - y_pred) ** 2) / (np.sum((y - np.mean(y)) ** 2) + 1e-8))  # Small epsilon to avoid division by zero\n",
    "        return mse, rmse, r2, mae\n",
    "\n",
    "\n",
    "    def gradient_check(self, X, y, epsilon=1e-7):\n",
    "        activations, _ = self.forward(X)\n",
    "        dws, dbs = self.backprop(activations, None, y)\n",
    "        \n",
    "        # Gradient checking for weights\n",
    "        for i in range(len(self.weights)):\n",
    "            original_weights = self.weights[i].copy()\n",
    "            num_grads_w = np.zeros_like(self.weights[i])\n",
    "            \n",
    "            for j in range(self.weights[i].shape[0]):\n",
    "                for k in range(self.weights[i].shape[1]):\n",
    "                    self.weights[i][j, k] += epsilon\n",
    "                    loss1 = self._compute_loss(X, y)\n",
    "                    \n",
    "                    self.weights[i][j, k] -= 2 * epsilon\n",
    "                    loss2 = self._compute_loss(X, y)\n",
    "                    \n",
    "                    num_grads_w[j, k] = (loss1 - loss2) / (2 * epsilon)\n",
    "                    self.weights[i][j, k] = original_weights[j, k]  # Reset\n",
    "            \n",
    "            assert np.allclose(dws[i], num_grads_w, atol=1e-5), f\"Gradient check failed for layer {i}\"\n",
    "        \n",
    "        print(\"Gradient check passed for weights\")\n",
    "\n",
    "    def _compute_loss(self, X, y):\n",
    "        y_pred = self.predict(X)\n",
    "        return np.mean((y - y_pred) ** 2)\n",
    "\n",
    "\n",
    "# Define the architecture of the MLP\n",
    "layers = [X_train.shape[1], 64, 32, 1]  # Input layer, two hidden layers, output layer\n",
    "\n",
    "# Create an instance of the MLPRegression class\n",
    "mlp = MLPRegression(layers=layers, learning_rate=0.01, activation='relu', optimizer='sgd', batch_size=32, epochs=100)\n",
    "\n",
    "# Train the model\n",
    "mlp.fit(X_train, y_train)\n",
    "\n",
    "# Evaluate on validation set\n",
    "mse_val, rmse_val, r2_val, mae_val = mlp.evaluate(X_val, y_val)\n",
    "print(f'Validation MSE: {mse_val:.4f}, RMSE: {rmse_val:.4f}, R²: {r2_val:.4f}')\n",
    "\n",
    "# mlp.gradient_check(X_val[:10], y_val[:10])\n",
    "# # Evaluate on test set\n",
    "# mse_test, rmse_test, r2_test = mlp.evaluate(X_test, y_test)\n",
    "# print(f'Test MSE: {mse_test:.4f}, RMSE: {rmse_test:.4f}, R²: {r2_test:.4f}')\n"
   ]
  },
  {
   "cell_type": "code",
   "execution_count": 9,
   "metadata": {},
   "outputs": [
    {
     "name": "stdout",
     "output_type": "stream",
     "text": [
      "Validation MSE: 5.2147, RMSE: 2.2836, R²: -7.0248, MAE: 2.1366\n"
     ]
    }
   ],
   "source": [
    "# Define the architecture of the MLP\n",
    "layers = [X_train.shape[1], 13, 10, 1]  # Input layer, two hidden layers, output layer\n",
    "\n",
    "# Create an instance of the MLPRegression class\n",
    "mlp = MLPRegression(layers=layers, learning_rate=0.01935, activation='relu', optimizer='batch', batch_size=64, epochs=50)\n",
    "\n",
    "# Train the model\n",
    "mlp.fit(X_train, y_train)\n",
    "\n",
    "# Evaluate on validation set\n",
    "mse_test, rmse_test, r2_test, mae_test = mlp.evaluate(X_test, y_test)\n",
    "print(f'Validation MSE: {mse_test:.4f}, RMSE: {rmse_test:.4f}, R²: {r2_test:.4f}, MAE: {mae_test:.4f}')"
   ]
  },
  {
   "cell_type": "code",
   "execution_count": 32,
   "metadata": {},
   "outputs": [
    {
     "name": "stdout",
     "output_type": "stream",
     "text": [
      "Create sweep with ID: 6gjni9g3\n",
      "Sweep URL: https://wandb.ai/dusaneyash09-iiit-hyderabad/MLP-Regression-Sweep/sweeps/6gjni9g3\n"
     ]
    },
    {
     "name": "stderr",
     "output_type": "stream",
     "text": [
      "\u001b[34m\u001b[1mwandb\u001b[0m: Agent Starting Run: 2mzfq1hq with config:\n",
      "\u001b[34m\u001b[1mwandb\u001b[0m: \tactivation: tanh\n",
      "\u001b[34m\u001b[1mwandb\u001b[0m: \tbatch_size: 32\n",
      "\u001b[34m\u001b[1mwandb\u001b[0m: \tepochs: 50\n",
      "\u001b[34m\u001b[1mwandb\u001b[0m: \tlayers: [13, 64, 32, 1]\n",
      "\u001b[34m\u001b[1mwandb\u001b[0m: \tlearning_rate: 0.09225654079334918\n",
      "\u001b[34m\u001b[1mwandb\u001b[0m: \toptimizer: batch\n"
     ]
    },
    {
     "data": {
      "text/html": [
       "Tracking run with wandb version 0.18.3"
      ],
      "text/plain": [
       "<IPython.core.display.HTML object>"
      ]
     },
     "metadata": {},
     "output_type": "display_data"
    },
    {
     "data": {
      "text/html": [
       "Run data is saved locally in <code>c:\\Users\\yashd\\OneDrive\\Desktop\\IIIT_Hyd\\Sem_5\\SMAI\\github\\assignments\\3\\wandb\\run-20241011_203744-2mzfq1hq</code>"
      ],
      "text/plain": [
       "<IPython.core.display.HTML object>"
      ]
     },
     "metadata": {},
     "output_type": "display_data"
    },
    {
     "data": {
      "text/html": [
       "Syncing run <strong><a href='https://wandb.ai/dusaneyash09-iiit-hyderabad/MLP-Regression-Sweep/runs/2mzfq1hq' target=\"_blank\">brisk-sweep-1</a></strong> to <a href='https://wandb.ai/dusaneyash09-iiit-hyderabad/MLP-Regression-Sweep' target=\"_blank\">Weights & Biases</a> (<a href='https://wandb.me/run' target=\"_blank\">docs</a>)<br/>Sweep page: <a href='https://wandb.ai/dusaneyash09-iiit-hyderabad/MLP-Regression-Sweep/sweeps/6gjni9g3' target=\"_blank\">https://wandb.ai/dusaneyash09-iiit-hyderabad/MLP-Regression-Sweep/sweeps/6gjni9g3</a>"
      ],
      "text/plain": [
       "<IPython.core.display.HTML object>"
      ]
     },
     "metadata": {},
     "output_type": "display_data"
    },
    {
     "data": {
      "text/html": [
       " View project at <a href='https://wandb.ai/dusaneyash09-iiit-hyderabad/MLP-Regression-Sweep' target=\"_blank\">https://wandb.ai/dusaneyash09-iiit-hyderabad/MLP-Regression-Sweep</a>"
      ],
      "text/plain": [
       "<IPython.core.display.HTML object>"
      ]
     },
     "metadata": {},
     "output_type": "display_data"
    },
    {
     "data": {
      "text/html": [
       " View sweep at <a href='https://wandb.ai/dusaneyash09-iiit-hyderabad/MLP-Regression-Sweep/sweeps/6gjni9g3' target=\"_blank\">https://wandb.ai/dusaneyash09-iiit-hyderabad/MLP-Regression-Sweep/sweeps/6gjni9g3</a>"
      ],
      "text/plain": [
       "<IPython.core.display.HTML object>"
      ]
     },
     "metadata": {},
     "output_type": "display_data"
    },
    {
     "data": {
      "text/html": [
       " View run at <a href='https://wandb.ai/dusaneyash09-iiit-hyderabad/MLP-Regression-Sweep/runs/2mzfq1hq' target=\"_blank\">https://wandb.ai/dusaneyash09-iiit-hyderabad/MLP-Regression-Sweep/runs/2mzfq1hq</a>"
      ],
      "text/plain": [
       "<IPython.core.display.HTML object>"
      ]
     },
     "metadata": {},
     "output_type": "display_data"
    },
    {
     "data": {
      "text/html": [
       "<style>\n",
       "    table.wandb td:nth-child(1) { padding: 0 10px; text-align: left ; width: auto;} td:nth-child(2) {text-align: left ; width: 100%}\n",
       "    .wandb-row { display: flex; flex-direction: row; flex-wrap: wrap; justify-content: flex-start; width: 100% }\n",
       "    .wandb-col { display: flex; flex-direction: column; flex-basis: 100%; flex: 1; padding: 10px; }\n",
       "    </style>\n",
       "<div class=\"wandb-row\"><div class=\"wandb-col\"><h3>Run history:</h3><br/><table class=\"wandb\"><tr><td>MSE</td><td>▁</td></tr><tr><td>RMSE</td><td>▁</td></tr><tr><td>R²</td><td>▁</td></tr></table><br/></div><div class=\"wandb-col\"><h3>Run summary:</h3><br/><table class=\"wandb\"><tr><td>MSE</td><td>530.09114</td></tr><tr><td>RMSE</td><td>23.02371</td></tr><tr><td>R²</td><td>-5.74336</td></tr></table><br/></div></div>"
      ],
      "text/plain": [
       "<IPython.core.display.HTML object>"
      ]
     },
     "metadata": {},
     "output_type": "display_data"
    },
    {
     "data": {
      "text/html": [
       " View run <strong style=\"color:#cdcd00\">brisk-sweep-1</strong> at: <a href='https://wandb.ai/dusaneyash09-iiit-hyderabad/MLP-Regression-Sweep/runs/2mzfq1hq' target=\"_blank\">https://wandb.ai/dusaneyash09-iiit-hyderabad/MLP-Regression-Sweep/runs/2mzfq1hq</a><br/> View project at: <a href='https://wandb.ai/dusaneyash09-iiit-hyderabad/MLP-Regression-Sweep' target=\"_blank\">https://wandb.ai/dusaneyash09-iiit-hyderabad/MLP-Regression-Sweep</a><br/>Synced 5 W&B file(s), 0 media file(s), 0 artifact file(s) and 0 other file(s)"
      ],
      "text/plain": [
       "<IPython.core.display.HTML object>"
      ]
     },
     "metadata": {},
     "output_type": "display_data"
    },
    {
     "data": {
      "text/html": [
       "Find logs at: <code>.\\wandb\\run-20241011_203744-2mzfq1hq\\logs</code>"
      ],
      "text/plain": [
       "<IPython.core.display.HTML object>"
      ]
     },
     "metadata": {},
     "output_type": "display_data"
    },
    {
     "name": "stderr",
     "output_type": "stream",
     "text": [
      "\u001b[34m\u001b[1mwandb\u001b[0m: Agent Starting Run: dgf9fcn8 with config:\n",
      "\u001b[34m\u001b[1mwandb\u001b[0m: \tactivation: tanh\n",
      "\u001b[34m\u001b[1mwandb\u001b[0m: \tbatch_size: 64\n",
      "\u001b[34m\u001b[1mwandb\u001b[0m: \tepochs: 100\n",
      "\u001b[34m\u001b[1mwandb\u001b[0m: \tlayers: [13, 32, 16, 1]\n",
      "\u001b[34m\u001b[1mwandb\u001b[0m: \tlearning_rate: 0.08341886725752752\n",
      "\u001b[34m\u001b[1mwandb\u001b[0m: \toptimizer: batch\n"
     ]
    },
    {
     "data": {
      "text/html": [
       "Tracking run with wandb version 0.18.3"
      ],
      "text/plain": [
       "<IPython.core.display.HTML object>"
      ]
     },
     "metadata": {},
     "output_type": "display_data"
    },
    {
     "data": {
      "text/html": [
       "Run data is saved locally in <code>c:\\Users\\yashd\\OneDrive\\Desktop\\IIIT_Hyd\\Sem_5\\SMAI\\github\\assignments\\3\\wandb\\run-20241011_203756-dgf9fcn8</code>"
      ],
      "text/plain": [
       "<IPython.core.display.HTML object>"
      ]
     },
     "metadata": {},
     "output_type": "display_data"
    },
    {
     "data": {
      "text/html": [
       "Syncing run <strong><a href='https://wandb.ai/dusaneyash09-iiit-hyderabad/MLP-Regression-Sweep/runs/dgf9fcn8' target=\"_blank\">sweet-sweep-2</a></strong> to <a href='https://wandb.ai/dusaneyash09-iiit-hyderabad/MLP-Regression-Sweep' target=\"_blank\">Weights & Biases</a> (<a href='https://wandb.me/run' target=\"_blank\">docs</a>)<br/>Sweep page: <a href='https://wandb.ai/dusaneyash09-iiit-hyderabad/MLP-Regression-Sweep/sweeps/6gjni9g3' target=\"_blank\">https://wandb.ai/dusaneyash09-iiit-hyderabad/MLP-Regression-Sweep/sweeps/6gjni9g3</a>"
      ],
      "text/plain": [
       "<IPython.core.display.HTML object>"
      ]
     },
     "metadata": {},
     "output_type": "display_data"
    },
    {
     "data": {
      "text/html": [
       " View project at <a href='https://wandb.ai/dusaneyash09-iiit-hyderabad/MLP-Regression-Sweep' target=\"_blank\">https://wandb.ai/dusaneyash09-iiit-hyderabad/MLP-Regression-Sweep</a>"
      ],
      "text/plain": [
       "<IPython.core.display.HTML object>"
      ]
     },
     "metadata": {},
     "output_type": "display_data"
    },
    {
     "data": {
      "text/html": [
       " View sweep at <a href='https://wandb.ai/dusaneyash09-iiit-hyderabad/MLP-Regression-Sweep/sweeps/6gjni9g3' target=\"_blank\">https://wandb.ai/dusaneyash09-iiit-hyderabad/MLP-Regression-Sweep/sweeps/6gjni9g3</a>"
      ],
      "text/plain": [
       "<IPython.core.display.HTML object>"
      ]
     },
     "metadata": {},
     "output_type": "display_data"
    },
    {
     "data": {
      "text/html": [
       " View run at <a href='https://wandb.ai/dusaneyash09-iiit-hyderabad/MLP-Regression-Sweep/runs/dgf9fcn8' target=\"_blank\">https://wandb.ai/dusaneyash09-iiit-hyderabad/MLP-Regression-Sweep/runs/dgf9fcn8</a>"
      ],
      "text/plain": [
       "<IPython.core.display.HTML object>"
      ]
     },
     "metadata": {},
     "output_type": "display_data"
    },
    {
     "data": {
      "text/html": [
       "<style>\n",
       "    table.wandb td:nth-child(1) { padding: 0 10px; text-align: left ; width: auto;} td:nth-child(2) {text-align: left ; width: 100%}\n",
       "    .wandb-row { display: flex; flex-direction: row; flex-wrap: wrap; justify-content: flex-start; width: 100% }\n",
       "    .wandb-col { display: flex; flex-direction: column; flex-basis: 100%; flex: 1; padding: 10px; }\n",
       "    </style>\n",
       "<div class=\"wandb-row\"><div class=\"wandb-col\"><h3>Run history:</h3><br/><table class=\"wandb\"><tr><td>MSE</td><td>▁</td></tr><tr><td>RMSE</td><td>▁</td></tr><tr><td>R²</td><td>▁</td></tr></table><br/></div><div class=\"wandb-col\"><h3>Run summary:</h3><br/><table class=\"wandb\"><tr><td>MSE</td><td>558.94177</td></tr><tr><td>RMSE</td><td>23.64195</td></tr><tr><td>R²</td><td>-6.11037</td></tr></table><br/></div></div>"
      ],
      "text/plain": [
       "<IPython.core.display.HTML object>"
      ]
     },
     "metadata": {},
     "output_type": "display_data"
    },
    {
     "data": {
      "text/html": [
       " View run <strong style=\"color:#cdcd00\">sweet-sweep-2</strong> at: <a href='https://wandb.ai/dusaneyash09-iiit-hyderabad/MLP-Regression-Sweep/runs/dgf9fcn8' target=\"_blank\">https://wandb.ai/dusaneyash09-iiit-hyderabad/MLP-Regression-Sweep/runs/dgf9fcn8</a><br/> View project at: <a href='https://wandb.ai/dusaneyash09-iiit-hyderabad/MLP-Regression-Sweep' target=\"_blank\">https://wandb.ai/dusaneyash09-iiit-hyderabad/MLP-Regression-Sweep</a><br/>Synced 5 W&B file(s), 0 media file(s), 0 artifact file(s) and 0 other file(s)"
      ],
      "text/plain": [
       "<IPython.core.display.HTML object>"
      ]
     },
     "metadata": {},
     "output_type": "display_data"
    },
    {
     "data": {
      "text/html": [
       "Find logs at: <code>.\\wandb\\run-20241011_203756-dgf9fcn8\\logs</code>"
      ],
      "text/plain": [
       "<IPython.core.display.HTML object>"
      ]
     },
     "metadata": {},
     "output_type": "display_data"
    },
    {
     "name": "stderr",
     "output_type": "stream",
     "text": [
      "\u001b[34m\u001b[1mwandb\u001b[0m: Sweep Agent: Waiting for job.\n",
      "\u001b[34m\u001b[1mwandb\u001b[0m: Job received.\n",
      "\u001b[34m\u001b[1mwandb\u001b[0m: Agent Starting Run: p3ukgzfi with config:\n",
      "\u001b[34m\u001b[1mwandb\u001b[0m: \tactivation: tanh\n",
      "\u001b[34m\u001b[1mwandb\u001b[0m: \tbatch_size: 64\n",
      "\u001b[34m\u001b[1mwandb\u001b[0m: \tepochs: 100\n",
      "\u001b[34m\u001b[1mwandb\u001b[0m: \tlayers: [13, 10, 1]\n",
      "\u001b[34m\u001b[1mwandb\u001b[0m: \tlearning_rate: 0.08816095445399691\n",
      "\u001b[34m\u001b[1mwandb\u001b[0m: \toptimizer: sgd\n"
     ]
    },
    {
     "data": {
      "text/html": [
       "Tracking run with wandb version 0.18.3"
      ],
      "text/plain": [
       "<IPython.core.display.HTML object>"
      ]
     },
     "metadata": {},
     "output_type": "display_data"
    },
    {
     "data": {
      "text/html": [
       "Run data is saved locally in <code>c:\\Users\\yashd\\OneDrive\\Desktop\\IIIT_Hyd\\Sem_5\\SMAI\\github\\assignments\\3\\wandb\\run-20241011_203812-p3ukgzfi</code>"
      ],
      "text/plain": [
       "<IPython.core.display.HTML object>"
      ]
     },
     "metadata": {},
     "output_type": "display_data"
    },
    {
     "data": {
      "text/html": [
       "Syncing run <strong><a href='https://wandb.ai/dusaneyash09-iiit-hyderabad/MLP-Regression-Sweep/runs/p3ukgzfi' target=\"_blank\">sage-sweep-3</a></strong> to <a href='https://wandb.ai/dusaneyash09-iiit-hyderabad/MLP-Regression-Sweep' target=\"_blank\">Weights & Biases</a> (<a href='https://wandb.me/run' target=\"_blank\">docs</a>)<br/>Sweep page: <a href='https://wandb.ai/dusaneyash09-iiit-hyderabad/MLP-Regression-Sweep/sweeps/6gjni9g3' target=\"_blank\">https://wandb.ai/dusaneyash09-iiit-hyderabad/MLP-Regression-Sweep/sweeps/6gjni9g3</a>"
      ],
      "text/plain": [
       "<IPython.core.display.HTML object>"
      ]
     },
     "metadata": {},
     "output_type": "display_data"
    },
    {
     "data": {
      "text/html": [
       " View project at <a href='https://wandb.ai/dusaneyash09-iiit-hyderabad/MLP-Regression-Sweep' target=\"_blank\">https://wandb.ai/dusaneyash09-iiit-hyderabad/MLP-Regression-Sweep</a>"
      ],
      "text/plain": [
       "<IPython.core.display.HTML object>"
      ]
     },
     "metadata": {},
     "output_type": "display_data"
    },
    {
     "data": {
      "text/html": [
       " View sweep at <a href='https://wandb.ai/dusaneyash09-iiit-hyderabad/MLP-Regression-Sweep/sweeps/6gjni9g3' target=\"_blank\">https://wandb.ai/dusaneyash09-iiit-hyderabad/MLP-Regression-Sweep/sweeps/6gjni9g3</a>"
      ],
      "text/plain": [
       "<IPython.core.display.HTML object>"
      ]
     },
     "metadata": {},
     "output_type": "display_data"
    },
    {
     "data": {
      "text/html": [
       " View run at <a href='https://wandb.ai/dusaneyash09-iiit-hyderabad/MLP-Regression-Sweep/runs/p3ukgzfi' target=\"_blank\">https://wandb.ai/dusaneyash09-iiit-hyderabad/MLP-Regression-Sweep/runs/p3ukgzfi</a>"
      ],
      "text/plain": [
       "<IPython.core.display.HTML object>"
      ]
     },
     "metadata": {},
     "output_type": "display_data"
    },
    {
     "data": {
      "text/html": [
       "<style>\n",
       "    table.wandb td:nth-child(1) { padding: 0 10px; text-align: left ; width: auto;} td:nth-child(2) {text-align: left ; width: 100%}\n",
       "    .wandb-row { display: flex; flex-direction: row; flex-wrap: wrap; justify-content: flex-start; width: 100% }\n",
       "    .wandb-col { display: flex; flex-direction: column; flex-basis: 100%; flex: 1; padding: 10px; }\n",
       "    </style>\n",
       "<div class=\"wandb-row\"><div class=\"wandb-col\"><h3>Run history:</h3><br/><table class=\"wandb\"><tr><td>MSE</td><td>▁</td></tr><tr><td>RMSE</td><td>▁</td></tr><tr><td>R²</td><td>▁</td></tr></table><br/></div><div class=\"wandb-col\"><h3>Run summary:</h3><br/><table class=\"wandb\"><tr><td>MSE</td><td>530.09114</td></tr><tr><td>RMSE</td><td>23.02371</td></tr><tr><td>R²</td><td>-5.74336</td></tr></table><br/></div></div>"
      ],
      "text/plain": [
       "<IPython.core.display.HTML object>"
      ]
     },
     "metadata": {},
     "output_type": "display_data"
    },
    {
     "data": {
      "text/html": [
       " View run <strong style=\"color:#cdcd00\">sage-sweep-3</strong> at: <a href='https://wandb.ai/dusaneyash09-iiit-hyderabad/MLP-Regression-Sweep/runs/p3ukgzfi' target=\"_blank\">https://wandb.ai/dusaneyash09-iiit-hyderabad/MLP-Regression-Sweep/runs/p3ukgzfi</a><br/> View project at: <a href='https://wandb.ai/dusaneyash09-iiit-hyderabad/MLP-Regression-Sweep' target=\"_blank\">https://wandb.ai/dusaneyash09-iiit-hyderabad/MLP-Regression-Sweep</a><br/>Synced 5 W&B file(s), 0 media file(s), 0 artifact file(s) and 0 other file(s)"
      ],
      "text/plain": [
       "<IPython.core.display.HTML object>"
      ]
     },
     "metadata": {},
     "output_type": "display_data"
    },
    {
     "data": {
      "text/html": [
       "Find logs at: <code>.\\wandb\\run-20241011_203812-p3ukgzfi\\logs</code>"
      ],
      "text/plain": [
       "<IPython.core.display.HTML object>"
      ]
     },
     "metadata": {},
     "output_type": "display_data"
    },
    {
     "name": "stderr",
     "output_type": "stream",
     "text": [
      "\u001b[34m\u001b[1mwandb\u001b[0m: Agent Starting Run: oebasmcm with config:\n",
      "\u001b[34m\u001b[1mwandb\u001b[0m: \tactivation: sigmoid\n",
      "\u001b[34m\u001b[1mwandb\u001b[0m: \tbatch_size: 64\n",
      "\u001b[34m\u001b[1mwandb\u001b[0m: \tepochs: 100\n",
      "\u001b[34m\u001b[1mwandb\u001b[0m: \tlayers: [13, 10, 1]\n",
      "\u001b[34m\u001b[1mwandb\u001b[0m: \tlearning_rate: 0.022746996895633448\n",
      "\u001b[34m\u001b[1mwandb\u001b[0m: \toptimizer: mini-batch\n"
     ]
    },
    {
     "data": {
      "text/html": [
       "Tracking run with wandb version 0.18.3"
      ],
      "text/plain": [
       "<IPython.core.display.HTML object>"
      ]
     },
     "metadata": {},
     "output_type": "display_data"
    },
    {
     "data": {
      "text/html": [
       "Run data is saved locally in <code>c:\\Users\\yashd\\OneDrive\\Desktop\\IIIT_Hyd\\Sem_5\\SMAI\\github\\assignments\\3\\wandb\\run-20241011_203817-oebasmcm</code>"
      ],
      "text/plain": [
       "<IPython.core.display.HTML object>"
      ]
     },
     "metadata": {},
     "output_type": "display_data"
    },
    {
     "data": {
      "text/html": [
       "Syncing run <strong><a href='https://wandb.ai/dusaneyash09-iiit-hyderabad/MLP-Regression-Sweep/runs/oebasmcm' target=\"_blank\">dutiful-sweep-4</a></strong> to <a href='https://wandb.ai/dusaneyash09-iiit-hyderabad/MLP-Regression-Sweep' target=\"_blank\">Weights & Biases</a> (<a href='https://wandb.me/run' target=\"_blank\">docs</a>)<br/>Sweep page: <a href='https://wandb.ai/dusaneyash09-iiit-hyderabad/MLP-Regression-Sweep/sweeps/6gjni9g3' target=\"_blank\">https://wandb.ai/dusaneyash09-iiit-hyderabad/MLP-Regression-Sweep/sweeps/6gjni9g3</a>"
      ],
      "text/plain": [
       "<IPython.core.display.HTML object>"
      ]
     },
     "metadata": {},
     "output_type": "display_data"
    },
    {
     "data": {
      "text/html": [
       " View project at <a href='https://wandb.ai/dusaneyash09-iiit-hyderabad/MLP-Regression-Sweep' target=\"_blank\">https://wandb.ai/dusaneyash09-iiit-hyderabad/MLP-Regression-Sweep</a>"
      ],
      "text/plain": [
       "<IPython.core.display.HTML object>"
      ]
     },
     "metadata": {},
     "output_type": "display_data"
    },
    {
     "data": {
      "text/html": [
       " View sweep at <a href='https://wandb.ai/dusaneyash09-iiit-hyderabad/MLP-Regression-Sweep/sweeps/6gjni9g3' target=\"_blank\">https://wandb.ai/dusaneyash09-iiit-hyderabad/MLP-Regression-Sweep/sweeps/6gjni9g3</a>"
      ],
      "text/plain": [
       "<IPython.core.display.HTML object>"
      ]
     },
     "metadata": {},
     "output_type": "display_data"
    },
    {
     "data": {
      "text/html": [
       " View run at <a href='https://wandb.ai/dusaneyash09-iiit-hyderabad/MLP-Regression-Sweep/runs/oebasmcm' target=\"_blank\">https://wandb.ai/dusaneyash09-iiit-hyderabad/MLP-Regression-Sweep/runs/oebasmcm</a>"
      ],
      "text/plain": [
       "<IPython.core.display.HTML object>"
      ]
     },
     "metadata": {},
     "output_type": "display_data"
    },
    {
     "data": {
      "text/html": [
       "<style>\n",
       "    table.wandb td:nth-child(1) { padding: 0 10px; text-align: left ; width: auto;} td:nth-child(2) {text-align: left ; width: 100%}\n",
       "    .wandb-row { display: flex; flex-direction: row; flex-wrap: wrap; justify-content: flex-start; width: 100% }\n",
       "    .wandb-col { display: flex; flex-direction: column; flex-basis: 100%; flex: 1; padding: 10px; }\n",
       "    </style>\n",
       "<div class=\"wandb-row\"><div class=\"wandb-col\"><h3>Run history:</h3><br/><table class=\"wandb\"><tr><td>MSE</td><td>▁</td></tr><tr><td>RMSE</td><td>▁</td></tr><tr><td>R²</td><td>▁</td></tr></table><br/></div><div class=\"wandb-col\"><h3>Run summary:</h3><br/><table class=\"wandb\"><tr><td>MSE</td><td>551.75188</td></tr><tr><td>RMSE</td><td>23.4894</td></tr><tr><td>R²</td><td>-6.01891</td></tr></table><br/></div></div>"
      ],
      "text/plain": [
       "<IPython.core.display.HTML object>"
      ]
     },
     "metadata": {},
     "output_type": "display_data"
    },
    {
     "data": {
      "text/html": [
       " View run <strong style=\"color:#cdcd00\">dutiful-sweep-4</strong> at: <a href='https://wandb.ai/dusaneyash09-iiit-hyderabad/MLP-Regression-Sweep/runs/oebasmcm' target=\"_blank\">https://wandb.ai/dusaneyash09-iiit-hyderabad/MLP-Regression-Sweep/runs/oebasmcm</a><br/> View project at: <a href='https://wandb.ai/dusaneyash09-iiit-hyderabad/MLP-Regression-Sweep' target=\"_blank\">https://wandb.ai/dusaneyash09-iiit-hyderabad/MLP-Regression-Sweep</a><br/>Synced 5 W&B file(s), 0 media file(s), 0 artifact file(s) and 0 other file(s)"
      ],
      "text/plain": [
       "<IPython.core.display.HTML object>"
      ]
     },
     "metadata": {},
     "output_type": "display_data"
    },
    {
     "data": {
      "text/html": [
       "Find logs at: <code>.\\wandb\\run-20241011_203817-oebasmcm\\logs</code>"
      ],
      "text/plain": [
       "<IPython.core.display.HTML object>"
      ]
     },
     "metadata": {},
     "output_type": "display_data"
    },
    {
     "name": "stderr",
     "output_type": "stream",
     "text": [
      "\u001b[34m\u001b[1mwandb\u001b[0m: Sweep Agent: Waiting for job.\n",
      "\u001b[34m\u001b[1mwandb\u001b[0m: Job received.\n",
      "\u001b[34m\u001b[1mwandb\u001b[0m: Agent Starting Run: 7r5jrenn with config:\n",
      "\u001b[34m\u001b[1mwandb\u001b[0m: \tactivation: sigmoid\n",
      "\u001b[34m\u001b[1mwandb\u001b[0m: \tbatch_size: 32\n",
      "\u001b[34m\u001b[1mwandb\u001b[0m: \tepochs: 200\n",
      "\u001b[34m\u001b[1mwandb\u001b[0m: \tlayers: [13, 64, 32, 1]\n",
      "\u001b[34m\u001b[1mwandb\u001b[0m: \tlearning_rate: 0.022622509146604287\n",
      "\u001b[34m\u001b[1mwandb\u001b[0m: \toptimizer: sgd\n"
     ]
    },
    {
     "data": {
      "text/html": [
       "Tracking run with wandb version 0.18.3"
      ],
      "text/plain": [
       "<IPython.core.display.HTML object>"
      ]
     },
     "metadata": {},
     "output_type": "display_data"
    },
    {
     "data": {
      "text/html": [
       "Run data is saved locally in <code>c:\\Users\\yashd\\OneDrive\\Desktop\\IIIT_Hyd\\Sem_5\\SMAI\\github\\assignments\\3\\wandb\\run-20241011_203833-7r5jrenn</code>"
      ],
      "text/plain": [
       "<IPython.core.display.HTML object>"
      ]
     },
     "metadata": {},
     "output_type": "display_data"
    },
    {
     "data": {
      "text/html": [
       "Syncing run <strong><a href='https://wandb.ai/dusaneyash09-iiit-hyderabad/MLP-Regression-Sweep/runs/7r5jrenn' target=\"_blank\">fanciful-sweep-5</a></strong> to <a href='https://wandb.ai/dusaneyash09-iiit-hyderabad/MLP-Regression-Sweep' target=\"_blank\">Weights & Biases</a> (<a href='https://wandb.me/run' target=\"_blank\">docs</a>)<br/>Sweep page: <a href='https://wandb.ai/dusaneyash09-iiit-hyderabad/MLP-Regression-Sweep/sweeps/6gjni9g3' target=\"_blank\">https://wandb.ai/dusaneyash09-iiit-hyderabad/MLP-Regression-Sweep/sweeps/6gjni9g3</a>"
      ],
      "text/plain": [
       "<IPython.core.display.HTML object>"
      ]
     },
     "metadata": {},
     "output_type": "display_data"
    },
    {
     "data": {
      "text/html": [
       " View project at <a href='https://wandb.ai/dusaneyash09-iiit-hyderabad/MLP-Regression-Sweep' target=\"_blank\">https://wandb.ai/dusaneyash09-iiit-hyderabad/MLP-Regression-Sweep</a>"
      ],
      "text/plain": [
       "<IPython.core.display.HTML object>"
      ]
     },
     "metadata": {},
     "output_type": "display_data"
    },
    {
     "data": {
      "text/html": [
       " View sweep at <a href='https://wandb.ai/dusaneyash09-iiit-hyderabad/MLP-Regression-Sweep/sweeps/6gjni9g3' target=\"_blank\">https://wandb.ai/dusaneyash09-iiit-hyderabad/MLP-Regression-Sweep/sweeps/6gjni9g3</a>"
      ],
      "text/plain": [
       "<IPython.core.display.HTML object>"
      ]
     },
     "metadata": {},
     "output_type": "display_data"
    },
    {
     "data": {
      "text/html": [
       " View run at <a href='https://wandb.ai/dusaneyash09-iiit-hyderabad/MLP-Regression-Sweep/runs/7r5jrenn' target=\"_blank\">https://wandb.ai/dusaneyash09-iiit-hyderabad/MLP-Regression-Sweep/runs/7r5jrenn</a>"
      ],
      "text/plain": [
       "<IPython.core.display.HTML object>"
      ]
     },
     "metadata": {},
     "output_type": "display_data"
    },
    {
     "data": {
      "text/html": [
       "<style>\n",
       "    table.wandb td:nth-child(1) { padding: 0 10px; text-align: left ; width: auto;} td:nth-child(2) {text-align: left ; width: 100%}\n",
       "    .wandb-row { display: flex; flex-direction: row; flex-wrap: wrap; justify-content: flex-start; width: 100% }\n",
       "    .wandb-col { display: flex; flex-direction: column; flex-basis: 100%; flex: 1; padding: 10px; }\n",
       "    </style>\n",
       "<div class=\"wandb-row\"><div class=\"wandb-col\"><h3>Run history:</h3><br/><table class=\"wandb\"><tr><td>MSE</td><td>▁</td></tr><tr><td>RMSE</td><td>▁</td></tr><tr><td>R²</td><td>▁</td></tr></table><br/></div><div class=\"wandb-col\"><h3>Run summary:</h3><br/><table class=\"wandb\"><tr><td>MSE</td><td>530.09114</td></tr><tr><td>RMSE</td><td>23.02371</td></tr><tr><td>R²</td><td>-5.74336</td></tr></table><br/></div></div>"
      ],
      "text/plain": [
       "<IPython.core.display.HTML object>"
      ]
     },
     "metadata": {},
     "output_type": "display_data"
    },
    {
     "data": {
      "text/html": [
       " View run <strong style=\"color:#cdcd00\">fanciful-sweep-5</strong> at: <a href='https://wandb.ai/dusaneyash09-iiit-hyderabad/MLP-Regression-Sweep/runs/7r5jrenn' target=\"_blank\">https://wandb.ai/dusaneyash09-iiit-hyderabad/MLP-Regression-Sweep/runs/7r5jrenn</a><br/> View project at: <a href='https://wandb.ai/dusaneyash09-iiit-hyderabad/MLP-Regression-Sweep' target=\"_blank\">https://wandb.ai/dusaneyash09-iiit-hyderabad/MLP-Regression-Sweep</a><br/>Synced 5 W&B file(s), 0 media file(s), 0 artifact file(s) and 0 other file(s)"
      ],
      "text/plain": [
       "<IPython.core.display.HTML object>"
      ]
     },
     "metadata": {},
     "output_type": "display_data"
    },
    {
     "data": {
      "text/html": [
       "Find logs at: <code>.\\wandb\\run-20241011_203833-7r5jrenn\\logs</code>"
      ],
      "text/plain": [
       "<IPython.core.display.HTML object>"
      ]
     },
     "metadata": {},
     "output_type": "display_data"
    },
    {
     "name": "stderr",
     "output_type": "stream",
     "text": [
      "\u001b[34m\u001b[1mwandb\u001b[0m: Agent Starting Run: qv3nndxv with config:\n",
      "\u001b[34m\u001b[1mwandb\u001b[0m: \tactivation: tanh\n",
      "\u001b[34m\u001b[1mwandb\u001b[0m: \tbatch_size: 32\n",
      "\u001b[34m\u001b[1mwandb\u001b[0m: \tepochs: 200\n",
      "\u001b[34m\u001b[1mwandb\u001b[0m: \tlayers: [13, 10, 1]\n",
      "\u001b[34m\u001b[1mwandb\u001b[0m: \tlearning_rate: 0.0634118654732294\n",
      "\u001b[34m\u001b[1mwandb\u001b[0m: \toptimizer: mini-batch\n"
     ]
    },
    {
     "data": {
      "text/html": [
       "Tracking run with wandb version 0.18.3"
      ],
      "text/plain": [
       "<IPython.core.display.HTML object>"
      ]
     },
     "metadata": {},
     "output_type": "display_data"
    },
    {
     "data": {
      "text/html": [
       "Run data is saved locally in <code>c:\\Users\\yashd\\OneDrive\\Desktop\\IIIT_Hyd\\Sem_5\\SMAI\\github\\assignments\\3\\wandb\\run-20241011_203839-qv3nndxv</code>"
      ],
      "text/plain": [
       "<IPython.core.display.HTML object>"
      ]
     },
     "metadata": {},
     "output_type": "display_data"
    },
    {
     "data": {
      "text/html": [
       "Syncing run <strong><a href='https://wandb.ai/dusaneyash09-iiit-hyderabad/MLP-Regression-Sweep/runs/qv3nndxv' target=\"_blank\">expert-sweep-6</a></strong> to <a href='https://wandb.ai/dusaneyash09-iiit-hyderabad/MLP-Regression-Sweep' target=\"_blank\">Weights & Biases</a> (<a href='https://wandb.me/run' target=\"_blank\">docs</a>)<br/>Sweep page: <a href='https://wandb.ai/dusaneyash09-iiit-hyderabad/MLP-Regression-Sweep/sweeps/6gjni9g3' target=\"_blank\">https://wandb.ai/dusaneyash09-iiit-hyderabad/MLP-Regression-Sweep/sweeps/6gjni9g3</a>"
      ],
      "text/plain": [
       "<IPython.core.display.HTML object>"
      ]
     },
     "metadata": {},
     "output_type": "display_data"
    },
    {
     "data": {
      "text/html": [
       " View project at <a href='https://wandb.ai/dusaneyash09-iiit-hyderabad/MLP-Regression-Sweep' target=\"_blank\">https://wandb.ai/dusaneyash09-iiit-hyderabad/MLP-Regression-Sweep</a>"
      ],
      "text/plain": [
       "<IPython.core.display.HTML object>"
      ]
     },
     "metadata": {},
     "output_type": "display_data"
    },
    {
     "data": {
      "text/html": [
       " View sweep at <a href='https://wandb.ai/dusaneyash09-iiit-hyderabad/MLP-Regression-Sweep/sweeps/6gjni9g3' target=\"_blank\">https://wandb.ai/dusaneyash09-iiit-hyderabad/MLP-Regression-Sweep/sweeps/6gjni9g3</a>"
      ],
      "text/plain": [
       "<IPython.core.display.HTML object>"
      ]
     },
     "metadata": {},
     "output_type": "display_data"
    },
    {
     "data": {
      "text/html": [
       " View run at <a href='https://wandb.ai/dusaneyash09-iiit-hyderabad/MLP-Regression-Sweep/runs/qv3nndxv' target=\"_blank\">https://wandb.ai/dusaneyash09-iiit-hyderabad/MLP-Regression-Sweep/runs/qv3nndxv</a>"
      ],
      "text/plain": [
       "<IPython.core.display.HTML object>"
      ]
     },
     "metadata": {},
     "output_type": "display_data"
    },
    {
     "data": {
      "text/html": [
       "<style>\n",
       "    table.wandb td:nth-child(1) { padding: 0 10px; text-align: left ; width: auto;} td:nth-child(2) {text-align: left ; width: 100%}\n",
       "    .wandb-row { display: flex; flex-direction: row; flex-wrap: wrap; justify-content: flex-start; width: 100% }\n",
       "    .wandb-col { display: flex; flex-direction: column; flex-basis: 100%; flex: 1; padding: 10px; }\n",
       "    </style>\n",
       "<div class=\"wandb-row\"><div class=\"wandb-col\"><h3>Run history:</h3><br/><table class=\"wandb\"><tr><td>MSE</td><td>▁</td></tr><tr><td>RMSE</td><td>▁</td></tr><tr><td>R²</td><td>▁</td></tr></table><br/></div><div class=\"wandb-col\"><h3>Run summary:</h3><br/><table class=\"wandb\"><tr><td>MSE</td><td>573.6121</td></tr><tr><td>RMSE</td><td>23.9502</td></tr><tr><td>R²</td><td>-6.297</td></tr></table><br/></div></div>"
      ],
      "text/plain": [
       "<IPython.core.display.HTML object>"
      ]
     },
     "metadata": {},
     "output_type": "display_data"
    },
    {
     "data": {
      "text/html": [
       " View run <strong style=\"color:#cdcd00\">expert-sweep-6</strong> at: <a href='https://wandb.ai/dusaneyash09-iiit-hyderabad/MLP-Regression-Sweep/runs/qv3nndxv' target=\"_blank\">https://wandb.ai/dusaneyash09-iiit-hyderabad/MLP-Regression-Sweep/runs/qv3nndxv</a><br/> View project at: <a href='https://wandb.ai/dusaneyash09-iiit-hyderabad/MLP-Regression-Sweep' target=\"_blank\">https://wandb.ai/dusaneyash09-iiit-hyderabad/MLP-Regression-Sweep</a><br/>Synced 5 W&B file(s), 0 media file(s), 0 artifact file(s) and 0 other file(s)"
      ],
      "text/plain": [
       "<IPython.core.display.HTML object>"
      ]
     },
     "metadata": {},
     "output_type": "display_data"
    },
    {
     "data": {
      "text/html": [
       "Find logs at: <code>.\\wandb\\run-20241011_203839-qv3nndxv\\logs</code>"
      ],
      "text/plain": [
       "<IPython.core.display.HTML object>"
      ]
     },
     "metadata": {},
     "output_type": "display_data"
    },
    {
     "name": "stderr",
     "output_type": "stream",
     "text": [
      "\u001b[34m\u001b[1mwandb\u001b[0m: Agent Starting Run: gvindu8r with config:\n",
      "\u001b[34m\u001b[1mwandb\u001b[0m: \tactivation: sigmoid\n",
      "\u001b[34m\u001b[1mwandb\u001b[0m: \tbatch_size: 32\n",
      "\u001b[34m\u001b[1mwandb\u001b[0m: \tepochs: 200\n",
      "\u001b[34m\u001b[1mwandb\u001b[0m: \tlayers: [13, 32, 16, 1]\n",
      "\u001b[34m\u001b[1mwandb\u001b[0m: \tlearning_rate: 0.026090165504999537\n",
      "\u001b[34m\u001b[1mwandb\u001b[0m: \toptimizer: sgd\n"
     ]
    },
    {
     "data": {
      "text/html": [
       "Tracking run with wandb version 0.18.3"
      ],
      "text/plain": [
       "<IPython.core.display.HTML object>"
      ]
     },
     "metadata": {},
     "output_type": "display_data"
    },
    {
     "data": {
      "text/html": [
       "Run data is saved locally in <code>c:\\Users\\yashd\\OneDrive\\Desktop\\IIIT_Hyd\\Sem_5\\SMAI\\github\\assignments\\3\\wandb\\run-20241011_203844-gvindu8r</code>"
      ],
      "text/plain": [
       "<IPython.core.display.HTML object>"
      ]
     },
     "metadata": {},
     "output_type": "display_data"
    },
    {
     "data": {
      "text/html": [
       "Syncing run <strong><a href='https://wandb.ai/dusaneyash09-iiit-hyderabad/MLP-Regression-Sweep/runs/gvindu8r' target=\"_blank\">graceful-sweep-7</a></strong> to <a href='https://wandb.ai/dusaneyash09-iiit-hyderabad/MLP-Regression-Sweep' target=\"_blank\">Weights & Biases</a> (<a href='https://wandb.me/run' target=\"_blank\">docs</a>)<br/>Sweep page: <a href='https://wandb.ai/dusaneyash09-iiit-hyderabad/MLP-Regression-Sweep/sweeps/6gjni9g3' target=\"_blank\">https://wandb.ai/dusaneyash09-iiit-hyderabad/MLP-Regression-Sweep/sweeps/6gjni9g3</a>"
      ],
      "text/plain": [
       "<IPython.core.display.HTML object>"
      ]
     },
     "metadata": {},
     "output_type": "display_data"
    },
    {
     "data": {
      "text/html": [
       " View project at <a href='https://wandb.ai/dusaneyash09-iiit-hyderabad/MLP-Regression-Sweep' target=\"_blank\">https://wandb.ai/dusaneyash09-iiit-hyderabad/MLP-Regression-Sweep</a>"
      ],
      "text/plain": [
       "<IPython.core.display.HTML object>"
      ]
     },
     "metadata": {},
     "output_type": "display_data"
    },
    {
     "data": {
      "text/html": [
       " View sweep at <a href='https://wandb.ai/dusaneyash09-iiit-hyderabad/MLP-Regression-Sweep/sweeps/6gjni9g3' target=\"_blank\">https://wandb.ai/dusaneyash09-iiit-hyderabad/MLP-Regression-Sweep/sweeps/6gjni9g3</a>"
      ],
      "text/plain": [
       "<IPython.core.display.HTML object>"
      ]
     },
     "metadata": {},
     "output_type": "display_data"
    },
    {
     "data": {
      "text/html": [
       " View run at <a href='https://wandb.ai/dusaneyash09-iiit-hyderabad/MLP-Regression-Sweep/runs/gvindu8r' target=\"_blank\">https://wandb.ai/dusaneyash09-iiit-hyderabad/MLP-Regression-Sweep/runs/gvindu8r</a>"
      ],
      "text/plain": [
       "<IPython.core.display.HTML object>"
      ]
     },
     "metadata": {},
     "output_type": "display_data"
    },
    {
     "data": {
      "text/html": [
       "<style>\n",
       "    table.wandb td:nth-child(1) { padding: 0 10px; text-align: left ; width: auto;} td:nth-child(2) {text-align: left ; width: 100%}\n",
       "    .wandb-row { display: flex; flex-direction: row; flex-wrap: wrap; justify-content: flex-start; width: 100% }\n",
       "    .wandb-col { display: flex; flex-direction: column; flex-basis: 100%; flex: 1; padding: 10px; }\n",
       "    </style>\n",
       "<div class=\"wandb-row\"><div class=\"wandb-col\"><h3>Run history:</h3><br/><table class=\"wandb\"><tr><td>MSE</td><td>▁</td></tr><tr><td>RMSE</td><td>▁</td></tr><tr><td>R²</td><td>▁</td></tr></table><br/></div><div class=\"wandb-col\"><h3>Run summary:</h3><br/><table class=\"wandb\"><tr><td>MSE</td><td>530.09114</td></tr><tr><td>RMSE</td><td>23.02371</td></tr><tr><td>R²</td><td>-5.74336</td></tr></table><br/></div></div>"
      ],
      "text/plain": [
       "<IPython.core.display.HTML object>"
      ]
     },
     "metadata": {},
     "output_type": "display_data"
    },
    {
     "data": {
      "text/html": [
       " View run <strong style=\"color:#cdcd00\">graceful-sweep-7</strong> at: <a href='https://wandb.ai/dusaneyash09-iiit-hyderabad/MLP-Regression-Sweep/runs/gvindu8r' target=\"_blank\">https://wandb.ai/dusaneyash09-iiit-hyderabad/MLP-Regression-Sweep/runs/gvindu8r</a><br/> View project at: <a href='https://wandb.ai/dusaneyash09-iiit-hyderabad/MLP-Regression-Sweep' target=\"_blank\">https://wandb.ai/dusaneyash09-iiit-hyderabad/MLP-Regression-Sweep</a><br/>Synced 5 W&B file(s), 0 media file(s), 0 artifact file(s) and 0 other file(s)"
      ],
      "text/plain": [
       "<IPython.core.display.HTML object>"
      ]
     },
     "metadata": {},
     "output_type": "display_data"
    },
    {
     "data": {
      "text/html": [
       "Find logs at: <code>.\\wandb\\run-20241011_203844-gvindu8r\\logs</code>"
      ],
      "text/plain": [
       "<IPython.core.display.HTML object>"
      ]
     },
     "metadata": {},
     "output_type": "display_data"
    },
    {
     "name": "stderr",
     "output_type": "stream",
     "text": [
      "\u001b[34m\u001b[1mwandb\u001b[0m: Agent Starting Run: byvh1v7c with config:\n",
      "\u001b[34m\u001b[1mwandb\u001b[0m: \tactivation: relu\n",
      "\u001b[34m\u001b[1mwandb\u001b[0m: \tbatch_size: 32\n",
      "\u001b[34m\u001b[1mwandb\u001b[0m: \tepochs: 200\n",
      "\u001b[34m\u001b[1mwandb\u001b[0m: \tlayers: [13, 32, 16, 1]\n",
      "\u001b[34m\u001b[1mwandb\u001b[0m: \tlearning_rate: 0.02380411341148807\n",
      "\u001b[34m\u001b[1mwandb\u001b[0m: \toptimizer: sgd\n"
     ]
    },
    {
     "data": {
      "text/html": [
       "Tracking run with wandb version 0.18.3"
      ],
      "text/plain": [
       "<IPython.core.display.HTML object>"
      ]
     },
     "metadata": {},
     "output_type": "display_data"
    },
    {
     "data": {
      "text/html": [
       "Run data is saved locally in <code>c:\\Users\\yashd\\OneDrive\\Desktop\\IIIT_Hyd\\Sem_5\\SMAI\\github\\assignments\\3\\wandb\\run-20241011_203849-byvh1v7c</code>"
      ],
      "text/plain": [
       "<IPython.core.display.HTML object>"
      ]
     },
     "metadata": {},
     "output_type": "display_data"
    },
    {
     "data": {
      "text/html": [
       "Syncing run <strong><a href='https://wandb.ai/dusaneyash09-iiit-hyderabad/MLP-Regression-Sweep/runs/byvh1v7c' target=\"_blank\">fresh-sweep-8</a></strong> to <a href='https://wandb.ai/dusaneyash09-iiit-hyderabad/MLP-Regression-Sweep' target=\"_blank\">Weights & Biases</a> (<a href='https://wandb.me/run' target=\"_blank\">docs</a>)<br/>Sweep page: <a href='https://wandb.ai/dusaneyash09-iiit-hyderabad/MLP-Regression-Sweep/sweeps/6gjni9g3' target=\"_blank\">https://wandb.ai/dusaneyash09-iiit-hyderabad/MLP-Regression-Sweep/sweeps/6gjni9g3</a>"
      ],
      "text/plain": [
       "<IPython.core.display.HTML object>"
      ]
     },
     "metadata": {},
     "output_type": "display_data"
    },
    {
     "data": {
      "text/html": [
       " View project at <a href='https://wandb.ai/dusaneyash09-iiit-hyderabad/MLP-Regression-Sweep' target=\"_blank\">https://wandb.ai/dusaneyash09-iiit-hyderabad/MLP-Regression-Sweep</a>"
      ],
      "text/plain": [
       "<IPython.core.display.HTML object>"
      ]
     },
     "metadata": {},
     "output_type": "display_data"
    },
    {
     "data": {
      "text/html": [
       " View sweep at <a href='https://wandb.ai/dusaneyash09-iiit-hyderabad/MLP-Regression-Sweep/sweeps/6gjni9g3' target=\"_blank\">https://wandb.ai/dusaneyash09-iiit-hyderabad/MLP-Regression-Sweep/sweeps/6gjni9g3</a>"
      ],
      "text/plain": [
       "<IPython.core.display.HTML object>"
      ]
     },
     "metadata": {},
     "output_type": "display_data"
    },
    {
     "data": {
      "text/html": [
       " View run at <a href='https://wandb.ai/dusaneyash09-iiit-hyderabad/MLP-Regression-Sweep/runs/byvh1v7c' target=\"_blank\">https://wandb.ai/dusaneyash09-iiit-hyderabad/MLP-Regression-Sweep/runs/byvh1v7c</a>"
      ],
      "text/plain": [
       "<IPython.core.display.HTML object>"
      ]
     },
     "metadata": {},
     "output_type": "display_data"
    },
    {
     "data": {
      "text/html": [
       "<style>\n",
       "    table.wandb td:nth-child(1) { padding: 0 10px; text-align: left ; width: auto;} td:nth-child(2) {text-align: left ; width: 100%}\n",
       "    .wandb-row { display: flex; flex-direction: row; flex-wrap: wrap; justify-content: flex-start; width: 100% }\n",
       "    .wandb-col { display: flex; flex-direction: column; flex-basis: 100%; flex: 1; padding: 10px; }\n",
       "    </style>\n",
       "<div class=\"wandb-row\"><div class=\"wandb-col\"><h3>Run history:</h3><br/><table class=\"wandb\"><tr><td>MSE</td><td>▁</td></tr><tr><td>RMSE</td><td>▁</td></tr><tr><td>R²</td><td>▁</td></tr></table><br/></div><div class=\"wandb-col\"><h3>Run summary:</h3><br/><table class=\"wandb\"><tr><td>MSE</td><td>25.12549</td></tr><tr><td>RMSE</td><td>5.01253</td></tr><tr><td>R²</td><td>0.68038</td></tr></table><br/></div></div>"
      ],
      "text/plain": [
       "<IPython.core.display.HTML object>"
      ]
     },
     "metadata": {},
     "output_type": "display_data"
    },
    {
     "data": {
      "text/html": [
       " View run <strong style=\"color:#cdcd00\">fresh-sweep-8</strong> at: <a href='https://wandb.ai/dusaneyash09-iiit-hyderabad/MLP-Regression-Sweep/runs/byvh1v7c' target=\"_blank\">https://wandb.ai/dusaneyash09-iiit-hyderabad/MLP-Regression-Sweep/runs/byvh1v7c</a><br/> View project at: <a href='https://wandb.ai/dusaneyash09-iiit-hyderabad/MLP-Regression-Sweep' target=\"_blank\">https://wandb.ai/dusaneyash09-iiit-hyderabad/MLP-Regression-Sweep</a><br/>Synced 5 W&B file(s), 0 media file(s), 0 artifact file(s) and 0 other file(s)"
      ],
      "text/plain": [
       "<IPython.core.display.HTML object>"
      ]
     },
     "metadata": {},
     "output_type": "display_data"
    },
    {
     "data": {
      "text/html": [
       "Find logs at: <code>.\\wandb\\run-20241011_203849-byvh1v7c\\logs</code>"
      ],
      "text/plain": [
       "<IPython.core.display.HTML object>"
      ]
     },
     "metadata": {},
     "output_type": "display_data"
    },
    {
     "name": "stderr",
     "output_type": "stream",
     "text": [
      "\u001b[34m\u001b[1mwandb\u001b[0m: Agent Starting Run: 3obxywbh with config:\n",
      "\u001b[34m\u001b[1mwandb\u001b[0m: \tactivation: sigmoid\n",
      "\u001b[34m\u001b[1mwandb\u001b[0m: \tbatch_size: 16\n",
      "\u001b[34m\u001b[1mwandb\u001b[0m: \tepochs: 200\n",
      "\u001b[34m\u001b[1mwandb\u001b[0m: \tlayers: [13, 64, 32, 1]\n",
      "\u001b[34m\u001b[1mwandb\u001b[0m: \tlearning_rate: 0.007428424607899751\n",
      "\u001b[34m\u001b[1mwandb\u001b[0m: \toptimizer: sgd\n"
     ]
    },
    {
     "data": {
      "text/html": [
       "Tracking run with wandb version 0.18.3"
      ],
      "text/plain": [
       "<IPython.core.display.HTML object>"
      ]
     },
     "metadata": {},
     "output_type": "display_data"
    },
    {
     "data": {
      "text/html": [
       "Run data is saved locally in <code>c:\\Users\\yashd\\OneDrive\\Desktop\\IIIT_Hyd\\Sem_5\\SMAI\\github\\assignments\\3\\wandb\\run-20241011_203855-3obxywbh</code>"
      ],
      "text/plain": [
       "<IPython.core.display.HTML object>"
      ]
     },
     "metadata": {},
     "output_type": "display_data"
    },
    {
     "data": {
      "text/html": [
       "Syncing run <strong><a href='https://wandb.ai/dusaneyash09-iiit-hyderabad/MLP-Regression-Sweep/runs/3obxywbh' target=\"_blank\">drawn-sweep-9</a></strong> to <a href='https://wandb.ai/dusaneyash09-iiit-hyderabad/MLP-Regression-Sweep' target=\"_blank\">Weights & Biases</a> (<a href='https://wandb.me/run' target=\"_blank\">docs</a>)<br/>Sweep page: <a href='https://wandb.ai/dusaneyash09-iiit-hyderabad/MLP-Regression-Sweep/sweeps/6gjni9g3' target=\"_blank\">https://wandb.ai/dusaneyash09-iiit-hyderabad/MLP-Regression-Sweep/sweeps/6gjni9g3</a>"
      ],
      "text/plain": [
       "<IPython.core.display.HTML object>"
      ]
     },
     "metadata": {},
     "output_type": "display_data"
    },
    {
     "data": {
      "text/html": [
       " View project at <a href='https://wandb.ai/dusaneyash09-iiit-hyderabad/MLP-Regression-Sweep' target=\"_blank\">https://wandb.ai/dusaneyash09-iiit-hyderabad/MLP-Regression-Sweep</a>"
      ],
      "text/plain": [
       "<IPython.core.display.HTML object>"
      ]
     },
     "metadata": {},
     "output_type": "display_data"
    },
    {
     "data": {
      "text/html": [
       " View sweep at <a href='https://wandb.ai/dusaneyash09-iiit-hyderabad/MLP-Regression-Sweep/sweeps/6gjni9g3' target=\"_blank\">https://wandb.ai/dusaneyash09-iiit-hyderabad/MLP-Regression-Sweep/sweeps/6gjni9g3</a>"
      ],
      "text/plain": [
       "<IPython.core.display.HTML object>"
      ]
     },
     "metadata": {},
     "output_type": "display_data"
    },
    {
     "data": {
      "text/html": [
       " View run at <a href='https://wandb.ai/dusaneyash09-iiit-hyderabad/MLP-Regression-Sweep/runs/3obxywbh' target=\"_blank\">https://wandb.ai/dusaneyash09-iiit-hyderabad/MLP-Regression-Sweep/runs/3obxywbh</a>"
      ],
      "text/plain": [
       "<IPython.core.display.HTML object>"
      ]
     },
     "metadata": {},
     "output_type": "display_data"
    },
    {
     "data": {
      "text/html": [
       "<style>\n",
       "    table.wandb td:nth-child(1) { padding: 0 10px; text-align: left ; width: auto;} td:nth-child(2) {text-align: left ; width: 100%}\n",
       "    .wandb-row { display: flex; flex-direction: row; flex-wrap: wrap; justify-content: flex-start; width: 100% }\n",
       "    .wandb-col { display: flex; flex-direction: column; flex-basis: 100%; flex: 1; padding: 10px; }\n",
       "    </style>\n",
       "<div class=\"wandb-row\"><div class=\"wandb-col\"><h3>Run history:</h3><br/><table class=\"wandb\"><tr><td>MSE</td><td>▁</td></tr><tr><td>RMSE</td><td>▁</td></tr><tr><td>R²</td><td>▁</td></tr></table><br/></div><div class=\"wandb-col\"><h3>Run summary:</h3><br/><table class=\"wandb\"><tr><td>MSE</td><td>530.09114</td></tr><tr><td>RMSE</td><td>23.02371</td></tr><tr><td>R²</td><td>-5.74336</td></tr></table><br/></div></div>"
      ],
      "text/plain": [
       "<IPython.core.display.HTML object>"
      ]
     },
     "metadata": {},
     "output_type": "display_data"
    },
    {
     "data": {
      "text/html": [
       " View run <strong style=\"color:#cdcd00\">drawn-sweep-9</strong> at: <a href='https://wandb.ai/dusaneyash09-iiit-hyderabad/MLP-Regression-Sweep/runs/3obxywbh' target=\"_blank\">https://wandb.ai/dusaneyash09-iiit-hyderabad/MLP-Regression-Sweep/runs/3obxywbh</a><br/> View project at: <a href='https://wandb.ai/dusaneyash09-iiit-hyderabad/MLP-Regression-Sweep' target=\"_blank\">https://wandb.ai/dusaneyash09-iiit-hyderabad/MLP-Regression-Sweep</a><br/>Synced 5 W&B file(s), 0 media file(s), 0 artifact file(s) and 0 other file(s)"
      ],
      "text/plain": [
       "<IPython.core.display.HTML object>"
      ]
     },
     "metadata": {},
     "output_type": "display_data"
    },
    {
     "data": {
      "text/html": [
       "Find logs at: <code>.\\wandb\\run-20241011_203855-3obxywbh\\logs</code>"
      ],
      "text/plain": [
       "<IPython.core.display.HTML object>"
      ]
     },
     "metadata": {},
     "output_type": "display_data"
    },
    {
     "name": "stderr",
     "output_type": "stream",
     "text": [
      "\u001b[34m\u001b[1mwandb\u001b[0m: Agent Starting Run: b3qbfaaw with config:\n",
      "\u001b[34m\u001b[1mwandb\u001b[0m: \tactivation: relu\n",
      "\u001b[34m\u001b[1mwandb\u001b[0m: \tbatch_size: 32\n",
      "\u001b[34m\u001b[1mwandb\u001b[0m: \tepochs: 200\n",
      "\u001b[34m\u001b[1mwandb\u001b[0m: \tlayers: [13, 10, 1]\n",
      "\u001b[34m\u001b[1mwandb\u001b[0m: \tlearning_rate: 0.097716266337565\n",
      "\u001b[34m\u001b[1mwandb\u001b[0m: \toptimizer: sgd\n"
     ]
    },
    {
     "data": {
      "text/html": [
       "Tracking run with wandb version 0.18.3"
      ],
      "text/plain": [
       "<IPython.core.display.HTML object>"
      ]
     },
     "metadata": {},
     "output_type": "display_data"
    },
    {
     "data": {
      "text/html": [
       "Run data is saved locally in <code>c:\\Users\\yashd\\OneDrive\\Desktop\\IIIT_Hyd\\Sem_5\\SMAI\\github\\assignments\\3\\wandb\\run-20241011_203900-b3qbfaaw</code>"
      ],
      "text/plain": [
       "<IPython.core.display.HTML object>"
      ]
     },
     "metadata": {},
     "output_type": "display_data"
    },
    {
     "data": {
      "text/html": [
       "Syncing run <strong><a href='https://wandb.ai/dusaneyash09-iiit-hyderabad/MLP-Regression-Sweep/runs/b3qbfaaw' target=\"_blank\">distinctive-sweep-10</a></strong> to <a href='https://wandb.ai/dusaneyash09-iiit-hyderabad/MLP-Regression-Sweep' target=\"_blank\">Weights & Biases</a> (<a href='https://wandb.me/run' target=\"_blank\">docs</a>)<br/>Sweep page: <a href='https://wandb.ai/dusaneyash09-iiit-hyderabad/MLP-Regression-Sweep/sweeps/6gjni9g3' target=\"_blank\">https://wandb.ai/dusaneyash09-iiit-hyderabad/MLP-Regression-Sweep/sweeps/6gjni9g3</a>"
      ],
      "text/plain": [
       "<IPython.core.display.HTML object>"
      ]
     },
     "metadata": {},
     "output_type": "display_data"
    },
    {
     "data": {
      "text/html": [
       " View project at <a href='https://wandb.ai/dusaneyash09-iiit-hyderabad/MLP-Regression-Sweep' target=\"_blank\">https://wandb.ai/dusaneyash09-iiit-hyderabad/MLP-Regression-Sweep</a>"
      ],
      "text/plain": [
       "<IPython.core.display.HTML object>"
      ]
     },
     "metadata": {},
     "output_type": "display_data"
    },
    {
     "data": {
      "text/html": [
       " View sweep at <a href='https://wandb.ai/dusaneyash09-iiit-hyderabad/MLP-Regression-Sweep/sweeps/6gjni9g3' target=\"_blank\">https://wandb.ai/dusaneyash09-iiit-hyderabad/MLP-Regression-Sweep/sweeps/6gjni9g3</a>"
      ],
      "text/plain": [
       "<IPython.core.display.HTML object>"
      ]
     },
     "metadata": {},
     "output_type": "display_data"
    },
    {
     "data": {
      "text/html": [
       " View run at <a href='https://wandb.ai/dusaneyash09-iiit-hyderabad/MLP-Regression-Sweep/runs/b3qbfaaw' target=\"_blank\">https://wandb.ai/dusaneyash09-iiit-hyderabad/MLP-Regression-Sweep/runs/b3qbfaaw</a>"
      ],
      "text/plain": [
       "<IPython.core.display.HTML object>"
      ]
     },
     "metadata": {},
     "output_type": "display_data"
    },
    {
     "data": {
      "text/html": [
       "<style>\n",
       "    table.wandb td:nth-child(1) { padding: 0 10px; text-align: left ; width: auto;} td:nth-child(2) {text-align: left ; width: 100%}\n",
       "    .wandb-row { display: flex; flex-direction: row; flex-wrap: wrap; justify-content: flex-start; width: 100% }\n",
       "    .wandb-col { display: flex; flex-direction: column; flex-basis: 100%; flex: 1; padding: 10px; }\n",
       "    </style>\n",
       "<div class=\"wandb-row\"><div class=\"wandb-col\"><h3>Run history:</h3><br/><table class=\"wandb\"><tr><td>MSE</td><td>▁</td></tr><tr><td>RMSE</td><td>▁</td></tr><tr><td>R²</td><td>▁</td></tr></table><br/></div><div class=\"wandb-col\"><h3>Run summary:</h3><br/><table class=\"wandb\"><tr><td>MSE</td><td>573.58734</td></tr><tr><td>RMSE</td><td>23.94968</td></tr><tr><td>R²</td><td>-6.29668</td></tr></table><br/></div></div>"
      ],
      "text/plain": [
       "<IPython.core.display.HTML object>"
      ]
     },
     "metadata": {},
     "output_type": "display_data"
    },
    {
     "data": {
      "text/html": [
       " View run <strong style=\"color:#cdcd00\">distinctive-sweep-10</strong> at: <a href='https://wandb.ai/dusaneyash09-iiit-hyderabad/MLP-Regression-Sweep/runs/b3qbfaaw' target=\"_blank\">https://wandb.ai/dusaneyash09-iiit-hyderabad/MLP-Regression-Sweep/runs/b3qbfaaw</a><br/> View project at: <a href='https://wandb.ai/dusaneyash09-iiit-hyderabad/MLP-Regression-Sweep' target=\"_blank\">https://wandb.ai/dusaneyash09-iiit-hyderabad/MLP-Regression-Sweep</a><br/>Synced 5 W&B file(s), 0 media file(s), 0 artifact file(s) and 0 other file(s)"
      ],
      "text/plain": [
       "<IPython.core.display.HTML object>"
      ]
     },
     "metadata": {},
     "output_type": "display_data"
    },
    {
     "data": {
      "text/html": [
       "Find logs at: <code>.\\wandb\\run-20241011_203900-b3qbfaaw\\logs</code>"
      ],
      "text/plain": [
       "<IPython.core.display.HTML object>"
      ]
     },
     "metadata": {},
     "output_type": "display_data"
    },
    {
     "name": "stderr",
     "output_type": "stream",
     "text": [
      "\u001b[34m\u001b[1mwandb\u001b[0m: Agent Starting Run: a3nspoae with config:\n",
      "\u001b[34m\u001b[1mwandb\u001b[0m: \tactivation: tanh\n",
      "\u001b[34m\u001b[1mwandb\u001b[0m: \tbatch_size: 16\n",
      "\u001b[34m\u001b[1mwandb\u001b[0m: \tepochs: 100\n",
      "\u001b[34m\u001b[1mwandb\u001b[0m: \tlayers: [13, 32, 16, 1]\n",
      "\u001b[34m\u001b[1mwandb\u001b[0m: \tlearning_rate: 0.013550020920275569\n",
      "\u001b[34m\u001b[1mwandb\u001b[0m: \toptimizer: mini-batch\n"
     ]
    },
    {
     "data": {
      "text/html": [
       "Tracking run with wandb version 0.18.3"
      ],
      "text/plain": [
       "<IPython.core.display.HTML object>"
      ]
     },
     "metadata": {},
     "output_type": "display_data"
    },
    {
     "data": {
      "text/html": [
       "Run data is saved locally in <code>c:\\Users\\yashd\\OneDrive\\Desktop\\IIIT_Hyd\\Sem_5\\SMAI\\github\\assignments\\3\\wandb\\run-20241011_203906-a3nspoae</code>"
      ],
      "text/plain": [
       "<IPython.core.display.HTML object>"
      ]
     },
     "metadata": {},
     "output_type": "display_data"
    },
    {
     "data": {
      "text/html": [
       "Syncing run <strong><a href='https://wandb.ai/dusaneyash09-iiit-hyderabad/MLP-Regression-Sweep/runs/a3nspoae' target=\"_blank\">different-sweep-11</a></strong> to <a href='https://wandb.ai/dusaneyash09-iiit-hyderabad/MLP-Regression-Sweep' target=\"_blank\">Weights & Biases</a> (<a href='https://wandb.me/run' target=\"_blank\">docs</a>)<br/>Sweep page: <a href='https://wandb.ai/dusaneyash09-iiit-hyderabad/MLP-Regression-Sweep/sweeps/6gjni9g3' target=\"_blank\">https://wandb.ai/dusaneyash09-iiit-hyderabad/MLP-Regression-Sweep/sweeps/6gjni9g3</a>"
      ],
      "text/plain": [
       "<IPython.core.display.HTML object>"
      ]
     },
     "metadata": {},
     "output_type": "display_data"
    },
    {
     "data": {
      "text/html": [
       " View project at <a href='https://wandb.ai/dusaneyash09-iiit-hyderabad/MLP-Regression-Sweep' target=\"_blank\">https://wandb.ai/dusaneyash09-iiit-hyderabad/MLP-Regression-Sweep</a>"
      ],
      "text/plain": [
       "<IPython.core.display.HTML object>"
      ]
     },
     "metadata": {},
     "output_type": "display_data"
    },
    {
     "data": {
      "text/html": [
       " View sweep at <a href='https://wandb.ai/dusaneyash09-iiit-hyderabad/MLP-Regression-Sweep/sweeps/6gjni9g3' target=\"_blank\">https://wandb.ai/dusaneyash09-iiit-hyderabad/MLP-Regression-Sweep/sweeps/6gjni9g3</a>"
      ],
      "text/plain": [
       "<IPython.core.display.HTML object>"
      ]
     },
     "metadata": {},
     "output_type": "display_data"
    },
    {
     "data": {
      "text/html": [
       " View run at <a href='https://wandb.ai/dusaneyash09-iiit-hyderabad/MLP-Regression-Sweep/runs/a3nspoae' target=\"_blank\">https://wandb.ai/dusaneyash09-iiit-hyderabad/MLP-Regression-Sweep/runs/a3nspoae</a>"
      ],
      "text/plain": [
       "<IPython.core.display.HTML object>"
      ]
     },
     "metadata": {},
     "output_type": "display_data"
    },
    {
     "data": {
      "text/html": [
       "<style>\n",
       "    table.wandb td:nth-child(1) { padding: 0 10px; text-align: left ; width: auto;} td:nth-child(2) {text-align: left ; width: 100%}\n",
       "    .wandb-row { display: flex; flex-direction: row; flex-wrap: wrap; justify-content: flex-start; width: 100% }\n",
       "    .wandb-col { display: flex; flex-direction: column; flex-basis: 100%; flex: 1; padding: 10px; }\n",
       "    </style>\n",
       "<div class=\"wandb-row\"><div class=\"wandb-col\"><h3>Run history:</h3><br/><table class=\"wandb\"><tr><td>MSE</td><td>▁</td></tr><tr><td>RMSE</td><td>▁</td></tr><tr><td>R²</td><td>▁</td></tr></table><br/></div><div class=\"wandb-col\"><h3>Run summary:</h3><br/><table class=\"wandb\"><tr><td>MSE</td><td>573.58667</td></tr><tr><td>RMSE</td><td>23.94967</td></tr><tr><td>R²</td><td>-6.29667</td></tr></table><br/></div></div>"
      ],
      "text/plain": [
       "<IPython.core.display.HTML object>"
      ]
     },
     "metadata": {},
     "output_type": "display_data"
    },
    {
     "data": {
      "text/html": [
       " View run <strong style=\"color:#cdcd00\">different-sweep-11</strong> at: <a href='https://wandb.ai/dusaneyash09-iiit-hyderabad/MLP-Regression-Sweep/runs/a3nspoae' target=\"_blank\">https://wandb.ai/dusaneyash09-iiit-hyderabad/MLP-Regression-Sweep/runs/a3nspoae</a><br/> View project at: <a href='https://wandb.ai/dusaneyash09-iiit-hyderabad/MLP-Regression-Sweep' target=\"_blank\">https://wandb.ai/dusaneyash09-iiit-hyderabad/MLP-Regression-Sweep</a><br/>Synced 5 W&B file(s), 0 media file(s), 0 artifact file(s) and 0 other file(s)"
      ],
      "text/plain": [
       "<IPython.core.display.HTML object>"
      ]
     },
     "metadata": {},
     "output_type": "display_data"
    },
    {
     "data": {
      "text/html": [
       "Find logs at: <code>.\\wandb\\run-20241011_203906-a3nspoae\\logs</code>"
      ],
      "text/plain": [
       "<IPython.core.display.HTML object>"
      ]
     },
     "metadata": {},
     "output_type": "display_data"
    },
    {
     "name": "stderr",
     "output_type": "stream",
     "text": [
      "\u001b[34m\u001b[1mwandb\u001b[0m: Agent Starting Run: 06dwgv6s with config:\n",
      "\u001b[34m\u001b[1mwandb\u001b[0m: \tactivation: relu\n",
      "\u001b[34m\u001b[1mwandb\u001b[0m: \tbatch_size: 64\n",
      "\u001b[34m\u001b[1mwandb\u001b[0m: \tepochs: 50\n",
      "\u001b[34m\u001b[1mwandb\u001b[0m: \tlayers: [13, 10, 1]\n",
      "\u001b[34m\u001b[1mwandb\u001b[0m: \tlearning_rate: 0.01934728134045288\n",
      "\u001b[34m\u001b[1mwandb\u001b[0m: \toptimizer: batch\n"
     ]
    },
    {
     "data": {
      "text/html": [
       "Tracking run with wandb version 0.18.3"
      ],
      "text/plain": [
       "<IPython.core.display.HTML object>"
      ]
     },
     "metadata": {},
     "output_type": "display_data"
    },
    {
     "data": {
      "text/html": [
       "Run data is saved locally in <code>c:\\Users\\yashd\\OneDrive\\Desktop\\IIIT_Hyd\\Sem_5\\SMAI\\github\\assignments\\3\\wandb\\run-20241011_203911-06dwgv6s</code>"
      ],
      "text/plain": [
       "<IPython.core.display.HTML object>"
      ]
     },
     "metadata": {},
     "output_type": "display_data"
    },
    {
     "data": {
      "text/html": [
       "Syncing run <strong><a href='https://wandb.ai/dusaneyash09-iiit-hyderabad/MLP-Regression-Sweep/runs/06dwgv6s' target=\"_blank\">frosty-sweep-12</a></strong> to <a href='https://wandb.ai/dusaneyash09-iiit-hyderabad/MLP-Regression-Sweep' target=\"_blank\">Weights & Biases</a> (<a href='https://wandb.me/run' target=\"_blank\">docs</a>)<br/>Sweep page: <a href='https://wandb.ai/dusaneyash09-iiit-hyderabad/MLP-Regression-Sweep/sweeps/6gjni9g3' target=\"_blank\">https://wandb.ai/dusaneyash09-iiit-hyderabad/MLP-Regression-Sweep/sweeps/6gjni9g3</a>"
      ],
      "text/plain": [
       "<IPython.core.display.HTML object>"
      ]
     },
     "metadata": {},
     "output_type": "display_data"
    },
    {
     "data": {
      "text/html": [
       " View project at <a href='https://wandb.ai/dusaneyash09-iiit-hyderabad/MLP-Regression-Sweep' target=\"_blank\">https://wandb.ai/dusaneyash09-iiit-hyderabad/MLP-Regression-Sweep</a>"
      ],
      "text/plain": [
       "<IPython.core.display.HTML object>"
      ]
     },
     "metadata": {},
     "output_type": "display_data"
    },
    {
     "data": {
      "text/html": [
       " View sweep at <a href='https://wandb.ai/dusaneyash09-iiit-hyderabad/MLP-Regression-Sweep/sweeps/6gjni9g3' target=\"_blank\">https://wandb.ai/dusaneyash09-iiit-hyderabad/MLP-Regression-Sweep/sweeps/6gjni9g3</a>"
      ],
      "text/plain": [
       "<IPython.core.display.HTML object>"
      ]
     },
     "metadata": {},
     "output_type": "display_data"
    },
    {
     "data": {
      "text/html": [
       " View run at <a href='https://wandb.ai/dusaneyash09-iiit-hyderabad/MLP-Regression-Sweep/runs/06dwgv6s' target=\"_blank\">https://wandb.ai/dusaneyash09-iiit-hyderabad/MLP-Regression-Sweep/runs/06dwgv6s</a>"
      ],
      "text/plain": [
       "<IPython.core.display.HTML object>"
      ]
     },
     "metadata": {},
     "output_type": "display_data"
    },
    {
     "data": {
      "text/html": [
       "<style>\n",
       "    table.wandb td:nth-child(1) { padding: 0 10px; text-align: left ; width: auto;} td:nth-child(2) {text-align: left ; width: 100%}\n",
       "    .wandb-row { display: flex; flex-direction: row; flex-wrap: wrap; justify-content: flex-start; width: 100% }\n",
       "    .wandb-col { display: flex; flex-direction: column; flex-basis: 100%; flex: 1; padding: 10px; }\n",
       "    </style>\n",
       "<div class=\"wandb-row\"><div class=\"wandb-col\"><h3>Run history:</h3><br/><table class=\"wandb\"><tr><td>MSE</td><td>▁</td></tr><tr><td>RMSE</td><td>▁</td></tr><tr><td>R²</td><td>▁</td></tr></table><br/></div><div class=\"wandb-col\"><h3>Run summary:</h3><br/><table class=\"wandb\"><tr><td>MSE</td><td>21.15975</td></tr><tr><td>RMSE</td><td>4.59997</td></tr><tr><td>R²</td><td>0.73082</td></tr></table><br/></div></div>"
      ],
      "text/plain": [
       "<IPython.core.display.HTML object>"
      ]
     },
     "metadata": {},
     "output_type": "display_data"
    },
    {
     "data": {
      "text/html": [
       " View run <strong style=\"color:#cdcd00\">frosty-sweep-12</strong> at: <a href='https://wandb.ai/dusaneyash09-iiit-hyderabad/MLP-Regression-Sweep/runs/06dwgv6s' target=\"_blank\">https://wandb.ai/dusaneyash09-iiit-hyderabad/MLP-Regression-Sweep/runs/06dwgv6s</a><br/> View project at: <a href='https://wandb.ai/dusaneyash09-iiit-hyderabad/MLP-Regression-Sweep' target=\"_blank\">https://wandb.ai/dusaneyash09-iiit-hyderabad/MLP-Regression-Sweep</a><br/>Synced 5 W&B file(s), 0 media file(s), 0 artifact file(s) and 0 other file(s)"
      ],
      "text/plain": [
       "<IPython.core.display.HTML object>"
      ]
     },
     "metadata": {},
     "output_type": "display_data"
    },
    {
     "data": {
      "text/html": [
       "Find logs at: <code>.\\wandb\\run-20241011_203911-06dwgv6s\\logs</code>"
      ],
      "text/plain": [
       "<IPython.core.display.HTML object>"
      ]
     },
     "metadata": {},
     "output_type": "display_data"
    },
    {
     "name": "stderr",
     "output_type": "stream",
     "text": [
      "\u001b[34m\u001b[1mwandb\u001b[0m: Agent Starting Run: 70oy0av4 with config:\n",
      "\u001b[34m\u001b[1mwandb\u001b[0m: \tactivation: tanh\n",
      "\u001b[34m\u001b[1mwandb\u001b[0m: \tbatch_size: 16\n",
      "\u001b[34m\u001b[1mwandb\u001b[0m: \tepochs: 50\n",
      "\u001b[34m\u001b[1mwandb\u001b[0m: \tlayers: [13, 10, 1]\n",
      "\u001b[34m\u001b[1mwandb\u001b[0m: \tlearning_rate: 0.05052759707114166\n",
      "\u001b[34m\u001b[1mwandb\u001b[0m: \toptimizer: batch\n"
     ]
    },
    {
     "data": {
      "text/html": [
       "Tracking run with wandb version 0.18.3"
      ],
      "text/plain": [
       "<IPython.core.display.HTML object>"
      ]
     },
     "metadata": {},
     "output_type": "display_data"
    },
    {
     "data": {
      "text/html": [
       "Run data is saved locally in <code>c:\\Users\\yashd\\OneDrive\\Desktop\\IIIT_Hyd\\Sem_5\\SMAI\\github\\assignments\\3\\wandb\\run-20241011_203916-70oy0av4</code>"
      ],
      "text/plain": [
       "<IPython.core.display.HTML object>"
      ]
     },
     "metadata": {},
     "output_type": "display_data"
    },
    {
     "data": {
      "text/html": [
       "Syncing run <strong><a href='https://wandb.ai/dusaneyash09-iiit-hyderabad/MLP-Regression-Sweep/runs/70oy0av4' target=\"_blank\">noble-sweep-13</a></strong> to <a href='https://wandb.ai/dusaneyash09-iiit-hyderabad/MLP-Regression-Sweep' target=\"_blank\">Weights & Biases</a> (<a href='https://wandb.me/run' target=\"_blank\">docs</a>)<br/>Sweep page: <a href='https://wandb.ai/dusaneyash09-iiit-hyderabad/MLP-Regression-Sweep/sweeps/6gjni9g3' target=\"_blank\">https://wandb.ai/dusaneyash09-iiit-hyderabad/MLP-Regression-Sweep/sweeps/6gjni9g3</a>"
      ],
      "text/plain": [
       "<IPython.core.display.HTML object>"
      ]
     },
     "metadata": {},
     "output_type": "display_data"
    },
    {
     "data": {
      "text/html": [
       " View project at <a href='https://wandb.ai/dusaneyash09-iiit-hyderabad/MLP-Regression-Sweep' target=\"_blank\">https://wandb.ai/dusaneyash09-iiit-hyderabad/MLP-Regression-Sweep</a>"
      ],
      "text/plain": [
       "<IPython.core.display.HTML object>"
      ]
     },
     "metadata": {},
     "output_type": "display_data"
    },
    {
     "data": {
      "text/html": [
       " View sweep at <a href='https://wandb.ai/dusaneyash09-iiit-hyderabad/MLP-Regression-Sweep/sweeps/6gjni9g3' target=\"_blank\">https://wandb.ai/dusaneyash09-iiit-hyderabad/MLP-Regression-Sweep/sweeps/6gjni9g3</a>"
      ],
      "text/plain": [
       "<IPython.core.display.HTML object>"
      ]
     },
     "metadata": {},
     "output_type": "display_data"
    },
    {
     "data": {
      "text/html": [
       " View run at <a href='https://wandb.ai/dusaneyash09-iiit-hyderabad/MLP-Regression-Sweep/runs/70oy0av4' target=\"_blank\">https://wandb.ai/dusaneyash09-iiit-hyderabad/MLP-Regression-Sweep/runs/70oy0av4</a>"
      ],
      "text/plain": [
       "<IPython.core.display.HTML object>"
      ]
     },
     "metadata": {},
     "output_type": "display_data"
    },
    {
     "data": {
      "text/html": [
       "<style>\n",
       "    table.wandb td:nth-child(1) { padding: 0 10px; text-align: left ; width: auto;} td:nth-child(2) {text-align: left ; width: 100%}\n",
       "    .wandb-row { display: flex; flex-direction: row; flex-wrap: wrap; justify-content: flex-start; width: 100% }\n",
       "    .wandb-col { display: flex; flex-direction: column; flex-basis: 100%; flex: 1; padding: 10px; }\n",
       "    </style>\n",
       "<div class=\"wandb-row\"><div class=\"wandb-col\"><h3>Run history:</h3><br/><table class=\"wandb\"><tr><td>MSE</td><td>▁</td></tr><tr><td>RMSE</td><td>▁</td></tr><tr><td>R²</td><td>▁</td></tr></table><br/></div><div class=\"wandb-col\"><h3>Run summary:</h3><br/><table class=\"wandb\"><tr><td>MSE</td><td>530.27326</td></tr><tr><td>RMSE</td><td>23.02766</td></tr><tr><td>R²</td><td>-5.74568</td></tr></table><br/></div></div>"
      ],
      "text/plain": [
       "<IPython.core.display.HTML object>"
      ]
     },
     "metadata": {},
     "output_type": "display_data"
    },
    {
     "data": {
      "text/html": [
       " View run <strong style=\"color:#cdcd00\">noble-sweep-13</strong> at: <a href='https://wandb.ai/dusaneyash09-iiit-hyderabad/MLP-Regression-Sweep/runs/70oy0av4' target=\"_blank\">https://wandb.ai/dusaneyash09-iiit-hyderabad/MLP-Regression-Sweep/runs/70oy0av4</a><br/> View project at: <a href='https://wandb.ai/dusaneyash09-iiit-hyderabad/MLP-Regression-Sweep' target=\"_blank\">https://wandb.ai/dusaneyash09-iiit-hyderabad/MLP-Regression-Sweep</a><br/>Synced 5 W&B file(s), 0 media file(s), 0 artifact file(s) and 0 other file(s)"
      ],
      "text/plain": [
       "<IPython.core.display.HTML object>"
      ]
     },
     "metadata": {},
     "output_type": "display_data"
    },
    {
     "data": {
      "text/html": [
       "Find logs at: <code>.\\wandb\\run-20241011_203916-70oy0av4\\logs</code>"
      ],
      "text/plain": [
       "<IPython.core.display.HTML object>"
      ]
     },
     "metadata": {},
     "output_type": "display_data"
    },
    {
     "name": "stderr",
     "output_type": "stream",
     "text": [
      "\u001b[34m\u001b[1mwandb\u001b[0m: Agent Starting Run: up0g05ld with config:\n",
      "\u001b[34m\u001b[1mwandb\u001b[0m: \tactivation: tanh\n",
      "\u001b[34m\u001b[1mwandb\u001b[0m: \tbatch_size: 32\n",
      "\u001b[34m\u001b[1mwandb\u001b[0m: \tepochs: 100\n",
      "\u001b[34m\u001b[1mwandb\u001b[0m: \tlayers: [13, 64, 32, 1]\n",
      "\u001b[34m\u001b[1mwandb\u001b[0m: \tlearning_rate: 0.0843309949424094\n",
      "\u001b[34m\u001b[1mwandb\u001b[0m: \toptimizer: sgd\n"
     ]
    },
    {
     "data": {
      "text/html": [
       "Tracking run with wandb version 0.18.3"
      ],
      "text/plain": [
       "<IPython.core.display.HTML object>"
      ]
     },
     "metadata": {},
     "output_type": "display_data"
    },
    {
     "data": {
      "text/html": [
       "Run data is saved locally in <code>c:\\Users\\yashd\\OneDrive\\Desktop\\IIIT_Hyd\\Sem_5\\SMAI\\github\\assignments\\3\\wandb\\run-20241011_203922-up0g05ld</code>"
      ],
      "text/plain": [
       "<IPython.core.display.HTML object>"
      ]
     },
     "metadata": {},
     "output_type": "display_data"
    },
    {
     "data": {
      "text/html": [
       "Syncing run <strong><a href='https://wandb.ai/dusaneyash09-iiit-hyderabad/MLP-Regression-Sweep/runs/up0g05ld' target=\"_blank\">major-sweep-14</a></strong> to <a href='https://wandb.ai/dusaneyash09-iiit-hyderabad/MLP-Regression-Sweep' target=\"_blank\">Weights & Biases</a> (<a href='https://wandb.me/run' target=\"_blank\">docs</a>)<br/>Sweep page: <a href='https://wandb.ai/dusaneyash09-iiit-hyderabad/MLP-Regression-Sweep/sweeps/6gjni9g3' target=\"_blank\">https://wandb.ai/dusaneyash09-iiit-hyderabad/MLP-Regression-Sweep/sweeps/6gjni9g3</a>"
      ],
      "text/plain": [
       "<IPython.core.display.HTML object>"
      ]
     },
     "metadata": {},
     "output_type": "display_data"
    },
    {
     "data": {
      "text/html": [
       " View project at <a href='https://wandb.ai/dusaneyash09-iiit-hyderabad/MLP-Regression-Sweep' target=\"_blank\">https://wandb.ai/dusaneyash09-iiit-hyderabad/MLP-Regression-Sweep</a>"
      ],
      "text/plain": [
       "<IPython.core.display.HTML object>"
      ]
     },
     "metadata": {},
     "output_type": "display_data"
    },
    {
     "data": {
      "text/html": [
       " View sweep at <a href='https://wandb.ai/dusaneyash09-iiit-hyderabad/MLP-Regression-Sweep/sweeps/6gjni9g3' target=\"_blank\">https://wandb.ai/dusaneyash09-iiit-hyderabad/MLP-Regression-Sweep/sweeps/6gjni9g3</a>"
      ],
      "text/plain": [
       "<IPython.core.display.HTML object>"
      ]
     },
     "metadata": {},
     "output_type": "display_data"
    },
    {
     "data": {
      "text/html": [
       " View run at <a href='https://wandb.ai/dusaneyash09-iiit-hyderabad/MLP-Regression-Sweep/runs/up0g05ld' target=\"_blank\">https://wandb.ai/dusaneyash09-iiit-hyderabad/MLP-Regression-Sweep/runs/up0g05ld</a>"
      ],
      "text/plain": [
       "<IPython.core.display.HTML object>"
      ]
     },
     "metadata": {},
     "output_type": "display_data"
    },
    {
     "data": {
      "text/html": [
       "<style>\n",
       "    table.wandb td:nth-child(1) { padding: 0 10px; text-align: left ; width: auto;} td:nth-child(2) {text-align: left ; width: 100%}\n",
       "    .wandb-row { display: flex; flex-direction: row; flex-wrap: wrap; justify-content: flex-start; width: 100% }\n",
       "    .wandb-col { display: flex; flex-direction: column; flex-basis: 100%; flex: 1; padding: 10px; }\n",
       "    </style>\n",
       "<div class=\"wandb-row\"><div class=\"wandb-col\"><h3>Run history:</h3><br/><table class=\"wandb\"><tr><td>MSE</td><td>▁</td></tr><tr><td>RMSE</td><td>▁</td></tr><tr><td>R²</td><td>▁</td></tr></table><br/></div><div class=\"wandb-col\"><h3>Run summary:</h3><br/><table class=\"wandb\"><tr><td>MSE</td><td>559.98481</td></tr><tr><td>RMSE</td><td>23.664</td></tr><tr><td>R²</td><td>-6.12364</td></tr></table><br/></div></div>"
      ],
      "text/plain": [
       "<IPython.core.display.HTML object>"
      ]
     },
     "metadata": {},
     "output_type": "display_data"
    },
    {
     "data": {
      "text/html": [
       " View run <strong style=\"color:#cdcd00\">major-sweep-14</strong> at: <a href='https://wandb.ai/dusaneyash09-iiit-hyderabad/MLP-Regression-Sweep/runs/up0g05ld' target=\"_blank\">https://wandb.ai/dusaneyash09-iiit-hyderabad/MLP-Regression-Sweep/runs/up0g05ld</a><br/> View project at: <a href='https://wandb.ai/dusaneyash09-iiit-hyderabad/MLP-Regression-Sweep' target=\"_blank\">https://wandb.ai/dusaneyash09-iiit-hyderabad/MLP-Regression-Sweep</a><br/>Synced 5 W&B file(s), 0 media file(s), 0 artifact file(s) and 0 other file(s)"
      ],
      "text/plain": [
       "<IPython.core.display.HTML object>"
      ]
     },
     "metadata": {},
     "output_type": "display_data"
    },
    {
     "data": {
      "text/html": [
       "Find logs at: <code>.\\wandb\\run-20241011_203922-up0g05ld\\logs</code>"
      ],
      "text/plain": [
       "<IPython.core.display.HTML object>"
      ]
     },
     "metadata": {},
     "output_type": "display_data"
    },
    {
     "name": "stderr",
     "output_type": "stream",
     "text": [
      "\u001b[34m\u001b[1mwandb\u001b[0m: Sweep Agent: Waiting for job.\n",
      "\u001b[34m\u001b[1mwandb\u001b[0m: Job received.\n",
      "\u001b[34m\u001b[1mwandb\u001b[0m: Agent Starting Run: 8v2kwsbc with config:\n",
      "\u001b[34m\u001b[1mwandb\u001b[0m: \tactivation: tanh\n",
      "\u001b[34m\u001b[1mwandb\u001b[0m: \tbatch_size: 32\n",
      "\u001b[34m\u001b[1mwandb\u001b[0m: \tepochs: 200\n",
      "\u001b[34m\u001b[1mwandb\u001b[0m: \tlayers: [13, 64, 32, 1]\n",
      "\u001b[34m\u001b[1mwandb\u001b[0m: \tlearning_rate: 0.06707557464991765\n",
      "\u001b[34m\u001b[1mwandb\u001b[0m: \toptimizer: sgd\n"
     ]
    },
    {
     "data": {
      "text/html": [
       "Tracking run with wandb version 0.18.3"
      ],
      "text/plain": [
       "<IPython.core.display.HTML object>"
      ]
     },
     "metadata": {},
     "output_type": "display_data"
    },
    {
     "data": {
      "text/html": [
       "Run data is saved locally in <code>c:\\Users\\yashd\\OneDrive\\Desktop\\IIIT_Hyd\\Sem_5\\SMAI\\github\\assignments\\3\\wandb\\run-20241011_203938-8v2kwsbc</code>"
      ],
      "text/plain": [
       "<IPython.core.display.HTML object>"
      ]
     },
     "metadata": {},
     "output_type": "display_data"
    },
    {
     "data": {
      "text/html": [
       "Syncing run <strong><a href='https://wandb.ai/dusaneyash09-iiit-hyderabad/MLP-Regression-Sweep/runs/8v2kwsbc' target=\"_blank\">worldly-sweep-15</a></strong> to <a href='https://wandb.ai/dusaneyash09-iiit-hyderabad/MLP-Regression-Sweep' target=\"_blank\">Weights & Biases</a> (<a href='https://wandb.me/run' target=\"_blank\">docs</a>)<br/>Sweep page: <a href='https://wandb.ai/dusaneyash09-iiit-hyderabad/MLP-Regression-Sweep/sweeps/6gjni9g3' target=\"_blank\">https://wandb.ai/dusaneyash09-iiit-hyderabad/MLP-Regression-Sweep/sweeps/6gjni9g3</a>"
      ],
      "text/plain": [
       "<IPython.core.display.HTML object>"
      ]
     },
     "metadata": {},
     "output_type": "display_data"
    },
    {
     "data": {
      "text/html": [
       " View project at <a href='https://wandb.ai/dusaneyash09-iiit-hyderabad/MLP-Regression-Sweep' target=\"_blank\">https://wandb.ai/dusaneyash09-iiit-hyderabad/MLP-Regression-Sweep</a>"
      ],
      "text/plain": [
       "<IPython.core.display.HTML object>"
      ]
     },
     "metadata": {},
     "output_type": "display_data"
    },
    {
     "data": {
      "text/html": [
       " View sweep at <a href='https://wandb.ai/dusaneyash09-iiit-hyderabad/MLP-Regression-Sweep/sweeps/6gjni9g3' target=\"_blank\">https://wandb.ai/dusaneyash09-iiit-hyderabad/MLP-Regression-Sweep/sweeps/6gjni9g3</a>"
      ],
      "text/plain": [
       "<IPython.core.display.HTML object>"
      ]
     },
     "metadata": {},
     "output_type": "display_data"
    },
    {
     "data": {
      "text/html": [
       " View run at <a href='https://wandb.ai/dusaneyash09-iiit-hyderabad/MLP-Regression-Sweep/runs/8v2kwsbc' target=\"_blank\">https://wandb.ai/dusaneyash09-iiit-hyderabad/MLP-Regression-Sweep/runs/8v2kwsbc</a>"
      ],
      "text/plain": [
       "<IPython.core.display.HTML object>"
      ]
     },
     "metadata": {},
     "output_type": "display_data"
    },
    {
     "data": {
      "text/html": [
       "<style>\n",
       "    table.wandb td:nth-child(1) { padding: 0 10px; text-align: left ; width: auto;} td:nth-child(2) {text-align: left ; width: 100%}\n",
       "    .wandb-row { display: flex; flex-direction: row; flex-wrap: wrap; justify-content: flex-start; width: 100% }\n",
       "    .wandb-col { display: flex; flex-direction: column; flex-basis: 100%; flex: 1; padding: 10px; }\n",
       "    </style>\n",
       "<div class=\"wandb-row\"><div class=\"wandb-col\"><h3>Run history:</h3><br/><table class=\"wandb\"><tr><td>MSE</td><td>▁</td></tr><tr><td>RMSE</td><td>▁</td></tr><tr><td>R²</td><td>▁</td></tr></table><br/></div><div class=\"wandb-col\"><h3>Run summary:</h3><br/><table class=\"wandb\"><tr><td>MSE</td><td>530.09114</td></tr><tr><td>RMSE</td><td>23.02371</td></tr><tr><td>R²</td><td>-5.74336</td></tr></table><br/></div></div>"
      ],
      "text/plain": [
       "<IPython.core.display.HTML object>"
      ]
     },
     "metadata": {},
     "output_type": "display_data"
    },
    {
     "data": {
      "text/html": [
       " View run <strong style=\"color:#cdcd00\">worldly-sweep-15</strong> at: <a href='https://wandb.ai/dusaneyash09-iiit-hyderabad/MLP-Regression-Sweep/runs/8v2kwsbc' target=\"_blank\">https://wandb.ai/dusaneyash09-iiit-hyderabad/MLP-Regression-Sweep/runs/8v2kwsbc</a><br/> View project at: <a href='https://wandb.ai/dusaneyash09-iiit-hyderabad/MLP-Regression-Sweep' target=\"_blank\">https://wandb.ai/dusaneyash09-iiit-hyderabad/MLP-Regression-Sweep</a><br/>Synced 5 W&B file(s), 0 media file(s), 0 artifact file(s) and 0 other file(s)"
      ],
      "text/plain": [
       "<IPython.core.display.HTML object>"
      ]
     },
     "metadata": {},
     "output_type": "display_data"
    },
    {
     "data": {
      "text/html": [
       "Find logs at: <code>.\\wandb\\run-20241011_203938-8v2kwsbc\\logs</code>"
      ],
      "text/plain": [
       "<IPython.core.display.HTML object>"
      ]
     },
     "metadata": {},
     "output_type": "display_data"
    },
    {
     "name": "stderr",
     "output_type": "stream",
     "text": [
      "\u001b[34m\u001b[1mwandb\u001b[0m: Agent Starting Run: 2ikpb1l8 with config:\n",
      "\u001b[34m\u001b[1mwandb\u001b[0m: \tactivation: sigmoid\n",
      "\u001b[34m\u001b[1mwandb\u001b[0m: \tbatch_size: 64\n",
      "\u001b[34m\u001b[1mwandb\u001b[0m: \tepochs: 50\n",
      "\u001b[34m\u001b[1mwandb\u001b[0m: \tlayers: [13, 64, 32, 1]\n",
      "\u001b[34m\u001b[1mwandb\u001b[0m: \tlearning_rate: 0.016058995808151313\n",
      "\u001b[34m\u001b[1mwandb\u001b[0m: \toptimizer: sgd\n"
     ]
    },
    {
     "data": {
      "text/html": [
       "Tracking run with wandb version 0.18.3"
      ],
      "text/plain": [
       "<IPython.core.display.HTML object>"
      ]
     },
     "metadata": {},
     "output_type": "display_data"
    },
    {
     "data": {
      "text/html": [
       "Run data is saved locally in <code>c:\\Users\\yashd\\OneDrive\\Desktop\\IIIT_Hyd\\Sem_5\\SMAI\\github\\assignments\\3\\wandb\\run-20241011_203943-2ikpb1l8</code>"
      ],
      "text/plain": [
       "<IPython.core.display.HTML object>"
      ]
     },
     "metadata": {},
     "output_type": "display_data"
    },
    {
     "data": {
      "text/html": [
       "Syncing run <strong><a href='https://wandb.ai/dusaneyash09-iiit-hyderabad/MLP-Regression-Sweep/runs/2ikpb1l8' target=\"_blank\">fancy-sweep-16</a></strong> to <a href='https://wandb.ai/dusaneyash09-iiit-hyderabad/MLP-Regression-Sweep' target=\"_blank\">Weights & Biases</a> (<a href='https://wandb.me/run' target=\"_blank\">docs</a>)<br/>Sweep page: <a href='https://wandb.ai/dusaneyash09-iiit-hyderabad/MLP-Regression-Sweep/sweeps/6gjni9g3' target=\"_blank\">https://wandb.ai/dusaneyash09-iiit-hyderabad/MLP-Regression-Sweep/sweeps/6gjni9g3</a>"
      ],
      "text/plain": [
       "<IPython.core.display.HTML object>"
      ]
     },
     "metadata": {},
     "output_type": "display_data"
    },
    {
     "data": {
      "text/html": [
       " View project at <a href='https://wandb.ai/dusaneyash09-iiit-hyderabad/MLP-Regression-Sweep' target=\"_blank\">https://wandb.ai/dusaneyash09-iiit-hyderabad/MLP-Regression-Sweep</a>"
      ],
      "text/plain": [
       "<IPython.core.display.HTML object>"
      ]
     },
     "metadata": {},
     "output_type": "display_data"
    },
    {
     "data": {
      "text/html": [
       " View sweep at <a href='https://wandb.ai/dusaneyash09-iiit-hyderabad/MLP-Regression-Sweep/sweeps/6gjni9g3' target=\"_blank\">https://wandb.ai/dusaneyash09-iiit-hyderabad/MLP-Regression-Sweep/sweeps/6gjni9g3</a>"
      ],
      "text/plain": [
       "<IPython.core.display.HTML object>"
      ]
     },
     "metadata": {},
     "output_type": "display_data"
    },
    {
     "data": {
      "text/html": [
       " View run at <a href='https://wandb.ai/dusaneyash09-iiit-hyderabad/MLP-Regression-Sweep/runs/2ikpb1l8' target=\"_blank\">https://wandb.ai/dusaneyash09-iiit-hyderabad/MLP-Regression-Sweep/runs/2ikpb1l8</a>"
      ],
      "text/plain": [
       "<IPython.core.display.HTML object>"
      ]
     },
     "metadata": {},
     "output_type": "display_data"
    },
    {
     "data": {
      "text/html": [
       "<style>\n",
       "    table.wandb td:nth-child(1) { padding: 0 10px; text-align: left ; width: auto;} td:nth-child(2) {text-align: left ; width: 100%}\n",
       "    .wandb-row { display: flex; flex-direction: row; flex-wrap: wrap; justify-content: flex-start; width: 100% }\n",
       "    .wandb-col { display: flex; flex-direction: column; flex-basis: 100%; flex: 1; padding: 10px; }\n",
       "    </style>\n",
       "<div class=\"wandb-row\"><div class=\"wandb-col\"><h3>Run history:</h3><br/><table class=\"wandb\"><tr><td>MSE</td><td>▁</td></tr><tr><td>RMSE</td><td>▁</td></tr><tr><td>R²</td><td>▁</td></tr></table><br/></div><div class=\"wandb-col\"><h3>Run summary:</h3><br/><table class=\"wandb\"><tr><td>MSE</td><td>530.09114</td></tr><tr><td>RMSE</td><td>23.02371</td></tr><tr><td>R²</td><td>-5.74336</td></tr></table><br/></div></div>"
      ],
      "text/plain": [
       "<IPython.core.display.HTML object>"
      ]
     },
     "metadata": {},
     "output_type": "display_data"
    },
    {
     "data": {
      "text/html": [
       " View run <strong style=\"color:#cdcd00\">fancy-sweep-16</strong> at: <a href='https://wandb.ai/dusaneyash09-iiit-hyderabad/MLP-Regression-Sweep/runs/2ikpb1l8' target=\"_blank\">https://wandb.ai/dusaneyash09-iiit-hyderabad/MLP-Regression-Sweep/runs/2ikpb1l8</a><br/> View project at: <a href='https://wandb.ai/dusaneyash09-iiit-hyderabad/MLP-Regression-Sweep' target=\"_blank\">https://wandb.ai/dusaneyash09-iiit-hyderabad/MLP-Regression-Sweep</a><br/>Synced 5 W&B file(s), 0 media file(s), 0 artifact file(s) and 0 other file(s)"
      ],
      "text/plain": [
       "<IPython.core.display.HTML object>"
      ]
     },
     "metadata": {},
     "output_type": "display_data"
    },
    {
     "data": {
      "text/html": [
       "Find logs at: <code>.\\wandb\\run-20241011_203943-2ikpb1l8\\logs</code>"
      ],
      "text/plain": [
       "<IPython.core.display.HTML object>"
      ]
     },
     "metadata": {},
     "output_type": "display_data"
    },
    {
     "name": "stderr",
     "output_type": "stream",
     "text": [
      "\u001b[34m\u001b[1mwandb\u001b[0m: Agent Starting Run: e87usajq with config:\n",
      "\u001b[34m\u001b[1mwandb\u001b[0m: \tactivation: tanh\n",
      "\u001b[34m\u001b[1mwandb\u001b[0m: \tbatch_size: 32\n",
      "\u001b[34m\u001b[1mwandb\u001b[0m: \tepochs: 200\n",
      "\u001b[34m\u001b[1mwandb\u001b[0m: \tlayers: [13, 10, 1]\n",
      "\u001b[34m\u001b[1mwandb\u001b[0m: \tlearning_rate: 0.02050334695216944\n",
      "\u001b[34m\u001b[1mwandb\u001b[0m: \toptimizer: sgd\n"
     ]
    },
    {
     "data": {
      "text/html": [
       "Tracking run with wandb version 0.18.3"
      ],
      "text/plain": [
       "<IPython.core.display.HTML object>"
      ]
     },
     "metadata": {},
     "output_type": "display_data"
    },
    {
     "data": {
      "text/html": [
       "Run data is saved locally in <code>c:\\Users\\yashd\\OneDrive\\Desktop\\IIIT_Hyd\\Sem_5\\SMAI\\github\\assignments\\3\\wandb\\run-20241011_203949-e87usajq</code>"
      ],
      "text/plain": [
       "<IPython.core.display.HTML object>"
      ]
     },
     "metadata": {},
     "output_type": "display_data"
    },
    {
     "data": {
      "text/html": [
       "Syncing run <strong><a href='https://wandb.ai/dusaneyash09-iiit-hyderabad/MLP-Regression-Sweep/runs/e87usajq' target=\"_blank\">skilled-sweep-17</a></strong> to <a href='https://wandb.ai/dusaneyash09-iiit-hyderabad/MLP-Regression-Sweep' target=\"_blank\">Weights & Biases</a> (<a href='https://wandb.me/run' target=\"_blank\">docs</a>)<br/>Sweep page: <a href='https://wandb.ai/dusaneyash09-iiit-hyderabad/MLP-Regression-Sweep/sweeps/6gjni9g3' target=\"_blank\">https://wandb.ai/dusaneyash09-iiit-hyderabad/MLP-Regression-Sweep/sweeps/6gjni9g3</a>"
      ],
      "text/plain": [
       "<IPython.core.display.HTML object>"
      ]
     },
     "metadata": {},
     "output_type": "display_data"
    },
    {
     "data": {
      "text/html": [
       " View project at <a href='https://wandb.ai/dusaneyash09-iiit-hyderabad/MLP-Regression-Sweep' target=\"_blank\">https://wandb.ai/dusaneyash09-iiit-hyderabad/MLP-Regression-Sweep</a>"
      ],
      "text/plain": [
       "<IPython.core.display.HTML object>"
      ]
     },
     "metadata": {},
     "output_type": "display_data"
    },
    {
     "data": {
      "text/html": [
       " View sweep at <a href='https://wandb.ai/dusaneyash09-iiit-hyderabad/MLP-Regression-Sweep/sweeps/6gjni9g3' target=\"_blank\">https://wandb.ai/dusaneyash09-iiit-hyderabad/MLP-Regression-Sweep/sweeps/6gjni9g3</a>"
      ],
      "text/plain": [
       "<IPython.core.display.HTML object>"
      ]
     },
     "metadata": {},
     "output_type": "display_data"
    },
    {
     "data": {
      "text/html": [
       " View run at <a href='https://wandb.ai/dusaneyash09-iiit-hyderabad/MLP-Regression-Sweep/runs/e87usajq' target=\"_blank\">https://wandb.ai/dusaneyash09-iiit-hyderabad/MLP-Regression-Sweep/runs/e87usajq</a>"
      ],
      "text/plain": [
       "<IPython.core.display.HTML object>"
      ]
     },
     "metadata": {},
     "output_type": "display_data"
    },
    {
     "data": {
      "text/html": [
       "<style>\n",
       "    table.wandb td:nth-child(1) { padding: 0 10px; text-align: left ; width: auto;} td:nth-child(2) {text-align: left ; width: 100%}\n",
       "    .wandb-row { display: flex; flex-direction: row; flex-wrap: wrap; justify-content: flex-start; width: 100% }\n",
       "    .wandb-col { display: flex; flex-direction: column; flex-basis: 100%; flex: 1; padding: 10px; }\n",
       "    </style>\n",
       "<div class=\"wandb-row\"><div class=\"wandb-col\"><h3>Run history:</h3><br/><table class=\"wandb\"><tr><td>MSE</td><td>▁</td></tr><tr><td>RMSE</td><td>▁</td></tr><tr><td>R²</td><td>▁</td></tr></table><br/></div><div class=\"wandb-col\"><h3>Run summary:</h3><br/><table class=\"wandb\"><tr><td>MSE</td><td>557.57468</td></tr><tr><td>RMSE</td><td>23.61302</td></tr><tr><td>R²</td><td>-6.09298</td></tr></table><br/></div></div>"
      ],
      "text/plain": [
       "<IPython.core.display.HTML object>"
      ]
     },
     "metadata": {},
     "output_type": "display_data"
    },
    {
     "data": {
      "text/html": [
       " View run <strong style=\"color:#cdcd00\">skilled-sweep-17</strong> at: <a href='https://wandb.ai/dusaneyash09-iiit-hyderabad/MLP-Regression-Sweep/runs/e87usajq' target=\"_blank\">https://wandb.ai/dusaneyash09-iiit-hyderabad/MLP-Regression-Sweep/runs/e87usajq</a><br/> View project at: <a href='https://wandb.ai/dusaneyash09-iiit-hyderabad/MLP-Regression-Sweep' target=\"_blank\">https://wandb.ai/dusaneyash09-iiit-hyderabad/MLP-Regression-Sweep</a><br/>Synced 5 W&B file(s), 0 media file(s), 0 artifact file(s) and 0 other file(s)"
      ],
      "text/plain": [
       "<IPython.core.display.HTML object>"
      ]
     },
     "metadata": {},
     "output_type": "display_data"
    },
    {
     "data": {
      "text/html": [
       "Find logs at: <code>.\\wandb\\run-20241011_203949-e87usajq\\logs</code>"
      ],
      "text/plain": [
       "<IPython.core.display.HTML object>"
      ]
     },
     "metadata": {},
     "output_type": "display_data"
    },
    {
     "name": "stderr",
     "output_type": "stream",
     "text": [
      "\u001b[34m\u001b[1mwandb\u001b[0m: Sweep Agent: Waiting for job.\n",
      "\u001b[34m\u001b[1mwandb\u001b[0m: Job received.\n",
      "\u001b[34m\u001b[1mwandb\u001b[0m: Agent Starting Run: yanqswuf with config:\n",
      "\u001b[34m\u001b[1mwandb\u001b[0m: \tactivation: relu\n",
      "\u001b[34m\u001b[1mwandb\u001b[0m: \tbatch_size: 64\n",
      "\u001b[34m\u001b[1mwandb\u001b[0m: \tepochs: 100\n",
      "\u001b[34m\u001b[1mwandb\u001b[0m: \tlayers: [13, 64, 32, 1]\n",
      "\u001b[34m\u001b[1mwandb\u001b[0m: \tlearning_rate: 0.024765625744138348\n",
      "\u001b[34m\u001b[1mwandb\u001b[0m: \toptimizer: sgd\n"
     ]
    },
    {
     "data": {
      "text/html": [
       "Tracking run with wandb version 0.18.3"
      ],
      "text/plain": [
       "<IPython.core.display.HTML object>"
      ]
     },
     "metadata": {},
     "output_type": "display_data"
    },
    {
     "data": {
      "text/html": [
       "Run data is saved locally in <code>c:\\Users\\yashd\\OneDrive\\Desktop\\IIIT_Hyd\\Sem_5\\SMAI\\github\\assignments\\3\\wandb\\run-20241011_204005-yanqswuf</code>"
      ],
      "text/plain": [
       "<IPython.core.display.HTML object>"
      ]
     },
     "metadata": {},
     "output_type": "display_data"
    },
    {
     "data": {
      "text/html": [
       "Syncing run <strong><a href='https://wandb.ai/dusaneyash09-iiit-hyderabad/MLP-Regression-Sweep/runs/yanqswuf' target=\"_blank\">deft-sweep-18</a></strong> to <a href='https://wandb.ai/dusaneyash09-iiit-hyderabad/MLP-Regression-Sweep' target=\"_blank\">Weights & Biases</a> (<a href='https://wandb.me/run' target=\"_blank\">docs</a>)<br/>Sweep page: <a href='https://wandb.ai/dusaneyash09-iiit-hyderabad/MLP-Regression-Sweep/sweeps/6gjni9g3' target=\"_blank\">https://wandb.ai/dusaneyash09-iiit-hyderabad/MLP-Regression-Sweep/sweeps/6gjni9g3</a>"
      ],
      "text/plain": [
       "<IPython.core.display.HTML object>"
      ]
     },
     "metadata": {},
     "output_type": "display_data"
    },
    {
     "data": {
      "text/html": [
       " View project at <a href='https://wandb.ai/dusaneyash09-iiit-hyderabad/MLP-Regression-Sweep' target=\"_blank\">https://wandb.ai/dusaneyash09-iiit-hyderabad/MLP-Regression-Sweep</a>"
      ],
      "text/plain": [
       "<IPython.core.display.HTML object>"
      ]
     },
     "metadata": {},
     "output_type": "display_data"
    },
    {
     "data": {
      "text/html": [
       " View sweep at <a href='https://wandb.ai/dusaneyash09-iiit-hyderabad/MLP-Regression-Sweep/sweeps/6gjni9g3' target=\"_blank\">https://wandb.ai/dusaneyash09-iiit-hyderabad/MLP-Regression-Sweep/sweeps/6gjni9g3</a>"
      ],
      "text/plain": [
       "<IPython.core.display.HTML object>"
      ]
     },
     "metadata": {},
     "output_type": "display_data"
    },
    {
     "data": {
      "text/html": [
       " View run at <a href='https://wandb.ai/dusaneyash09-iiit-hyderabad/MLP-Regression-Sweep/runs/yanqswuf' target=\"_blank\">https://wandb.ai/dusaneyash09-iiit-hyderabad/MLP-Regression-Sweep/runs/yanqswuf</a>"
      ],
      "text/plain": [
       "<IPython.core.display.HTML object>"
      ]
     },
     "metadata": {},
     "output_type": "display_data"
    },
    {
     "data": {
      "text/html": [
       "<style>\n",
       "    table.wandb td:nth-child(1) { padding: 0 10px; text-align: left ; width: auto;} td:nth-child(2) {text-align: left ; width: 100%}\n",
       "    .wandb-row { display: flex; flex-direction: row; flex-wrap: wrap; justify-content: flex-start; width: 100% }\n",
       "    .wandb-col { display: flex; flex-direction: column; flex-basis: 100%; flex: 1; padding: 10px; }\n",
       "    </style>\n",
       "<div class=\"wandb-row\"><div class=\"wandb-col\"><h3>Run history:</h3><br/><table class=\"wandb\"><tr><td>MSE</td><td>▁</td></tr><tr><td>RMSE</td><td>▁</td></tr><tr><td>R²</td><td>▁</td></tr></table><br/></div><div class=\"wandb-col\"><h3>Run summary:</h3><br/><table class=\"wandb\"><tr><td>MSE</td><td>34.83694</td></tr><tr><td>RMSE</td><td>5.90228</td></tr><tr><td>R²</td><td>0.55683</td></tr></table><br/></div></div>"
      ],
      "text/plain": [
       "<IPython.core.display.HTML object>"
      ]
     },
     "metadata": {},
     "output_type": "display_data"
    },
    {
     "data": {
      "text/html": [
       " View run <strong style=\"color:#cdcd00\">deft-sweep-18</strong> at: <a href='https://wandb.ai/dusaneyash09-iiit-hyderabad/MLP-Regression-Sweep/runs/yanqswuf' target=\"_blank\">https://wandb.ai/dusaneyash09-iiit-hyderabad/MLP-Regression-Sweep/runs/yanqswuf</a><br/> View project at: <a href='https://wandb.ai/dusaneyash09-iiit-hyderabad/MLP-Regression-Sweep' target=\"_blank\">https://wandb.ai/dusaneyash09-iiit-hyderabad/MLP-Regression-Sweep</a><br/>Synced 5 W&B file(s), 0 media file(s), 0 artifact file(s) and 0 other file(s)"
      ],
      "text/plain": [
       "<IPython.core.display.HTML object>"
      ]
     },
     "metadata": {},
     "output_type": "display_data"
    },
    {
     "data": {
      "text/html": [
       "Find logs at: <code>.\\wandb\\run-20241011_204005-yanqswuf\\logs</code>"
      ],
      "text/plain": [
       "<IPython.core.display.HTML object>"
      ]
     },
     "metadata": {},
     "output_type": "display_data"
    },
    {
     "name": "stderr",
     "output_type": "stream",
     "text": [
      "\u001b[34m\u001b[1mwandb\u001b[0m: Sweep Agent: Waiting for job.\n",
      "\u001b[34m\u001b[1mwandb\u001b[0m: Job received.\n",
      "\u001b[34m\u001b[1mwandb\u001b[0m: Agent Starting Run: zk8llvoy with config:\n",
      "\u001b[34m\u001b[1mwandb\u001b[0m: \tactivation: tanh\n",
      "\u001b[34m\u001b[1mwandb\u001b[0m: \tbatch_size: 16\n",
      "\u001b[34m\u001b[1mwandb\u001b[0m: \tepochs: 50\n",
      "\u001b[34m\u001b[1mwandb\u001b[0m: \tlayers: [13, 10, 1]\n",
      "\u001b[34m\u001b[1mwandb\u001b[0m: \tlearning_rate: 0.03193106311725523\n",
      "\u001b[34m\u001b[1mwandb\u001b[0m: \toptimizer: mini-batch\n"
     ]
    },
    {
     "data": {
      "text/html": [
       "Tracking run with wandb version 0.18.3"
      ],
      "text/plain": [
       "<IPython.core.display.HTML object>"
      ]
     },
     "metadata": {},
     "output_type": "display_data"
    },
    {
     "data": {
      "text/html": [
       "Run data is saved locally in <code>c:\\Users\\yashd\\OneDrive\\Desktop\\IIIT_Hyd\\Sem_5\\SMAI\\github\\assignments\\3\\wandb\\run-20241011_204021-zk8llvoy</code>"
      ],
      "text/plain": [
       "<IPython.core.display.HTML object>"
      ]
     },
     "metadata": {},
     "output_type": "display_data"
    },
    {
     "data": {
      "text/html": [
       "Syncing run <strong><a href='https://wandb.ai/dusaneyash09-iiit-hyderabad/MLP-Regression-Sweep/runs/zk8llvoy' target=\"_blank\">lyric-sweep-19</a></strong> to <a href='https://wandb.ai/dusaneyash09-iiit-hyderabad/MLP-Regression-Sweep' target=\"_blank\">Weights & Biases</a> (<a href='https://wandb.me/run' target=\"_blank\">docs</a>)<br/>Sweep page: <a href='https://wandb.ai/dusaneyash09-iiit-hyderabad/MLP-Regression-Sweep/sweeps/6gjni9g3' target=\"_blank\">https://wandb.ai/dusaneyash09-iiit-hyderabad/MLP-Regression-Sweep/sweeps/6gjni9g3</a>"
      ],
      "text/plain": [
       "<IPython.core.display.HTML object>"
      ]
     },
     "metadata": {},
     "output_type": "display_data"
    },
    {
     "data": {
      "text/html": [
       " View project at <a href='https://wandb.ai/dusaneyash09-iiit-hyderabad/MLP-Regression-Sweep' target=\"_blank\">https://wandb.ai/dusaneyash09-iiit-hyderabad/MLP-Regression-Sweep</a>"
      ],
      "text/plain": [
       "<IPython.core.display.HTML object>"
      ]
     },
     "metadata": {},
     "output_type": "display_data"
    },
    {
     "data": {
      "text/html": [
       " View sweep at <a href='https://wandb.ai/dusaneyash09-iiit-hyderabad/MLP-Regression-Sweep/sweeps/6gjni9g3' target=\"_blank\">https://wandb.ai/dusaneyash09-iiit-hyderabad/MLP-Regression-Sweep/sweeps/6gjni9g3</a>"
      ],
      "text/plain": [
       "<IPython.core.display.HTML object>"
      ]
     },
     "metadata": {},
     "output_type": "display_data"
    },
    {
     "data": {
      "text/html": [
       " View run at <a href='https://wandb.ai/dusaneyash09-iiit-hyderabad/MLP-Regression-Sweep/runs/zk8llvoy' target=\"_blank\">https://wandb.ai/dusaneyash09-iiit-hyderabad/MLP-Regression-Sweep/runs/zk8llvoy</a>"
      ],
      "text/plain": [
       "<IPython.core.display.HTML object>"
      ]
     },
     "metadata": {},
     "output_type": "display_data"
    },
    {
     "data": {
      "text/html": [
       "<style>\n",
       "    table.wandb td:nth-child(1) { padding: 0 10px; text-align: left ; width: auto;} td:nth-child(2) {text-align: left ; width: 100%}\n",
       "    .wandb-row { display: flex; flex-direction: row; flex-wrap: wrap; justify-content: flex-start; width: 100% }\n",
       "    .wandb-col { display: flex; flex-direction: column; flex-basis: 100%; flex: 1; padding: 10px; }\n",
       "    </style>\n",
       "<div class=\"wandb-row\"><div class=\"wandb-col\"><h3>Run history:</h3><br/><table class=\"wandb\"><tr><td>MSE</td><td>▁</td></tr><tr><td>RMSE</td><td>▁</td></tr><tr><td>R²</td><td>▁</td></tr></table><br/></div><div class=\"wandb-col\"><h3>Run summary:</h3><br/><table class=\"wandb\"><tr><td>MSE</td><td>573.6121</td></tr><tr><td>RMSE</td><td>23.9502</td></tr><tr><td>R²</td><td>-6.297</td></tr></table><br/></div></div>"
      ],
      "text/plain": [
       "<IPython.core.display.HTML object>"
      ]
     },
     "metadata": {},
     "output_type": "display_data"
    },
    {
     "data": {
      "text/html": [
       " View run <strong style=\"color:#cdcd00\">lyric-sweep-19</strong> at: <a href='https://wandb.ai/dusaneyash09-iiit-hyderabad/MLP-Regression-Sweep/runs/zk8llvoy' target=\"_blank\">https://wandb.ai/dusaneyash09-iiit-hyderabad/MLP-Regression-Sweep/runs/zk8llvoy</a><br/> View project at: <a href='https://wandb.ai/dusaneyash09-iiit-hyderabad/MLP-Regression-Sweep' target=\"_blank\">https://wandb.ai/dusaneyash09-iiit-hyderabad/MLP-Regression-Sweep</a><br/>Synced 5 W&B file(s), 0 media file(s), 0 artifact file(s) and 0 other file(s)"
      ],
      "text/plain": [
       "<IPython.core.display.HTML object>"
      ]
     },
     "metadata": {},
     "output_type": "display_data"
    },
    {
     "data": {
      "text/html": [
       "Find logs at: <code>.\\wandb\\run-20241011_204021-zk8llvoy\\logs</code>"
      ],
      "text/plain": [
       "<IPython.core.display.HTML object>"
      ]
     },
     "metadata": {},
     "output_type": "display_data"
    },
    {
     "name": "stderr",
     "output_type": "stream",
     "text": [
      "\u001b[34m\u001b[1mwandb\u001b[0m: Sweep Agent: Waiting for job.\n",
      "\u001b[34m\u001b[1mwandb\u001b[0m: Job received.\n",
      "\u001b[34m\u001b[1mwandb\u001b[0m: Agent Starting Run: blf4vjvs with config:\n",
      "\u001b[34m\u001b[1mwandb\u001b[0m: \tactivation: tanh\n",
      "\u001b[34m\u001b[1mwandb\u001b[0m: \tbatch_size: 32\n",
      "\u001b[34m\u001b[1mwandb\u001b[0m: \tepochs: 100\n",
      "\u001b[34m\u001b[1mwandb\u001b[0m: \tlayers: [13, 10, 1]\n",
      "\u001b[34m\u001b[1mwandb\u001b[0m: \tlearning_rate: 0.07692526846857653\n",
      "\u001b[34m\u001b[1mwandb\u001b[0m: \toptimizer: sgd\n"
     ]
    },
    {
     "data": {
      "text/html": [
       "Tracking run with wandb version 0.18.3"
      ],
      "text/plain": [
       "<IPython.core.display.HTML object>"
      ]
     },
     "metadata": {},
     "output_type": "display_data"
    },
    {
     "data": {
      "text/html": [
       "Run data is saved locally in <code>c:\\Users\\yashd\\OneDrive\\Desktop\\IIIT_Hyd\\Sem_5\\SMAI\\github\\assignments\\3\\wandb\\run-20241011_204037-blf4vjvs</code>"
      ],
      "text/plain": [
       "<IPython.core.display.HTML object>"
      ]
     },
     "metadata": {},
     "output_type": "display_data"
    },
    {
     "data": {
      "text/html": [
       "Syncing run <strong><a href='https://wandb.ai/dusaneyash09-iiit-hyderabad/MLP-Regression-Sweep/runs/blf4vjvs' target=\"_blank\">visionary-sweep-20</a></strong> to <a href='https://wandb.ai/dusaneyash09-iiit-hyderabad/MLP-Regression-Sweep' target=\"_blank\">Weights & Biases</a> (<a href='https://wandb.me/run' target=\"_blank\">docs</a>)<br/>Sweep page: <a href='https://wandb.ai/dusaneyash09-iiit-hyderabad/MLP-Regression-Sweep/sweeps/6gjni9g3' target=\"_blank\">https://wandb.ai/dusaneyash09-iiit-hyderabad/MLP-Regression-Sweep/sweeps/6gjni9g3</a>"
      ],
      "text/plain": [
       "<IPython.core.display.HTML object>"
      ]
     },
     "metadata": {},
     "output_type": "display_data"
    },
    {
     "data": {
      "text/html": [
       " View project at <a href='https://wandb.ai/dusaneyash09-iiit-hyderabad/MLP-Regression-Sweep' target=\"_blank\">https://wandb.ai/dusaneyash09-iiit-hyderabad/MLP-Regression-Sweep</a>"
      ],
      "text/plain": [
       "<IPython.core.display.HTML object>"
      ]
     },
     "metadata": {},
     "output_type": "display_data"
    },
    {
     "data": {
      "text/html": [
       " View sweep at <a href='https://wandb.ai/dusaneyash09-iiit-hyderabad/MLP-Regression-Sweep/sweeps/6gjni9g3' target=\"_blank\">https://wandb.ai/dusaneyash09-iiit-hyderabad/MLP-Regression-Sweep/sweeps/6gjni9g3</a>"
      ],
      "text/plain": [
       "<IPython.core.display.HTML object>"
      ]
     },
     "metadata": {},
     "output_type": "display_data"
    },
    {
     "data": {
      "text/html": [
       " View run at <a href='https://wandb.ai/dusaneyash09-iiit-hyderabad/MLP-Regression-Sweep/runs/blf4vjvs' target=\"_blank\">https://wandb.ai/dusaneyash09-iiit-hyderabad/MLP-Regression-Sweep/runs/blf4vjvs</a>"
      ],
      "text/plain": [
       "<IPython.core.display.HTML object>"
      ]
     },
     "metadata": {},
     "output_type": "display_data"
    },
    {
     "data": {
      "text/html": [
       "<style>\n",
       "    table.wandb td:nth-child(1) { padding: 0 10px; text-align: left ; width: auto;} td:nth-child(2) {text-align: left ; width: 100%}\n",
       "    .wandb-row { display: flex; flex-direction: row; flex-wrap: wrap; justify-content: flex-start; width: 100% }\n",
       "    .wandb-col { display: flex; flex-direction: column; flex-basis: 100%; flex: 1; padding: 10px; }\n",
       "    </style>\n",
       "<div class=\"wandb-row\"><div class=\"wandb-col\"><h3>Run history:</h3><br/><table class=\"wandb\"><tr><td>MSE</td><td>▁</td></tr><tr><td>RMSE</td><td>▁</td></tr><tr><td>R²</td><td>▁</td></tr></table><br/></div><div class=\"wandb-col\"><h3>Run summary:</h3><br/><table class=\"wandb\"><tr><td>MSE</td><td>557.57468</td></tr><tr><td>RMSE</td><td>23.61302</td></tr><tr><td>R²</td><td>-6.09298</td></tr></table><br/></div></div>"
      ],
      "text/plain": [
       "<IPython.core.display.HTML object>"
      ]
     },
     "metadata": {},
     "output_type": "display_data"
    },
    {
     "data": {
      "text/html": [
       " View run <strong style=\"color:#cdcd00\">visionary-sweep-20</strong> at: <a href='https://wandb.ai/dusaneyash09-iiit-hyderabad/MLP-Regression-Sweep/runs/blf4vjvs' target=\"_blank\">https://wandb.ai/dusaneyash09-iiit-hyderabad/MLP-Regression-Sweep/runs/blf4vjvs</a><br/> View project at: <a href='https://wandb.ai/dusaneyash09-iiit-hyderabad/MLP-Regression-Sweep' target=\"_blank\">https://wandb.ai/dusaneyash09-iiit-hyderabad/MLP-Regression-Sweep</a><br/>Synced 5 W&B file(s), 0 media file(s), 0 artifact file(s) and 0 other file(s)"
      ],
      "text/plain": [
       "<IPython.core.display.HTML object>"
      ]
     },
     "metadata": {},
     "output_type": "display_data"
    },
    {
     "data": {
      "text/html": [
       "Find logs at: <code>.\\wandb\\run-20241011_204037-blf4vjvs\\logs</code>"
      ],
      "text/plain": [
       "<IPython.core.display.HTML object>"
      ]
     },
     "metadata": {},
     "output_type": "display_data"
    }
   ],
   "source": [
    "import wandb \n",
    "\n",
    "sweep_config = {\n",
    "    'method': 'random',  # 'random', 'grid', or 'bayes'\n",
    "    'metric': {\n",
    "        'name': 'MSE',\n",
    "        'goal': 'minimize'  # We want to minimize MSE\n",
    "    },\n",
    "    'parameters': {\n",
    "        'learning_rate': {'min': 0.0001, 'max': 0.1},\n",
    "        'optimizer': {\n",
    "            'values': ['sgd', 'batch', 'mini-batch']  # Testing SGD and Adam\n",
    "        },\n",
    "        'activation': {\n",
    "            'values': ['relu', 'tanh', 'sigmoid']  # Trying different activation functions\n",
    "        },\n",
    "        'batch_size': {\n",
    "            'values': [16, 32, 64]  # Different batch sizes\n",
    "        },\n",
    "        'epochs': {\n",
    "            'values': [50, 100, 200]  # Number of epochs\n",
    "        },\n",
    "        'layers': {\n",
    "            'values': [[X_train.shape[1], 64, 32, 1], [X_train.shape[1], 10, 1], [X_train.shape[1], 32, 16, 1]]  # Different network architectures\n",
    "        }\n",
    "    }\n",
    "}\n",
    "\n",
    "def sweep_train():\n",
    "    # Initialize a new run\n",
    "    wandb.init()\n",
    "\n",
    "    # Get hyperparameters from the W&B config\n",
    "    config = wandb.config\n",
    "\n",
    "    # Create the MLP model with hyperparameters from the sweep config\n",
    "    mlp = MLPRegression(\n",
    "        layers=config.layers,\n",
    "        learning_rate=config.learning_rate,\n",
    "        activation=config.activation,\n",
    "        optimizer=config.optimizer,\n",
    "        batch_size=config.batch_size,\n",
    "        epochs=config.epochs\n",
    "    )\n",
    "\n",
    "    # Train the model\n",
    "    mlp.fit(X_train, y_train)\n",
    "\n",
    "    # Evaluate the model on the validation set\n",
    "    mse, rmse, r2 = mlp.evaluate(X_val, y_val)\n",
    "\n",
    "    # Log metrics to W&B\n",
    "    wandb.log({\"MSE\": mse, \"RMSE\": rmse, \"R²\": r2})\n",
    "\n",
    "# Initialize the sweep\n",
    "sweep_id = wandb.sweep(sweep_config, project=\"MLP-Regression-Sweep\")\n",
    "\n",
    "# Run the sweep\n",
    "wandb.agent(sweep_id, function=sweep_train, count=20)  # count defines how many runs to execute\n"
   ]
  },
  {
   "cell_type": "code",
   "execution_count": 2,
   "metadata": {},
   "outputs": [],
   "source": [
    "import pandas as pd\n",
    "from sklearn.model_selection import train_test_split\n",
    "from sklearn.preprocessing import StandardScaler\n",
    "\n",
    "\n",
    "data = pd.read_csv('../../data/external/diabetes.csv')\n",
    "\n",
    "X = data.iloc[:, :-1].values  # All columns except the last\n",
    "y = data.iloc[:, -1].values   # Last column\n",
    "\n",
    "\n",
    "X_train, X_testval, y_train, y_testval = train_test_split(X, y, test_size=0.2, random_state=42)\n",
    "X_val, X_test, y_val, y_test = train_test_split(X_testval, y_testval, test_size=0.5, random_state=42)\n",
    "\n",
    "scaler = StandardScaler()\n",
    "X_train = scaler.fit_transform(X_train)\n",
    "X_val = scaler.transform(X_val)\n",
    "X_test_scaled = scaler.transform(X_test)\n"
   ]
  },
  {
   "cell_type": "code",
   "execution_count": 11,
   "metadata": {},
   "outputs": [
    {
     "name": "stdout",
     "output_type": "stream",
     "text": [
      "Epoch 0, Loss: 0.6936022302506661\n",
      "Epoch 10, Loss: 0.6905839921135517\n",
      "Epoch 20, Loss: 0.6876212131673527\n",
      "Epoch 30, Loss: 0.6847128094010263\n",
      "Epoch 40, Loss: 0.6818577098537895\n",
      "Epoch 50, Loss: 0.6790548571162606\n",
      "Epoch 60, Loss: 0.6763032077838926\n",
      "Epoch 70, Loss: 0.6736017328640045\n",
      "Epoch 80, Loss: 0.6709494181378285\n",
      "Epoch 90, Loss: 0.6683452644790988\n",
      "Epoch 100, Loss: 0.6657882881307827\n",
      "Epoch 110, Loss: 0.6632775209416332\n",
      "Epoch 120, Loss: 0.6608120105642898\n",
      "Epoch 130, Loss: 0.6583908206166984\n",
      "Epoch 140, Loss: 0.6560130308086466\n",
      "Epoch 150, Loss: 0.6536777370352286\n",
      "Epoch 160, Loss: 0.6513840514390549\n",
      "Epoch 170, Loss: 0.6491311024430161\n",
      "Epoch 180, Loss: 0.646918034755396\n",
      "Epoch 190, Loss: 0.6447440093491013\n",
      "Epoch 200, Loss: 0.6426082034167473\n",
      "Epoch 210, Loss: 0.6405098103032957\n",
      "Epoch 220, Loss: 0.6384480394178997\n",
      "Epoch 230, Loss: 0.6364221161265613\n",
      "Epoch 240, Loss: 0.6344312816271505\n",
      "Epoch 250, Loss: 0.6324747928082832\n",
      "Epoch 260, Loss: 0.6305519220934906\n",
      "Epoch 270, Loss: 0.6286619572720563\n",
      "Epoch 280, Loss: 0.6268042013178307\n",
      "Epoch 290, Loss: 0.6249779721972734\n",
      "Epoch 300, Loss: 0.6231826026679056\n",
      "Epoch 310, Loss: 0.6214174400682956\n",
      "Epoch 320, Loss: 0.6196818461006345\n",
      "Epoch 330, Loss: 0.6179751966069001\n",
      "Epoch 340, Loss: 0.6162968813395436\n",
      "Epoch 350, Loss: 0.614646303727574\n",
      "Epoch 360, Loss: 0.613022880638862\n",
      "Epoch 370, Loss: 0.6114260421394236\n",
      "Epoch 380, Loss: 0.6098552312503926\n",
      "Epoch 390, Loss: 0.6083099037033399\n",
      "Epoch 400, Loss: 0.6067895276945448\n",
      "Epoch 410, Loss: 0.6052935836387804\n",
      "Epoch 420, Loss: 0.6038215639231258\n",
      "Epoch 430, Loss: 0.6023729726612765\n",
      "Epoch 440, Loss: 0.6009473254487835\n",
      "Epoch 450, Loss: 0.599544149119614\n",
      "Epoch 460, Loss: 0.5981629815043874\n",
      "Epoch 470, Loss: 0.5968033711906086\n",
      "Epoch 480, Loss: 0.5954648772851869\n",
      "Epoch 490, Loss: 0.5941470691795007\n",
      "Epoch 500, Loss: 0.5928495263172341\n",
      "Epoch 510, Loss: 0.5915718379651949\n",
      "Epoch 520, Loss: 0.5903136029872886\n",
      "Epoch 530, Loss: 0.5890744296218068\n",
      "Epoch 540, Loss: 0.5878539352621649\n",
      "Epoch 550, Loss: 0.5866517462412044\n",
      "Epoch 560, Loss: 0.5854674976191567\n",
      "Epoch 570, Loss: 0.5843008329753493\n",
      "Epoch 580, Loss: 0.583151404203719\n",
      "Epoch 590, Loss: 0.5820188713121832\n",
      "Epoch 600, Loss: 0.5809029022259072\n",
      "Epoch 610, Loss: 0.5798031725944924\n",
      "Epoch 620, Loss: 0.5787193656031022\n",
      "Epoch 630, Loss: 0.5776511717875289\n",
      "Epoch 640, Loss: 0.5765982888531991\n",
      "Epoch 650, Loss: 0.5755604214981046\n",
      "Epoch 660, Loss: 0.5745372812396418\n",
      "Epoch 670, Loss: 0.5735285862453294\n",
      "Epoch 680, Loss: 0.5725340611673789\n",
      "Epoch 690, Loss: 0.5715534369810743\n",
      "Epoch 700, Loss: 0.5705864508269245\n",
      "Epoch 710, Loss: 0.5696328458565402\n",
      "Epoch 720, Loss: 0.5686923710821878\n",
      "Epoch 730, Loss: 0.5677647812299634\n",
      "Epoch 740, Loss: 0.5668498365965384\n",
      "Epoch 750, Loss: 0.5659473029094131\n",
      "Epoch 760, Loss: 0.5650569511906228\n",
      "Epoch 770, Loss: 0.5641785576238323\n",
      "Epoch 780, Loss: 0.563311903424759\n",
      "Epoch 790, Loss: 0.5624567747148594\n",
      "Epoch 800, Loss: 0.5616129623982143\n",
      "Epoch 810, Loss: 0.5607802620415488\n",
      "Epoch 820, Loss: 0.5599584737573226\n",
      "Epoch 830, Loss: 0.5591474020898223\n",
      "Epoch 840, Loss: 0.5583468559041926\n",
      "Epoch 850, Loss: 0.5575566482783406\n",
      "Epoch 860, Loss: 0.5567765963976468\n",
      "Epoch 870, Loss: 0.5560065214524198\n",
      "Epoch 880, Loss: 0.5552462485380303\n",
      "Epoch 890, Loss: 0.5544956065576578\n",
      "Epoch 900, Loss: 0.5537544281275929\n",
      "Epoch 910, Loss: 0.5530225494850269\n",
      "Epoch 920, Loss: 0.5522998103982711\n",
      "Epoch 930, Loss: 0.5515860540793451\n",
      "Epoch 940, Loss: 0.5508811270988727\n",
      "Epoch 950, Loss: 0.5501848793032282\n",
      "Epoch 960, Loss: 0.5494971637338767\n",
      "Epoch 970, Loss: 0.5488178365488487\n",
      "Epoch 980, Loss: 0.5481467569462972\n",
      "Epoch 990, Loss: 0.5474837870900805\n",
      "Epoch 0, Loss: 0.24878977683523273\n",
      "Epoch 10, Loss: 0.2472882648806589\n",
      "Epoch 20, Loss: 0.24581489233274165\n",
      "Epoch 30, Loss: 0.24436927315648663\n",
      "Epoch 40, Loss: 0.24295101151123405\n",
      "Epoch 50, Loss: 0.24155970298910995\n",
      "Epoch 60, Loss: 0.24019493580381804\n",
      "Epoch 70, Loss: 0.23885629192770416\n",
      "Epoch 80, Loss: 0.2375433481755429\n",
      "Epoch 90, Loss: 0.23625567723397586\n",
      "Epoch 100, Loss: 0.2349928486359782\n",
      "Epoch 110, Loss: 0.23375442968014112\n",
      "Epoch 120, Loss: 0.23253998629492714\n",
      "Epoch 130, Loss: 0.2313490838483937\n",
      "Epoch 140, Loss: 0.2301812879041726\n",
      "Epoch 150, Loss: 0.22903616492475737\n",
      "Epoch 160, Loss: 0.22791328292337196\n",
      "Epoch 170, Loss: 0.2268122120658883\n",
      "Epoch 180, Loss: 0.22573252522441667\n",
      "Epoch 190, Loss: 0.22467379848432428\n",
      "Epoch 200, Loss: 0.22363561160653847\n",
      "Epoch 210, Loss: 0.22261754844706613\n",
      "Epoch 220, Loss: 0.22161919733571675\n",
      "Epoch 230, Loss: 0.22064015141604523\n",
      "Epoch 240, Loss: 0.21968000894854786\n",
      "Epoch 250, Loss: 0.21873837357913944\n",
      "Epoch 260, Loss: 0.2178148545749237\n",
      "Epoch 270, Loss: 0.2169090670292395\n",
      "Epoch 280, Loss: 0.21602063203792463\n",
      "Epoch 290, Loss: 0.21514917684869017\n",
      "Epoch 300, Loss: 0.21429433498544234\n",
      "Epoch 310, Loss: 0.2134557463493261\n",
      "Epoch 320, Loss: 0.21263305729819698\n",
      "Epoch 330, Loss: 0.21182592070615958\n",
      "Epoch 340, Loss: 0.21103399600473588\n",
      "Epoch 350, Loss: 0.21025694920715315\n",
      "Epoch 360, Loss: 0.20949445291716734\n",
      "Epoch 370, Loss: 0.20874618632376085\n",
      "Epoch 380, Loss: 0.20801183518298053\n",
      "Epoch 390, Loss: 0.20729109178810853\n",
      "Epoch 400, Loss: 0.20658365492928596\n",
      "Epoch 410, Loss: 0.20588922984363955\n",
      "Epoch 420, Loss: 0.20520752815689533\n",
      "Epoch 430, Loss: 0.20453826781739495\n",
      "Epoch 440, Loss: 0.20388117302337025\n",
      "Epoch 450, Loss: 0.20323597414427\n",
      "Epoch 460, Loss: 0.20260240763687512\n",
      "Epoch 470, Loss: 0.20198021595688445\n",
      "Epoch 480, Loss: 0.20136914746660167\n",
      "Epoch 490, Loss: 0.2007689563393029\n",
      "Epoch 500, Loss: 0.2001794024608205\n",
      "Epoch 510, Loss: 0.19960025132883297\n",
      "Epoch 520, Loss: 0.19903127395031087\n",
      "Epoch 530, Loss: 0.1984722467375291\n",
      "Epoch 540, Loss: 0.19792295140302069\n",
      "Epoch 550, Loss: 0.19738317485381293\n",
      "Epoch 560, Loss: 0.19685270908525543\n",
      "Epoch 570, Loss: 0.1963313510747202\n",
      "Epoch 580, Loss: 0.19581890267542654\n",
      "Epoch 590, Loss: 0.19531517051061864\n",
      "Epoch 600, Loss: 0.19481996586829947\n",
      "Epoch 610, Loss: 0.19433310459670414\n",
      "Epoch 620, Loss: 0.19385440700067455\n",
      "Epoch 630, Loss: 0.19338369773907937\n",
      "Epoch 640, Loss: 0.1929208057234064\n",
      "Epoch 650, Loss: 0.19246556401763823\n",
      "Epoch 660, Loss: 0.1920178097395083\n",
      "Epoch 670, Loss: 0.19157738396322072\n",
      "Epoch 680, Loss: 0.19114413162370586\n",
      "Epoch 690, Loss: 0.1907179014224716\n",
      "Epoch 700, Loss: 0.19029854573510113\n",
      "Epoch 710, Loss: 0.18988592052043893\n",
      "Epoch 720, Loss: 0.18947988523149684\n",
      "Epoch 730, Loss: 0.1890803027281071\n",
      "Epoch 740, Loss: 0.18868703919133942\n",
      "Epoch 750, Loss: 0.18829996403969573\n",
      "Epoch 760, Loss: 0.18791894984708818\n",
      "Epoch 770, Loss: 0.18754387226260383\n",
      "Epoch 780, Loss: 0.1871746099320513\n",
      "Epoch 790, Loss: 0.1868110444212843\n",
      "Epoch 800, Loss: 0.18645306014129095\n",
      "Epoch 810, Loss: 0.18610054427503564\n",
      "Epoch 820, Loss: 0.18575338670603644\n",
      "Epoch 830, Loss: 0.18541147994866064\n",
      "Epoch 840, Loss: 0.1850747190801161\n",
      "Epoch 850, Loss: 0.18474300167411606\n",
      "Epoch 860, Loss: 0.18441622773619343\n",
      "Epoch 870, Loss: 0.1840942996406376\n",
      "Epoch 880, Loss: 0.1837771220690278\n",
      "Epoch 890, Loss: 0.18346460195033423\n",
      "Epoch 900, Loss: 0.18315664840255855\n",
      "Epoch 910, Loss: 0.18285317267588358\n",
      "Epoch 920, Loss: 0.1825540880973034\n",
      "Epoch 930, Loss: 0.18225931001670187\n",
      "Epoch 940, Loss: 0.1819687557543502\n",
      "Epoch 950, Loss: 0.18168234454979226\n",
      "Epoch 960, Loss: 0.1813999975120864\n",
      "Epoch 970, Loss: 0.18112163757137387\n",
      "Epoch 980, Loss: 0.1808471894317417\n",
      "Epoch 990, Loss: 0.18057657952535128\n",
      "Accuracy with BCE Loss (Sigmoid): 0.45\n",
      "Accuracy with MSE Loss (Sigmoid): 0.47\n"
     ]
    },
    {
     "data": {
      "image/png": "[encoded data removed]",
      "text/plain": [
       "<Figure size 1000x500 with 2 Axes>"
      ]
     },
     "metadata": {},
     "output_type": "display_data"
    }
   ],
   "source": [
    "# import numpy as np\n",
    "# import pandas as pd\n",
    "# import matplotlib.pyplot as plt\n",
    "# # import wandb\n",
    "# from sklearn.model_selection import train_test_split\n",
    "# from sklearn.preprocessing import StandardScaler\n",
    "\n",
    "# class MLPBinaryClassifier:\n",
    "#     def __init__(self, input_size, learning_rate=0.01, loss_type='bce', epochs=100):\n",
    "#         self.learning_rate = learning_rate\n",
    "#         self.loss_type = loss_type\n",
    "#         self.epochs = epochs\n",
    "#         self.weights = np.random.randn(input_size, 1) * 0.01\n",
    "#         self.bias = np.zeros((1, 1))\n",
    "#         self.losses = []\n",
    "\n",
    "#     def sigmoid(self, z):\n",
    "#         return 1 / (1 + np.exp(-z))\n",
    "\n",
    "#     def forward(self, X):\n",
    "#         z = np.dot(X, self.weights) + self.bias\n",
    "#         return self.sigmoid(z)\n",
    "\n",
    "#     def compute_loss(self, A, y):\n",
    "#         m = y.shape[0]\n",
    "#         if self.loss_type == 'bce':\n",
    "#             loss = -1/m * (np.dot(y.T, np.log(A)) + np.dot((1 - y).T, np.log(1 - A)))\n",
    "#         elif self.loss_type == 'mse':\n",
    "#             loss = np.mean((A - y) ** 2)\n",
    "#         return loss.item()  # Return as scalar\n",
    "\n",
    "#     def backprop(self, X, A, y):\n",
    "#         m = y.shape[0]\n",
    "#         dz = A - y\n",
    "#         dw = (1/m) * np.dot(X.T, dz)\n",
    "#         db = (1/m) * np.sum(dz)\n",
    "#         return dw, db\n",
    "\n",
    "#     def update_weights(self, dw, db):\n",
    "#         self.weights -= self.learning_rate * dw\n",
    "#         self.bias -= self.learning_rate * db\n",
    "\n",
    "#     def fit(self, X, y):\n",
    "#         y = y.reshape(-1, 1)\n",
    "#         for epoch in range(self.epochs):\n",
    "#             A = self.forward(X)\n",
    "#             loss = self.compute_loss(A, y)\n",
    "#             self.losses.append(loss)\n",
    "#             dw, db = self.backprop(X, A, y)\n",
    "#             self.update_weights(dw, db)\n",
    "\n",
    "#             if epoch % 10 == 0:\n",
    "#                 print(f'Epoch {epoch}, Loss: {loss}')\n",
    "#                 # wandb.log({\"loss\": loss})  # Log to WandB\n",
    "\n",
    "#     def predict(self, X):\n",
    "#         A = self.forward(X)\n",
    "#         return (A > 0.5).astype(int)\n",
    "\n",
    "# # # # Initialize WandB\n",
    "# # wandb.init(project='diabetes-classification', entity='your_entity_name')\n",
    "\n",
    "# # Train models\n",
    "# model_bce = MLPBinaryClassifier(input_size=X_train.shape[1], learning_rate=0.01, loss_type='bce', epochs=200)\n",
    "# model_bce.fit(X_train, y_train)\n",
    "\n",
    "# model_mse = MLPBinaryClassifier(input_size=X_train.shape[1], learning_rate=0.01, loss_type='mse', epochs=200)\n",
    "# model_mse.fit(X_train, y_train)\n",
    "\n",
    "# # Predict and evaluate\n",
    "# y_pred_bce = model_bce.predict(X_test)\n",
    "# y_pred_mse = model_mse.predict(X_test)\n",
    "\n",
    "# accuracy_bce = np.mean(y_pred_bce.flatten() == y_test)\n",
    "# accuracy_mse = np.mean(y_pred_mse.flatten() == y_test)\n",
    "\n",
    "# print(f'Accuracy with BCE Loss: {accuracy_bce:.2f}')\n",
    "# print(f'Accuracy with MSE Loss: {accuracy_mse:.2f}')\n",
    "\n",
    "# plt.figure(figsize=(10, 5))\n",
    "# plt.subplot(1, 2, 1)\n",
    "# plt.plot(model_bce.losses, label='BCE Loss')\n",
    "# plt.title('BCE Loss vs Epochs')\n",
    "# plt.xlabel('Epochs')\n",
    "# plt.ylabel('Loss')\n",
    "# plt.legend()\n",
    "\n",
    "# plt.subplot(1, 2, 2)\n",
    "# plt.plot(model_mse.losses, label='MSE Loss', color='red')\n",
    "# plt.title('MSE Loss vs Epochs')\n",
    "# plt.xlabel('Epochs')\n",
    "# plt.ylabel('Loss')\n",
    "# plt.legend()\n",
    "\n",
    "# plt.tight_layout()\n",
    "# plt.show()\n",
    "\n",
    "\n",
    "\n",
    "\n",
    "import pandas as pd\n",
    "from sklearn.model_selection import train_test_split\n",
    "from sklearn.preprocessing import StandardScaler\n",
    "\n",
    "import numpy as np\n",
    "import matplotlib.pyplot as plt\n",
    "\n",
    "# data = pd.read_csv('diabetes.csv')\n",
    "\n",
    "X = data.iloc[:, :-1].values  # All columns except the last\n",
    "y = data.iloc[:, -1].values   # Last column\n",
    "\n",
    "\n",
    "X_train, X_testval, y_train, y_testval = train_test_split(X, y, test_size=0.2, random_state=42)\n",
    "X_val, X_test, y_val, y_test = train_test_split(X_testval, y_testval, test_size=0.5, random_state=42)\n",
    "\n",
    "scaler = StandardScaler()\n",
    "X_train = scaler.fit_transform(X_train)\n",
    "X_test = scaler.transform(X_val)\n",
    "X_test_scaled = scaler.transform(X_test)\n",
    "\n",
    "\n",
    "class MLPBinary:\n",
    "    def __init__(self, input_size, learning_rate=0.01, loss_type='bce', epochs=100, activation='sigmoid'):\n",
    "        self.learning_rate = learning_rate\n",
    "        self.loss_type = loss_type\n",
    "        self.epochs = epochs\n",
    "        self.activation = activation\n",
    "        self.weights = np.random.randn(input_size, 1) * 0.01\n",
    "        self.bias = np.zeros((1, 1))\n",
    "        self.losses = []\n",
    "\n",
    "    # Activation functions\n",
    "    def sigmoid(self, z):\n",
    "        return 1 / (1 + np.exp(-z))\n",
    "\n",
    "    def relu(self, z):\n",
    "        return np.maximum(0, z)\n",
    "\n",
    "    def tanh(self, z):\n",
    "        return np.tanh(z)\n",
    "\n",
    "    # Derivatives for activation functions (needed for backprop)\n",
    "    def sigmoid_derivative(self, z):\n",
    "        return self.sigmoid(z) * (1 - self.sigmoid(z))\n",
    "\n",
    "    def relu_derivative(self, z):\n",
    "        return np.where(z > 0, 1, 0)\n",
    "\n",
    "    def tanh_derivative(self, z):\n",
    "        return 1 - np.tanh(z) ** 2\n",
    "\n",
    "    # Forward pass based on selected activation function\n",
    "    def forward(self, X):\n",
    "        z = np.dot(X, self.weights) + self.bias\n",
    "        if self.activation == 'sigmoid':\n",
    "            return self.sigmoid(z)\n",
    "        elif self.activation == 'relu':\n",
    "            return self.relu(z)\n",
    "        elif self.activation == 'tanh':\n",
    "            return self.tanh(z)\n",
    "\n",
    "    def compute_loss(self, A, y):\n",
    "        m = y.shape[0]\n",
    "        if self.loss_type == 'bce':\n",
    "            loss = -np.mean(y * np.log(A) + (1 - y) * np.log(1 - A))\n",
    "        elif self.loss_type == 'mse':\n",
    "            loss = np.mean((A - y) ** 2)\n",
    "        return loss\n",
    "\n",
    "    def backprop(self, X, A, y):\n",
    "        m = y.shape[0]\n",
    "        dz = A - y  # Derivative of loss w.r.t activation output\n",
    "\n",
    "        # Derivative of activation function\n",
    "        if self.activation == 'sigmoid':\n",
    "            dz *= self.sigmoid_derivative(A)\n",
    "        elif self.activation == 'relu':\n",
    "            dz *= self.relu_derivative(A)\n",
    "        elif self.activation == 'tanh':\n",
    "            dz *= self.tanh_derivative(A)\n",
    "\n",
    "        dw = (1/m) * np.dot(X.T, dz)\n",
    "        db = (1/m) * np.sum(dz)\n",
    "        return dw, db\n",
    "\n",
    "    def update_weights(self, dw, db):\n",
    "        self.weights -= self.learning_rate * dw\n",
    "        self.bias -= self.learning_rate * db\n",
    "\n",
    "    def fit(self, X, y):\n",
    "        y = y.reshape(-1, 1)\n",
    "        for epoch in range(self.epochs):\n",
    "            A = self.forward(X)\n",
    "            loss = self.compute_loss(A, y)\n",
    "            self.losses.append(loss)\n",
    "            dw, db = self.backprop(X, A, y)\n",
    "            self.update_weights(dw, db)\n",
    "\n",
    "            if epoch % 10 == 0:\n",
    "                print(f'Epoch {epoch}, Loss: {loss}')\n",
    "\n",
    "    def predict(self, X):\n",
    "        A = self.forward(X)\n",
    "        return (A > 0.5).astype(int)\n",
    "\n",
    "\n",
    "# Now, you can test with different activation functions\n",
    "\n",
    "# Model with BCE loss and sigmoid activation\n",
    "model_bce_sigmoid = MLPBinary(input_size=X_train.shape[1], learning_rate=0.01, loss_type='bce', epochs=1000, activation='sigmoid')\n",
    "model_bce_sigmoid.fit(X_train, y_train)\n",
    "\n",
    "# Model with MSE loss and relu activation\n",
    "model_mse_relu = MLPBinary(input_size=X_train.shape[1], learning_rate=0.01, loss_type='mse', epochs=1000, activation='sigmoid')\n",
    "model_mse_relu.fit(X_train, y_train)\n",
    "\n",
    "# Predict and evaluate\n",
    "y_pred_bce_sigmoid = model_bce_sigmoid.predict(X_test)\n",
    "y_pred_mse_relu = model_mse_relu.predict(X_test)\n",
    "\n",
    "accuracy_bce_sigmoid = np.mean(y_pred_bce_sigmoid.flatten() == y_test)\n",
    "accuracy_mse_relu = np.mean(y_pred_mse_relu.flatten() == y_test)\n",
    "\n",
    "print(f'Accuracy with BCE Loss (Sigmoid): {accuracy_bce_sigmoid:.2f}')\n",
    "print(f'Accuracy with MSE Loss (Sigmoid): {accuracy_mse_relu:.2f}')\n",
    "\n",
    "# Plotting the losses\n",
    "plt.figure(figsize=(10, 5))\n",
    "plt.subplot(1, 2, 1)\n",
    "plt.plot(model_bce_sigmoid.losses, label='BCE Loss (Sigmoid)')\n",
    "plt.title('BCE Loss with Sigmoid Activation')\n",
    "plt.xlabel('Epochs')\n",
    "plt.ylabel('Loss')\n",
    "plt.legend()\n",
    "\n",
    "plt.subplot(1, 2, 2)\n",
    "plt.plot(model_mse_relu.losses, label='MSE Loss (ReLU)', color='red')\n",
    "plt.title('MSE Loss with ReLU Activation')\n",
    "plt.xlabel('Epochs')\n",
    "plt.ylabel('Loss')\n",
    "plt.legend()\n",
    "\n",
    "plt.tight_layout()\n",
    "plt.show()"
   ]
  },
  {
   "cell_type": "markdown",
   "metadata": {},
   "source": [
    "--------------\n",
    "\n",
    "### AutoEncoders\n",
    "\n",
    "--------------"
   ]
  },
  {
   "cell_type": "code",
   "execution_count": 57,
   "metadata": {},
   "outputs": [
    {
     "name": "stdout",
     "output_type": "stream",
     "text": [
      "X_train shape: (91200, 13)\n",
      "y_train shape: (91200,)\n",
      "X_validate shape: (11400, 13)\n",
      "y_validate shape: (11400,)\n",
      "X_test shape: (11400, 13)\n",
      "y_test shape: (11400,)\n"
     ]
    }
   ],
   "source": [
    "import pandas as pd\n",
    "from sklearn.model_selection import train_test_split\n",
    "from sklearn.preprocessing import MinMaxScaler\n",
    "\n",
    "# Step 1: Load the Dataset\n",
    "data = pd.read_csv('../../data/external/spotify.csv')\n",
    "\n",
    "# Step 3: Select Numeric Columns (6 to 20, excluding column 8)\n",
    "numeric_data = data.iloc[:, [6, 7, 9, 10, 11, 12, 13, 14, 15, 16, 17, 18, 19]]\n",
    "\n",
    "# Step 4: Remove Invalid Values\n",
    "numeric_data = numeric_data.apply(pd.to_numeric, errors='coerce').dropna()\n",
    "\n",
    "# Step 5: Split into Input and Output\n",
    "output_column = data.iloc[numeric_data.index, -1]  # Assuming the output column is now the last one\n",
    "X = numeric_data  # Input features with the output column removed\n",
    "y = output_column.reset_index(drop=True)  # Output labels\n",
    "\n",
    "# Step 7: Standardize Remaining Data\n",
    "scaler = MinMaxScaler()\n",
    "X_standardized = scaler.fit_transform(X)\n",
    "\n",
    "# Step 8: Split the Data\n",
    "X_train, X_temp, y_train, y_temp = train_test_split(X_standardized, y, test_size=0.2, random_state=42)\n",
    "X_validate, X_test, y_validate, y_test = train_test_split(X_temp, y_temp, test_size=0.5, random_state=42)\n",
    "\n",
    "# Output the shapes of the resulting datasets\n",
    "print(\"X_train shape:\", X_train.shape)\n",
    "print(\"y_train shape:\", y_train.shape)\n",
    "print(\"X_validate shape:\", X_validate.shape)\n",
    "print(\"y_validate shape:\", y_validate.shape)\n",
    "print(\"X_test shape:\", X_test.shape)\n",
    "print(\"y_test shape:\", y_test.shape)\n",
    "\n"
   ]
  },
  {
   "cell_type": "code",
   "execution_count": 104,
   "metadata": {},
   "outputs": [],
   "source": [
    "import numpy as np\n",
    "\n",
    "class AutoEncoder:\n",
    "    def __init__(self, input_size, hidden_size, activation='relu', optimizer='sgd', learning_rate=0.01, batch_size=32, epochs=100):\n",
    "        # Initialize weights and biases for encoder and decoder\n",
    "        self.encoder_weights = np.random.randn(input_size, hidden_size) * 0.01\n",
    "        self.encoder_bias = np.zeros((1, hidden_size))\n",
    "        self.decoder_weights = np.random.randn(hidden_size, input_size) * 0.01\n",
    "        self.decoder_bias = np.zeros((1, input_size))\n",
    "        self.learning_rate = learning_rate\n",
    "        self.activation = self.get_activation_func(activation)\n",
    "        self.optimizer = optimizer\n",
    "        self.epochs = epochs\n",
    "        self.batch_size = batch_size\n",
    "\n",
    "    def get_activation_func(self, name):\n",
    "        if name == 'sigmoid':\n",
    "            return lambda x: 1 / (1 + np.exp(-x)), lambda x: x * (1 - x)  # Sigmoid and its derivative\n",
    "        elif name == 'tanh':\n",
    "            return lambda x: np.tanh(x), lambda x: 1 - x ** 2  # Tanh and its derivative\n",
    "        elif name == 'relu':\n",
    "            return lambda x: np.maximum(0, x), lambda x: np.where(x > 0, 1, 0)  # ReLU and its derivative\n",
    "        elif name == 'linear':\n",
    "            return lambda x: x, lambda x: 1  # Linear activation (for reconstruction)\n",
    "\n",
    "    def forward(self, X):\n",
    "        # Encoder forward pass\n",
    "        self.z1 = np.dot(X, self.encoder_weights) + self.encoder_bias\n",
    "        self.a1 = self.activation[0](self.z1)\n",
    "        \n",
    "        # Decoder forward pass (reconstruction)\n",
    "        self.z2 = np.dot(self.a1, self.decoder_weights) + self.decoder_bias\n",
    "        self.a2 = self.activation[0](self.z2)\n",
    "        \n",
    "        return self.a2\n",
    "\n",
    "    def backprop(self, X, reconstruction):\n",
    "        m = X.shape[0]\n",
    "        \n",
    "        # Compute reconstruction error\n",
    "        dz2 = (reconstruction - X) * self.activation[1](reconstruction)\n",
    "        dw2 = np.dot(self.a1.T, dz2) / m\n",
    "        db2 = np.sum(dz2, axis=0, keepdims=True) / m\n",
    "        \n",
    "        dz1 = np.dot(dz2, self.decoder_weights.T) * self.activation[1](self.a1)\n",
    "        dw1 = np.dot(X.T, dz1) / m\n",
    "        db1 = np.sum(dz1, axis=0, keepdims=True) / m\n",
    "        \n",
    "        return dw1, db1, dw2, db2\n",
    "\n",
    "    def update_weights(self, dw1, db1, dw2, db2):\n",
    "        self.encoder_weights -= self.learning_rate * dw1\n",
    "        self.encoder_bias -= self.learning_rate * db1\n",
    "        self.decoder_weights -= self.learning_rate * dw2\n",
    "        self.decoder_bias -= self.learning_rate * db2\n",
    "\n",
    "    def fit_sgd(self, X):\n",
    "        # Training using Stochastic Gradient Descent (SGD)\n",
    "        for epoch in range(self.epochs):\n",
    "            for i in range(X.shape[0]):\n",
    "                # Forward pass\n",
    "                x_single = X[i:i+1]  # Single example\n",
    "                reconstruction = self.forward(x_single)\n",
    "                \n",
    "                # Backpropagation\n",
    "                dw1, db1, dw2, db2 = self.backprop(x_single, reconstruction)\n",
    "                \n",
    "                # Update weights\n",
    "                self.update_weights(dw1, db1, dw2, db2)\n",
    "\n",
    "    def fit_batch(self, X):\n",
    "        # Training using Batch Gradient Descent\n",
    "        for epoch in range(self.epochs):\n",
    "            reconstruction = self.forward(X)\n",
    "            dw1, db1, dw2, db2 = self.backprop(X, reconstruction)\n",
    "            self.update_weights(dw1, db1, dw2, db2)\n",
    "\n",
    "    def fit_mini_batch(self, X):\n",
    "        # Training using Mini-Batch Gradient Descent\n",
    "        for epoch in range(self.epochs):\n",
    "            for start_idx in range(0, X.shape[0], self.batch_size):\n",
    "                end_idx = start_idx + self.batch_size\n",
    "                X_batch = X[start_idx:end_idx]\n",
    "                \n",
    "                # Forward pass\n",
    "                reconstruction = self.forward(X_batch)\n",
    "                \n",
    "                # Backpropagation\n",
    "                dw1, db1, dw2, db2 = self.backprop(X_batch, reconstruction)\n",
    "                \n",
    "                # Update weights\n",
    "                self.update_weights(dw1, db1, dw2, db2)\n",
    "\n",
    "    def fit(self, X):\n",
    "        if self.optimizer == 'sgd':\n",
    "            self.fit_sgd(X)\n",
    "        elif self.optimizer == 'batch':\n",
    "            self.fit_batch(X)\n",
    "        elif self.optimizer == 'mini_batch':\n",
    "            self.fit_mini_batch(X)\n",
    "\n",
    "    def get_latent(self, X):\n",
    "        # Return the encoded (compressed) data\n",
    "        return self.activation[0](np.dot(X, self.encoder_weights) + self.encoder_bias)\n",
    "\n",
    "    def reconstruct(self, X):\n",
    "        # Perform a forward pass to reconstruct the data\n",
    "        return self.forward(X)\n",
    "\n",
    "\n",
    "\n",
    "# Example usage:\n",
    "input_size = X_train.shape[1]  # Number of input features\n",
    "hidden_size = 8  # Latent space size\n",
    "\n",
    "# Initialize the autoencoder with ReLU activation and Mini-Batch Gradient Descent\n",
    "autoencoder = AutoEncoder(input_size, hidden_size, activation='relu', optimizer='batch', learning_rate=0.01, batch_size=32, epochs=100)\n",
    "\n",
    "# Train the autoencoder\n",
    "autoencoder.fit(X_train)\n",
    "\n",
    "# Obtain the reduced (latent) dataset\n",
    "latent_train = autoencoder.get_latent(X_train)\n",
    "latent_test = autoencoder.get_latent(X_test)"
   ]
  },
  {
   "cell_type": "code",
   "execution_count": 89,
   "metadata": {},
   "outputs": [
    {
     "ename": "ValueError",
     "evalue": "Unable to coerce to DataFrame, shape must be (91200, 13): given (91200, 8)",
     "output_type": "error",
     "traceback": [
      "\u001b[1;31m---------------------------------------------------------------------------\u001b[0m",
      "\u001b[1;31mValueError\u001b[0m                                Traceback (most recent call last)",
      "\u001b[1;32m~\\AppData\\Local\\Temp\\ipykernel_1852\\4161744396.py\u001b[0m in \u001b[0;36m?\u001b[1;34m()\u001b[0m\n\u001b[0;32m    132\u001b[0m \u001b[1;31m# Initialize the autoencoder\u001b[0m\u001b[1;33m\u001b[0m\u001b[1;33m\u001b[0m\u001b[0m\n\u001b[0;32m    133\u001b[0m \u001b[0mautoencoder\u001b[0m \u001b[1;33m=\u001b[0m \u001b[0mAutoEncoder\u001b[0m\u001b[1;33m(\u001b[0m\u001b[0minput_size\u001b[0m\u001b[1;33m,\u001b[0m \u001b[0mhidden_layers\u001b[0m\u001b[1;33m,\u001b[0m \u001b[0mactivation\u001b[0m\u001b[1;33m=\u001b[0m\u001b[1;34m'relu'\u001b[0m\u001b[1;33m,\u001b[0m \u001b[0mlearning_rate\u001b[0m\u001b[1;33m=\u001b[0m\u001b[1;36m0.01\u001b[0m\u001b[1;33m,\u001b[0m \u001b[0moptimizer\u001b[0m\u001b[1;33m=\u001b[0m\u001b[1;34m'mini_batch'\u001b[0m\u001b[1;33m,\u001b[0m \u001b[0mepochs\u001b[0m\u001b[1;33m=\u001b[0m\u001b[1;36m100\u001b[0m\u001b[1;33m,\u001b[0m \u001b[0mbatch_size\u001b[0m\u001b[1;33m=\u001b[0m\u001b[1;36m32\u001b[0m\u001b[1;33m)\u001b[0m\u001b[1;33m\u001b[0m\u001b[1;33m\u001b[0m\u001b[0m\n\u001b[0;32m    134\u001b[0m \u001b[1;33m\u001b[0m\u001b[0m\n\u001b[0;32m    135\u001b[0m \u001b[1;31m# Train the autoencoder\u001b[0m\u001b[1;33m\u001b[0m\u001b[1;33m\u001b[0m\u001b[0m\n\u001b[1;32m--> 136\u001b[1;33m \u001b[0mautoencoder\u001b[0m\u001b[1;33m.\u001b[0m\u001b[0mfit\u001b[0m\u001b[1;33m(\u001b[0m\u001b[0mX_train\u001b[0m\u001b[1;33m)\u001b[0m\u001b[1;33m\u001b[0m\u001b[1;33m\u001b[0m\u001b[0m\n\u001b[0m\u001b[0;32m    137\u001b[0m \u001b[1;33m\u001b[0m\u001b[0m\n\u001b[0;32m    138\u001b[0m \u001b[1;31m# Get the reduced (latent) representations\u001b[0m\u001b[1;33m\u001b[0m\u001b[1;33m\u001b[0m\u001b[0m\n\u001b[0;32m    139\u001b[0m \u001b[0mlatent_train\u001b[0m \u001b[1;33m=\u001b[0m \u001b[0mautoencoder\u001b[0m\u001b[1;33m.\u001b[0m\u001b[0mget_latent\u001b[0m\u001b[1;33m(\u001b[0m\u001b[0mX_train\u001b[0m\u001b[1;33m)\u001b[0m\u001b[1;33m\u001b[0m\u001b[1;33m\u001b[0m\u001b[0m\n",
      "\u001b[1;32m~\\AppData\\Local\\Temp\\ipykernel_1852\\4161744396.py\u001b[0m in \u001b[0;36m?\u001b[1;34m(self, X)\u001b[0m\n\u001b[0;32m    114\u001b[0m         \u001b[1;32mfor\u001b[0m \u001b[0mepoch\u001b[0m \u001b[1;32min\u001b[0m \u001b[0mrange\u001b[0m\u001b[1;33m(\u001b[0m\u001b[0mself\u001b[0m\u001b[1;33m.\u001b[0m\u001b[0mepochs\u001b[0m\u001b[1;33m)\u001b[0m\u001b[1;33m:\u001b[0m\u001b[1;33m\u001b[0m\u001b[1;33m\u001b[0m\u001b[0m\n\u001b[0;32m    115\u001b[0m             \u001b[1;31m# Forward pass\u001b[0m\u001b[1;33m\u001b[0m\u001b[1;33m\u001b[0m\u001b[0m\n\u001b[0;32m    116\u001b[0m             \u001b[0mreconstruction\u001b[0m \u001b[1;33m=\u001b[0m \u001b[0mself\u001b[0m\u001b[1;33m.\u001b[0m\u001b[0mforward\u001b[0m\u001b[1;33m(\u001b[0m\u001b[0mX\u001b[0m\u001b[1;33m)\u001b[0m\u001b[1;33m\u001b[0m\u001b[1;33m\u001b[0m\u001b[0m\n\u001b[0;32m    117\u001b[0m             \u001b[1;31m# Backpropagation\u001b[0m\u001b[1;33m\u001b[0m\u001b[1;33m\u001b[0m\u001b[0m\n\u001b[1;32m--> 118\u001b[1;33m             \u001b[0mdws_encoder\u001b[0m\u001b[1;33m,\u001b[0m \u001b[0mdbs_encoder\u001b[0m\u001b[1;33m,\u001b[0m \u001b[0mdws_decoder\u001b[0m\u001b[1;33m,\u001b[0m \u001b[0mdbs_decoder\u001b[0m \u001b[1;33m=\u001b[0m \u001b[0mself\u001b[0m\u001b[1;33m.\u001b[0m\u001b[0mbackprop\u001b[0m\u001b[1;33m(\u001b[0m\u001b[0mX\u001b[0m\u001b[1;33m,\u001b[0m \u001b[0mreconstruction\u001b[0m\u001b[1;33m)\u001b[0m\u001b[1;33m\u001b[0m\u001b[1;33m\u001b[0m\u001b[0m\n\u001b[0m\u001b[0;32m    119\u001b[0m             \u001b[1;31m# Update weights\u001b[0m\u001b[1;33m\u001b[0m\u001b[1;33m\u001b[0m\u001b[0m\n\u001b[0;32m    120\u001b[0m             \u001b[0mself\u001b[0m\u001b[1;33m.\u001b[0m\u001b[0mupdate_weights\u001b[0m\u001b[1;33m(\u001b[0m\u001b[0mdws_encoder\u001b[0m\u001b[1;33m,\u001b[0m \u001b[0mdbs_encoder\u001b[0m\u001b[1;33m,\u001b[0m \u001b[0mdws_decoder\u001b[0m\u001b[1;33m,\u001b[0m \u001b[0mdbs_decoder\u001b[0m\u001b[1;33m)\u001b[0m\u001b[1;33m\u001b[0m\u001b[1;33m\u001b[0m\u001b[0m\n",
      "\u001b[1;32m~\\AppData\\Local\\Temp\\ipykernel_1852\\4161744396.py\u001b[0m in \u001b[0;36m?\u001b[1;34m(self, X, reconstruction)\u001b[0m\n\u001b[0;32m    102\u001b[0m     \u001b[1;32mdef\u001b[0m \u001b[0mbackprop\u001b[0m\u001b[1;33m(\u001b[0m\u001b[0mself\u001b[0m\u001b[1;33m,\u001b[0m \u001b[0mX\u001b[0m\u001b[1;33m,\u001b[0m \u001b[0mreconstruction\u001b[0m\u001b[1;33m)\u001b[0m\u001b[1;33m:\u001b[0m\u001b[1;33m\u001b[0m\u001b[1;33m\u001b[0m\u001b[0m\n\u001b[0;32m    103\u001b[0m         \u001b[1;31m# Encoder backpropagation\u001b[0m\u001b[1;33m\u001b[0m\u001b[1;33m\u001b[0m\u001b[0m\n\u001b[1;32m--> 104\u001b[1;33m         \u001b[0mdws_encoder\u001b[0m\u001b[1;33m,\u001b[0m \u001b[0mdbs_encoder\u001b[0m \u001b[1;33m=\u001b[0m \u001b[0mself\u001b[0m\u001b[1;33m.\u001b[0m\u001b[0mencoder\u001b[0m\u001b[1;33m.\u001b[0m\u001b[0mbackprop\u001b[0m\u001b[1;33m(\u001b[0m\u001b[0mX\u001b[0m\u001b[1;33m,\u001b[0m \u001b[0mself\u001b[0m\u001b[1;33m.\u001b[0m\u001b[0mencoder\u001b[0m\u001b[1;33m.\u001b[0m\u001b[0ma\u001b[0m\u001b[1;33m)\u001b[0m\u001b[1;33m\u001b[0m\u001b[1;33m\u001b[0m\u001b[0m\n\u001b[0m\u001b[0;32m    105\u001b[0m         \u001b[1;31m# Decoder backpropagation\u001b[0m\u001b[1;33m\u001b[0m\u001b[1;33m\u001b[0m\u001b[0m\n\u001b[0;32m    106\u001b[0m         \u001b[0mdws_decoder\u001b[0m\u001b[1;33m,\u001b[0m \u001b[0mdbs_decoder\u001b[0m \u001b[1;33m=\u001b[0m \u001b[0mself\u001b[0m\u001b[1;33m.\u001b[0m\u001b[0mdecoder\u001b[0m\u001b[1;33m.\u001b[0m\u001b[0mbackprop\u001b[0m\u001b[1;33m(\u001b[0m\u001b[0mself\u001b[0m\u001b[1;33m.\u001b[0m\u001b[0mencoder\u001b[0m\u001b[1;33m.\u001b[0m\u001b[0ma\u001b[0m\u001b[1;33m,\u001b[0m \u001b[0mreconstruction\u001b[0m\u001b[1;33m)\u001b[0m\u001b[1;33m\u001b[0m\u001b[1;33m\u001b[0m\u001b[0m\n\u001b[0;32m    107\u001b[0m         \u001b[1;32mreturn\u001b[0m \u001b[0mdws_encoder\u001b[0m\u001b[1;33m,\u001b[0m \u001b[0mdbs_encoder\u001b[0m\u001b[1;33m,\u001b[0m \u001b[0mdws_decoder\u001b[0m\u001b[1;33m,\u001b[0m \u001b[0mdbs_decoder\u001b[0m\u001b[1;33m\u001b[0m\u001b[1;33m\u001b[0m\u001b[0m\n",
      "\u001b[1;32m~\\AppData\\Local\\Temp\\ipykernel_1852\\4161744396.py\u001b[0m in \u001b[0;36m?\u001b[1;34m(self, X, output)\u001b[0m\n\u001b[0;32m     33\u001b[0m     \u001b[1;32mdef\u001b[0m \u001b[0mbackprop\u001b[0m\u001b[1;33m(\u001b[0m\u001b[0mself\u001b[0m\u001b[1;33m,\u001b[0m \u001b[0mX\u001b[0m\u001b[1;33m,\u001b[0m \u001b[0moutput\u001b[0m\u001b[1;33m)\u001b[0m\u001b[1;33m:\u001b[0m\u001b[1;33m\u001b[0m\u001b[1;33m\u001b[0m\u001b[0m\n\u001b[0;32m     34\u001b[0m         \u001b[0mm\u001b[0m \u001b[1;33m=\u001b[0m \u001b[0mX\u001b[0m\u001b[1;33m.\u001b[0m\u001b[0mshape\u001b[0m\u001b[1;33m[\u001b[0m\u001b[1;36m0\u001b[0m\u001b[1;33m]\u001b[0m  \u001b[1;31m# Number of examples\u001b[0m\u001b[1;33m\u001b[0m\u001b[1;33m\u001b[0m\u001b[0m\n\u001b[1;32m---> 35\u001b[1;33m         \u001b[0mdz\u001b[0m \u001b[1;33m=\u001b[0m \u001b[1;33m(\u001b[0m\u001b[0moutput\u001b[0m \u001b[1;33m-\u001b[0m \u001b[0mX\u001b[0m\u001b[1;33m)\u001b[0m \u001b[1;33m*\u001b[0m \u001b[0mself\u001b[0m\u001b[1;33m.\u001b[0m\u001b[0mactivation\u001b[0m\u001b[1;33m[\u001b[0m\u001b[1;36m1\u001b[0m\u001b[1;33m]\u001b[0m\u001b[1;33m(\u001b[0m\u001b[0moutput\u001b[0m\u001b[1;33m)\u001b[0m  \u001b[1;31m# Shape: (m, output_size)\u001b[0m\u001b[1;33m\u001b[0m\u001b[1;33m\u001b[0m\u001b[0m\n\u001b[0m\u001b[0;32m     36\u001b[0m \u001b[1;33m\u001b[0m\u001b[0m\n\u001b[0;32m     37\u001b[0m         \u001b[0mdws\u001b[0m \u001b[1;33m=\u001b[0m \u001b[1;33m[\u001b[0m\u001b[1;33m]\u001b[0m\u001b[1;33m\u001b[0m\u001b[1;33m\u001b[0m\u001b[0m\n\u001b[0;32m     38\u001b[0m         \u001b[0mdbs\u001b[0m \u001b[1;33m=\u001b[0m \u001b[1;33m[\u001b[0m\u001b[1;33m]\u001b[0m\u001b[1;33m\u001b[0m\u001b[1;33m\u001b[0m\u001b[0m\n",
      "\u001b[1;32mc:\\Users\\yashd\\AppData\\Local\\Programs\\Python\\Python312\\Lib\\site-packages\\pandas\\core\\generic.py\u001b[0m in \u001b[0;36m?\u001b[1;34m(self, ufunc, method, *inputs, **kwargs)\u001b[0m\n\u001b[0;32m   2167\u001b[0m     \u001b[1;33m@\u001b[0m\u001b[0mfinal\u001b[0m\u001b[1;33m\u001b[0m\u001b[1;33m\u001b[0m\u001b[0m\n\u001b[0;32m   2168\u001b[0m     def __array_ufunc__(\n\u001b[0;32m   2169\u001b[0m         \u001b[0mself\u001b[0m\u001b[1;33m,\u001b[0m \u001b[0mufunc\u001b[0m\u001b[1;33m:\u001b[0m \u001b[0mnp\u001b[0m\u001b[1;33m.\u001b[0m\u001b[0mufunc\u001b[0m\u001b[1;33m,\u001b[0m \u001b[0mmethod\u001b[0m\u001b[1;33m:\u001b[0m \u001b[0mstr\u001b[0m\u001b[1;33m,\u001b[0m \u001b[1;33m*\u001b[0m\u001b[0minputs\u001b[0m\u001b[1;33m:\u001b[0m \u001b[0mAny\u001b[0m\u001b[1;33m,\u001b[0m \u001b[1;33m**\u001b[0m\u001b[0mkwargs\u001b[0m\u001b[1;33m:\u001b[0m \u001b[0mAny\u001b[0m\u001b[1;33m\u001b[0m\u001b[1;33m\u001b[0m\u001b[0m\n\u001b[0;32m   2170\u001b[0m     \u001b[1;33m)\u001b[0m\u001b[1;33m:\u001b[0m\u001b[1;33m\u001b[0m\u001b[1;33m\u001b[0m\u001b[0m\n\u001b[1;32m-> 2171\u001b[1;33m         \u001b[1;32mreturn\u001b[0m \u001b[0marraylike\u001b[0m\u001b[1;33m.\u001b[0m\u001b[0marray_ufunc\u001b[0m\u001b[1;33m(\u001b[0m\u001b[0mself\u001b[0m\u001b[1;33m,\u001b[0m \u001b[0mufunc\u001b[0m\u001b[1;33m,\u001b[0m \u001b[0mmethod\u001b[0m\u001b[1;33m,\u001b[0m \u001b[1;33m*\u001b[0m\u001b[0minputs\u001b[0m\u001b[1;33m,\u001b[0m \u001b[1;33m**\u001b[0m\u001b[0mkwargs\u001b[0m\u001b[1;33m)\u001b[0m\u001b[1;33m\u001b[0m\u001b[1;33m\u001b[0m\u001b[0m\n\u001b[0m",
      "\u001b[1;32mc:\\Users\\yashd\\AppData\\Local\\Programs\\Python\\Python312\\Lib\\site-packages\\pandas\\core\\arraylike.py\u001b[0m in \u001b[0;36m?\u001b[1;34m(self, ufunc, method, *inputs, **kwargs)\u001b[0m\n\u001b[0;32m    272\u001b[0m \u001b[1;33m\u001b[0m\u001b[0m\n\u001b[0;32m    273\u001b[0m     \u001b[0mkwargs\u001b[0m \u001b[1;33m=\u001b[0m \u001b[0m_standardize_out_kwarg\u001b[0m\u001b[1;33m(\u001b[0m\u001b[1;33m**\u001b[0m\u001b[0mkwargs\u001b[0m\u001b[1;33m)\u001b[0m\u001b[1;33m\u001b[0m\u001b[1;33m\u001b[0m\u001b[0m\n\u001b[0;32m    274\u001b[0m \u001b[1;33m\u001b[0m\u001b[0m\n\u001b[0;32m    275\u001b[0m     \u001b[1;31m# for binary ops, use our custom dunder methods\u001b[0m\u001b[1;33m\u001b[0m\u001b[1;33m\u001b[0m\u001b[0m\n\u001b[1;32m--> 276\u001b[1;33m     \u001b[0mresult\u001b[0m \u001b[1;33m=\u001b[0m \u001b[0mmaybe_dispatch_ufunc_to_dunder_op\u001b[0m\u001b[1;33m(\u001b[0m\u001b[0mself\u001b[0m\u001b[1;33m,\u001b[0m \u001b[0mufunc\u001b[0m\u001b[1;33m,\u001b[0m \u001b[0mmethod\u001b[0m\u001b[1;33m,\u001b[0m \u001b[1;33m*\u001b[0m\u001b[0minputs\u001b[0m\u001b[1;33m,\u001b[0m \u001b[1;33m**\u001b[0m\u001b[0mkwargs\u001b[0m\u001b[1;33m)\u001b[0m\u001b[1;33m\u001b[0m\u001b[1;33m\u001b[0m\u001b[0m\n\u001b[0m\u001b[0;32m    277\u001b[0m     \u001b[1;32mif\u001b[0m \u001b[0mresult\u001b[0m \u001b[1;32mis\u001b[0m \u001b[1;32mnot\u001b[0m \u001b[0mNotImplemented\u001b[0m\u001b[1;33m:\u001b[0m\u001b[1;33m\u001b[0m\u001b[1;33m\u001b[0m\u001b[0m\n\u001b[0;32m    278\u001b[0m         \u001b[1;32mreturn\u001b[0m \u001b[0mresult\u001b[0m\u001b[1;33m\u001b[0m\u001b[1;33m\u001b[0m\u001b[0m\n\u001b[0;32m    279\u001b[0m \u001b[1;33m\u001b[0m\u001b[0m\n",
      "\u001b[1;32mops_dispatch.pyx\u001b[0m in \u001b[0;36m?\u001b[1;34m()\u001b[0m\n\u001b[1;32m--> 113\u001b[1;33m \u001b[1;34m'Could not get source, probably due dynamically evaluated source code.'\u001b[0m\u001b[1;33m\u001b[0m\u001b[1;33m\u001b[0m\u001b[0m\n\u001b[0m",
      "\u001b[1;32mc:\\Users\\yashd\\AppData\\Local\\Programs\\Python\\Python312\\Lib\\site-packages\\pandas\\core\\ops\\common.py\u001b[0m in \u001b[0;36m?\u001b[1;34m(self, other)\u001b[0m\n\u001b[0;32m     72\u001b[0m                     \u001b[1;32mreturn\u001b[0m \u001b[0mNotImplemented\u001b[0m\u001b[1;33m\u001b[0m\u001b[1;33m\u001b[0m\u001b[0m\n\u001b[0;32m     73\u001b[0m \u001b[1;33m\u001b[0m\u001b[0m\n\u001b[0;32m     74\u001b[0m         \u001b[0mother\u001b[0m \u001b[1;33m=\u001b[0m \u001b[0mitem_from_zerodim\u001b[0m\u001b[1;33m(\u001b[0m\u001b[0mother\u001b[0m\u001b[1;33m)\u001b[0m\u001b[1;33m\u001b[0m\u001b[1;33m\u001b[0m\u001b[0m\n\u001b[0;32m     75\u001b[0m \u001b[1;33m\u001b[0m\u001b[0m\n\u001b[1;32m---> 76\u001b[1;33m         \u001b[1;32mreturn\u001b[0m \u001b[0mmethod\u001b[0m\u001b[1;33m(\u001b[0m\u001b[0mself\u001b[0m\u001b[1;33m,\u001b[0m \u001b[0mother\u001b[0m\u001b[1;33m)\u001b[0m\u001b[1;33m\u001b[0m\u001b[1;33m\u001b[0m\u001b[0m\n\u001b[0m",
      "\u001b[1;32mc:\\Users\\yashd\\AppData\\Local\\Programs\\Python\\Python312\\Lib\\site-packages\\pandas\\core\\arraylike.py\u001b[0m in \u001b[0;36m?\u001b[1;34m(self, other)\u001b[0m\n\u001b[0;32m    196\u001b[0m     \u001b[1;33m@\u001b[0m\u001b[0munpack_zerodim_and_defer\u001b[0m\u001b[1;33m(\u001b[0m\u001b[1;34m\"__rsub__\"\u001b[0m\u001b[1;33m)\u001b[0m\u001b[1;33m\u001b[0m\u001b[1;33m\u001b[0m\u001b[0m\n\u001b[0;32m    197\u001b[0m     \u001b[1;32mdef\u001b[0m \u001b[0m__rsub__\u001b[0m\u001b[1;33m(\u001b[0m\u001b[0mself\u001b[0m\u001b[1;33m,\u001b[0m \u001b[0mother\u001b[0m\u001b[1;33m)\u001b[0m\u001b[1;33m:\u001b[0m\u001b[1;33m\u001b[0m\u001b[1;33m\u001b[0m\u001b[0m\n\u001b[1;32m--> 198\u001b[1;33m         \u001b[1;32mreturn\u001b[0m \u001b[0mself\u001b[0m\u001b[1;33m.\u001b[0m\u001b[0m_arith_method\u001b[0m\u001b[1;33m(\u001b[0m\u001b[0mother\u001b[0m\u001b[1;33m,\u001b[0m \u001b[0mroperator\u001b[0m\u001b[1;33m.\u001b[0m\u001b[0mrsub\u001b[0m\u001b[1;33m)\u001b[0m\u001b[1;33m\u001b[0m\u001b[1;33m\u001b[0m\u001b[0m\n\u001b[0m",
      "\u001b[1;32mc:\\Users\\yashd\\AppData\\Local\\Programs\\Python\\Python312\\Lib\\site-packages\\pandas\\core\\frame.py\u001b[0m in \u001b[0;36m?\u001b[1;34m(self, other, op)\u001b[0m\n\u001b[0;32m   7906\u001b[0m \u001b[1;33m\u001b[0m\u001b[0m\n\u001b[0;32m   7907\u001b[0m         \u001b[0maxis\u001b[0m\u001b[1;33m:\u001b[0m \u001b[0mLiteral\u001b[0m\u001b[1;33m[\u001b[0m\u001b[1;36m1\u001b[0m\u001b[1;33m]\u001b[0m \u001b[1;33m=\u001b[0m \u001b[1;36m1\u001b[0m  \u001b[1;31m# only relevant for Series other case\u001b[0m\u001b[1;33m\u001b[0m\u001b[1;33m\u001b[0m\u001b[0m\n\u001b[0;32m   7908\u001b[0m         \u001b[0mother\u001b[0m \u001b[1;33m=\u001b[0m \u001b[0mops\u001b[0m\u001b[1;33m.\u001b[0m\u001b[0mmaybe_prepare_scalar_for_op\u001b[0m\u001b[1;33m(\u001b[0m\u001b[0mother\u001b[0m\u001b[1;33m,\u001b[0m \u001b[1;33m(\u001b[0m\u001b[0mself\u001b[0m\u001b[1;33m.\u001b[0m\u001b[0mshape\u001b[0m\u001b[1;33m[\u001b[0m\u001b[0maxis\u001b[0m\u001b[1;33m]\u001b[0m\u001b[1;33m,\u001b[0m\u001b[1;33m)\u001b[0m\u001b[1;33m)\u001b[0m\u001b[1;33m\u001b[0m\u001b[1;33m\u001b[0m\u001b[0m\n\u001b[0;32m   7909\u001b[0m \u001b[1;33m\u001b[0m\u001b[0m\n\u001b[1;32m-> 7910\u001b[1;33m         \u001b[0mself\u001b[0m\u001b[1;33m,\u001b[0m \u001b[0mother\u001b[0m \u001b[1;33m=\u001b[0m \u001b[0mself\u001b[0m\u001b[1;33m.\u001b[0m\u001b[0m_align_for_op\u001b[0m\u001b[1;33m(\u001b[0m\u001b[0mother\u001b[0m\u001b[1;33m,\u001b[0m \u001b[0maxis\u001b[0m\u001b[1;33m,\u001b[0m \u001b[0mflex\u001b[0m\u001b[1;33m=\u001b[0m\u001b[1;32mTrue\u001b[0m\u001b[1;33m,\u001b[0m \u001b[0mlevel\u001b[0m\u001b[1;33m=\u001b[0m\u001b[1;32mNone\u001b[0m\u001b[1;33m)\u001b[0m\u001b[1;33m\u001b[0m\u001b[1;33m\u001b[0m\u001b[0m\n\u001b[0m\u001b[0;32m   7911\u001b[0m \u001b[1;33m\u001b[0m\u001b[0m\n\u001b[0;32m   7912\u001b[0m         \u001b[1;32mwith\u001b[0m \u001b[0mnp\u001b[0m\u001b[1;33m.\u001b[0m\u001b[0merrstate\u001b[0m\u001b[1;33m(\u001b[0m\u001b[0mall\u001b[0m\u001b[1;33m=\u001b[0m\u001b[1;34m\"ignore\"\u001b[0m\u001b[1;33m)\u001b[0m\u001b[1;33m:\u001b[0m\u001b[1;33m\u001b[0m\u001b[1;33m\u001b[0m\u001b[0m\n\u001b[0;32m   7913\u001b[0m             \u001b[0mnew_data\u001b[0m \u001b[1;33m=\u001b[0m \u001b[0mself\u001b[0m\u001b[1;33m.\u001b[0m\u001b[0m_dispatch_frame_op\u001b[0m\u001b[1;33m(\u001b[0m\u001b[0mother\u001b[0m\u001b[1;33m,\u001b[0m \u001b[0mop\u001b[0m\u001b[1;33m,\u001b[0m \u001b[0maxis\u001b[0m\u001b[1;33m=\u001b[0m\u001b[0maxis\u001b[0m\u001b[1;33m)\u001b[0m\u001b[1;33m\u001b[0m\u001b[1;33m\u001b[0m\u001b[0m\n",
      "\u001b[1;32mc:\\Users\\yashd\\AppData\\Local\\Programs\\Python\\Python312\\Lib\\site-packages\\pandas\\core\\frame.py\u001b[0m in \u001b[0;36m?\u001b[1;34m(self, other, axis, flex, level)\u001b[0m\n\u001b[0;32m   8165\u001b[0m                     \u001b[1;31m# Broadcast along rows\u001b[0m\u001b[1;33m\u001b[0m\u001b[1;33m\u001b[0m\u001b[0m\n\u001b[0;32m   8166\u001b[0m                     \u001b[0mright\u001b[0m \u001b[1;33m=\u001b[0m \u001b[0mto_series\u001b[0m\u001b[1;33m(\u001b[0m\u001b[0mright\u001b[0m\u001b[1;33m[\u001b[0m\u001b[1;36m0\u001b[0m\u001b[1;33m,\u001b[0m \u001b[1;33m:\u001b[0m\u001b[1;33m]\u001b[0m\u001b[1;33m)\u001b[0m\u001b[1;33m\u001b[0m\u001b[1;33m\u001b[0m\u001b[0m\n\u001b[0;32m   8167\u001b[0m \u001b[1;33m\u001b[0m\u001b[0m\n\u001b[0;32m   8168\u001b[0m                 \u001b[1;32melse\u001b[0m\u001b[1;33m:\u001b[0m\u001b[1;33m\u001b[0m\u001b[1;33m\u001b[0m\u001b[0m\n\u001b[1;32m-> 8169\u001b[1;33m                     raise ValueError(\n\u001b[0m\u001b[0;32m   8170\u001b[0m                         \u001b[1;34m\"Unable to coerce to DataFrame, shape \"\u001b[0m\u001b[1;33m\u001b[0m\u001b[1;33m\u001b[0m\u001b[0m\n\u001b[0;32m   8171\u001b[0m                         \u001b[1;33mf\"\u001b[0m\u001b[1;33mmust be \u001b[0m\u001b[1;33m{\u001b[0m\u001b[0mleft\u001b[0m\u001b[1;33m.\u001b[0m\u001b[0mshape\u001b[0m\u001b[1;33m}\u001b[0m\u001b[1;33m: given \u001b[0m\u001b[1;33m{\u001b[0m\u001b[0mright\u001b[0m\u001b[1;33m.\u001b[0m\u001b[0mshape\u001b[0m\u001b[1;33m}\u001b[0m\u001b[1;33m\"\u001b[0m\u001b[1;33m\u001b[0m\u001b[1;33m\u001b[0m\u001b[0m\n\u001b[0;32m   8172\u001b[0m                     \u001b[1;33m)\u001b[0m\u001b[1;33m\u001b[0m\u001b[1;33m\u001b[0m\u001b[0m\n",
      "\u001b[1;31mValueError\u001b[0m: Unable to coerce to DataFrame, shape must be (91200, 13): given (91200, 8)"
     ]
    }
   ],
   "source": [
    "import numpy as np\n",
    "\n",
    "class MLPRegression:\n",
    "    def __init__(self, layer_sizes, activation='relu', learning_rate=0.01):\n",
    "        self.weights = []\n",
    "        self.biases = []\n",
    "        for i in range(len(layer_sizes) - 1):\n",
    "            self.weights.append(np.random.randn(layer_sizes[i], layer_sizes[i + 1]) * 0.01)\n",
    "            self.biases.append(np.zeros((1, layer_sizes[i + 1])))\n",
    "\n",
    "        self.learning_rate = learning_rate\n",
    "        self.activation = self.get_activation_func(activation)\n",
    "\n",
    "    def get_activation_func(self, name):\n",
    "        if name == 'sigmoid':\n",
    "            return (lambda x: 1 / (1 + np.exp(-x)), lambda x: x * (1 - x))  # Sigmoid and its derivative\n",
    "        elif name == 'tanh':\n",
    "            return (lambda x: np.tanh(x), lambda x: 1 - x ** 2)  # Tanh and its derivative\n",
    "        elif name == 'relu':\n",
    "            return (lambda x: np.maximum(0, x), lambda x: np.where(x > 0, 1, 0))  # ReLU and its derivative\n",
    "        elif name == 'linear':\n",
    "            return (lambda x: x, lambda x: 1)  # Linear activation (for reconstruction)\n",
    "\n",
    "    def forward(self, X):\n",
    "        self.a = X\n",
    "        self.zs = []  # Store z values for backpropagation\n",
    "        for weight, bias in zip(self.weights, self.biases):\n",
    "            z = np.dot(self.a, weight) + bias\n",
    "            self.zs.append(z)\n",
    "            self.a = self.activation[0](z)  # Apply activation function\n",
    "        return self.a\n",
    "\n",
    "    def backprop(self, X, output):\n",
    "        m = X.shape[0]  # Number of examples\n",
    "        dz = (output - X) * self.activation[1](output)  # Shape: (m, output_size)\n",
    "\n",
    "        dws = []\n",
    "        dbs = []\n",
    "\n",
    "        for i in reversed(range(len(self.weights))):\n",
    "            dw = np.dot(self.a.T, dz) / m  # Shape: (previous_layer_size, output_size)\n",
    "            db = np.sum(dz, axis=0, keepdims=True) / m  # Shape: (1, output_size)\n",
    "            dws.append(dw)\n",
    "            dbs.append(db)\n",
    "\n",
    "            if i > 0:  # Don't backpropagate through the input layer\n",
    "                dz = np.dot(dz, self.weights[i].T) * self.activation[1](self.zs[i - 1])  # Shape: (m, hidden_size)\n",
    "\n",
    "        return list(reversed(dws)), list(reversed(dbs))\n",
    "\n",
    "    def update_weights(self, dws, dbs):\n",
    "        for i in range(len(self.weights)):\n",
    "            self.weights[i] -= self.learning_rate * dws[i]\n",
    "            self.biases[i] -= self.learning_rate * dbs[i]\n",
    "\n",
    "    def fit(self, X, optimizer='sgd', batch_size=32, epochs=100):\n",
    "        if optimizer == 'sgd':\n",
    "            self.fit_sgd(X, epochs)\n",
    "        elif optimizer == 'batch':\n",
    "            self.fit_batch(X, epochs)\n",
    "        elif optimizer == 'mini_batch':\n",
    "            self.fit_mini_batch(X, batch_size, epochs)\n",
    "\n",
    "    def fit_sgd(self, X, epochs):\n",
    "        for epoch in range(epochs):\n",
    "            for i in range(X.shape[0]):\n",
    "                x_single = X[i:i + 1]  # Shape: (1, input_size)\n",
    "                output = self.forward(x_single)\n",
    "                dws, dbs = self.backprop(x_single, output)\n",
    "                self.update_weights(dws, dbs)\n",
    "\n",
    "    def fit_batch(self, X, epochs):\n",
    "        for epoch in range(epochs):\n",
    "            output = self.forward(X)\n",
    "            dws, dbs = self.backprop(X, output)\n",
    "            self.update_weights(dws, dbs)\n",
    "\n",
    "    def fit_mini_batch(self, X, batch_size, epochs):\n",
    "        for epoch in range(epochs):\n",
    "            for start_idx in range(0, X.shape[0], batch_size):\n",
    "                end_idx = start_idx + batch_size\n",
    "                X_batch = X[start_idx:end_idx]  # Shape: (batch_size, input_size)\n",
    "                output = self.forward(X_batch)\n",
    "                dws, dbs = self.backprop(X_batch, output)\n",
    "                self.update_weights(dws, dbs)\n",
    "\n",
    "class AutoEncoder:\n",
    "    def __init__(self, input_size, hidden_layers, activation='relu', learning_rate=0.01, optimizer='sgd', epochs=100, batch_size=32):\n",
    "        # Hidden layers for encoder\n",
    "        self.encoder = MLPRegression([input_size] + hidden_layers, activation, learning_rate)\n",
    "        # Hidden layers for decoder, mirroring the encoder structure\n",
    "        self.decoder = MLPRegression(list(reversed(hidden_layers)) + [input_size], activation, learning_rate)  # Output size matches input size\n",
    "        self.optimizer = optimizer\n",
    "        self.epochs = epochs\n",
    "        self.batch_size = batch_size\n",
    "\n",
    "    def forward(self, X):\n",
    "        encoded = self.encoder.forward(X)  # Shape: (m, last_hidden_size)\n",
    "        reconstructed = self.decoder.forward(encoded)  # Shape: (m, input_size)\n",
    "        return reconstructed\n",
    "\n",
    "    def backprop(self, X, reconstruction):\n",
    "        # Encoder backpropagation\n",
    "        dws_encoder, dbs_encoder = self.encoder.backprop(X, self.encoder.a)\n",
    "        # Decoder backpropagation\n",
    "        dws_decoder, dbs_decoder = self.decoder.backprop(self.encoder.a, reconstruction)\n",
    "        return dws_encoder, dbs_encoder, dws_decoder, dbs_decoder\n",
    "\n",
    "    def update_weights(self, dws_encoder, dbs_encoder, dws_decoder, dbs_decoder):\n",
    "        self.encoder.update_weights(dws_encoder, dbs_encoder)\n",
    "        self.decoder.update_weights(dws_decoder, dbs_decoder)\n",
    "\n",
    "    def fit(self, X):\n",
    "        for epoch in range(self.epochs):\n",
    "            # Forward pass\n",
    "            reconstruction = self.forward(X)\n",
    "            # Backpropagation\n",
    "            dws_encoder, dbs_encoder, dws_decoder, dbs_decoder = self.backprop(X, reconstruction)\n",
    "            # Update weights\n",
    "            self.update_weights(dws_encoder, dbs_encoder, dws_decoder, dbs_decoder)\n",
    "\n",
    "    def get_latent(self, X):\n",
    "        return self.encoder.forward(X)  # Shape: (m, last_hidden_size)\n",
    "\n",
    "    def reconstruct(self, X):\n",
    "        return self.forward(X)  # Shape: (m, input_size)\n",
    "    \n",
    "# Example usage:\n",
    "# Assuming X_train and X_test are your training and testing datasets\n",
    "input_size = X_train.shape[1]  # Number of features in your dataset\n",
    "hidden_layers = [8]  # Size of the hidden layer\n",
    "# Initialize the autoencoder\n",
    "autoencoder = AutoEncoder(input_size, hidden_layers, activation='relu', learning_rate=0.01, optimizer='mini_batch', epochs=100, batch_size=32)\n",
    "\n",
    "# Train the autoencoder\n",
    "autoencoder.fit(X_train)\n",
    "\n",
    "# Get the reduced (latent) representations\n",
    "latent_train = autoencoder.get_latent(X_train)\n",
    "latent_test = autoencoder.get_latent(X_test)\n"
   ]
  },
  {
   "cell_type": "code",
   "execution_count": 106,
   "metadata": {},
   "outputs": [],
   "source": [
    "import numpy as np\n",
    "\n",
    "class MLP:\n",
    "    def __init__(self, layers, learning_rate=0.01, activation='relu', optimizer='sgd', batch_size=32, epochs=100):\n",
    "        self.layers = layers\n",
    "        self.learning_rate = learning_rate\n",
    "        self.activation_func = self.get_activation_func(activation)\n",
    "        self.optimizer = optimizer\n",
    "        self.batch_size = batch_size\n",
    "        self.epochs = epochs\n",
    "        self.weights, self.biases = self.initialize_weights()\n",
    "    \n",
    "    def initialize_weights(self):\n",
    "        np.random.seed(42)\n",
    "        weights = []\n",
    "        biases = []\n",
    "        for i in range(1, len(self.layers)):\n",
    "            weights.append(np.random.randn(self.layers[i], self.layers[i - 1]) * 0.01)\n",
    "            biases.append(np.zeros((self.layers[i], 1)))\n",
    "        return weights, biases\n",
    "\n",
    "    def get_activation_func(self, name):\n",
    "        if name == 'sigmoid':\n",
    "            return lambda x: 1 / (1 + np.exp(-np.clip(x, -500, 500))), lambda x: x * (1 - x)\n",
    "        elif name == 'tanh':\n",
    "            return lambda x: np.tanh(x), lambda x: 1 - x ** 2\n",
    "        elif name == 'relu':\n",
    "            return lambda x: np.maximum(0, x), lambda x: np.where(x > 0, 1, 0)\n",
    "        else:  # linear\n",
    "            return lambda x: x, lambda x: 1\n",
    "\n",
    "    def forward(self, X):\n",
    "        a = X.T\n",
    "        activations = [a]\n",
    "        z_values = []\n",
    "        for w, b in zip(self.weights, self.biases):\n",
    "            z = np.dot(w, a) + b\n",
    "            a = self.activation_func[0](z)\n",
    "            z_values.append(z)\n",
    "            activations.append(a)\n",
    "        return activations, z_values\n",
    "\n",
    "    def backward(self, X, y, activations, z_values):\n",
    "        m = y.shape[0]\n",
    "        dz = activations[-1] - y.T\n",
    "        dws = []\n",
    "        dbs = []\n",
    "        for i in reversed(range(len(self.weights))):\n",
    "            dw = (1/m) * np.dot(dz, activations[i].T)\n",
    "            db = (1/m) * np.sum(dz, axis=1, keepdims=True)\n",
    "            np.clip(dw, -1e5, 1e5, out=dw)\n",
    "            np.clip(db, -1e5, 1e5, out=db)\n",
    "            dws.insert(0, dw)\n",
    "            dbs.insert(0, db)\n",
    "            if i > 0:\n",
    "                dz = np.dot(self.weights[i].T, dz) * self.activation_func[1](z_values[i-1])\n",
    "        return dws, dbs\n",
    "\n",
    "    def update_weights(self, dws, dbs):\n",
    "        for i in range(len(self.weights)):\n",
    "            self.weights[i] -= self.learning_rate * dws[i]\n",
    "            self.biases[i] -= self.learning_rate * dbs[i]\n",
    "\n",
    "    def fit(self, X, y):\n",
    "        if self.optimizer == 'sgd':\n",
    "            self.fit_sgd(X, y)\n",
    "        elif self.optimizer == 'mini_batch':\n",
    "            self.fit_mini_batch(X, y)\n",
    "        elif self.optimizer == 'batch':\n",
    "            self.fit_batch(X, y)\n",
    "        else:\n",
    "            raise ValueError(\"Unsupported optimizer. Choose 'sgd', 'mini_batch', or 'batch'.\")\n",
    "\n",
    "    def fit_sgd(self, X, y):\n",
    "        for epoch in range(self.epochs):\n",
    "            for i in range(len(X)):\n",
    "                Xi = X[i:i+1]\n",
    "                yi = y[i:i+1]\n",
    "                activations, z_values = self.forward(Xi)\n",
    "                dws, dbs = self.backward(Xi, yi, activations, z_values)\n",
    "                self.update_weights(dws, dbs)\n",
    "\n",
    "    def fit_mini_batch(self, X, y):\n",
    "        for epoch in range(self.epochs):\n",
    "            for start_idx in range(0, len(X), self.batch_size):\n",
    "                end_idx = start_idx + self.batch_size\n",
    "                X_batch = X[start_idx:end_idx]\n",
    "                y_batch = y[start_idx:end_idx]\n",
    "                activations, z_values = self.forward(X_batch)\n",
    "                dws, dbs = self.backward(X_batch, y_batch, activations, z_values)\n",
    "                self.update_weights(dws, dbs)\n",
    "\n",
    "    def fit_batch(self, X, y):\n",
    "        for epoch in range(self.epochs):\n",
    "            activations, z_values = self.forward(X)\n",
    "            dws, dbs = self.backward(X, y, activations, z_values)\n",
    "            self.update_weights(dws, dbs)\n",
    "\n",
    "    def predict(self, X):\n",
    "        activations, _ = self.forward(X)\n",
    "        return activations[-1].T\n",
    "\n",
    "class AutoEncoder:\n",
    "    def __init__(self, input_dim, latent_dim, hidden_layers=(64, 32), learning_rate=0.01, activation='relu', optimizer='mini_batch', batch_size=32, epochs=100):\n",
    "        self.input_dim = input_dim\n",
    "        self.latent_dim = latent_dim\n",
    "        self.optimizer = optimizer\n",
    "        self.batch_size = batch_size\n",
    "        self.epochs = epochs\n",
    "        \n",
    "        # Encoder\n",
    "        encoder_layers = [input_dim] + list(hidden_layers) + [latent_dim]\n",
    "        self.encoder = MLP(encoder_layers, learning_rate, activation, optimizer, batch_size, epochs)\n",
    "        \n",
    "        # Decoder\n",
    "        decoder_layers = [latent_dim] + list(reversed(hidden_layers)) + [input_dim]\n",
    "        self.decoder = MLP(decoder_layers, learning_rate, activation, optimizer, batch_size, epochs)\n",
    "    \n",
    "    def fit(self, X):\n",
    "        if self.optimizer == 'sgd':\n",
    "            self.fit_sgd(X)\n",
    "        elif self.optimizer == 'mini_batch':\n",
    "            self.fit_mini_batch(X)\n",
    "        elif self.optimizer == 'batch':\n",
    "            self.fit_batch(X)\n",
    "        else:\n",
    "            raise ValueError(\"Unsupported optimizer. Choose 'sgd', 'mini_batch', or 'batch'.\")\n",
    "\n",
    "    def fit_sgd(self, X):\n",
    "        for epoch in range(self.epochs):\n",
    "            for i in range(len(X)):\n",
    "                Xi = X[i:i+1]\n",
    "                encoded = self.encoder.predict(Xi)\n",
    "                self.encoder.fit_sgd(Xi, encoded)\n",
    "                self.decoder.fit_sgd(encoded, Xi)\n",
    "\n",
    "    def fit_mini_batch(self, X):\n",
    "        for epoch in range(self.epochs):\n",
    "            for start_idx in range(0, len(X), self.batch_size):\n",
    "                end_idx = start_idx + self.batch_size\n",
    "                batch = X[start_idx:end_idx]\n",
    "                encoded = self.encoder.predict(batch)\n",
    "                self.encoder.fit_mini_batch(batch, encoded)\n",
    "                self.decoder.fit_mini_batch(encoded, batch)\n",
    "\n",
    "    def fit_batch(self, X):\n",
    "        for epoch in range(self.epochs):\n",
    "            encoded = self.encoder.predict(X)\n",
    "            self.encoder.fit_batch(X, encoded)\n",
    "            self.decoder.fit_batch(encoded, X)\n",
    "\n",
    "        if epoch % 10 == 0:\n",
    "            mse = np.mean((X - self.predict(X)) ** 2)\n",
    "            print(f\"Epoch {epoch}, MSE: {mse}\")\n",
    "    \n",
    "    def predict(self, X):\n",
    "        encoded = self.get_latent(X)\n",
    "        return self.decoder.predict(encoded)\n",
    "    \n",
    "    def get_latent(self, X):\n",
    "        return self.encoder.predict(X)\n",
    "\n",
    "\n",
    "# Example usage for AutoEncoder with ReLU and Mini-Batch Gradient Descent\n",
    "input_size = X_train.shape[1]  # Number of input features\n",
    "hidden_size = 11  # Size of the latent space\n",
    "\n",
    "# Initialize AutoEncoder with ReLU activation and Mini-Batch Gradient Descent\n",
    "autoencoder = AutoEncoder(input_size, hidden_size, activation='relu', optimizer='mini_batch', learning_rate=0.01, batch_size=32, epochs=10)\n",
    "\n",
    "# Train the AutoEncoder\n",
    "autoencoder.fit(X_train)\n",
    "\n",
    "# Get the latent representation (encoded data)\n",
    "latent_train = autoencoder.get_latent(X_train)\n",
    "latent_test = autoencoder.get_latent(X_test)\n",
    "\n",
    "# Reconstruct the data\n",
    "# reconstructed_data = autoencoder.reconstruct(X_test)\n",
    "\n"
   ]
  },
  {
   "cell_type": "code",
   "execution_count": 58,
   "metadata": {},
   "outputs": [
    {
     "name": "stdout",
     "output_type": "stream",
     "text": [
      "Epoch 1, Loss: 0.13892316992686599\n",
      "Epoch 2, Loss: 0.0639927393131553\n",
      "Epoch 3, Loss: 0.06385097404972702\n",
      "Epoch 4, Loss: 0.0637097550590994\n",
      "Epoch 5, Loss: 0.06356908265238864\n",
      "Epoch 6, Loss: 0.06342895706493293\n",
      "Epoch 7, Loss: 0.06328937845748775\n",
      "Epoch 8, Loss: 0.06315034691743075\n",
      "Epoch 9, Loss: 0.06301186245997478\n",
      "Epoch 10, Loss: 0.06287392502938799\n"
     ]
    }
   ],
   "source": [
    "import numpy as np\n",
    "\n",
    "class MLP:\n",
    "    def __init__(self, layers, activation='relu', learning_rate=0.01, optimizer='sgd', batch_size=32, epochs=100):\n",
    "        self.layers = layers\n",
    "        self.learning_rate = learning_rate\n",
    "        self.activation_func = self.get_activation_func(activation)\n",
    "        self.optimizer = optimizer\n",
    "        self.batch_size = batch_size\n",
    "        self.epochs = epochs\n",
    "        self.weights, self.biases = self.initialize_weights()\n",
    "\n",
    "    def initialize_weights(self):\n",
    "        np.random.seed(42)\n",
    "        weights = []\n",
    "        biases = []\n",
    "        for i in range(1, len(self.layers)):\n",
    "            weights.append(np.random.randn(self.layers[i], self.layers[i - 1]) * 0.01)\n",
    "            biases.append(np.zeros((self.layers[i], 1)))\n",
    "        return weights, biases\n",
    "\n",
    "    def get_activation_func(self, name):\n",
    "        if name == 'sigmoid':\n",
    "            return lambda x: 1 / (1 + np.exp(-x)), lambda x: x * (1 - x)\n",
    "        elif name == 'tanh':\n",
    "            return lambda x: np.tanh(x), lambda x: 1 - x ** 2\n",
    "        elif name == 'relu':\n",
    "            return lambda x: np.maximum(0, x), lambda x: np.where(x > 0, 1, 0)\n",
    "        elif name == 'linear':\n",
    "            return lambda x: x, lambda x: 1\n",
    "\n",
    "    def forward(self, X):\n",
    "        a = X.T\n",
    "        activations = [a]\n",
    "        z_values = []\n",
    "        for w, b in zip(self.weights, self.biases):\n",
    "            z = np.dot(w, a) + b\n",
    "            a = self.activation_func[0](z)\n",
    "            z_values.append(z)\n",
    "            activations.append(a)\n",
    "        return activations, z_values\n",
    "\n",
    "    def backprop(self, activations, z_values, y):\n",
    "        m = y.shape[0]\n",
    "        dz = activations[-1] - y\n",
    "        dws = []\n",
    "        dbs = []\n",
    "        for i in reversed(range(len(self.weights))):\n",
    "            dw = (1/m) * np.dot(dz, activations[i].T)\n",
    "            db = (1/m) * np.sum(dz, axis=1, keepdims=True)\n",
    "            dws.insert(0, dw)\n",
    "            dbs.insert(0, db)\n",
    "            if i > 0:\n",
    "                dz = np.dot(self.weights[i].T, dz) * self.activation_func[1](z_values[i-1])\n",
    "        return dws, dbs\n",
    "\n",
    "    def update_weights(self, dws, dbs):\n",
    "        for i in range(len(self.weights)):\n",
    "            self.weights[i] -= self.learning_rate * dws[i]\n",
    "            self.biases[i] -= self.learning_rate * dbs[i]\n",
    "\n",
    "    def fit_sgd(self, X_train, y_train):\n",
    "        y_train = y_train.T\n",
    "        for epoch in range(self.epochs):\n",
    "            for i in range(X_train.shape[0]):\n",
    "                X_sample = X_train[i:i+1]\n",
    "                y_sample = y_train[:, i:i+1]\n",
    "                activations, z_values = self.forward(X_sample)\n",
    "                dws, dbs = self.backprop(activations, z_values, y_sample)\n",
    "                self.update_weights(dws, dbs)\n",
    "\n",
    "    def fit_batch(self, X_train, y_train):\n",
    "        y_train = y_train.T\n",
    "        for epoch in range(self.epochs):\n",
    "            activations, z_values = self.forward(X_train)\n",
    "            dws, dbs = self.backprop(activations, z_values, y_train)\n",
    "            self.update_weights(dws, dbs)\n",
    "\n",
    "    def fit_mini_batch(self, X_train, y_train):\n",
    "        y_train = y_train.T\n",
    "        for epoch in range(self.epochs):\n",
    "            for start_idx in range(0, X_train.shape[0], self.batch_size):\n",
    "                end_idx = start_idx + self.batch_size\n",
    "                X_batch = X_train[start_idx:end_idx]\n",
    "                y_batch = y_train[:, start_idx:end_idx]\n",
    "                activations, z_values = self.forward(X_batch)\n",
    "                dws, dbs = self.backprop(activations, z_values, y_batch)\n",
    "                self.update_weights(dws, dbs)\n",
    "\n",
    "            # Calculate and print loss for the epoch\n",
    "            # loss = np.mean((self.predict(X_train) - y_train) ** 2)\n",
    "            # print(f'Epoch {epoch + 1}, Loss: {loss}')\n",
    "\n",
    "    def fit(self, X_train, y_train):\n",
    "        if self.optimizer == 'sgd':\n",
    "            self.fit_sgd(X_train, y_train)\n",
    "        elif self.optimizer == 'batch':\n",
    "            self.fit_batch(X_train, y_train)\n",
    "        elif self.optimizer == 'mini_batch':\n",
    "            self.fit_mini_batch(X_train, y_train)\n",
    "\n",
    "    def predict(self, X):\n",
    "        activations, _ = self.forward(X)\n",
    "        return activations[-1].T\n",
    "\n",
    "\n",
    "class AutoEncoder:\n",
    "    def __init__(self, input_size, hidden_layers, latent_size, activation='relu', optimizer='sgd', learning_rate=0.01, batch_size=32, epochs=100):\n",
    "        \"\"\"\n",
    "        AutoEncoder: Encoder + Decoder.\n",
    "        - input_size: The size of the input layer.\n",
    "        - hidden_layers: List of sizes for encoder hidden layers.\n",
    "        - latent_size: Size of the latent (compressed) space.\n",
    "        \"\"\"\n",
    "        # Define encoder structure: input_size -> hidden_layers -> latent_size\n",
    "        encoder_layers = [input_size] + hidden_layers + [latent_size]\n",
    "        self.encoder = MLP(encoder_layers, activation, learning_rate, optimizer, batch_size, epochs)\n",
    "\n",
    "        # Define decoder structure: latent_size -> reversed(hidden_layers) -> input_size\n",
    "        decoder_layers = [latent_size] + hidden_layers[::-1] + [input_size]\n",
    "        self.decoder = MLP(decoder_layers, activation, learning_rate, optimizer, batch_size, epochs)\n",
    "\n",
    "    def fit(self, X):\n",
    "        \"\"\"\n",
    "        Train the AutoEncoder.\n",
    "        \"\"\"\n",
    "        X = np.array(X, dtype=float)\n",
    "        assert X.ndim == 2, \"Input X must be a 2D array (batch_size, input_size).\"\n",
    "\n",
    "        for epoch in range(self.encoder.epochs):\n",
    "            # Forward pass: Encode input into latent space\n",
    "            encoded = self.encoder.predict(X)  # Shape: (batch_size, latent_size)\n",
    "\n",
    "            # Forward pass: Decode latent space back to input space\n",
    "            decoded = self.decoder.predict(encoded)  # Shape: (batch_size, input_size)\n",
    "\n",
    "            # Ensure decoded shape matches input shape\n",
    "            assert decoded.shape == X.shape, f\"Shape mismatch: X.shape={X.shape}, decoded.shape={decoded.shape}\"\n",
    "\n",
    "            # Compute the loss (MSE)\n",
    "            loss = np.mean((X - decoded) ** 2)\n",
    "            print(f'Epoch {epoch + 1}, Loss: {loss}')\n",
    "\n",
    "            # Train both encoder and decoder\n",
    "            self.encoder.fit(X, encoded)  # Train encoder\n",
    "            self.decoder.fit(encoded, X)  # Train decoder\n",
    "\n",
    "    def get_latent(self, X):\n",
    "        \"\"\"\n",
    "        Get the latent (compressed) representation.\n",
    "        \"\"\"\n",
    "        X = np.array(X, dtype=float)\n",
    "        return self.encoder.predict(X)\n",
    "\n",
    "    def reconstruct(self, X):\n",
    "        \"\"\"\n",
    "        Reconstruct the input from the latent space.\n",
    "        \"\"\"\n",
    "        X = np.array(X, dtype=float)\n",
    "        encoded = self.encoder.predict(X)\n",
    "        return self.decoder.predict(encoded)\n",
    "\n",
    "    \n",
    "\n",
    "\n",
    "input_size = X_train.shape[1] \n",
    "hidden_layers = []  \n",
    "latent_size = 11  \n",
    "\n",
    "# Initialize the AutoEncoder\n",
    "autoencoder = AutoEncoder(\n",
    "    input_size=input_size,\n",
    "    hidden_layers=hidden_layers,\n",
    "    latent_size=latent_size,\n",
    "    activation='sigmoid',\n",
    "    optimizer='mini_batch',\n",
    "    learning_rate=0.01,\n",
    "    batch_size=32,\n",
    "    epochs=10\n",
    ")\n",
    "\n",
    "# Train the AutoEncoder\n",
    "autoencoder.fit(X_train)\n",
    "latent_train = autoencoder.get_latent(X_train)\n",
    "\n",
    "latent_test = autoencoder.get_latent(X_test)"
   ]
  },
  {
   "cell_type": "code",
   "execution_count": 71,
   "metadata": {},
   "outputs": [
    {
     "name": "stdout",
     "output_type": "stream",
     "text": [
      "F1 Score: 0.12728501927329697\n",
      "Accuracy: 0.13666666666666666\n",
      "Precision: 0.12858004746655868\n",
      "Recall: 0.13543195595414487\n"
     ]
    }
   ],
   "source": [
    "from sklearn.neighbors import KNeighborsClassifier\n",
    "from sklearn.metrics import f1_score, accuracy_score, precision_score, recall_score\n",
    "# from sklearn.preprocessing import StandardScaler\n",
    "\n",
    "# scaler = StandardScaler()\n",
    "# X_train = scaler.fit_transform(latent_train)\n",
    "# X_test = scaler.fit_transform(latent_test)\n",
    "\n",
    "# Apply KNN on the reduced (latent) data\n",
    "knn = KNeighborsClassifier(n_neighbors=21)  # Choose the number of neighbors\n",
    "knn.fit(latent_train, y_train)\n",
    "\n",
    "# Predict on the test set\n",
    "y_pred = knn.predict(latent_test)\n",
    "\n",
    "# Calculate metrics\n",
    "f1 = f1_score(y_test, y_pred, average='macro')\n",
    "accuracy = accuracy_score(y_test, y_pred)\n",
    "precision = precision_score(y_test, y_pred, average='macro')\n",
    "recall = recall_score(y_test, y_pred, average='macro')\n",
    "\n",
    "print(f'F1 Score: {f1}')\n",
    "print(f'Accuracy: {accuracy}')\n",
    "print(f'Precision: {precision}')\n",
    "print(f'Recall: {recall}')"
   ]
  },
  {
   "cell_type": "markdown",
   "metadata": {},
   "source": [
    "F1 Score: 0.15554806964131268\n",
    "Accuracy: 0.15728070175438597\n",
    "Precision: 0.18481438839813552\n",
    "Recall: 0.15530235139822637\n",
    "\n",
    "F1 Score: 0.14107610041627072\n",
    "Accuracy: 0.1430701754385965\n",
    "Precision: 0.1680051044628347\n",
    "Recall: 0.14123160530220016"
   ]
  },
  {
   "cell_type": "code",
   "execution_count": 146,
   "metadata": {},
   "outputs": [
    {
     "name": "stdout",
     "output_type": "stream",
     "text": [
      "Epoch 0, Loss: 5.868777165061815\n",
      "Epoch 10, Loss: 5.762931788718743\n",
      "Epoch 20, Loss: 5.760627719520123\n",
      "Epoch 30, Loss: 5.757200884725359\n",
      "Epoch 40, Loss: 5.754648808829396\n",
      "Epoch 50, Loss: 5.754189979032328\n",
      "Epoch 60, Loss: 5.753526066564644\n",
      "Epoch 70, Loss: 5.752340388685744\n",
      "Epoch 80, Loss: 5.754137128429252\n",
      "Epoch 90, Loss: 5.751849672913466\n",
      "MLP F1 Score: 0.00014687455536023278\n",
      "MLP Accuracy: 0.008421052631578947\n",
      "MLP Precision: 7.406378743693006e-05\n",
      "MLP Recall: 0.008681497558328812\n"
     ]
    },
    {
     "name": "stderr",
     "output_type": "stream",
     "text": [
      "c:\\Users\\yashd\\AppData\\Local\\Programs\\Python\\Python312\\Lib\\site-packages\\sklearn\\metrics\\_classification.py:1531: UndefinedMetricWarning: Precision is ill-defined and being set to 0.0 in labels with no predicted samples. Use `zero_division` parameter to control this behavior.\n",
      "  _warn_prf(average, modifier, f\"{metric.capitalize()} is\", len(result))\n"
     ]
    }
   ],
   "source": [
    "import numpy as np\n",
    "\n",
    "class MLP:\n",
    "    def __init__(self, \n",
    "                 hidden_layers, \n",
    "                 learning_rate=0.01,\n",
    "                 activation='sigmoid',\n",
    "                 optimizer='sgd',\n",
    "                 batch_size=32,\n",
    "                 epochs=100,\n",
    "                 early_stopping_patience=10):\n",
    "        self.hidden_layers = hidden_layers\n",
    "        self.learning_rate = learning_rate\n",
    "        self.activation = activation\n",
    "        self.optimizer = optimizer\n",
    "        self.batch_size = batch_size\n",
    "        self.epochs = epochs\n",
    "        self.early_stopping_patience = early_stopping_patience\n",
    "        self.weights = []\n",
    "        self.biases = []\n",
    "        self.label_map = {}\n",
    "        self.reverse_label_map = {}\n",
    "\n",
    "    def _initialize_parameters(self, input_size, output_size):\n",
    "        layer_sizes = [input_size] + self.hidden_layers + [output_size]\n",
    "        for i in range(1, len(layer_sizes)):\n",
    "            self.weights.append(np.random.randn(layer_sizes[i-1], layer_sizes[i]) * np.sqrt(2. / layer_sizes[i-1]))\n",
    "            self.biases.append(np.zeros((1, layer_sizes[i])))\n",
    "\n",
    "    def _activation_function(self, x):\n",
    "        if self.activation == 'sigmoid':\n",
    "            return 1 / (1 + np.exp(-np.clip(x, -709, 709)))\n",
    "        elif self.activation == 'tanh':\n",
    "            return np.tanh(x)\n",
    "        elif self.activation == 'relu':\n",
    "            return np.maximum(0, x)\n",
    "        else:\n",
    "            raise ValueError(\"Invalid activation function\")\n",
    "\n",
    "    def _activation_derivative(self, x):\n",
    "        if self.activation == 'sigmoid':\n",
    "            return x * (1 - x)\n",
    "        elif self.activation == 'tanh':\n",
    "            return 1 - np.power(x, 2)\n",
    "        elif self.activation == 'relu':\n",
    "            return np.where(x > 0, 1, 0)\n",
    "        else:\n",
    "            raise ValueError(\"Invalid activation function\")\n",
    "\n",
    "    def _forward_propagation(self, X):\n",
    "        activations = [X]\n",
    "        for i in range(len(self.weights)):\n",
    "            z = np.dot(activations[-1], self.weights[i]) + self.biases[i]\n",
    "            a = self._activation_function(z)\n",
    "            activations.append(a)\n",
    "        return activations\n",
    "\n",
    "    def _backpropagation(self, X, y):\n",
    "        m = X.shape[0]\n",
    "        activations = self._forward_propagation(X)\n",
    "        \n",
    "        dW = [np.zeros_like(w) for w in self.weights]\n",
    "        db = [np.zeros_like(b) for b in self.biases]\n",
    "        \n",
    "        delta = activations[-1] - y\n",
    "        for l in range(len(self.weights) - 1, -1, -1):\n",
    "            dW[l] = np.dot(activations[l].T, delta) / m\n",
    "            db[l] = np.sum(delta, axis=0, keepdims=True) / m\n",
    "            if l > 0:\n",
    "                delta = np.dot(delta, self.weights[l].T) * self._activation_derivative(activations[l])\n",
    "        \n",
    "        return dW, db\n",
    "\n",
    "    def _update_parameters(self, dW, db):\n",
    "        for i in range(len(self.weights)):\n",
    "            self.weights[i] -= self.learning_rate * dW[i]\n",
    "            self.biases[i] -= self.learning_rate * db[i]\n",
    "\n",
    "    def fit(self, X, y):\n",
    "        n_samples, n_features = X.shape\n",
    "        \n",
    "        unique_labels = np.unique(y)\n",
    "        n_classes = len(unique_labels)\n",
    "        self.label_map = {label: idx for idx, label in enumerate(unique_labels)}\n",
    "        self.reverse_label_map = {idx: label for label, idx in self.label_map.items()}\n",
    "        \n",
    "        y_adjusted = np.array([self.label_map[label] for label in y])\n",
    "        \n",
    "        self._initialize_parameters(n_features, n_classes)\n",
    "        \n",
    "        best_loss = float('inf')\n",
    "        patience_counter = 0\n",
    "        \n",
    "        for epoch in range(self.epochs):\n",
    "            if self.optimizer == 'sgd':\n",
    "                indices = np.random.permutation(n_samples)\n",
    "                X_shuffled = X[indices]\n",
    "                y_shuffled = y_adjusted[indices]\n",
    "                for i in range(0, n_samples, self.batch_size):\n",
    "                    batch_X = X_shuffled[i:i+self.batch_size]\n",
    "                    batch_y = y_shuffled[i:i+self.batch_size]\n",
    "                    dW, db = self._backpropagation(batch_X, np.eye(n_classes)[batch_y])\n",
    "                    self._update_parameters(dW, db)\n",
    "\n",
    "            elif self.optimizer == 'batch':\n",
    "                dW, db = self._backpropagation(X, np.eye(n_classes)[y_adjusted])\n",
    "                self._update_parameters(dW, db)\n",
    "\n",
    "            elif self.optimizer == 'mini_batch':\n",
    "                for i in range(0, n_samples, self.batch_size):\n",
    "                    batch_X = X[i:i+self.batch_size]\n",
    "                    batch_y = y_adjusted[i:i+self.batch_size]\n",
    "                    dW, db = self._backpropagation(batch_X, np.eye(n_classes)[batch_y])\n",
    "                    self._update_parameters(dW, db)\n",
    "\n",
    "            loss = self._compute_cost(X, np.eye(n_classes)[y_adjusted])\n",
    "            \n",
    "            if epoch % 10 == 0:\n",
    "                print(f\"Epoch {epoch}, Loss: {loss}\")\n",
    "            \n",
    "            if loss < best_loss:\n",
    "                best_loss = loss\n",
    "                patience_counter = 0\n",
    "            else:\n",
    "                patience_counter += 1\n",
    "                if patience_counter >= self.early_stopping_patience:\n",
    "                    print(f\"Early stopping at epoch {epoch}\")\n",
    "                    break\n",
    "\n",
    "    def predict(self, X):\n",
    "        activations = self._forward_propagation(X)\n",
    "        predicted_indices = np.argmax(activations[-1], axis=1)\n",
    "        return np.array([self.reverse_label_map[idx] for idx in predicted_indices])\n",
    "\n",
    "    def accuracy(self, y_true, y_pred):\n",
    "        return np.mean(y_true == y_pred)\n",
    "\n",
    "    def _compute_cost(self, X, y):\n",
    "        activations = self._forward_propagation(X)\n",
    "        m = X.shape[0]\n",
    "        epsilon = 1e-15\n",
    "        cost = -np.sum(y * np.log(activations[-1] + epsilon) + (1 - y) * np.log(1 - activations[-1] + epsilon)) / m\n",
    "        return cost\n",
    "\n",
    "    def gradient_check(self, X, y, epsilon=1e-7):\n",
    "        y_adjusted = np.array([self.label_map[label] for label in y])\n",
    "        y_encoded = np.eye(len(self.label_map))[y_adjusted]\n",
    "        \n",
    "        dW, db = self._backpropagation(X, y_encoded)\n",
    "        \n",
    "        params = self.weights + self.biases\n",
    "        grads = dW + db\n",
    "        \n",
    "        num_grads = []\n",
    "        for param in params:\n",
    "            num_grad = np.zeros_like(param)\n",
    "            it = np.nditer(param, flags=['multi_index'], op_flags=['readwrite'])\n",
    "            while not it.finished:\n",
    "                idx = it.multi_index\n",
    "                old_value = param[idx]\n",
    "                \n",
    "                param[idx] = old_value + epsilon\n",
    "                cost_plus = self._compute_cost(X, y_encoded)\n",
    "                \n",
    "                param[idx] = old_value - epsilon\n",
    "                cost_minus = self._compute_cost(X, y_encoded)\n",
    "                \n",
    "                num_grad[idx] = (cost_plus - cost_minus) / (2 * epsilon)\n",
    "                \n",
    "                param[idx] = old_value\n",
    "                it.iternext()\n",
    "            \n",
    "            num_grads.append(num_grad)\n",
    "        \n",
    "        total_error = 0\n",
    "        for grad, num_grad in zip(grads, num_grads):\n",
    "            numerator = np.linalg.norm(grad - num_grad)\n",
    "            denominator = np.linalg.norm(grad) + np.linalg.norm(num_grad)\n",
    "            total_error += numerator / (denominator + 1e-7)\n",
    "        \n",
    "        average_error = total_error / len(params)\n",
    "        print(f\"Average relative error: {average_error}\")\n",
    "        \n",
    "        return average_error < 1e-7\n",
    "\n",
    "if __name__ == \"__main__\":\n",
    "    # Assuming you have X_train, y_train, X_val, and y_val prepared\n",
    "\n",
    "    # Create an instance of the MLP class with specified parameters.\n",
    "    mlp = MLP(hidden_layers=[64, 32],\n",
    "              learning_rate=0.001,\n",
    "              activation='relu',\n",
    "              optimizer='mini_batch',\n",
    "              batch_size=32,\n",
    "              epochs=100)\n",
    "\n",
    "    # Fit the model on training data.\n",
    "    mlp.fit(latent_train, y_train)\n",
    "\n",
    "    # Predict on the test set\n",
    "    y_pred_mlp = mlp.predict(latent_test)\n",
    "\n",
    "    # Evaluate the MLP classifier\n",
    "    from sklearn.metrics import f1_score, accuracy_score, precision_score, recall_score\n",
    "\n",
    "    f1_mlp = f1_score(y_test.values, y_pred_mlp, average='macro')\n",
    "    accuracy_mlp = accuracy_score(y_test.values, y_pred_mlp)\n",
    "    precision_mlp = precision_score(y_test.values, y_pred_mlp, average='macro')\n",
    "    recall_mlp = recall_score(y_test.values, y_pred_mlp, average='macro')\n",
    "\n",
    "    print(f'MLP F1 Score: {f1_mlp}')\n",
    "    print(f'MLP Accuracy: {accuracy_mlp}')\n",
    "    print(f'MLP Precision: {precision_mlp}')\n",
    "    print(f'MLP Recall: {recall_mlp}')\n",
    "\n",
    "    # Perform gradient checking on a sample of validation data.\n",
    "    # is_gradient_correct = mlp.gradient_check(X_val[:10], y_val[:10])\n",
    "    # print(f\"Gradient check passed: {is_gradient_correct}\")\n",
    "\n",
    "    "
   ]
  },
  {
   "cell_type": "code",
   "execution_count": 122,
   "metadata": {},
   "outputs": [
    {
     "name": "stdout",
     "output_type": "stream",
     "text": [
      "MLP F1 Score: 0.00015406745713950122\n",
      "MLP Accuracy: 0.008859649122807017\n",
      "MLP Precision: 7.771622037550016e-05\n",
      "MLP Recall: 0.008771929824561403\n"
     ]
    },
    {
     "name": "stderr",
     "output_type": "stream",
     "text": [
      "c:\\Users\\yashd\\AppData\\Local\\Programs\\Python\\Python312\\Lib\\site-packages\\sklearn\\metrics\\_classification.py:1531: UndefinedMetricWarning: Precision is ill-defined and being set to 0.0 in labels with no predicted samples. Use `zero_division` parameter to control this behavior.\n",
      "  _warn_prf(average, modifier, f\"{metric.capitalize()} is\", len(result))\n"
     ]
    }
   ],
   "source": [
    "# # Define the MLP model\n",
    "# mlp=MLP(hidden_layers=[64, 32],\n",
    "#             learning_rate=0.03026,\n",
    "#             activation='relu',\n",
    "#             optimizer='sgd',batch_size=64,\n",
    "#             epochs=50)\n",
    "\n",
    "# # Train the MLP on the original dataset (X_train, y_train)\n",
    "# mlp.fit(latent_train, y_train)\n",
    "\n",
    "# # Predict on the test set\n",
    "# y_pred_mlp = mlp.predict(latent_test)\n",
    "\n",
    "# Evaluate the MLP classifier\n",
    "f1_mlp = f1_score(y_test, y_pred_mlp, average='macro')\n",
    "accuracy_mlp = accuracy_score(y_test, y_pred_mlp)\n",
    "precision_mlp = precision_score(y_test, y_pred_mlp, average='macro')\n",
    "recall_mlp = recall_score(y_test, y_pred_mlp, average='macro')\n",
    "\n",
    "print(f'MLP F1 Score: {f1_mlp}')\n",
    "print(f'MLP Accuracy: {accuracy_mlp}')\n",
    "print(f'MLP Precision: {precision_mlp}')\n",
    "print(f'MLP Recall: {recall_mlp}')\n"
   ]
  },
  {
   "cell_type": "code",
   "execution_count": 149,
   "metadata": {},
   "outputs": [
    {
     "name": "stdout",
     "output_type": "stream",
     "text": [
      "['hip-hop' 'hip-hop' 'hip-hop' ... 'hip-hop' 'brazil' 'hip-hop']\n",
      "23342     deep-house\n",
      "56496      indie-pop\n",
      "30524            edm\n",
      "92703     rockabilly\n",
      "96875          samba\n",
      "             ...    \n",
      "47535      hard-rock\n",
      "55640         indian\n",
      "45354         guitar\n",
      "63715         j-rock\n",
      "104083       spanish\n",
      "Name: track_genre, Length: 11400, dtype: object\n"
     ]
    }
   ],
   "source": [
    "print(y_pred_mlp)\n",
    "print(y_test)"
   ]
  }
 ],
 "metadata": {
  "kernelspec": {
   "display_name": "Python 3",
   "language": "python",
   "name": "python3"
  },
  "language_info": {
   "codemirror_mode": {
    "name": "ipython",
    "version": 3
   },
   "file_extension": ".py",
   "mimetype": "text/x-python",
   "name": "python",
   "nbconvert_exporter": "python",
   "pygments_lexer": "ipython3",
   "version": "3.12.4"
  }
 },
 "nbformat": 4,
 "nbformat_minor": 2
}
